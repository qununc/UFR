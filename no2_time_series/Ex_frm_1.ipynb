{
  "cells": [
    {
      "cell_type": "markdown",
      "metadata": {
        "id": "view-in-github",
        "colab_type": "text"
      },
      "source": [
        "<a href=\"https://colab.research.google.com/github/qununc/UFR/blob/main/no2_time_series/Ex_frm_1.ipynb\" target=\"_parent\"><img src=\"https://colab.research.google.com/assets/colab-badge.svg\" alt=\"Open In Colab\"/></a>"
      ]
    },
    {
      "cell_type": "markdown",
      "source": [
        "> **МФИН211 Литвинов А. А.**\n",
        "\n",
        "---"
      ],
      "metadata": {
        "id": "NSEPrDbZfBMC"
      }
    },
    {
      "cell_type": "markdown",
      "metadata": {
        "collapsed": true,
        "id": "k2RmIS99NUPy"
      },
      "source": [
        "# Задание 1. Введение в анализ временных рядов\n",
        "\n",
        "\n"
      ]
    },
    {
      "cell_type": "markdown",
      "metadata": {
        "collapsed": true,
        "id": "b8UG7XkMNUP-"
      },
      "source": [
        "**Цель задания:**\n",
        "1. Получить  навыки работы с финансовыми временными рядами\n",
        "2. Провести проверку временного ряда на стационарность \n",
        "3. Построить модель ARIMA-GARCH\n",
        "4. Исследовать модель CAPM"
      ]
    },
    {
      "cell_type": "markdown",
      "metadata": {
        "collapsed": true,
        "id": "kx2CxNCcNUQB"
      },
      "source": [
        "## 1.Загрузка библиотек"
      ]
    },
    {
      "cell_type": "code",
      "source": [
        "!pip install arch yfinance"
      ],
      "metadata": {
        "id": "vwoZicZVOT95",
        "outputId": "fcc088d0-5a9e-4362-d3e3-38c4c5aa399e",
        "colab": {
          "base_uri": "https://localhost:8080/"
        }
      },
      "execution_count": 2,
      "outputs": [
        {
          "output_type": "stream",
          "name": "stdout",
          "text": [
            "Looking in indexes: https://pypi.org/simple, https://us-python.pkg.dev/colab-wheels/public/simple/\n",
            "Requirement already satisfied: arch in /usr/local/lib/python3.7/dist-packages (5.3.1)\n",
            "Requirement already satisfied: yfinance in /usr/local/lib/python3.7/dist-packages (0.1.72)\n",
            "Requirement already satisfied: numpy>=1.17 in /usr/local/lib/python3.7/dist-packages (from arch) (1.21.6)\n",
            "Requirement already satisfied: scipy>=1.3 in /usr/local/lib/python3.7/dist-packages (from arch) (1.4.1)\n",
            "Requirement already satisfied: statsmodels>=0.11 in /usr/local/lib/python3.7/dist-packages (from arch) (0.13.2)\n",
            "Requirement already satisfied: pandas>=1.0 in /usr/local/lib/python3.7/dist-packages (from arch) (1.3.5)\n",
            "Requirement already satisfied: property-cached>=1.6.4 in /usr/local/lib/python3.7/dist-packages (from arch) (1.6.4)\n",
            "Requirement already satisfied: pytz>=2017.3 in /usr/local/lib/python3.7/dist-packages (from pandas>=1.0->arch) (2022.1)\n",
            "Requirement already satisfied: python-dateutil>=2.7.3 in /usr/local/lib/python3.7/dist-packages (from pandas>=1.0->arch) (2.8.2)\n",
            "Requirement already satisfied: six>=1.5 in /usr/local/lib/python3.7/dist-packages (from python-dateutil>=2.7.3->pandas>=1.0->arch) (1.15.0)\n",
            "Requirement already satisfied: patsy>=0.5.2 in /usr/local/lib/python3.7/dist-packages (from statsmodels>=0.11->arch) (0.5.2)\n",
            "Requirement already satisfied: packaging>=21.3 in /usr/local/lib/python3.7/dist-packages (from statsmodels>=0.11->arch) (21.3)\n",
            "Requirement already satisfied: pyparsing!=3.0.5,>=2.0.2 in /usr/local/lib/python3.7/dist-packages (from packaging>=21.3->statsmodels>=0.11->arch) (3.0.9)\n",
            "Requirement already satisfied: requests>=2.26 in /usr/local/lib/python3.7/dist-packages (from yfinance) (2.28.0)\n",
            "Requirement already satisfied: lxml>=4.5.1 in /usr/local/lib/python3.7/dist-packages (from yfinance) (4.9.0)\n",
            "Requirement already satisfied: multitasking>=0.0.7 in /usr/local/lib/python3.7/dist-packages (from yfinance) (0.0.10)\n",
            "Requirement already satisfied: idna<4,>=2.5 in /usr/local/lib/python3.7/dist-packages (from requests>=2.26->yfinance) (2.10)\n",
            "Requirement already satisfied: charset-normalizer~=2.0.0 in /usr/local/lib/python3.7/dist-packages (from requests>=2.26->yfinance) (2.0.12)\n",
            "Requirement already satisfied: urllib3<1.27,>=1.21.1 in /usr/local/lib/python3.7/dist-packages (from requests>=2.26->yfinance) (1.24.3)\n",
            "Requirement already satisfied: certifi>=2017.4.17 in /usr/local/lib/python3.7/dist-packages (from requests>=2.26->yfinance) (2022.6.15)\n"
          ]
        }
      ]
    },
    {
      "cell_type": "code",
      "execution_count": 3,
      "metadata": {
        "id": "8sp5g8UmNUQD"
      },
      "outputs": [],
      "source": [
        "import pandas as pd\n",
        "import numpy as np\n",
        "import statsmodels.tsa as tsa # анализ временных рядов\n",
        "import statsmodels.graphics.tsaplots as tsaplots # визуализация параметров временных рядов\n",
        "import statsmodels.formula.api as smf # регрессионная модель\n",
        "import statsmodels.stats.outliers_influence  # регрессионные тесты\n",
        "import statsmodels.stats.api as test # регрессионные тесты\n",
        "import statsmodels.stats.diagnostic as diagnostic # регрессионные тесты\n",
        "import warnings # управлением выводом предупреждений \n",
        "warnings.filterwarnings('ignore')"
      ]
    },
    {
      "cell_type": "code",
      "execution_count": 4,
      "metadata": {
        "id": "RMFEbQrZNUQI"
      },
      "outputs": [],
      "source": [
        "from arch import arch_model\n",
        "from arch.univariate import ConstantMean,ZeroMean,ARX,GARCH,Normal"
      ]
    },
    {
      "cell_type": "code",
      "execution_count": 5,
      "metadata": {
        "id": "iKrGP1MJNUQJ"
      },
      "outputs": [],
      "source": [
        "warnings.filterwarnings('ignore') "
      ]
    },
    {
      "cell_type": "code",
      "execution_count": 6,
      "metadata": {
        "id": "OE4FSJdwNUQL"
      },
      "outputs": [],
      "source": [
        "import matplotlib.pyplot as plt # графическая библиотека matplotlib\n",
        "%matplotlib inline\n",
        "import seaborn # графическая библиотека seaborn\n",
        "seaborn.set_style('darkgrid')"
      ]
    },
    {
      "cell_type": "code",
      "execution_count": 7,
      "metadata": {
        "id": "sY3KjUqcNUQM"
      },
      "outputs": [],
      "source": [
        "seaborn.mpl.rcParams['figure.figsize'] = (10.0, 6.0) # параметры графиков\n",
        "seaborn.mpl.rcParams['savefig.dpi'] = 90\n",
        "seaborn.mpl.rcParams['font.family'] = 'serif'\n",
        "seaborn.mpl.rcParams['font.size'] = 14"
      ]
    },
    {
      "cell_type": "markdown",
      "metadata": {
        "id": "0FP4mLrRNUQO"
      },
      "source": [
        "## 2.Исследование временного ряда"
      ]
    },
    {
      "cell_type": "markdown",
      "metadata": {
        "id": "v1fZY5CMNUQP"
      },
      "source": [
        "Для моделирования временного ряда используется подход Бокса-Дженкенса, состоящий из следующих основных этапов:\n",
        "1. Проверка стационарности ряда временного ряда\n",
        "2. Приведение временного ряда к стационарному виду  (взятие первых и т.д. разностей)\n",
        "3. Построение модели ARIMA\n",
        "4. Проверка остатков модели ARIMA на отсутствие автокорреляции\n",
        "5. Проверка отсутствия автокорреляции в отношении квадратов остатков модели ARIMA\n",
        "6. Построение модели GARCH"
      ]
    },
    {
      "cell_type": "code",
      "execution_count": null,
      "metadata": {
        "id": "KoWm3oTNNUQQ"
      },
      "outputs": [],
      "source": [
        "msft=pd.read_csv('https://raw.githubusercontent.com/qununc/UFR/main/no2_time_series/MSFT.csv')\n",
        "### загрузка данных динамики акций Microsoft"
      ]
    },
    {
      "cell_type": "code",
      "execution_count": null,
      "metadata": {
        "colab": {
          "base_uri": "https://localhost:8080/",
          "height": 206
        },
        "id": "rvCCDYVINUQR",
        "outputId": "3e31597f-babb-4586-fc9c-da76fa32a5ee"
      },
      "outputs": [
        {
          "output_type": "execute_result",
          "data": {
            "text/plain": [
              "         Date       Open       High        Low      Close  Adj Close    Volume\n",
              "0  2013-12-09  38.560001  38.869999  38.369999  38.709999  34.326134  30286000\n",
              "1  2013-12-10  38.610001  38.900002  38.020000  38.110001  33.794098  37828600\n",
              "2  2013-12-11  38.060001  38.299999  37.389999  37.610001  33.350716  39853400\n",
              "3  2013-12-12  37.639999  37.639999  37.180000  37.220001  33.004879  36012800\n",
              "4  2013-12-13  37.419998  37.450001  36.619999  36.689999  32.534901  40066100"
            ],
            "text/html": [
              "\n",
              "  <div id=\"df-98eaa93e-541a-4dbe-b3e8-0525b882134a\">\n",
              "    <div class=\"colab-df-container\">\n",
              "      <div>\n",
              "<style scoped>\n",
              "    .dataframe tbody tr th:only-of-type {\n",
              "        vertical-align: middle;\n",
              "    }\n",
              "\n",
              "    .dataframe tbody tr th {\n",
              "        vertical-align: top;\n",
              "    }\n",
              "\n",
              "    .dataframe thead th {\n",
              "        text-align: right;\n",
              "    }\n",
              "</style>\n",
              "<table border=\"1\" class=\"dataframe\">\n",
              "  <thead>\n",
              "    <tr style=\"text-align: right;\">\n",
              "      <th></th>\n",
              "      <th>Date</th>\n",
              "      <th>Open</th>\n",
              "      <th>High</th>\n",
              "      <th>Low</th>\n",
              "      <th>Close</th>\n",
              "      <th>Adj Close</th>\n",
              "      <th>Volume</th>\n",
              "    </tr>\n",
              "  </thead>\n",
              "  <tbody>\n",
              "    <tr>\n",
              "      <th>0</th>\n",
              "      <td>2013-12-09</td>\n",
              "      <td>38.560001</td>\n",
              "      <td>38.869999</td>\n",
              "      <td>38.369999</td>\n",
              "      <td>38.709999</td>\n",
              "      <td>34.326134</td>\n",
              "      <td>30286000</td>\n",
              "    </tr>\n",
              "    <tr>\n",
              "      <th>1</th>\n",
              "      <td>2013-12-10</td>\n",
              "      <td>38.610001</td>\n",
              "      <td>38.900002</td>\n",
              "      <td>38.020000</td>\n",
              "      <td>38.110001</td>\n",
              "      <td>33.794098</td>\n",
              "      <td>37828600</td>\n",
              "    </tr>\n",
              "    <tr>\n",
              "      <th>2</th>\n",
              "      <td>2013-12-11</td>\n",
              "      <td>38.060001</td>\n",
              "      <td>38.299999</td>\n",
              "      <td>37.389999</td>\n",
              "      <td>37.610001</td>\n",
              "      <td>33.350716</td>\n",
              "      <td>39853400</td>\n",
              "    </tr>\n",
              "    <tr>\n",
              "      <th>3</th>\n",
              "      <td>2013-12-12</td>\n",
              "      <td>37.639999</td>\n",
              "      <td>37.639999</td>\n",
              "      <td>37.180000</td>\n",
              "      <td>37.220001</td>\n",
              "      <td>33.004879</td>\n",
              "      <td>36012800</td>\n",
              "    </tr>\n",
              "    <tr>\n",
              "      <th>4</th>\n",
              "      <td>2013-12-13</td>\n",
              "      <td>37.419998</td>\n",
              "      <td>37.450001</td>\n",
              "      <td>36.619999</td>\n",
              "      <td>36.689999</td>\n",
              "      <td>32.534901</td>\n",
              "      <td>40066100</td>\n",
              "    </tr>\n",
              "  </tbody>\n",
              "</table>\n",
              "</div>\n",
              "      <button class=\"colab-df-convert\" onclick=\"convertToInteractive('df-98eaa93e-541a-4dbe-b3e8-0525b882134a')\"\n",
              "              title=\"Convert this dataframe to an interactive table.\"\n",
              "              style=\"display:none;\">\n",
              "        \n",
              "  <svg xmlns=\"http://www.w3.org/2000/svg\" height=\"24px\"viewBox=\"0 0 24 24\"\n",
              "       width=\"24px\">\n",
              "    <path d=\"M0 0h24v24H0V0z\" fill=\"none\"/>\n",
              "    <path d=\"M18.56 5.44l.94 2.06.94-2.06 2.06-.94-2.06-.94-.94-2.06-.94 2.06-2.06.94zm-11 1L8.5 8.5l.94-2.06 2.06-.94-2.06-.94L8.5 2.5l-.94 2.06-2.06.94zm10 10l.94 2.06.94-2.06 2.06-.94-2.06-.94-.94-2.06-.94 2.06-2.06.94z\"/><path d=\"M17.41 7.96l-1.37-1.37c-.4-.4-.92-.59-1.43-.59-.52 0-1.04.2-1.43.59L10.3 9.45l-7.72 7.72c-.78.78-.78 2.05 0 2.83L4 21.41c.39.39.9.59 1.41.59.51 0 1.02-.2 1.41-.59l7.78-7.78 2.81-2.81c.8-.78.8-2.07 0-2.86zM5.41 20L4 18.59l7.72-7.72 1.47 1.35L5.41 20z\"/>\n",
              "  </svg>\n",
              "      </button>\n",
              "      \n",
              "  <style>\n",
              "    .colab-df-container {\n",
              "      display:flex;\n",
              "      flex-wrap:wrap;\n",
              "      gap: 12px;\n",
              "    }\n",
              "\n",
              "    .colab-df-convert {\n",
              "      background-color: #E8F0FE;\n",
              "      border: none;\n",
              "      border-radius: 50%;\n",
              "      cursor: pointer;\n",
              "      display: none;\n",
              "      fill: #1967D2;\n",
              "      height: 32px;\n",
              "      padding: 0 0 0 0;\n",
              "      width: 32px;\n",
              "    }\n",
              "\n",
              "    .colab-df-convert:hover {\n",
              "      background-color: #E2EBFA;\n",
              "      box-shadow: 0px 1px 2px rgba(60, 64, 67, 0.3), 0px 1px 3px 1px rgba(60, 64, 67, 0.15);\n",
              "      fill: #174EA6;\n",
              "    }\n",
              "\n",
              "    [theme=dark] .colab-df-convert {\n",
              "      background-color: #3B4455;\n",
              "      fill: #D2E3FC;\n",
              "    }\n",
              "\n",
              "    [theme=dark] .colab-df-convert:hover {\n",
              "      background-color: #434B5C;\n",
              "      box-shadow: 0px 1px 3px 1px rgba(0, 0, 0, 0.15);\n",
              "      filter: drop-shadow(0px 1px 2px rgba(0, 0, 0, 0.3));\n",
              "      fill: #FFFFFF;\n",
              "    }\n",
              "  </style>\n",
              "\n",
              "      <script>\n",
              "        const buttonEl =\n",
              "          document.querySelector('#df-98eaa93e-541a-4dbe-b3e8-0525b882134a button.colab-df-convert');\n",
              "        buttonEl.style.display =\n",
              "          google.colab.kernel.accessAllowed ? 'block' : 'none';\n",
              "\n",
              "        async function convertToInteractive(key) {\n",
              "          const element = document.querySelector('#df-98eaa93e-541a-4dbe-b3e8-0525b882134a');\n",
              "          const dataTable =\n",
              "            await google.colab.kernel.invokeFunction('convertToInteractive',\n",
              "                                                     [key], {});\n",
              "          if (!dataTable) return;\n",
              "\n",
              "          const docLinkHtml = 'Like what you see? Visit the ' +\n",
              "            '<a target=\"_blank\" href=https://colab.research.google.com/notebooks/data_table.ipynb>data table notebook</a>'\n",
              "            + ' to learn more about interactive tables.';\n",
              "          element.innerHTML = '';\n",
              "          dataTable['output_type'] = 'display_data';\n",
              "          await google.colab.output.renderOutput(dataTable, element);\n",
              "          const docLink = document.createElement('div');\n",
              "          docLink.innerHTML = docLinkHtml;\n",
              "          element.appendChild(docLink);\n",
              "        }\n",
              "      </script>\n",
              "    </div>\n",
              "  </div>\n",
              "  "
            ]
          },
          "metadata": {},
          "execution_count": 9
        }
      ],
      "source": [
        "msft.head()"
      ]
    },
    {
      "cell_type": "code",
      "execution_count": null,
      "metadata": {
        "colab": {
          "base_uri": "https://localhost:8080/"
        },
        "id": "N0MbUsHLNUQU",
        "outputId": "cf238db0-480e-461a-fd95-8dbfc96996c8"
      },
      "outputs": [
        {
          "output_type": "execute_result",
          "data": {
            "text/plain": [
              "Date          object\n",
              "Open         float64\n",
              "High         float64\n",
              "Low          float64\n",
              "Close        float64\n",
              "Adj Close    float64\n",
              "Volume         int64\n",
              "dtype: object"
            ]
          },
          "metadata": {},
          "execution_count": 10
        }
      ],
      "source": [
        "msft.dtypes"
      ]
    },
    {
      "cell_type": "code",
      "execution_count": null,
      "metadata": {
        "id": "KFgspTBWNUQU"
      },
      "outputs": [],
      "source": [
        "msft['Date']=pd.to_datetime(msft['Date'],format='%Y-%m-%d')\n",
        "# преобразование поля в формат даты"
      ]
    },
    {
      "cell_type": "code",
      "execution_count": null,
      "metadata": {
        "colab": {
          "base_uri": "https://localhost:8080/"
        },
        "id": "l0IQtjagNUQV",
        "outputId": "43b01f72-8cc1-4b1e-c3b9-b2aa16112d01"
      },
      "outputs": [
        {
          "output_type": "execute_result",
          "data": {
            "text/plain": [
              "Date         datetime64[ns]\n",
              "Open                float64\n",
              "High                float64\n",
              "Low                 float64\n",
              "Close               float64\n",
              "Adj Close           float64\n",
              "Volume                int64\n",
              "dtype: object"
            ]
          },
          "metadata": {},
          "execution_count": 12
        }
      ],
      "source": [
        "msft.dtypes"
      ]
    },
    {
      "cell_type": "markdown",
      "metadata": {
        "id": "iMJcLD51NUQW"
      },
      "source": [
        "Переход от цен к логарифмическим доходностям"
      ]
    },
    {
      "cell_type": "markdown",
      "metadata": {
        "collapsed": true,
        "id": "sphjRAvINUQX"
      },
      "source": [
        "$ln(\\frac{p_{i+1}}{p_{i}})=ln(p_{i+1})-ln(p_i)$ "
      ]
    },
    {
      "cell_type": "code",
      "execution_count": null,
      "metadata": {
        "id": "irmw4liSNUQY"
      },
      "outputs": [],
      "source": [
        "msft['Log_ret_MSFT']=np.log(msft['Adj Close'])-np.log(msft['Adj Close'].shift(1))\n",
        "# расчет логарифмической доходности"
      ]
    },
    {
      "cell_type": "code",
      "execution_count": null,
      "metadata": {
        "colab": {
          "base_uri": "https://localhost:8080/",
          "height": 206
        },
        "id": "KJmkxb0pNUQZ",
        "outputId": "56ab52b2-8272-44db-fe45-b2e38014aea2"
      },
      "outputs": [
        {
          "output_type": "execute_result",
          "data": {
            "text/plain": [
              "        Date       Open       High        Low      Close  Adj Close    Volume  \\\n",
              "0 2013-12-09  38.560001  38.869999  38.369999  38.709999  34.326134  30286000   \n",
              "1 2013-12-10  38.610001  38.900002  38.020000  38.110001  33.794098  37828600   \n",
              "2 2013-12-11  38.060001  38.299999  37.389999  37.610001  33.350716  39853400   \n",
              "3 2013-12-12  37.639999  37.639999  37.180000  37.220001  33.004879  36012800   \n",
              "4 2013-12-13  37.419998  37.450001  36.619999  36.689999  32.534901  40066100   \n",
              "\n",
              "   Log_ret_MSFT  \n",
              "0           NaN  \n",
              "1     -0.015621  \n",
              "2     -0.013207  \n",
              "3     -0.010424  \n",
              "4     -0.014342  "
            ],
            "text/html": [
              "\n",
              "  <div id=\"df-27308734-eecd-4cc7-98f7-6ea22e3b736d\">\n",
              "    <div class=\"colab-df-container\">\n",
              "      <div>\n",
              "<style scoped>\n",
              "    .dataframe tbody tr th:only-of-type {\n",
              "        vertical-align: middle;\n",
              "    }\n",
              "\n",
              "    .dataframe tbody tr th {\n",
              "        vertical-align: top;\n",
              "    }\n",
              "\n",
              "    .dataframe thead th {\n",
              "        text-align: right;\n",
              "    }\n",
              "</style>\n",
              "<table border=\"1\" class=\"dataframe\">\n",
              "  <thead>\n",
              "    <tr style=\"text-align: right;\">\n",
              "      <th></th>\n",
              "      <th>Date</th>\n",
              "      <th>Open</th>\n",
              "      <th>High</th>\n",
              "      <th>Low</th>\n",
              "      <th>Close</th>\n",
              "      <th>Adj Close</th>\n",
              "      <th>Volume</th>\n",
              "      <th>Log_ret_MSFT</th>\n",
              "    </tr>\n",
              "  </thead>\n",
              "  <tbody>\n",
              "    <tr>\n",
              "      <th>0</th>\n",
              "      <td>2013-12-09</td>\n",
              "      <td>38.560001</td>\n",
              "      <td>38.869999</td>\n",
              "      <td>38.369999</td>\n",
              "      <td>38.709999</td>\n",
              "      <td>34.326134</td>\n",
              "      <td>30286000</td>\n",
              "      <td>NaN</td>\n",
              "    </tr>\n",
              "    <tr>\n",
              "      <th>1</th>\n",
              "      <td>2013-12-10</td>\n",
              "      <td>38.610001</td>\n",
              "      <td>38.900002</td>\n",
              "      <td>38.020000</td>\n",
              "      <td>38.110001</td>\n",
              "      <td>33.794098</td>\n",
              "      <td>37828600</td>\n",
              "      <td>-0.015621</td>\n",
              "    </tr>\n",
              "    <tr>\n",
              "      <th>2</th>\n",
              "      <td>2013-12-11</td>\n",
              "      <td>38.060001</td>\n",
              "      <td>38.299999</td>\n",
              "      <td>37.389999</td>\n",
              "      <td>37.610001</td>\n",
              "      <td>33.350716</td>\n",
              "      <td>39853400</td>\n",
              "      <td>-0.013207</td>\n",
              "    </tr>\n",
              "    <tr>\n",
              "      <th>3</th>\n",
              "      <td>2013-12-12</td>\n",
              "      <td>37.639999</td>\n",
              "      <td>37.639999</td>\n",
              "      <td>37.180000</td>\n",
              "      <td>37.220001</td>\n",
              "      <td>33.004879</td>\n",
              "      <td>36012800</td>\n",
              "      <td>-0.010424</td>\n",
              "    </tr>\n",
              "    <tr>\n",
              "      <th>4</th>\n",
              "      <td>2013-12-13</td>\n",
              "      <td>37.419998</td>\n",
              "      <td>37.450001</td>\n",
              "      <td>36.619999</td>\n",
              "      <td>36.689999</td>\n",
              "      <td>32.534901</td>\n",
              "      <td>40066100</td>\n",
              "      <td>-0.014342</td>\n",
              "    </tr>\n",
              "  </tbody>\n",
              "</table>\n",
              "</div>\n",
              "      <button class=\"colab-df-convert\" onclick=\"convertToInteractive('df-27308734-eecd-4cc7-98f7-6ea22e3b736d')\"\n",
              "              title=\"Convert this dataframe to an interactive table.\"\n",
              "              style=\"display:none;\">\n",
              "        \n",
              "  <svg xmlns=\"http://www.w3.org/2000/svg\" height=\"24px\"viewBox=\"0 0 24 24\"\n",
              "       width=\"24px\">\n",
              "    <path d=\"M0 0h24v24H0V0z\" fill=\"none\"/>\n",
              "    <path d=\"M18.56 5.44l.94 2.06.94-2.06 2.06-.94-2.06-.94-.94-2.06-.94 2.06-2.06.94zm-11 1L8.5 8.5l.94-2.06 2.06-.94-2.06-.94L8.5 2.5l-.94 2.06-2.06.94zm10 10l.94 2.06.94-2.06 2.06-.94-2.06-.94-.94-2.06-.94 2.06-2.06.94z\"/><path d=\"M17.41 7.96l-1.37-1.37c-.4-.4-.92-.59-1.43-.59-.52 0-1.04.2-1.43.59L10.3 9.45l-7.72 7.72c-.78.78-.78 2.05 0 2.83L4 21.41c.39.39.9.59 1.41.59.51 0 1.02-.2 1.41-.59l7.78-7.78 2.81-2.81c.8-.78.8-2.07 0-2.86zM5.41 20L4 18.59l7.72-7.72 1.47 1.35L5.41 20z\"/>\n",
              "  </svg>\n",
              "      </button>\n",
              "      \n",
              "  <style>\n",
              "    .colab-df-container {\n",
              "      display:flex;\n",
              "      flex-wrap:wrap;\n",
              "      gap: 12px;\n",
              "    }\n",
              "\n",
              "    .colab-df-convert {\n",
              "      background-color: #E8F0FE;\n",
              "      border: none;\n",
              "      border-radius: 50%;\n",
              "      cursor: pointer;\n",
              "      display: none;\n",
              "      fill: #1967D2;\n",
              "      height: 32px;\n",
              "      padding: 0 0 0 0;\n",
              "      width: 32px;\n",
              "    }\n",
              "\n",
              "    .colab-df-convert:hover {\n",
              "      background-color: #E2EBFA;\n",
              "      box-shadow: 0px 1px 2px rgba(60, 64, 67, 0.3), 0px 1px 3px 1px rgba(60, 64, 67, 0.15);\n",
              "      fill: #174EA6;\n",
              "    }\n",
              "\n",
              "    [theme=dark] .colab-df-convert {\n",
              "      background-color: #3B4455;\n",
              "      fill: #D2E3FC;\n",
              "    }\n",
              "\n",
              "    [theme=dark] .colab-df-convert:hover {\n",
              "      background-color: #434B5C;\n",
              "      box-shadow: 0px 1px 3px 1px rgba(0, 0, 0, 0.15);\n",
              "      filter: drop-shadow(0px 1px 2px rgba(0, 0, 0, 0.3));\n",
              "      fill: #FFFFFF;\n",
              "    }\n",
              "  </style>\n",
              "\n",
              "      <script>\n",
              "        const buttonEl =\n",
              "          document.querySelector('#df-27308734-eecd-4cc7-98f7-6ea22e3b736d button.colab-df-convert');\n",
              "        buttonEl.style.display =\n",
              "          google.colab.kernel.accessAllowed ? 'block' : 'none';\n",
              "\n",
              "        async function convertToInteractive(key) {\n",
              "          const element = document.querySelector('#df-27308734-eecd-4cc7-98f7-6ea22e3b736d');\n",
              "          const dataTable =\n",
              "            await google.colab.kernel.invokeFunction('convertToInteractive',\n",
              "                                                     [key], {});\n",
              "          if (!dataTable) return;\n",
              "\n",
              "          const docLinkHtml = 'Like what you see? Visit the ' +\n",
              "            '<a target=\"_blank\" href=https://colab.research.google.com/notebooks/data_table.ipynb>data table notebook</a>'\n",
              "            + ' to learn more about interactive tables.';\n",
              "          element.innerHTML = '';\n",
              "          dataTable['output_type'] = 'display_data';\n",
              "          await google.colab.output.renderOutput(dataTable, element);\n",
              "          const docLink = document.createElement('div');\n",
              "          docLink.innerHTML = docLinkHtml;\n",
              "          element.appendChild(docLink);\n",
              "        }\n",
              "      </script>\n",
              "    </div>\n",
              "  </div>\n",
              "  "
            ]
          },
          "metadata": {},
          "execution_count": 14
        }
      ],
      "source": [
        "msft.head()"
      ]
    },
    {
      "cell_type": "code",
      "execution_count": null,
      "metadata": {
        "id": "ZrVTCv0rNUQZ"
      },
      "outputs": [],
      "source": [
        "msft.drop([0],axis=0,inplace=True)\n",
        "# удаление первого наблюдения nan"
      ]
    },
    {
      "cell_type": "code",
      "execution_count": null,
      "metadata": {
        "colab": {
          "base_uri": "https://localhost:8080/"
        },
        "id": "LVGAuZhsNUQa",
        "outputId": "ea47d6bd-6630-4124-c1d6-0ccf71420952"
      },
      "outputs": [
        {
          "output_type": "execute_result",
          "data": {
            "text/plain": [
              "count    1258.000000\n",
              "mean        0.000887\n",
              "std         0.014298\n",
              "min        -0.097099\n",
              "25%        -0.005974\n",
              "50%         0.000610\n",
              "75%         0.007774\n",
              "max         0.099413\n",
              "Name: Log_ret_MSFT, dtype: float64"
            ]
          },
          "metadata": {},
          "execution_count": 16
        }
      ],
      "source": [
        "msft['Log_ret_MSFT'].describe()\n",
        "#основные характеристики динамического ряда логарифмической доходности"
      ]
    },
    {
      "cell_type": "code",
      "execution_count": null,
      "metadata": {
        "colab": {
          "base_uri": "https://localhost:8080/"
        },
        "id": "LYL_qqtFNUQb",
        "outputId": "a89e610d-800b-42df-bb7a-75361d26f990"
      },
      "outputs": [
        {
          "output_type": "execute_result",
          "data": {
            "text/plain": [
              "0.0002042766448326039"
            ]
          },
          "metadata": {},
          "execution_count": 17
        }
      ],
      "source": [
        "np.var(msft['Log_ret_MSFT'])\n",
        "# дисперсия ряда                                                             "
      ]
    },
    {
      "cell_type": "code",
      "execution_count": null,
      "metadata": {
        "colab": {
          "base_uri": "https://localhost:8080/",
          "height": 1000
        },
        "id": "7rbZxNP2NUQb",
        "outputId": "ea368a92-3729-4342-96ca-d80a346699f2"
      },
      "outputs": [
        {
          "output_type": "display_data",
          "data": {
            "text/plain": [
              "<Figure size 576x432 with 1 Axes>"
            ],
            "image/png": "[encoded data removed]"
          },
          "metadata": {}
        },
        {
          "output_type": "display_data",
          "data": {
            "text/plain": [
              "<Figure size 576x432 with 1 Axes>"
            ],
            "image/png": "[encoded data removed]"
          },
          "metadata": {}
        },
        {
          "output_type": "display_data",
          "data": {
            "text/plain": [
              "<Figure size 576x432 with 1 Axes>"
            ],
            "image/png": "[encoded data removed]"
          },
          "metadata": {}
        },
        {
          "output_type": "display_data",
          "data": {
            "text/plain": [
              "<Figure size 720x432 with 0 Axes>"
            ]
          },
          "metadata": {}
        }
      ],
      "source": [
        "plt.figure(figsize=(8,6))\n",
        "plt.plot(msft['Date'],msft['Adj Close'])\n",
        "plt.title(u'Динамика цен акций Microsoft')\n",
        "\n",
        "plt.figure(figsize=(8,6))\n",
        "plt.plot(msft['Date'],np.log(msft['Adj Close']))\n",
        "plt.title(u'Динамика логарифмов цен акций Microsoft')\n",
        "\n",
        "plt.figure(figsize=(8,6))\n",
        "plt.plot(msft['Date'],msft['Log_ret_MSFT'])\n",
        "plt.title(u'Динамика доходности акций Microsoft')\n",
        "plt.show()\n",
        "plt.gcf().clear()"
      ]
    },
    {
      "cell_type": "markdown",
      "metadata": {
        "collapsed": true,
        "id": "YJ9ioEscNUQc"
      },
      "source": [
        "### 1. Проверка временного ряда на стационарность ($\\alpha=0.05$)"
      ]
    },
    {
      "cell_type": "markdown",
      "metadata": {
        "id": "hGf5oTAGNUQd"
      },
      "source": [
        " Модель авторегрессии - скользящего среднего корректно применять только к стационарным временным рядам. Стандартным критерием, используемым для проверки временного ряда на стационарность, явяляется критерий  Дикей-Фуллера (ADF - augmented Dickey-Fuller). В основе критерия лежит проверка значимости коэффициентов авторегрессии. Для данного критерия существуют специальные таблицы."
      ]
    },
    {
      "cell_type": "markdown",
      "metadata": {
        "id": "iAWL2YjCNUQd"
      },
      "source": [
        "Проведем исследование стационарности для логарифмов цен и логарифмической доходности. Нулевая гипотеза состоит в том, что  процесс носит нестационарный характер. Говоря математическим языком - корни характеристического уравнения авторегрессионной модели лежат вунтри единичного круга. "
      ]
    },
    {
      "cell_type": "code",
      "execution_count": null,
      "metadata": {
        "colab": {
          "base_uri": "https://localhost:8080/"
        },
        "id": "BmifSLWzNUQe",
        "outputId": "c5b441e3-68c6-4f2e-ab51-14c84629d9e7"
      },
      "outputs": [
        {
          "output_type": "execute_result",
          "data": {
            "text/plain": [
              "(-0.10399823306438749,\n",
              " 0.9490388349652016,\n",
              " 8,\n",
              " 1249,\n",
              " {'1%': -3.4355964295197743,\n",
              "  '10%': -2.5680035060041626,\n",
              "  '5%': -2.863856825923603},\n",
              " -7059.134393996628)"
            ]
          },
          "metadata": {},
          "execution_count": 19
        }
      ],
      "source": [
        "tsa.stattools.adfuller(np.log(msft['Adj Close']),maxlag=10)\n",
        "### логарифмы цен"
      ]
    },
    {
      "cell_type": "code",
      "execution_count": null,
      "metadata": {
        "colab": {
          "base_uri": "https://localhost:8080/"
        },
        "id": "TAlxEdakNUQf",
        "outputId": "f8ee2217-4a3d-483d-9ad9-76d197ca6130"
      },
      "outputs": [
        {
          "output_type": "execute_result",
          "data": {
            "text/plain": [
              "(-15.04375166074735,\n",
              " 9.510170284412283e-28,\n",
              " 7,\n",
              " 1250,\n",
              " {'1%': -3.435592223709696, '10%': -2.56800251776, '5%': -2.8638549702604803},\n",
              " -7061.125098359102)"
            ]
          },
          "metadata": {},
          "execution_count": 20
        }
      ],
      "source": [
        "tsa.stattools.adfuller(msft['Log_ret_MSFT'],maxlag=10)\n",
        "### логарифмическая доходность"
      ]
    },
    {
      "cell_type": "markdown",
      "metadata": {
        "collapsed": true,
        "id": "eMdw1fvBNUQf"
      },
      "source": [
        "В приведенных результатах работы теста важными являются первые два элемента: само значение критерия и p-value. В случае логарифмов цен гипотеза об отсутствии стационарности принимается. В случае логарифмической доходности - гипотеза отвергается. Это означает, что для построения модели авторгерссии - скользящего среднего необходимо взять первые разности логарифмов цен (что и есть логарифмическая доходность)."
      ]
    },
    {
      "cell_type": "markdown",
      "metadata": {
        "id": "uzqfEp7DNUQg"
      },
      "source": [
        "### Определение порядков авторегресии и скользящего среднего"
      ]
    },
    {
      "cell_type": "markdown",
      "metadata": {
        "id": "7MPDp1ITNUQg"
      },
      "source": [
        "Порядок процесса можно предварительно определить с помощью графиков авткорреляции и частной автокорреляция. Для этого построим указанные графики для стационарного процесса логарифмической доходности."
      ]
    },
    {
      "cell_type": "markdown",
      "metadata": {
        "collapsed": true,
        "id": "8hkKc5sSNUQg"
      },
      "source": [
        "1. Значимые коэффициенты автокорреляции определяют порядок скользящего среднего\n",
        "2. Значимые коэффициенты частной автокорреляции определяют порядок авторегрессии"
      ]
    },
    {
      "cell_type": "code",
      "execution_count": null,
      "metadata": {
        "colab": {
          "base_uri": "https://localhost:8080/",
          "height": 397
        },
        "id": "GasEuxjSNUQh",
        "outputId": "46cd6949-3243-4965-8914-b9b791ddca41"
      },
      "outputs": [
        {
          "output_type": "display_data",
          "data": {
            "text/plain": [
              "<Figure size 720x432 with 1 Axes>"
            ],
            "image/png": "[encoded data removed]"
          },
          "metadata": {}
        }
      ],
      "source": [
        "fig=tsaplots.plot_acf(msft['Log_ret_MSFT'],lags=20)"
      ]
    },
    {
      "cell_type": "code",
      "execution_count": null,
      "metadata": {
        "colab": {
          "base_uri": "https://localhost:8080/",
          "height": 397
        },
        "id": "sS9Rd-yWNUQh",
        "outputId": "1e54051f-2444-460b-f02a-9d63320357a5"
      },
      "outputs": [
        {
          "output_type": "display_data",
          "data": {
            "text/plain": [
              "<Figure size 720x432 with 1 Axes>"
            ],
            "image/png": "[encoded data removed]"
          },
          "metadata": {}
        }
      ],
      "source": [
        "fig=tsaplots.plot_pacf(msft['Log_ret_MSFT'],lags=20)"
      ]
    },
    {
      "cell_type": "markdown",
      "metadata": {
        "collapsed": true,
        "id": "M3_9vlFcNUQi"
      },
      "source": [
        "### 2. Построение модели ARIMA "
      ]
    },
    {
      "cell_type": "markdown",
      "metadata": {
        "collapsed": true,
        "id": "bdn49bcRNUQi"
      },
      "source": [
        " В рассматриваемом случае нет возможности однозначно идентифицировать порядок модели только исходя из графиков. Обращает на себя внимание значимость коэффициентов для лаг 8. Реализуем простой цикл перебора параметров AR и MA."
      ]
    },
    {
      "cell_type": "code",
      "execution_count": null,
      "metadata": {
        "id": "ibqhXg1_NUQj"
      },
      "outputs": [],
      "source": [
        "d=1 # порядок интеграции, берем первые разности\n",
        "l=list()"
      ]
    },
    {
      "cell_type": "markdown",
      "metadata": {
        "id": "jTgpUidzNUQj"
      },
      "source": [
        "Т.к. алгоритм расчета параметров модели может выдавать ошибку в случае несходимости, применем специальную конструкцию try - except, позволяющую обрабатывать исключения."
      ]
    },
    {
      "cell_type": "code",
      "execution_count": null,
      "metadata": {
        "colab": {
          "base_uri": "https://localhost:8080/"
        },
        "id": "tuDAD5N7NUQj",
        "outputId": "946e5d12-0c2d-40e2-8108-58a8bfff1afc"
      },
      "outputs": [
        {
          "output_type": "stream",
          "name": "stdout",
          "text": [
            "ARIMA(0,1,0)\n",
            "ARIMA(0,1,1)\n",
            "ARIMA(0,1,2)\n",
            "ARIMA(0,1,3)\n",
            "ARIMA(1,1,0)\n",
            "ARIMA(1,1,1)\n",
            "ARIMA(1,1,2)\n",
            "ARIMA(1,1,3)\n",
            "ARIMA(2,1,0)\n",
            "ARIMA(2,1,1)\n",
            "ARIMA(2,1,2)\n",
            "ARIMA(2,1,3)\n",
            "ARIMA(3,1,0)\n",
            "ARIMA(3,1,1)\n",
            "ARIMA(3,1,2)\n",
            "ARIMA(3,1,3)\n"
          ]
        }
      ],
      "source": [
        "import statsmodels.api as sm\n",
        "\n",
        "for i in range(0,4):\n",
        "    for j in range(0,4):\n",
        "        flag=True\n",
        "        print('ARIMA({},{},{})'.format(i,d,j))\n",
        "        try:\n",
        "            model=sm.tsa.ARIMA(np.log(msft['Adj Close']),order=(i,d,j))\n",
        "            res=model.fit()\n",
        "        except:\n",
        "            flag=False                                                       \n",
        "            pass\n",
        "        if (flag):\n",
        "            l.append((i,j,res.bic))"
      ]
    },
    {
      "cell_type": "code",
      "execution_count": null,
      "metadata": {
        "colab": {
          "base_uri": "https://localhost:8080/"
        },
        "id": "MY7VIsUzNUQk",
        "outputId": "75dbad45-cabc-4259-ce62-d73aa1701613"
      },
      "outputs": [
        {
          "output_type": "execute_result",
          "data": {
            "text/plain": [
              "[(0, 0, -7100.521881933352),\n",
              " (0, 1, -7096.4979618008),\n",
              " (0, 2, -7090.805939413908),\n",
              " (0, 3, -7084.0526806456555),\n",
              " (1, 0, -7096.282520128261),\n",
              " (1, 1, -7090.110813370134),\n",
              " (1, 2, -7083.534233515591),\n",
              " (1, 3, -7076.557979327235),\n",
              " (2, 0, -7090.878931523851),\n",
              " (2, 1, -7084.293042318371),\n",
              " (2, 2, -7076.105146311727),\n",
              " (2, 3, -7073.1328777881945),\n",
              " (3, 0, -7084.30241563925),\n",
              " (3, 1, -7077.126516341772),\n",
              " (3, 2, -7069.984500505839),\n",
              " (3, 3, -7062.772753343759),\n",
              " (0, 0, -7100.521881933352),\n",
              " (0, 1, -7096.4979618008),\n",
              " (0, 2, -7090.805939413908),\n",
              " (0, 3, -7084.0526806456555),\n",
              " (1, 0, -7096.282520128261),\n",
              " (1, 1, -7090.110813370134),\n",
              " (1, 2, -7083.534233515591),\n",
              " (1, 3, -7076.557979327235),\n",
              " (2, 0, -7090.878931523851),\n",
              " (2, 1, -7084.293042318371),\n",
              " (2, 2, -7076.105146311727),\n",
              " (2, 3, -7073.1328777881945),\n",
              " (3, 0, -7084.30241563925),\n",
              " (3, 1, -7077.126516341772),\n",
              " (3, 2, -7069.984500505839),\n",
              " (3, 3, -7062.772753343759)]"
            ]
          },
          "metadata": {},
          "execution_count": 36
        }
      ],
      "source": [
        "l # первое число - порядок AR, второе число - порядок MA, третье число - BIC"
      ]
    },
    {
      "cell_type": "markdown",
      "metadata": {
        "id": "N5NNAQ3uNUQl"
      },
      "source": [
        " Для целей задания ограничимся самой простой моделью порядка (1,1,1), т.е. моделью авторегрессии первого порядка и скользящего среднего первого порядка, построенную по первым разностям."
      ]
    },
    {
      "cell_type": "markdown",
      "metadata": {
        "id": "EH7FaTvzNUQl"
      },
      "source": [
        "$\\Delta y_t=\\phi_0+\\phi_1\\Delta y_{t-1}+\\varepsilon_t-\\theta_1\\varepsilon_{t-1}$"
      ]
    },
    {
      "cell_type": "code",
      "execution_count": null,
      "metadata": {
        "id": "OQKd7DDxNUQm"
      },
      "outputs": [],
      "source": [
        "model_1=sm.tsa.ARIMA(np.log(msft['Adj Close']),order=(1,1,1))"
      ]
    },
    {
      "cell_type": "code",
      "execution_count": null,
      "metadata": {
        "id": "YXE49d4QNUQm"
      },
      "outputs": [],
      "source": [
        "results_1=model_1.fit()"
      ]
    },
    {
      "cell_type": "code",
      "execution_count": null,
      "metadata": {
        "colab": {
          "base_uri": "https://localhost:8080/"
        },
        "id": "ipBv6xcMNUQn",
        "outputId": "b9a3fa01-6b2e-4ae0-e5cf-2f3bcd81d970"
      },
      "outputs": [
        {
          "output_type": "stream",
          "name": "stdout",
          "text": [
            "                               SARIMAX Results                                \n",
            "==============================================================================\n",
            "Dep. Variable:              Adj Close   No. Observations:                 1258\n",
            "Model:                 ARIMA(1, 1, 1)   Log Likelihood                3555.760\n",
            "Date:                Sun, 19 Jun 2022   AIC                          -7105.520\n",
            "Time:                        19:01:34   BIC                          -7090.111\n",
            "Sample:                             0   HQIC                         -7099.729\n",
            "                               - 1258                                         \n",
            "Covariance Type:                  opg                                         \n",
            "==============================================================================\n",
            "                 coef    std err          z      P>|z|      [0.025      0.975]\n",
            "------------------------------------------------------------------------------\n",
            "ar.L1          0.2336      0.392      0.597      0.551      -0.534       1.001\n",
            "ma.L1         -0.2840      0.387     -0.734      0.463      -1.042       0.474\n",
            "sigma2         0.0002    3.8e-06     53.790      0.000       0.000       0.000\n",
            "===================================================================================\n",
            "Ljung-Box (L1) (Q):                   0.02   Jarque-Bera (JB):              2840.20\n",
            "Prob(Q):                              0.88   Prob(JB):                         0.00\n",
            "Heteroskedasticity (H):               1.06   Skew:                             0.08\n",
            "Prob(H) (two-sided):                  0.55   Kurtosis:                        10.36\n",
            "===================================================================================\n",
            "\n",
            "Warnings:\n",
            "[1] Covariance matrix calculated using the outer product of gradients (complex-step).\n"
          ]
        }
      ],
      "source": [
        "print(results_1.summary())"
      ]
    },
    {
      "cell_type": "markdown",
      "metadata": {
        "collapsed": true,
        "id": "OMToCGSWNUQo"
      },
      "source": [
        "Остатки модели ARIMA должны быть процессом \"белого шума\" (отсутствует автокорреляция)"
      ]
    },
    {
      "cell_type": "markdown",
      "metadata": {
        "id": "OEXVPaQVNUQo"
      },
      "source": [
        "Для проверки гипотезы, связанной с присутствием в остатках автокорреляции будем использовать тест Льюнга-Бокса. Данный тест  основан на  коэффициентах автокорреляции, рассчитываемых для разного количества лагов (смещений). Таким образом данный тест позволяет идентифицировать автокорреляцию остатков более высоких порядков."
      ]
    },
    {
      "cell_type": "code",
      "execution_count": null,
      "metadata": {
        "colab": {
          "base_uri": "https://localhost:8080/",
          "height": 363
        },
        "id": "ssAAjxPMNUQp",
        "outputId": "012d3995-25c9-4aeb-865f-303f4c5d713e"
      },
      "outputs": [
        {
          "output_type": "execute_result",
          "data": {
            "text/plain": [
              "     lb_stat  lb_pvalue\n",
              "1   0.020645   0.885750\n",
              "2   0.040067   0.980166\n",
              "3   0.061348   0.996032\n",
              "4   0.061434   0.999538\n",
              "5   0.087844   0.999882\n",
              "6   0.088362   0.999986\n",
              "7   0.097734   0.999998\n",
              "8   0.102303   1.000000\n",
              "9   0.105838   1.000000\n",
              "10  0.126553   1.000000"
            ],
            "text/html": [
              "\n",
              "  <div id=\"df-3c79f1e7-5414-4733-bcd8-fce7537c4f2f\">\n",
              "    <div class=\"colab-df-container\">\n",
              "      <div>\n",
              "<style scoped>\n",
              "    .dataframe tbody tr th:only-of-type {\n",
              "        vertical-align: middle;\n",
              "    }\n",
              "\n",
              "    .dataframe tbody tr th {\n",
              "        vertical-align: top;\n",
              "    }\n",
              "\n",
              "    .dataframe thead th {\n",
              "        text-align: right;\n",
              "    }\n",
              "</style>\n",
              "<table border=\"1\" class=\"dataframe\">\n",
              "  <thead>\n",
              "    <tr style=\"text-align: right;\">\n",
              "      <th></th>\n",
              "      <th>lb_stat</th>\n",
              "      <th>lb_pvalue</th>\n",
              "    </tr>\n",
              "  </thead>\n",
              "  <tbody>\n",
              "    <tr>\n",
              "      <th>1</th>\n",
              "      <td>0.020645</td>\n",
              "      <td>0.885750</td>\n",
              "    </tr>\n",
              "    <tr>\n",
              "      <th>2</th>\n",
              "      <td>0.040067</td>\n",
              "      <td>0.980166</td>\n",
              "    </tr>\n",
              "    <tr>\n",
              "      <th>3</th>\n",
              "      <td>0.061348</td>\n",
              "      <td>0.996032</td>\n",
              "    </tr>\n",
              "    <tr>\n",
              "      <th>4</th>\n",
              "      <td>0.061434</td>\n",
              "      <td>0.999538</td>\n",
              "    </tr>\n",
              "    <tr>\n",
              "      <th>5</th>\n",
              "      <td>0.087844</td>\n",
              "      <td>0.999882</td>\n",
              "    </tr>\n",
              "    <tr>\n",
              "      <th>6</th>\n",
              "      <td>0.088362</td>\n",
              "      <td>0.999986</td>\n",
              "    </tr>\n",
              "    <tr>\n",
              "      <th>7</th>\n",
              "      <td>0.097734</td>\n",
              "      <td>0.999998</td>\n",
              "    </tr>\n",
              "    <tr>\n",
              "      <th>8</th>\n",
              "      <td>0.102303</td>\n",
              "      <td>1.000000</td>\n",
              "    </tr>\n",
              "    <tr>\n",
              "      <th>9</th>\n",
              "      <td>0.105838</td>\n",
              "      <td>1.000000</td>\n",
              "    </tr>\n",
              "    <tr>\n",
              "      <th>10</th>\n",
              "      <td>0.126553</td>\n",
              "      <td>1.000000</td>\n",
              "    </tr>\n",
              "  </tbody>\n",
              "</table>\n",
              "</div>\n",
              "      <button class=\"colab-df-convert\" onclick=\"convertToInteractive('df-3c79f1e7-5414-4733-bcd8-fce7537c4f2f')\"\n",
              "              title=\"Convert this dataframe to an interactive table.\"\n",
              "              style=\"display:none;\">\n",
              "        \n",
              "  <svg xmlns=\"http://www.w3.org/2000/svg\" height=\"24px\"viewBox=\"0 0 24 24\"\n",
              "       width=\"24px\">\n",
              "    <path d=\"M0 0h24v24H0V0z\" fill=\"none\"/>\n",
              "    <path d=\"M18.56 5.44l.94 2.06.94-2.06 2.06-.94-2.06-.94-.94-2.06-.94 2.06-2.06.94zm-11 1L8.5 8.5l.94-2.06 2.06-.94-2.06-.94L8.5 2.5l-.94 2.06-2.06.94zm10 10l.94 2.06.94-2.06 2.06-.94-2.06-.94-.94-2.06-.94 2.06-2.06.94z\"/><path d=\"M17.41 7.96l-1.37-1.37c-.4-.4-.92-.59-1.43-.59-.52 0-1.04.2-1.43.59L10.3 9.45l-7.72 7.72c-.78.78-.78 2.05 0 2.83L4 21.41c.39.39.9.59 1.41.59.51 0 1.02-.2 1.41-.59l7.78-7.78 2.81-2.81c.8-.78.8-2.07 0-2.86zM5.41 20L4 18.59l7.72-7.72 1.47 1.35L5.41 20z\"/>\n",
              "  </svg>\n",
              "      </button>\n",
              "      \n",
              "  <style>\n",
              "    .colab-df-container {\n",
              "      display:flex;\n",
              "      flex-wrap:wrap;\n",
              "      gap: 12px;\n",
              "    }\n",
              "\n",
              "    .colab-df-convert {\n",
              "      background-color: #E8F0FE;\n",
              "      border: none;\n",
              "      border-radius: 50%;\n",
              "      cursor: pointer;\n",
              "      display: none;\n",
              "      fill: #1967D2;\n",
              "      height: 32px;\n",
              "      padding: 0 0 0 0;\n",
              "      width: 32px;\n",
              "    }\n",
              "\n",
              "    .colab-df-convert:hover {\n",
              "      background-color: #E2EBFA;\n",
              "      box-shadow: 0px 1px 2px rgba(60, 64, 67, 0.3), 0px 1px 3px 1px rgba(60, 64, 67, 0.15);\n",
              "      fill: #174EA6;\n",
              "    }\n",
              "\n",
              "    [theme=dark] .colab-df-convert {\n",
              "      background-color: #3B4455;\n",
              "      fill: #D2E3FC;\n",
              "    }\n",
              "\n",
              "    [theme=dark] .colab-df-convert:hover {\n",
              "      background-color: #434B5C;\n",
              "      box-shadow: 0px 1px 3px 1px rgba(0, 0, 0, 0.15);\n",
              "      filter: drop-shadow(0px 1px 2px rgba(0, 0, 0, 0.3));\n",
              "      fill: #FFFFFF;\n",
              "    }\n",
              "  </style>\n",
              "\n",
              "      <script>\n",
              "        const buttonEl =\n",
              "          document.querySelector('#df-3c79f1e7-5414-4733-bcd8-fce7537c4f2f button.colab-df-convert');\n",
              "        buttonEl.style.display =\n",
              "          google.colab.kernel.accessAllowed ? 'block' : 'none';\n",
              "\n",
              "        async function convertToInteractive(key) {\n",
              "          const element = document.querySelector('#df-3c79f1e7-5414-4733-bcd8-fce7537c4f2f');\n",
              "          const dataTable =\n",
              "            await google.colab.kernel.invokeFunction('convertToInteractive',\n",
              "                                                     [key], {});\n",
              "          if (!dataTable) return;\n",
              "\n",
              "          const docLinkHtml = 'Like what you see? Visit the ' +\n",
              "            '<a target=\"_blank\" href=https://colab.research.google.com/notebooks/data_table.ipynb>data table notebook</a>'\n",
              "            + ' to learn more about interactive tables.';\n",
              "          element.innerHTML = '';\n",
              "          dataTable['output_type'] = 'display_data';\n",
              "          await google.colab.output.renderOutput(dataTable, element);\n",
              "          const docLink = document.createElement('div');\n",
              "          docLink.innerHTML = docLinkHtml;\n",
              "          element.appendChild(docLink);\n",
              "        }\n",
              "      </script>\n",
              "    </div>\n",
              "  </div>\n",
              "  "
            ]
          },
          "metadata": {},
          "execution_count": 44
        }
      ],
      "source": [
        "test.acorr_ljungbox(results_1.resid)\n",
        "### значение статистики и pvalue Льюнга-Бокса"
      ]
    },
    {
      "cell_type": "markdown",
      "metadata": {
        "collapsed": true,
        "id": "DPW05WftNUQq"
      },
      "source": [
        "Общий вывод: Модель ARIMA (1,1,1), в целом, адекватно описывает исследуемый процесс. Коэффиценты AR  и MA меньше 1. Это говорит о том, что процесс имеет характер  \"возврата к средней\" (mean reversion). В частности, на основе данного процесса можно строить \"статистические\" арбитражные стратегии торговли. В противном случае речь идет о взрывной динамике, и процессом сложно управлять."
      ]
    },
    {
      "cell_type": "markdown",
      "metadata": {
        "collapsed": true,
        "id": "ze-zFenPNUQr"
      },
      "source": [
        "###  3. Построение модели GARCH"
      ]
    },
    {
      "cell_type": "markdown",
      "metadata": {
        "id": "v6n_Oi83NUQr"
      },
      "source": [
        "Процесс GARCH строится на основе остатков модели ARIMA, т.е. отфильтрованных данных. Для идентификации кластеров волатильности используются графики квадрата остатков и ACF для квадрата остатков."
      ]
    },
    {
      "cell_type": "code",
      "execution_count": null,
      "metadata": {
        "colab": {
          "base_uri": "https://localhost:8080/",
          "height": 378
        },
        "id": "dFFS_w0tNUQr",
        "outputId": "c7ca5356-43e1-4ca9-c942-7d54c6510e0d"
      },
      "outputs": [
        {
          "output_type": "display_data",
          "data": {
            "text/plain": [
              "<Figure size 720x432 with 1 Axes>"
            ],
            "image/png": "[encoded data removed]"
          },
          "metadata": {}
        }
      ],
      "source": [
        "fig=(results_1.resid**2).plot()"
      ]
    },
    {
      "cell_type": "code",
      "execution_count": null,
      "metadata": {
        "id": "D-X_ngaVNUQs",
        "outputId": "9afe3983-c6ce-43be-da16-9bd8678a14f4"
      },
      "outputs": [
        {
          "data": {
            "image/png": "[encoded data removed]",
            "text/plain": [
              "<Figure size 720x432 with 1 Axes>"
            ]
          },
          "metadata": {},
          "output_type": "display_data"
        }
      ],
      "source": [
        "fig=tsaplots.plot_acf(results_1.resid**2,lags=10)"
      ]
    },
    {
      "cell_type": "markdown",
      "metadata": {
        "id": "kYuhHk-cNUQt"
      },
      "source": [
        "С помощью  теста Льюнга-Бокса проверим ряд квадратов остатков на наличие автокорреляции."
      ]
    },
    {
      "cell_type": "code",
      "execution_count": null,
      "metadata": {
        "colab": {
          "base_uri": "https://localhost:8080/"
        },
        "id": "KE1EOzwoNUQt",
        "outputId": "828a5f22-1d7f-4fb1-fca7-61db14736e97"
      },
      "outputs": [
        {
          "output_type": "execute_result",
          "data": {
            "text/plain": [
              "1     0.999926\n",
              "2     1.000000\n",
              "3     1.000000\n",
              "4     1.000000\n",
              "5     1.000000\n",
              "6     1.000000\n",
              "7     1.000000\n",
              "8     1.000000\n",
              "9     1.000000\n",
              "10    1.000000\n",
              "Name: lb_pvalue, dtype: float64"
            ]
          },
          "metadata": {},
          "execution_count": 47
        }
      ],
      "source": [
        "test.acorr_ljungbox(results_1.resid**2).iloc[0:10, 1]\n",
        "###  pvalue статистики Льюнга-Бокса"
      ]
    },
    {
      "cell_type": "markdown",
      "metadata": {
        "id": "2HMl6C20NUQu"
      },
      "source": [
        "Значение теста показывает, что в ряде квадрата остатков присутствует автокорреляция, следовательно в исследовани необходимо использовать модель GARCH."
      ]
    },
    {
      "cell_type": "markdown",
      "metadata": {
        "id": "Lu39hZyNNUQu"
      },
      "source": [
        "Для построения модели воспользуемся библиотекой ARCH. Построим модель GARCH по двум наборам данных - по исходным данным и по остаткам модели ARIMA. Если в качестве объекта исследования рассматриваются исходные данные, необходимо первоначально построить модель доходности."
      ]
    },
    {
      "cell_type": "markdown",
      "metadata": {
        "id": "zeJ0ysMdNUQv"
      },
      "source": [
        "Ограничимся простой моделью GARCH(1,1), имеющий следующий вид:"
      ]
    },
    {
      "cell_type": "markdown",
      "metadata": {
        "id": "Adxc9TVVNUQv"
      },
      "source": [
        "$\\varepsilon_t=\\sigma_t\\epsilon_t$\n",
        "${\\sigma^2}_t=\\omega+\\alpha_1{\\varepsilon^2}_{t-1}+\\beta_1{\\sigma^2}_{t-1}$"
      ]
    },
    {
      "cell_type": "markdown",
      "metadata": {
        "id": "KhaHy4xINUQv"
      },
      "source": [
        "#### 3.1. Модель по исходным данным"
      ]
    },
    {
      "cell_type": "markdown",
      "metadata": {
        "collapsed": true,
        "id": "_n91v7hsNUQw"
      },
      "source": [
        "Моделирование доходности - Zero Mean"
      ]
    },
    {
      "cell_type": "code",
      "execution_count": null,
      "metadata": {
        "id": "AizlC-tcNUQw"
      },
      "outputs": [],
      "source": [
        "zm=ZeroMean(msft['Log_ret_MSFT'])"
      ]
    },
    {
      "cell_type": "code",
      "execution_count": null,
      "metadata": {
        "colab": {
          "base_uri": "https://localhost:8080/",
          "height": 316
        },
        "id": "ZYigsYmxNUQx",
        "outputId": "d646f06b-803c-453e-b585-067ed43e6b55"
      },
      "outputs": [
        {
          "output_type": "execute_result",
          "data": {
            "text/plain": [
              "<class 'statsmodels.iolib.summary.Summary'>\n",
              "\"\"\"\n",
              "                 Zero Mean - Constant Variance Model Results                  \n",
              "==============================================================================\n",
              "Dep. Variable:           Log_ret_MSFT   R-squared:                       0.000\n",
              "Mean Model:                 Zero Mean   Adj. R-squared:                  0.001\n",
              "Vol Model:          Constant Variance   Log-Likelihood:                3556.56\n",
              "Distribution:                  Normal   AIC:                          -7111.12\n",
              "Method:            Maximum Likelihood   BIC:                          -7105.99\n",
              "                                        No. Observations:                 1258\n",
              "Date:                Sun, Jun 19 2022   Df Residuals:                     1258\n",
              "Time:                        19:10:19   Df Model:                            0\n",
              "                              Volatility Model                              \n",
              "============================================================================\n",
              "                 coef    std err          t      P>|t|      95.0% Conf. Int.\n",
              "----------------------------------------------------------------------------\n",
              "sigma2     2.0506e-04  1.758e-05     11.666  1.908e-31 [1.706e-04,2.395e-04]\n",
              "============================================================================\n",
              "\n",
              "Covariance estimator: White's Heteroskedasticity Consistent Estimator\n",
              "\"\"\""
            ],
            "text/html": [
              "<table class=\"simpletable\">\n",
              "<caption>Zero Mean - Constant Variance Model Results</caption>\n",
              "<tr>\n",
              "  <th>Dep. Variable:</th>    <td>Log_ret_MSFT</td>    <th>  R-squared:         </th>  <td>   0.000</td> \n",
              "</tr>\n",
              "<tr>\n",
              "  <th>Mean Model:</th>         <td>Zero Mean</td>     <th>  Adj. R-squared:    </th>  <td>   0.001</td> \n",
              "</tr>\n",
              "<tr>\n",
              "  <th>Vol Model:</th>      <td>Constant Variance</td> <th>  Log-Likelihood:    </th> <td>   3556.56</td>\n",
              "</tr>\n",
              "<tr>\n",
              "  <th>Distribution:</th>        <td>Normal</td>       <th>  AIC:               </th> <td>  -7111.12</td>\n",
              "</tr>\n",
              "<tr>\n",
              "  <th>Method:</th>        <td>Maximum Likelihood</td> <th>  BIC:               </th> <td>  -7105.99</td>\n",
              "</tr>\n",
              "<tr>\n",
              "  <th></th>                        <td></td>          <th>  No. Observations:  </th>    <td>1258</td>   \n",
              "</tr>\n",
              "<tr>\n",
              "  <th>Date:</th>           <td>Sun, Jun 19 2022</td>  <th>  Df Residuals:      </th>    <td>1258</td>   \n",
              "</tr>\n",
              "<tr>\n",
              "  <th>Time:</th>               <td>19:10:19</td>      <th>  Df Model:          </th>      <td>0</td>    \n",
              "</tr>\n",
              "</table>\n",
              "<table class=\"simpletable\">\n",
              "<caption>Volatility Model</caption>\n",
              "<tr>\n",
              "     <td></td>       <th>coef</th>     <th>std err</th>      <th>t</th>       <th>P>|t|</th>     <th>95.0% Conf. Int.</th>   \n",
              "</tr>\n",
              "<tr>\n",
              "  <th>sigma2</th> <td>2.0506e-04</td> <td>1.758e-05</td> <td>   11.666</td> <td>1.908e-31</td> <td>[1.706e-04,2.395e-04]</td>\n",
              "</tr>\n",
              "</table><br/><br/>Covariance estimator: White's Heteroskedasticity Consistent Estimator"
            ]
          },
          "metadata": {},
          "execution_count": 49
        }
      ],
      "source": [
        "zm.fit().summary()"
      ]
    },
    {
      "cell_type": "code",
      "execution_count": null,
      "metadata": {
        "id": "3OfO8sBgNUQx"
      },
      "outputs": [],
      "source": [
        "zm.volatility=GARCH(p=1,q=1)"
      ]
    },
    {
      "cell_type": "code",
      "execution_count": null,
      "metadata": {
        "id": "Bwwv8j5ANUQy"
      },
      "outputs": [],
      "source": [
        "res_zm = zm.fit(update_freq=0, disp='off')"
      ]
    },
    {
      "cell_type": "code",
      "execution_count": null,
      "metadata": {
        "colab": {
          "base_uri": "https://localhost:8080/",
          "height": 358
        },
        "id": "DjGXTKOyNUQy",
        "outputId": "ed788043-ead4-4c35-83e6-6abf28c8d8d9"
      },
      "outputs": [
        {
          "output_type": "execute_result",
          "data": {
            "text/plain": [
              "<class 'statsmodels.iolib.summary.Summary'>\n",
              "\"\"\"\n",
              "                       Zero Mean - GARCH Model Results                        \n",
              "==============================================================================\n",
              "Dep. Variable:           Log_ret_MSFT   R-squared:                       0.000\n",
              "Mean Model:                 Zero Mean   Adj. R-squared:                  0.001\n",
              "Vol Model:                      GARCH   Log-Likelihood:                3608.91\n",
              "Distribution:                  Normal   AIC:                          -7211.82\n",
              "Method:            Maximum Likelihood   BIC:                          -7196.41\n",
              "                                        No. Observations:                 1258\n",
              "Date:                Sun, Jun 19 2022   Df Residuals:                     1258\n",
              "Time:                        19:10:31   Df Model:                            0\n",
              "                              Volatility Model                              \n",
              "============================================================================\n",
              "                 coef    std err          t      P>|t|      95.0% Conf. Int.\n",
              "----------------------------------------------------------------------------\n",
              "omega      4.4260e-05  4.543e-06      9.742  1.988e-22 [3.536e-05,5.316e-05]\n",
              "alpha[1]       0.1642  5.658e-02      2.902  3.706e-03   [5.331e-02,  0.275]\n",
              "beta[1]        0.6432  4.183e-02     15.376  2.376e-53     [  0.561,  0.725]\n",
              "============================================================================\n",
              "\n",
              "Covariance estimator: robust\n",
              "\"\"\""
            ],
            "text/html": [
              "<table class=\"simpletable\">\n",
              "<caption>Zero Mean - GARCH Model Results</caption>\n",
              "<tr>\n",
              "  <th>Dep. Variable:</th>    <td>Log_ret_MSFT</td>    <th>  R-squared:         </th>  <td>   0.000</td> \n",
              "</tr>\n",
              "<tr>\n",
              "  <th>Mean Model:</th>         <td>Zero Mean</td>     <th>  Adj. R-squared:    </th>  <td>   0.001</td> \n",
              "</tr>\n",
              "<tr>\n",
              "  <th>Vol Model:</th>            <td>GARCH</td>       <th>  Log-Likelihood:    </th> <td>   3608.91</td>\n",
              "</tr>\n",
              "<tr>\n",
              "  <th>Distribution:</th>        <td>Normal</td>       <th>  AIC:               </th> <td>  -7211.82</td>\n",
              "</tr>\n",
              "<tr>\n",
              "  <th>Method:</th>        <td>Maximum Likelihood</td> <th>  BIC:               </th> <td>  -7196.41</td>\n",
              "</tr>\n",
              "<tr>\n",
              "  <th></th>                        <td></td>          <th>  No. Observations:  </th>    <td>1258</td>   \n",
              "</tr>\n",
              "<tr>\n",
              "  <th>Date:</th>           <td>Sun, Jun 19 2022</td>  <th>  Df Residuals:      </th>    <td>1258</td>   \n",
              "</tr>\n",
              "<tr>\n",
              "  <th>Time:</th>               <td>19:10:31</td>      <th>  Df Model:          </th>      <td>0</td>    \n",
              "</tr>\n",
              "</table>\n",
              "<table class=\"simpletable\">\n",
              "<caption>Volatility Model</caption>\n",
              "<tr>\n",
              "      <td></td>        <th>coef</th>     <th>std err</th>      <th>t</th>       <th>P>|t|</th>     <th>95.0% Conf. Int.</th>   \n",
              "</tr>\n",
              "<tr>\n",
              "  <th>omega</th>    <td>4.4260e-05</td> <td>4.543e-06</td> <td>    9.742</td> <td>1.988e-22</td> <td>[3.536e-05,5.316e-05]</td>\n",
              "</tr>\n",
              "<tr>\n",
              "  <th>alpha[1]</th> <td>    0.1642</td> <td>5.658e-02</td> <td>    2.902</td> <td>3.706e-03</td>  <td>[5.331e-02,  0.275]</td> \n",
              "</tr>\n",
              "<tr>\n",
              "  <th>beta[1]</th>  <td>    0.6432</td> <td>4.183e-02</td> <td>   15.376</td> <td>2.376e-53</td>   <td>[  0.561,  0.725]</td>  \n",
              "</tr>\n",
              "</table><br/><br/>Covariance estimator: robust"
            ]
          },
          "metadata": {},
          "execution_count": 52
        }
      ],
      "source": [
        "res_zm.summary()"
      ]
    },
    {
      "cell_type": "markdown",
      "metadata": {
        "id": "hdjXHDLHNUQz"
      },
      "source": [
        "Модель не дает в полной мере адекватного результата, т.к. отсутсвует сходимость алгоритма."
      ]
    },
    {
      "cell_type": "markdown",
      "metadata": {
        "collapsed": true,
        "id": "FPFzWV6uNUQz"
      },
      "source": [
        "##### Моделирование доходности - Constant Mean"
      ]
    },
    {
      "cell_type": "markdown",
      "metadata": {
        "id": "P_X_3JjuNUQz"
      },
      "source": [
        "$r_t=\\mu+\\varepsilon_t$"
      ]
    },
    {
      "cell_type": "code",
      "execution_count": null,
      "metadata": {
        "id": "TszcWGv_NUQ0"
      },
      "outputs": [],
      "source": [
        "cm=ConstantMean(msft['Log_ret_MSFT'])"
      ]
    },
    {
      "cell_type": "code",
      "execution_count": null,
      "metadata": {
        "colab": {
          "base_uri": "https://localhost:8080/",
          "height": 377
        },
        "id": "UgQyiI80NUQ0",
        "outputId": "2ef511b4-45be-4cad-d69e-a13519b03243"
      },
      "outputs": [
        {
          "output_type": "execute_result",
          "data": {
            "text/plain": [
              "<class 'statsmodels.iolib.summary.Summary'>\n",
              "\"\"\"\n",
              "               Constant Mean - Constant Variance Model Results                \n",
              "==============================================================================\n",
              "Dep. Variable:           Log_ret_MSFT   R-squared:                       0.000\n",
              "Mean Model:             Constant Mean   Adj. R-squared:                  0.000\n",
              "Vol Model:          Constant Variance   Log-Likelihood:                3558.98\n",
              "Distribution:                  Normal   AIC:                          -7113.96\n",
              "Method:            Maximum Likelihood   BIC:                          -7103.69\n",
              "                                        No. Observations:                 1258\n",
              "Date:                Sun, Jun 19 2022   Df Residuals:                     1257\n",
              "Time:                        19:14:24   Df Model:                            1\n",
              "                                 Mean Model                                 \n",
              "============================================================================\n",
              "                 coef    std err          t      P>|t|      95.0% Conf. Int.\n",
              "----------------------------------------------------------------------------\n",
              "mu         8.8739e-04  4.030e-04      2.202  2.766e-02 [9.759e-05,1.677e-03]\n",
              "                              Volatility Model                              \n",
              "============================================================================\n",
              "                 coef    std err          t      P>|t|      95.0% Conf. Int.\n",
              "----------------------------------------------------------------------------\n",
              "sigma2     2.0428e-04  1.754e-05     11.649  2.318e-31 [1.699e-04,2.386e-04]\n",
              "============================================================================\n",
              "\n",
              "Covariance estimator: White's Heteroskedasticity Consistent Estimator\n",
              "\"\"\""
            ],
            "text/html": [
              "<table class=\"simpletable\">\n",
              "<caption>Constant Mean - Constant Variance Model Results</caption>\n",
              "<tr>\n",
              "  <th>Dep. Variable:</th>    <td>Log_ret_MSFT</td>    <th>  R-squared:         </th>  <td>   0.000</td> \n",
              "</tr>\n",
              "<tr>\n",
              "  <th>Mean Model:</th>       <td>Constant Mean</td>   <th>  Adj. R-squared:    </th>  <td>   0.000</td> \n",
              "</tr>\n",
              "<tr>\n",
              "  <th>Vol Model:</th>      <td>Constant Variance</td> <th>  Log-Likelihood:    </th> <td>   3558.98</td>\n",
              "</tr>\n",
              "<tr>\n",
              "  <th>Distribution:</th>        <td>Normal</td>       <th>  AIC:               </th> <td>  -7113.96</td>\n",
              "</tr>\n",
              "<tr>\n",
              "  <th>Method:</th>        <td>Maximum Likelihood</td> <th>  BIC:               </th> <td>  -7103.69</td>\n",
              "</tr>\n",
              "<tr>\n",
              "  <th></th>                        <td></td>          <th>  No. Observations:  </th>    <td>1258</td>   \n",
              "</tr>\n",
              "<tr>\n",
              "  <th>Date:</th>           <td>Sun, Jun 19 2022</td>  <th>  Df Residuals:      </th>    <td>1257</td>   \n",
              "</tr>\n",
              "<tr>\n",
              "  <th>Time:</th>               <td>19:14:24</td>      <th>  Df Model:          </th>      <td>1</td>    \n",
              "</tr>\n",
              "</table>\n",
              "<table class=\"simpletable\">\n",
              "<caption>Mean Model</caption>\n",
              "<tr>\n",
              "   <td></td>     <th>coef</th>     <th>std err</th>      <th>t</th>       <th>P>|t|</th>     <th>95.0% Conf. Int.</th>   \n",
              "</tr>\n",
              "<tr>\n",
              "  <th>mu</th> <td>8.8739e-04</td> <td>4.030e-04</td> <td>    2.202</td> <td>2.766e-02</td> <td>[9.759e-05,1.677e-03]</td>\n",
              "</tr>\n",
              "</table>\n",
              "<table class=\"simpletable\">\n",
              "<caption>Volatility Model</caption>\n",
              "<tr>\n",
              "     <td></td>       <th>coef</th>     <th>std err</th>      <th>t</th>       <th>P>|t|</th>     <th>95.0% Conf. Int.</th>   \n",
              "</tr>\n",
              "<tr>\n",
              "  <th>sigma2</th> <td>2.0428e-04</td> <td>1.754e-05</td> <td>   11.649</td> <td>2.318e-31</td> <td>[1.699e-04,2.386e-04]</td>\n",
              "</tr>\n",
              "</table><br/><br/>Covariance estimator: White's Heteroskedasticity Consistent Estimator"
            ]
          },
          "metadata": {},
          "execution_count": 54
        }
      ],
      "source": [
        "cm.fit().summary()"
      ]
    },
    {
      "cell_type": "code",
      "execution_count": null,
      "metadata": {
        "id": "hdY19y0DNUQ1"
      },
      "outputs": [],
      "source": [
        "cm.volatility=GARCH(p=1,q=1)"
      ]
    },
    {
      "cell_type": "code",
      "execution_count": null,
      "metadata": {
        "id": "MguUp65zNUQ1"
      },
      "outputs": [],
      "source": [
        "res_cm = cm.fit(update_freq=0, disp='off')"
      ]
    },
    {
      "cell_type": "code",
      "execution_count": null,
      "metadata": {
        "colab": {
          "base_uri": "https://localhost:8080/",
          "height": 419
        },
        "id": "wlF0m01UNUQ2",
        "outputId": "44f1a3cb-187a-41e0-f990-b3308428d3d7"
      },
      "outputs": [
        {
          "output_type": "execute_result",
          "data": {
            "text/plain": [
              "<class 'statsmodels.iolib.summary.Summary'>\n",
              "\"\"\"\n",
              "                     Constant Mean - GARCH Model Results                      \n",
              "==============================================================================\n",
              "Dep. Variable:           Log_ret_MSFT   R-squared:                       0.000\n",
              "Mean Model:             Constant Mean   Adj. R-squared:                  0.000\n",
              "Vol Model:                      GARCH   Log-Likelihood:                3615.65\n",
              "Distribution:                  Normal   AIC:                          -7223.30\n",
              "Method:            Maximum Likelihood   BIC:                          -7202.75\n",
              "                                        No. Observations:                 1258\n",
              "Date:                Sun, Jun 19 2022   Df Residuals:                     1257\n",
              "Time:                        19:15:06   Df Model:                            1\n",
              "                                 Mean Model                                 \n",
              "============================================================================\n",
              "                 coef    std err          t      P>|t|      95.0% Conf. Int.\n",
              "----------------------------------------------------------------------------\n",
              "mu         1.1121e-03  3.493e-04      3.183  1.456e-03 [4.274e-04,1.797e-03]\n",
              "                              Volatility Model                              \n",
              "============================================================================\n",
              "                 coef    std err          t      P>|t|      95.0% Conf. Int.\n",
              "----------------------------------------------------------------------------\n",
              "omega      3.6560e-05  3.306e-06     11.059  1.972e-28 [3.008e-05,4.304e-05]\n",
              "alpha[1]       0.2159  8.189e-02      2.636  8.393e-03   [5.535e-02,  0.376]\n",
              "beta[1]        0.6357  5.411e-02     11.748  7.243e-32     [  0.530,  0.742]\n",
              "============================================================================\n",
              "\n",
              "Covariance estimator: robust\n",
              "\"\"\""
            ],
            "text/html": [
              "<table class=\"simpletable\">\n",
              "<caption>Constant Mean - GARCH Model Results</caption>\n",
              "<tr>\n",
              "  <th>Dep. Variable:</th>    <td>Log_ret_MSFT</td>    <th>  R-squared:         </th>  <td>   0.000</td> \n",
              "</tr>\n",
              "<tr>\n",
              "  <th>Mean Model:</th>       <td>Constant Mean</td>   <th>  Adj. R-squared:    </th>  <td>   0.000</td> \n",
              "</tr>\n",
              "<tr>\n",
              "  <th>Vol Model:</th>            <td>GARCH</td>       <th>  Log-Likelihood:    </th> <td>   3615.65</td>\n",
              "</tr>\n",
              "<tr>\n",
              "  <th>Distribution:</th>        <td>Normal</td>       <th>  AIC:               </th> <td>  -7223.30</td>\n",
              "</tr>\n",
              "<tr>\n",
              "  <th>Method:</th>        <td>Maximum Likelihood</td> <th>  BIC:               </th> <td>  -7202.75</td>\n",
              "</tr>\n",
              "<tr>\n",
              "  <th></th>                        <td></td>          <th>  No. Observations:  </th>    <td>1258</td>   \n",
              "</tr>\n",
              "<tr>\n",
              "  <th>Date:</th>           <td>Sun, Jun 19 2022</td>  <th>  Df Residuals:      </th>    <td>1257</td>   \n",
              "</tr>\n",
              "<tr>\n",
              "  <th>Time:</th>               <td>19:15:06</td>      <th>  Df Model:          </th>      <td>1</td>    \n",
              "</tr>\n",
              "</table>\n",
              "<table class=\"simpletable\">\n",
              "<caption>Mean Model</caption>\n",
              "<tr>\n",
              "   <td></td>     <th>coef</th>     <th>std err</th>      <th>t</th>       <th>P>|t|</th>     <th>95.0% Conf. Int.</th>   \n",
              "</tr>\n",
              "<tr>\n",
              "  <th>mu</th> <td>1.1121e-03</td> <td>3.493e-04</td> <td>    3.183</td> <td>1.456e-03</td> <td>[4.274e-04,1.797e-03]</td>\n",
              "</tr>\n",
              "</table>\n",
              "<table class=\"simpletable\">\n",
              "<caption>Volatility Model</caption>\n",
              "<tr>\n",
              "      <td></td>        <th>coef</th>     <th>std err</th>      <th>t</th>       <th>P>|t|</th>     <th>95.0% Conf. Int.</th>   \n",
              "</tr>\n",
              "<tr>\n",
              "  <th>omega</th>    <td>3.6560e-05</td> <td>3.306e-06</td> <td>   11.059</td> <td>1.972e-28</td> <td>[3.008e-05,4.304e-05]</td>\n",
              "</tr>\n",
              "<tr>\n",
              "  <th>alpha[1]</th> <td>    0.2159</td> <td>8.189e-02</td> <td>    2.636</td> <td>8.393e-03</td>  <td>[5.535e-02,  0.376]</td> \n",
              "</tr>\n",
              "<tr>\n",
              "  <th>beta[1]</th>  <td>    0.6357</td> <td>5.411e-02</td> <td>   11.748</td> <td>7.243e-32</td>   <td>[  0.530,  0.742]</td>  \n",
              "</tr>\n",
              "</table><br/><br/>Covariance estimator: robust"
            ]
          },
          "metadata": {},
          "execution_count": 57
        }
      ],
      "source": [
        "res_cm.summary()"
      ]
    },
    {
      "cell_type": "markdown",
      "metadata": {
        "id": "JoXqY2FZNUQ2"
      },
      "source": [
        " Проверим остатки модели на наличие автокорреляции"
      ]
    },
    {
      "cell_type": "code",
      "execution_count": null,
      "metadata": {
        "colab": {
          "base_uri": "https://localhost:8080/",
          "height": 363
        },
        "id": "A1iPiNZoNUQ3",
        "outputId": "20de4d89-2605-45fd-f50a-12557ee2b9ba"
      },
      "outputs": [
        {
          "output_type": "execute_result",
          "data": {
            "text/plain": [
              "      lb_stat  lb_pvalue\n",
              "1    3.307514   0.068964\n",
              "2    5.147825   0.076237\n",
              "3    5.729123   0.125559\n",
              "4    7.031543   0.134231\n",
              "5   12.982473   0.023544\n",
              "6   13.954911   0.030144\n",
              "7   14.169999   0.048239\n",
              "8   25.147152   0.001468\n",
              "9   25.207227   0.002750\n",
              "10  27.632603   0.002066"
            ],
            "text/html": [
              "\n",
              "  <div id=\"df-047cf342-a6d2-4e80-bc9d-2b1dd7f390c9\">\n",
              "    <div class=\"colab-df-container\">\n",
              "      <div>\n",
              "<style scoped>\n",
              "    .dataframe tbody tr th:only-of-type {\n",
              "        vertical-align: middle;\n",
              "    }\n",
              "\n",
              "    .dataframe tbody tr th {\n",
              "        vertical-align: top;\n",
              "    }\n",
              "\n",
              "    .dataframe thead th {\n",
              "        text-align: right;\n",
              "    }\n",
              "</style>\n",
              "<table border=\"1\" class=\"dataframe\">\n",
              "  <thead>\n",
              "    <tr style=\"text-align: right;\">\n",
              "      <th></th>\n",
              "      <th>lb_stat</th>\n",
              "      <th>lb_pvalue</th>\n",
              "    </tr>\n",
              "  </thead>\n",
              "  <tbody>\n",
              "    <tr>\n",
              "      <th>1</th>\n",
              "      <td>3.307514</td>\n",
              "      <td>0.068964</td>\n",
              "    </tr>\n",
              "    <tr>\n",
              "      <th>2</th>\n",
              "      <td>5.147825</td>\n",
              "      <td>0.076237</td>\n",
              "    </tr>\n",
              "    <tr>\n",
              "      <th>3</th>\n",
              "      <td>5.729123</td>\n",
              "      <td>0.125559</td>\n",
              "    </tr>\n",
              "    <tr>\n",
              "      <th>4</th>\n",
              "      <td>7.031543</td>\n",
              "      <td>0.134231</td>\n",
              "    </tr>\n",
              "    <tr>\n",
              "      <th>5</th>\n",
              "      <td>12.982473</td>\n",
              "      <td>0.023544</td>\n",
              "    </tr>\n",
              "    <tr>\n",
              "      <th>6</th>\n",
              "      <td>13.954911</td>\n",
              "      <td>0.030144</td>\n",
              "    </tr>\n",
              "    <tr>\n",
              "      <th>7</th>\n",
              "      <td>14.169999</td>\n",
              "      <td>0.048239</td>\n",
              "    </tr>\n",
              "    <tr>\n",
              "      <th>8</th>\n",
              "      <td>25.147152</td>\n",
              "      <td>0.001468</td>\n",
              "    </tr>\n",
              "    <tr>\n",
              "      <th>9</th>\n",
              "      <td>25.207227</td>\n",
              "      <td>0.002750</td>\n",
              "    </tr>\n",
              "    <tr>\n",
              "      <th>10</th>\n",
              "      <td>27.632603</td>\n",
              "      <td>0.002066</td>\n",
              "    </tr>\n",
              "  </tbody>\n",
              "</table>\n",
              "</div>\n",
              "      <button class=\"colab-df-convert\" onclick=\"convertToInteractive('df-047cf342-a6d2-4e80-bc9d-2b1dd7f390c9')\"\n",
              "              title=\"Convert this dataframe to an interactive table.\"\n",
              "              style=\"display:none;\">\n",
              "        \n",
              "  <svg xmlns=\"http://www.w3.org/2000/svg\" height=\"24px\"viewBox=\"0 0 24 24\"\n",
              "       width=\"24px\">\n",
              "    <path d=\"M0 0h24v24H0V0z\" fill=\"none\"/>\n",
              "    <path d=\"M18.56 5.44l.94 2.06.94-2.06 2.06-.94-2.06-.94-.94-2.06-.94 2.06-2.06.94zm-11 1L8.5 8.5l.94-2.06 2.06-.94-2.06-.94L8.5 2.5l-.94 2.06-2.06.94zm10 10l.94 2.06.94-2.06 2.06-.94-2.06-.94-.94-2.06-.94 2.06-2.06.94z\"/><path d=\"M17.41 7.96l-1.37-1.37c-.4-.4-.92-.59-1.43-.59-.52 0-1.04.2-1.43.59L10.3 9.45l-7.72 7.72c-.78.78-.78 2.05 0 2.83L4 21.41c.39.39.9.59 1.41.59.51 0 1.02-.2 1.41-.59l7.78-7.78 2.81-2.81c.8-.78.8-2.07 0-2.86zM5.41 20L4 18.59l7.72-7.72 1.47 1.35L5.41 20z\"/>\n",
              "  </svg>\n",
              "      </button>\n",
              "      \n",
              "  <style>\n",
              "    .colab-df-container {\n",
              "      display:flex;\n",
              "      flex-wrap:wrap;\n",
              "      gap: 12px;\n",
              "    }\n",
              "\n",
              "    .colab-df-convert {\n",
              "      background-color: #E8F0FE;\n",
              "      border: none;\n",
              "      border-radius: 50%;\n",
              "      cursor: pointer;\n",
              "      display: none;\n",
              "      fill: #1967D2;\n",
              "      height: 32px;\n",
              "      padding: 0 0 0 0;\n",
              "      width: 32px;\n",
              "    }\n",
              "\n",
              "    .colab-df-convert:hover {\n",
              "      background-color: #E2EBFA;\n",
              "      box-shadow: 0px 1px 2px rgba(60, 64, 67, 0.3), 0px 1px 3px 1px rgba(60, 64, 67, 0.15);\n",
              "      fill: #174EA6;\n",
              "    }\n",
              "\n",
              "    [theme=dark] .colab-df-convert {\n",
              "      background-color: #3B4455;\n",
              "      fill: #D2E3FC;\n",
              "    }\n",
              "\n",
              "    [theme=dark] .colab-df-convert:hover {\n",
              "      background-color: #434B5C;\n",
              "      box-shadow: 0px 1px 3px 1px rgba(0, 0, 0, 0.15);\n",
              "      filter: drop-shadow(0px 1px 2px rgba(0, 0, 0, 0.3));\n",
              "      fill: #FFFFFF;\n",
              "    }\n",
              "  </style>\n",
              "\n",
              "      <script>\n",
              "        const buttonEl =\n",
              "          document.querySelector('#df-047cf342-a6d2-4e80-bc9d-2b1dd7f390c9 button.colab-df-convert');\n",
              "        buttonEl.style.display =\n",
              "          google.colab.kernel.accessAllowed ? 'block' : 'none';\n",
              "\n",
              "        async function convertToInteractive(key) {\n",
              "          const element = document.querySelector('#df-047cf342-a6d2-4e80-bc9d-2b1dd7f390c9');\n",
              "          const dataTable =\n",
              "            await google.colab.kernel.invokeFunction('convertToInteractive',\n",
              "                                                     [key], {});\n",
              "          if (!dataTable) return;\n",
              "\n",
              "          const docLinkHtml = 'Like what you see? Visit the ' +\n",
              "            '<a target=\"_blank\" href=https://colab.research.google.com/notebooks/data_table.ipynb>data table notebook</a>'\n",
              "            + ' to learn more about interactive tables.';\n",
              "          element.innerHTML = '';\n",
              "          dataTable['output_type'] = 'display_data';\n",
              "          await google.colab.output.renderOutput(dataTable, element);\n",
              "          const docLink = document.createElement('div');\n",
              "          docLink.innerHTML = docLinkHtml;\n",
              "          element.appendChild(docLink);\n",
              "        }\n",
              "      </script>\n",
              "    </div>\n",
              "  </div>\n",
              "  "
            ]
          },
          "metadata": {},
          "execution_count": 60
        }
      ],
      "source": [
        "test.acorr_ljungbox(res_cm.resid)[0:10]\n",
        "### значение и pvalue статистики Льюнга-Бокса"
      ]
    },
    {
      "cell_type": "code",
      "execution_count": null,
      "metadata": {
        "colab": {
          "base_uri": "https://localhost:8080/",
          "height": 397
        },
        "id": "2qre8vgpNUQ4",
        "outputId": "4dac732b-06ae-4530-ce5f-b92e1f9b9fdf"
      },
      "outputs": [
        {
          "output_type": "display_data",
          "data": {
            "text/plain": [
              "<Figure size 720x432 with 2 Axes>"
            ],
            "image/png": "[encoded data removed]"
          },
          "metadata": {}
        }
      ],
      "source": [
        "fig=res_cm.plot()"
      ]
    },
    {
      "cell_type": "markdown",
      "metadata": {
        "id": "Q5FrOzCWNUQ5"
      },
      "source": [
        " В первых лагах автокорреляция отсутсвует, однако  для более отдаленных лагов можно  отметить наличие внутренней зависимости. По этой причине однозначного вывода об адекватности модели сделать нельзя."
      ]
    },
    {
      "cell_type": "markdown",
      "metadata": {
        "collapsed": true,
        "id": "RS2odV3RNUQ6"
      },
      "source": [
        "##### Моделирование доходности - AR"
      ]
    },
    {
      "cell_type": "code",
      "execution_count": null,
      "metadata": {
        "id": "UfiT8etUNUQ6"
      },
      "outputs": [],
      "source": [
        "ar=ARX(msft['Log_ret_MSFT'],lags=[1]) # моделирование доходности с помощью процесса AR(1)"
      ]
    },
    {
      "cell_type": "code",
      "execution_count": null,
      "metadata": {
        "colab": {
          "base_uri": "https://localhost:8080/",
          "height": 398
        },
        "id": "EVy-aTaeNUQ7",
        "outputId": "a72aa011-0bd0-4f0c-b1c4-8f70ddc3a9bc"
      },
      "outputs": [
        {
          "output_type": "execute_result",
          "data": {
            "text/plain": [
              "<class 'statsmodels.iolib.summary.Summary'>\n",
              "\"\"\"\n",
              "                     AR - Constant Variance Model Results                     \n",
              "==============================================================================\n",
              "Dep. Variable:           Log_ret_MSFT   R-squared:                       0.003\n",
              "Mean Model:                        AR   Adj. R-squared:                  0.002\n",
              "Vol Model:          Constant Variance   Log-Likelihood:                3557.98\n",
              "Distribution:                  Normal   AIC:                          -7109.97\n",
              "Method:            Maximum Likelihood   BIC:                          -7094.56\n",
              "                                        No. Observations:                 1257\n",
              "Date:                Sun, Jun 19 2022   Df Residuals:                     1255\n",
              "Time:                        19:17:14   Df Model:                            2\n",
              "                                   Mean Model                                  \n",
              "===============================================================================\n",
              "                    coef    std err          t      P>|t|      95.0% Conf. Int.\n",
              "-------------------------------------------------------------------------------\n",
              "Const         9.4800e-04  4.089e-04      2.318  2.042e-02 [1.466e-04,1.749e-03]\n",
              "Log_...SFT[1]    -0.0516  4.076e-02     -1.265      0.206   [ -0.131,2.832e-02]\n",
              "                              Volatility Model                              \n",
              "============================================================================\n",
              "                 coef    std err          t      P>|t|      95.0% Conf. Int.\n",
              "----------------------------------------------------------------------------\n",
              "sigma2     2.0368e-04  1.758e-05     11.584  4.985e-31 [1.692e-04,2.381e-04]\n",
              "============================================================================\n",
              "\n",
              "Covariance estimator: White's Heteroskedasticity Consistent Estimator\n",
              "\"\"\""
            ],
            "text/html": [
              "<table class=\"simpletable\">\n",
              "<caption>AR - Constant Variance Model Results</caption>\n",
              "<tr>\n",
              "  <th>Dep. Variable:</th>    <td>Log_ret_MSFT</td>    <th>  R-squared:         </th>  <td>   0.003</td> \n",
              "</tr>\n",
              "<tr>\n",
              "  <th>Mean Model:</th>            <td>AR</td>         <th>  Adj. R-squared:    </th>  <td>   0.002</td> \n",
              "</tr>\n",
              "<tr>\n",
              "  <th>Vol Model:</th>      <td>Constant Variance</td> <th>  Log-Likelihood:    </th> <td>   3557.98</td>\n",
              "</tr>\n",
              "<tr>\n",
              "  <th>Distribution:</th>        <td>Normal</td>       <th>  AIC:               </th> <td>  -7109.97</td>\n",
              "</tr>\n",
              "<tr>\n",
              "  <th>Method:</th>        <td>Maximum Likelihood</td> <th>  BIC:               </th> <td>  -7094.56</td>\n",
              "</tr>\n",
              "<tr>\n",
              "  <th></th>                        <td></td>          <th>  No. Observations:  </th>    <td>1257</td>   \n",
              "</tr>\n",
              "<tr>\n",
              "  <th>Date:</th>           <td>Sun, Jun 19 2022</td>  <th>  Df Residuals:      </th>    <td>1255</td>   \n",
              "</tr>\n",
              "<tr>\n",
              "  <th>Time:</th>               <td>19:17:14</td>      <th>  Df Model:          </th>      <td>2</td>    \n",
              "</tr>\n",
              "</table>\n",
              "<table class=\"simpletable\">\n",
              "<caption>Mean Model</caption>\n",
              "<tr>\n",
              "        <td></td>           <th>coef</th>     <th>std err</th>      <th>t</th>       <th>P>|t|</th>     <th>95.0% Conf. Int.</th>   \n",
              "</tr>\n",
              "<tr>\n",
              "  <th>Const</th>         <td>9.4800e-04</td> <td>4.089e-04</td> <td>    2.318</td> <td>2.042e-02</td> <td>[1.466e-04,1.749e-03]</td>\n",
              "</tr>\n",
              "<tr>\n",
              "  <th>Log_...SFT[1]</th> <td>   -0.0516</td> <td>4.076e-02</td> <td>   -1.265</td> <td>    0.206</td>  <td>[ -0.131,2.832e-02]</td> \n",
              "</tr>\n",
              "</table>\n",
              "<table class=\"simpletable\">\n",
              "<caption>Volatility Model</caption>\n",
              "<tr>\n",
              "     <td></td>       <th>coef</th>     <th>std err</th>      <th>t</th>       <th>P>|t|</th>     <th>95.0% Conf. Int.</th>   \n",
              "</tr>\n",
              "<tr>\n",
              "  <th>sigma2</th> <td>2.0368e-04</td> <td>1.758e-05</td> <td>   11.584</td> <td>4.985e-31</td> <td>[1.692e-04,2.381e-04]</td>\n",
              "</tr>\n",
              "</table><br/><br/>Covariance estimator: White's Heteroskedasticity Consistent Estimator"
            ]
          },
          "metadata": {},
          "execution_count": 63
        }
      ],
      "source": [
        "ar.fit().summary()"
      ]
    },
    {
      "cell_type": "code",
      "execution_count": null,
      "metadata": {
        "id": "QFlRPnzUNUQ7"
      },
      "outputs": [],
      "source": [
        "ar.volatility=GARCH(p=1,q=1)"
      ]
    },
    {
      "cell_type": "code",
      "execution_count": null,
      "metadata": {
        "id": "3Cwjd6RdNUQ8"
      },
      "outputs": [],
      "source": [
        "res_ar = ar.fit(update_freq=0, disp='off')"
      ]
    },
    {
      "cell_type": "code",
      "execution_count": null,
      "metadata": {
        "colab": {
          "base_uri": "https://localhost:8080/",
          "height": 440
        },
        "id": "PFvxzVRCNURG",
        "outputId": "34c63de9-2da2-441f-e809-cf1155b5d95b"
      },
      "outputs": [
        {
          "output_type": "execute_result",
          "data": {
            "text/plain": [
              "<class 'statsmodels.iolib.summary.Summary'>\n",
              "\"\"\"\n",
              "                           AR - GARCH Model Results                           \n",
              "==============================================================================\n",
              "Dep. Variable:           Log_ret_MSFT   R-squared:                       0.002\n",
              "Mean Model:                        AR   Adj. R-squared:                  0.001\n",
              "Vol Model:                      GARCH   Log-Likelihood:                3613.30\n",
              "Distribution:                  Normal   AIC:                          -7216.60\n",
              "Method:            Maximum Likelihood   BIC:                          -7190.91\n",
              "                                        No. Observations:                 1257\n",
              "Date:                Sun, Jun 19 2022   Df Residuals:                     1255\n",
              "Time:                        19:17:19   Df Model:                            2\n",
              "                                   Mean Model                                  \n",
              "===============================================================================\n",
              "                    coef    std err          t      P>|t|      95.0% Conf. Int.\n",
              "-------------------------------------------------------------------------------\n",
              "Const         1.1358e-03  3.569e-04      3.182  1.462e-03 [4.362e-04,1.835e-03]\n",
              "Log_...SFT[1]    -0.0225  4.902e-02     -0.459      0.646   [ -0.119,7.357e-02]\n",
              "                              Volatility Model                              \n",
              "============================================================================\n",
              "                 coef    std err          t      P>|t|      95.0% Conf. Int.\n",
              "----------------------------------------------------------------------------\n",
              "omega      3.6370e-05  3.214e-06     11.315  1.103e-29 [3.007e-05,4.267e-05]\n",
              "alpha[1]       0.2103  8.600e-02      2.446  1.446e-02   [4.177e-02,  0.379]\n",
              "beta[1]        0.6405  5.497e-02     11.652  2.248e-31     [  0.533,  0.748]\n",
              "============================================================================\n",
              "\n",
              "Covariance estimator: robust\n",
              "\"\"\""
            ],
            "text/html": [
              "<table class=\"simpletable\">\n",
              "<caption>AR - GARCH Model Results</caption>\n",
              "<tr>\n",
              "  <th>Dep. Variable:</th>    <td>Log_ret_MSFT</td>    <th>  R-squared:         </th>  <td>   0.002</td> \n",
              "</tr>\n",
              "<tr>\n",
              "  <th>Mean Model:</th>            <td>AR</td>         <th>  Adj. R-squared:    </th>  <td>   0.001</td> \n",
              "</tr>\n",
              "<tr>\n",
              "  <th>Vol Model:</th>            <td>GARCH</td>       <th>  Log-Likelihood:    </th> <td>   3613.30</td>\n",
              "</tr>\n",
              "<tr>\n",
              "  <th>Distribution:</th>        <td>Normal</td>       <th>  AIC:               </th> <td>  -7216.60</td>\n",
              "</tr>\n",
              "<tr>\n",
              "  <th>Method:</th>        <td>Maximum Likelihood</td> <th>  BIC:               </th> <td>  -7190.91</td>\n",
              "</tr>\n",
              "<tr>\n",
              "  <th></th>                        <td></td>          <th>  No. Observations:  </th>    <td>1257</td>   \n",
              "</tr>\n",
              "<tr>\n",
              "  <th>Date:</th>           <td>Sun, Jun 19 2022</td>  <th>  Df Residuals:      </th>    <td>1255</td>   \n",
              "</tr>\n",
              "<tr>\n",
              "  <th>Time:</th>               <td>19:17:19</td>      <th>  Df Model:          </th>      <td>2</td>    \n",
              "</tr>\n",
              "</table>\n",
              "<table class=\"simpletable\">\n",
              "<caption>Mean Model</caption>\n",
              "<tr>\n",
              "        <td></td>           <th>coef</th>     <th>std err</th>      <th>t</th>       <th>P>|t|</th>     <th>95.0% Conf. Int.</th>   \n",
              "</tr>\n",
              "<tr>\n",
              "  <th>Const</th>         <td>1.1358e-03</td> <td>3.569e-04</td> <td>    3.182</td> <td>1.462e-03</td> <td>[4.362e-04,1.835e-03]</td>\n",
              "</tr>\n",
              "<tr>\n",
              "  <th>Log_...SFT[1]</th> <td>   -0.0225</td> <td>4.902e-02</td> <td>   -0.459</td> <td>    0.646</td>  <td>[ -0.119,7.357e-02]</td> \n",
              "</tr>\n",
              "</table>\n",
              "<table class=\"simpletable\">\n",
              "<caption>Volatility Model</caption>\n",
              "<tr>\n",
              "      <td></td>        <th>coef</th>     <th>std err</th>      <th>t</th>       <th>P>|t|</th>     <th>95.0% Conf. Int.</th>   \n",
              "</tr>\n",
              "<tr>\n",
              "  <th>omega</th>    <td>3.6370e-05</td> <td>3.214e-06</td> <td>   11.315</td> <td>1.103e-29</td> <td>[3.007e-05,4.267e-05]</td>\n",
              "</tr>\n",
              "<tr>\n",
              "  <th>alpha[1]</th> <td>    0.2103</td> <td>8.600e-02</td> <td>    2.446</td> <td>1.446e-02</td>  <td>[4.177e-02,  0.379]</td> \n",
              "</tr>\n",
              "<tr>\n",
              "  <th>beta[1]</th>  <td>    0.6405</td> <td>5.497e-02</td> <td>   11.652</td> <td>2.248e-31</td>   <td>[  0.533,  0.748]</td>  \n",
              "</tr>\n",
              "</table><br/><br/>Covariance estimator: robust"
            ]
          },
          "metadata": {},
          "execution_count": 66
        }
      ],
      "source": [
        "res_ar.summary()"
      ]
    },
    {
      "cell_type": "markdown",
      "metadata": {
        "id": "TWdigTJBNURH"
      },
      "source": [
        "#####  Проверим остатки модели на наличие автокорреляции"
      ]
    },
    {
      "cell_type": "code",
      "execution_count": null,
      "metadata": {
        "colab": {
          "base_uri": "https://localhost:8080/",
          "height": 363
        },
        "id": "pjUt99l6NURH",
        "outputId": "1907fef8-2c4b-4c8c-d5f5-c48da6db5057"
      },
      "outputs": [
        {
          "output_type": "execute_result",
          "data": {
            "text/plain": [
              "      lb_stat  lb_pvalue\n",
              "1    1.191980   0.274931\n",
              "2    3.181947   0.203727\n",
              "3    3.628613   0.304461\n",
              "4    5.001623   0.287131\n",
              "5   11.347945   0.044901\n",
              "6   12.416852   0.053290\n",
              "7   12.539232   0.084163\n",
              "8   23.333785   0.002961\n",
              "9   23.420254   0.005318\n",
              "10  25.903015   0.003873"
            ],
            "text/html": [
              "\n",
              "  <div id=\"df-b319e69e-aa57-42d5-a671-5809ed7c941d\">\n",
              "    <div class=\"colab-df-container\">\n",
              "      <div>\n",
              "<style scoped>\n",
              "    .dataframe tbody tr th:only-of-type {\n",
              "        vertical-align: middle;\n",
              "    }\n",
              "\n",
              "    .dataframe tbody tr th {\n",
              "        vertical-align: top;\n",
              "    }\n",
              "\n",
              "    .dataframe thead th {\n",
              "        text-align: right;\n",
              "    }\n",
              "</style>\n",
              "<table border=\"1\" class=\"dataframe\">\n",
              "  <thead>\n",
              "    <tr style=\"text-align: right;\">\n",
              "      <th></th>\n",
              "      <th>lb_stat</th>\n",
              "      <th>lb_pvalue</th>\n",
              "    </tr>\n",
              "  </thead>\n",
              "  <tbody>\n",
              "    <tr>\n",
              "      <th>1</th>\n",
              "      <td>1.191980</td>\n",
              "      <td>0.274931</td>\n",
              "    </tr>\n",
              "    <tr>\n",
              "      <th>2</th>\n",
              "      <td>3.181947</td>\n",
              "      <td>0.203727</td>\n",
              "    </tr>\n",
              "    <tr>\n",
              "      <th>3</th>\n",
              "      <td>3.628613</td>\n",
              "      <td>0.304461</td>\n",
              "    </tr>\n",
              "    <tr>\n",
              "      <th>4</th>\n",
              "      <td>5.001623</td>\n",
              "      <td>0.287131</td>\n",
              "    </tr>\n",
              "    <tr>\n",
              "      <th>5</th>\n",
              "      <td>11.347945</td>\n",
              "      <td>0.044901</td>\n",
              "    </tr>\n",
              "    <tr>\n",
              "      <th>6</th>\n",
              "      <td>12.416852</td>\n",
              "      <td>0.053290</td>\n",
              "    </tr>\n",
              "    <tr>\n",
              "      <th>7</th>\n",
              "      <td>12.539232</td>\n",
              "      <td>0.084163</td>\n",
              "    </tr>\n",
              "    <tr>\n",
              "      <th>8</th>\n",
              "      <td>23.333785</td>\n",
              "      <td>0.002961</td>\n",
              "    </tr>\n",
              "    <tr>\n",
              "      <th>9</th>\n",
              "      <td>23.420254</td>\n",
              "      <td>0.005318</td>\n",
              "    </tr>\n",
              "    <tr>\n",
              "      <th>10</th>\n",
              "      <td>25.903015</td>\n",
              "      <td>0.003873</td>\n",
              "    </tr>\n",
              "  </tbody>\n",
              "</table>\n",
              "</div>\n",
              "      <button class=\"colab-df-convert\" onclick=\"convertToInteractive('df-b319e69e-aa57-42d5-a671-5809ed7c941d')\"\n",
              "              title=\"Convert this dataframe to an interactive table.\"\n",
              "              style=\"display:none;\">\n",
              "        \n",
              "  <svg xmlns=\"http://www.w3.org/2000/svg\" height=\"24px\"viewBox=\"0 0 24 24\"\n",
              "       width=\"24px\">\n",
              "    <path d=\"M0 0h24v24H0V0z\" fill=\"none\"/>\n",
              "    <path d=\"M18.56 5.44l.94 2.06.94-2.06 2.06-.94-2.06-.94-.94-2.06-.94 2.06-2.06.94zm-11 1L8.5 8.5l.94-2.06 2.06-.94-2.06-.94L8.5 2.5l-.94 2.06-2.06.94zm10 10l.94 2.06.94-2.06 2.06-.94-2.06-.94-.94-2.06-.94 2.06-2.06.94z\"/><path d=\"M17.41 7.96l-1.37-1.37c-.4-.4-.92-.59-1.43-.59-.52 0-1.04.2-1.43.59L10.3 9.45l-7.72 7.72c-.78.78-.78 2.05 0 2.83L4 21.41c.39.39.9.59 1.41.59.51 0 1.02-.2 1.41-.59l7.78-7.78 2.81-2.81c.8-.78.8-2.07 0-2.86zM5.41 20L4 18.59l7.72-7.72 1.47 1.35L5.41 20z\"/>\n",
              "  </svg>\n",
              "      </button>\n",
              "      \n",
              "  <style>\n",
              "    .colab-df-container {\n",
              "      display:flex;\n",
              "      flex-wrap:wrap;\n",
              "      gap: 12px;\n",
              "    }\n",
              "\n",
              "    .colab-df-convert {\n",
              "      background-color: #E8F0FE;\n",
              "      border: none;\n",
              "      border-radius: 50%;\n",
              "      cursor: pointer;\n",
              "      display: none;\n",
              "      fill: #1967D2;\n",
              "      height: 32px;\n",
              "      padding: 0 0 0 0;\n",
              "      width: 32px;\n",
              "    }\n",
              "\n",
              "    .colab-df-convert:hover {\n",
              "      background-color: #E2EBFA;\n",
              "      box-shadow: 0px 1px 2px rgba(60, 64, 67, 0.3), 0px 1px 3px 1px rgba(60, 64, 67, 0.15);\n",
              "      fill: #174EA6;\n",
              "    }\n",
              "\n",
              "    [theme=dark] .colab-df-convert {\n",
              "      background-color: #3B4455;\n",
              "      fill: #D2E3FC;\n",
              "    }\n",
              "\n",
              "    [theme=dark] .colab-df-convert:hover {\n",
              "      background-color: #434B5C;\n",
              "      box-shadow: 0px 1px 3px 1px rgba(0, 0, 0, 0.15);\n",
              "      filter: drop-shadow(0px 1px 2px rgba(0, 0, 0, 0.3));\n",
              "      fill: #FFFFFF;\n",
              "    }\n",
              "  </style>\n",
              "\n",
              "      <script>\n",
              "        const buttonEl =\n",
              "          document.querySelector('#df-b319e69e-aa57-42d5-a671-5809ed7c941d button.colab-df-convert');\n",
              "        buttonEl.style.display =\n",
              "          google.colab.kernel.accessAllowed ? 'block' : 'none';\n",
              "\n",
              "        async function convertToInteractive(key) {\n",
              "          const element = document.querySelector('#df-b319e69e-aa57-42d5-a671-5809ed7c941d');\n",
              "          const dataTable =\n",
              "            await google.colab.kernel.invokeFunction('convertToInteractive',\n",
              "                                                     [key], {});\n",
              "          if (!dataTable) return;\n",
              "\n",
              "          const docLinkHtml = 'Like what you see? Visit the ' +\n",
              "            '<a target=\"_blank\" href=https://colab.research.google.com/notebooks/data_table.ipynb>data table notebook</a>'\n",
              "            + ' to learn more about interactive tables.';\n",
              "          element.innerHTML = '';\n",
              "          dataTable['output_type'] = 'display_data';\n",
              "          await google.colab.output.renderOutput(dataTable, element);\n",
              "          const docLink = document.createElement('div');\n",
              "          docLink.innerHTML = docLinkHtml;\n",
              "          element.appendChild(docLink);\n",
              "        }\n",
              "      </script>\n",
              "    </div>\n",
              "  </div>\n",
              "  "
            ]
          },
          "metadata": {},
          "execution_count": 68
        }
      ],
      "source": [
        "test.acorr_ljungbox(res_ar.resid.dropna())[0:10]\n",
        "###  pvalue статистики Льюнга-Бокса"
      ]
    },
    {
      "cell_type": "markdown",
      "metadata": {
        "id": "sgteV5dxNURI"
      },
      "source": [
        " В первых лагах автокорреляция отсутсвует, однако  для более отдаленных лагов можно  отметить наличие внутренней зависимости. По этой причине однозначного вывода об адекватности модели сделать нельзя."
      ]
    },
    {
      "cell_type": "markdown",
      "metadata": {
        "id": "VHDTJ9UWNURI"
      },
      "source": [
        "##### Расчет безусловной волатильности и устойчивости (persistence) возмущения"
      ]
    },
    {
      "cell_type": "code",
      "execution_count": null,
      "metadata": {
        "colab": {
          "base_uri": "https://localhost:8080/"
        },
        "id": "2DWwqh8uNURJ",
        "outputId": "1a4a39fc-8d19-4cff-b43c-4161401e1643"
      },
      "outputs": [
        {
          "output_type": "execute_result",
          "data": {
            "text/plain": [
              "mu          0.001112\n",
              "omega       0.000037\n",
              "alpha[1]    0.215851\n",
              "beta[1]     0.635674\n",
              "Name: params, dtype: float64"
            ]
          },
          "metadata": {},
          "execution_count": 69
        }
      ],
      "source": [
        "res_cm.params"
      ]
    },
    {
      "cell_type": "code",
      "execution_count": null,
      "metadata": {
        "colab": {
          "base_uri": "https://localhost:8080/"
        },
        "id": "SnU8BLhsNURK",
        "outputId": "5fdb68ca-2926-4e81-8e95-f9421efa2f3b"
      },
      "outputs": [
        {
          "output_type": "execute_result",
          "data": {
            "text/plain": [
              "0.00024623697334556945"
            ]
          },
          "metadata": {},
          "execution_count": 70
        }
      ],
      "source": [
        "res_cm.params[1]/(1-res_cm.params[2]-res_cm.params[3]) "
      ]
    },
    {
      "cell_type": "code",
      "execution_count": null,
      "metadata": {
        "colab": {
          "base_uri": "https://localhost:8080/"
        },
        "id": "6fY4GWrcNURL",
        "outputId": "41ad621c-639d-4228-d334-1da488f3bb04"
      },
      "outputs": [
        {
          "output_type": "execute_result",
          "data": {
            "text/plain": [
              "0.8515245164167151"
            ]
          },
          "metadata": {},
          "execution_count": 71
        }
      ],
      "source": [
        "res_cm.params[2]+res_cm.params[3]"
      ]
    },
    {
      "cell_type": "markdown",
      "metadata": {
        "collapsed": true,
        "id": "FbaoXRp8NURM"
      },
      "source": [
        "#### 3.2. Модель по остаткам ARIMA "
      ]
    },
    {
      "cell_type": "code",
      "execution_count": null,
      "metadata": {
        "id": "07u2vX12NURM"
      },
      "outputs": [],
      "source": [
        "cm_1=ConstantMean(results_1.resid) # модель постоянной средней"
      ]
    },
    {
      "cell_type": "code",
      "execution_count": null,
      "metadata": {
        "colab": {
          "base_uri": "https://localhost:8080/",
          "height": 377
        },
        "id": "8NBLrbb6NURN",
        "outputId": "73aac0ef-484a-48ff-d8c8-e03d43c8143e"
      },
      "outputs": [
        {
          "output_type": "execute_result",
          "data": {
            "text/plain": [
              "<class 'statsmodels.iolib.summary.Summary'>\n",
              "\"\"\"\n",
              "               Constant Mean - Constant Variance Model Results                \n",
              "==============================================================================\n",
              "Dep. Variable:                   None   R-squared:                       0.000\n",
              "Mean Model:             Constant Mean   Adj. R-squared:                  0.000\n",
              "Vol Model:          Constant Variance   Log-Likelihood:                1109.06\n",
              "Distribution:                  Normal   AIC:                          -2214.11\n",
              "Method:            Maximum Likelihood   BIC:                          -2203.84\n",
              "                                        No. Observations:                 1258\n",
              "Date:                Sun, Jun 19 2022   Df Residuals:                     1257\n",
              "Time:                        19:24:54   Df Model:                            1\n",
              "                                  Mean Model                                 \n",
              "=============================================================================\n",
              "                 coef    std err          t      P>|t|       95.0% Conf. Int.\n",
              "-----------------------------------------------------------------------------\n",
              "mu         3.7638e-03  2.825e-03      1.332      0.183 [-1.773e-03,9.301e-03]\n",
              "                               Volatility Model                              \n",
              "=============================================================================\n",
              "                 coef    std err          t      P>|t|       95.0% Conf. Int.\n",
              "-----------------------------------------------------------------------------\n",
              "sigma2         0.0100  9.826e-03      1.022      0.307 [-9.217e-03,2.930e-02]\n",
              "=============================================================================\n",
              "\n",
              "Covariance estimator: White's Heteroskedasticity Consistent Estimator\n",
              "\"\"\""
            ],
            "text/html": [
              "<table class=\"simpletable\">\n",
              "<caption>Constant Mean - Constant Variance Model Results</caption>\n",
              "<tr>\n",
              "  <th>Dep. Variable:</th>        <td>None</td>        <th>  R-squared:         </th>  <td>   0.000</td> \n",
              "</tr>\n",
              "<tr>\n",
              "  <th>Mean Model:</th>       <td>Constant Mean</td>   <th>  Adj. R-squared:    </th>  <td>   0.000</td> \n",
              "</tr>\n",
              "<tr>\n",
              "  <th>Vol Model:</th>      <td>Constant Variance</td> <th>  Log-Likelihood:    </th> <td>   1109.06</td>\n",
              "</tr>\n",
              "<tr>\n",
              "  <th>Distribution:</th>        <td>Normal</td>       <th>  AIC:               </th> <td>  -2214.11</td>\n",
              "</tr>\n",
              "<tr>\n",
              "  <th>Method:</th>        <td>Maximum Likelihood</td> <th>  BIC:               </th> <td>  -2203.84</td>\n",
              "</tr>\n",
              "<tr>\n",
              "  <th></th>                        <td></td>          <th>  No. Observations:  </th>    <td>1258</td>   \n",
              "</tr>\n",
              "<tr>\n",
              "  <th>Date:</th>           <td>Sun, Jun 19 2022</td>  <th>  Df Residuals:      </th>    <td>1257</td>   \n",
              "</tr>\n",
              "<tr>\n",
              "  <th>Time:</th>               <td>19:24:54</td>      <th>  Df Model:          </th>      <td>1</td>    \n",
              "</tr>\n",
              "</table>\n",
              "<table class=\"simpletable\">\n",
              "<caption>Mean Model</caption>\n",
              "<tr>\n",
              "   <td></td>     <th>coef</th>     <th>std err</th>      <th>t</th>       <th>P>|t|</th>      <th>95.0% Conf. Int.</th>   \n",
              "</tr>\n",
              "<tr>\n",
              "  <th>mu</th> <td>3.7638e-03</td> <td>2.825e-03</td> <td>    1.332</td> <td>    0.183</td> <td>[-1.773e-03,9.301e-03]</td>\n",
              "</tr>\n",
              "</table>\n",
              "<table class=\"simpletable\">\n",
              "<caption>Volatility Model</caption>\n",
              "<tr>\n",
              "     <td></td>       <th>coef</th>     <th>std err</th>      <th>t</th>       <th>P>|t|</th>      <th>95.0% Conf. Int.</th>   \n",
              "</tr>\n",
              "<tr>\n",
              "  <th>sigma2</th> <td>    0.0100</td> <td>9.826e-03</td> <td>    1.022</td> <td>    0.307</td> <td>[-9.217e-03,2.930e-02]</td>\n",
              "</tr>\n",
              "</table><br/><br/>Covariance estimator: White's Heteroskedasticity Consistent Estimator"
            ]
          },
          "metadata": {},
          "execution_count": 75
        }
      ],
      "source": [
        "cm_1.fit().summary()"
      ]
    },
    {
      "cell_type": "code",
      "execution_count": null,
      "metadata": {
        "id": "fbPgmCGVNURN"
      },
      "outputs": [],
      "source": [
        "cm_1.volatility=GARCH(p=1,q=1)"
      ]
    },
    {
      "cell_type": "code",
      "execution_count": null,
      "metadata": {
        "id": "ZlF9TyavNURO"
      },
      "outputs": [],
      "source": [
        "res_cm_1 = cm_1.fit(update_freq=0, disp='off')"
      ]
    },
    {
      "cell_type": "code",
      "execution_count": null,
      "metadata": {
        "colab": {
          "base_uri": "https://localhost:8080/",
          "height": 419
        },
        "id": "O-Es1NiGNURO",
        "outputId": "0f88935b-b9e0-4044-8af9-a2d3cfdbca91"
      },
      "outputs": [
        {
          "output_type": "execute_result",
          "data": {
            "text/plain": [
              "<class 'statsmodels.iolib.summary.Summary'>\n",
              "\"\"\"\n",
              "                     Constant Mean - GARCH Model Results                      \n",
              "==============================================================================\n",
              "Dep. Variable:                   None   R-squared:                       0.000\n",
              "Mean Model:             Constant Mean   Adj. R-squared:                  0.000\n",
              "Vol Model:                      GARCH   Log-Likelihood:                936.937\n",
              "Distribution:                  Normal   AIC:                          -1865.87\n",
              "Method:            Maximum Likelihood   BIC:                          -1845.32\n",
              "                                        No. Observations:                 1258\n",
              "Date:                Sun, Jun 19 2022   Df Residuals:                     1257\n",
              "Time:                        19:24:56   Df Model:                            1\n",
              "                                  Mean Model                                  \n",
              "==============================================================================\n",
              "                  coef    std err          t      P>|t|       95.0% Conf. Int.\n",
              "------------------------------------------------------------------------------\n",
              "mu         -9.0402e-03  7.389e-03     -1.223      0.221 [-2.352e-02,5.443e-03]\n",
              "                              Volatility Model                              \n",
              "============================================================================\n",
              "                 coef    std err          t      P>|t|      95.0% Conf. Int.\n",
              "----------------------------------------------------------------------------\n",
              "omega          0.0241  1.177e-04    204.340      0.000 [2.383e-02,2.429e-02]\n",
              "alpha[1]       0.6018      0.952      0.632      0.527     [ -1.264,  2.467]\n",
              "beta[1]        0.2982  1.693e-02     17.608  2.121e-69     [  0.265,  0.331]\n",
              "============================================================================\n",
              "\n",
              "Covariance estimator: robust\n",
              "\"\"\""
            ],
            "text/html": [
              "<table class=\"simpletable\">\n",
              "<caption>Constant Mean - GARCH Model Results</caption>\n",
              "<tr>\n",
              "  <th>Dep. Variable:</th>        <td>None</td>        <th>  R-squared:         </th>  <td>   0.000</td> \n",
              "</tr>\n",
              "<tr>\n",
              "  <th>Mean Model:</th>       <td>Constant Mean</td>   <th>  Adj. R-squared:    </th>  <td>   0.000</td> \n",
              "</tr>\n",
              "<tr>\n",
              "  <th>Vol Model:</th>            <td>GARCH</td>       <th>  Log-Likelihood:    </th> <td>   936.937</td>\n",
              "</tr>\n",
              "<tr>\n",
              "  <th>Distribution:</th>        <td>Normal</td>       <th>  AIC:               </th> <td>  -1865.87</td>\n",
              "</tr>\n",
              "<tr>\n",
              "  <th>Method:</th>        <td>Maximum Likelihood</td> <th>  BIC:               </th> <td>  -1845.32</td>\n",
              "</tr>\n",
              "<tr>\n",
              "  <th></th>                        <td></td>          <th>  No. Observations:  </th>    <td>1258</td>   \n",
              "</tr>\n",
              "<tr>\n",
              "  <th>Date:</th>           <td>Sun, Jun 19 2022</td>  <th>  Df Residuals:      </th>    <td>1257</td>   \n",
              "</tr>\n",
              "<tr>\n",
              "  <th>Time:</th>               <td>19:24:56</td>      <th>  Df Model:          </th>      <td>1</td>    \n",
              "</tr>\n",
              "</table>\n",
              "<table class=\"simpletable\">\n",
              "<caption>Mean Model</caption>\n",
              "<tr>\n",
              "   <td></td>     <th>coef</th>      <th>std err</th>      <th>t</th>       <th>P>|t|</th>      <th>95.0% Conf. Int.</th>   \n",
              "</tr>\n",
              "<tr>\n",
              "  <th>mu</th> <td>-9.0402e-03</td> <td>7.389e-03</td> <td>   -1.223</td> <td>    0.221</td> <td>[-2.352e-02,5.443e-03]</td>\n",
              "</tr>\n",
              "</table>\n",
              "<table class=\"simpletable\">\n",
              "<caption>Volatility Model</caption>\n",
              "<tr>\n",
              "      <td></td>        <th>coef</th>     <th>std err</th>      <th>t</th>       <th>P>|t|</th>     <th>95.0% Conf. Int.</th>   \n",
              "</tr>\n",
              "<tr>\n",
              "  <th>omega</th>    <td>    0.0241</td> <td>1.177e-04</td> <td>  204.340</td>   <td>0.000</td>   <td>[2.383e-02,2.429e-02]</td>\n",
              "</tr>\n",
              "<tr>\n",
              "  <th>alpha[1]</th> <td>    0.6018</td> <td>    0.952</td> <td>    0.632</td> <td>    0.527</td>   <td>[ -1.264,  2.467]</td>  \n",
              "</tr>\n",
              "<tr>\n",
              "  <th>beta[1]</th>  <td>    0.2982</td> <td>1.693e-02</td> <td>   17.608</td> <td>2.121e-69</td>   <td>[  0.265,  0.331]</td>  \n",
              "</tr>\n",
              "</table><br/><br/>Covariance estimator: robust"
            ]
          },
          "metadata": {},
          "execution_count": 78
        }
      ],
      "source": [
        "res_cm_1.summary()"
      ]
    },
    {
      "cell_type": "code",
      "execution_count": null,
      "metadata": {
        "colab": {
          "base_uri": "https://localhost:8080/",
          "height": 363
        },
        "id": "26rOl0n3NURP",
        "outputId": "ebbbeeca-09c1-4b3a-9fb3-000b4b987837"
      },
      "outputs": [
        {
          "output_type": "execute_result",
          "data": {
            "text/plain": [
              "     lb_stat  lb_pvalue\n",
              "1   0.020645   0.885750\n",
              "2   0.040067   0.980166\n",
              "3   0.061348   0.996032\n",
              "4   0.061434   0.999538\n",
              "5   0.087844   0.999882\n",
              "6   0.088362   0.999986\n",
              "7   0.097734   0.999998\n",
              "8   0.102303   1.000000\n",
              "9   0.105838   1.000000\n",
              "10  0.126553   1.000000"
            ],
            "text/html": [
              "\n",
              "  <div id=\"df-59bbbdc4-10b5-48d7-99b1-02d8a3d09697\">\n",
              "    <div class=\"colab-df-container\">\n",
              "      <div>\n",
              "<style scoped>\n",
              "    .dataframe tbody tr th:only-of-type {\n",
              "        vertical-align: middle;\n",
              "    }\n",
              "\n",
              "    .dataframe tbody tr th {\n",
              "        vertical-align: top;\n",
              "    }\n",
              "\n",
              "    .dataframe thead th {\n",
              "        text-align: right;\n",
              "    }\n",
              "</style>\n",
              "<table border=\"1\" class=\"dataframe\">\n",
              "  <thead>\n",
              "    <tr style=\"text-align: right;\">\n",
              "      <th></th>\n",
              "      <th>lb_stat</th>\n",
              "      <th>lb_pvalue</th>\n",
              "    </tr>\n",
              "  </thead>\n",
              "  <tbody>\n",
              "    <tr>\n",
              "      <th>1</th>\n",
              "      <td>0.020645</td>\n",
              "      <td>0.885750</td>\n",
              "    </tr>\n",
              "    <tr>\n",
              "      <th>2</th>\n",
              "      <td>0.040067</td>\n",
              "      <td>0.980166</td>\n",
              "    </tr>\n",
              "    <tr>\n",
              "      <th>3</th>\n",
              "      <td>0.061348</td>\n",
              "      <td>0.996032</td>\n",
              "    </tr>\n",
              "    <tr>\n",
              "      <th>4</th>\n",
              "      <td>0.061434</td>\n",
              "      <td>0.999538</td>\n",
              "    </tr>\n",
              "    <tr>\n",
              "      <th>5</th>\n",
              "      <td>0.087844</td>\n",
              "      <td>0.999882</td>\n",
              "    </tr>\n",
              "    <tr>\n",
              "      <th>6</th>\n",
              "      <td>0.088362</td>\n",
              "      <td>0.999986</td>\n",
              "    </tr>\n",
              "    <tr>\n",
              "      <th>7</th>\n",
              "      <td>0.097734</td>\n",
              "      <td>0.999998</td>\n",
              "    </tr>\n",
              "    <tr>\n",
              "      <th>8</th>\n",
              "      <td>0.102303</td>\n",
              "      <td>1.000000</td>\n",
              "    </tr>\n",
              "    <tr>\n",
              "      <th>9</th>\n",
              "      <td>0.105838</td>\n",
              "      <td>1.000000</td>\n",
              "    </tr>\n",
              "    <tr>\n",
              "      <th>10</th>\n",
              "      <td>0.126553</td>\n",
              "      <td>1.000000</td>\n",
              "    </tr>\n",
              "  </tbody>\n",
              "</table>\n",
              "</div>\n",
              "      <button class=\"colab-df-convert\" onclick=\"convertToInteractive('df-59bbbdc4-10b5-48d7-99b1-02d8a3d09697')\"\n",
              "              title=\"Convert this dataframe to an interactive table.\"\n",
              "              style=\"display:none;\">\n",
              "        \n",
              "  <svg xmlns=\"http://www.w3.org/2000/svg\" height=\"24px\"viewBox=\"0 0 24 24\"\n",
              "       width=\"24px\">\n",
              "    <path d=\"M0 0h24v24H0V0z\" fill=\"none\"/>\n",
              "    <path d=\"M18.56 5.44l.94 2.06.94-2.06 2.06-.94-2.06-.94-.94-2.06-.94 2.06-2.06.94zm-11 1L8.5 8.5l.94-2.06 2.06-.94-2.06-.94L8.5 2.5l-.94 2.06-2.06.94zm10 10l.94 2.06.94-2.06 2.06-.94-2.06-.94-.94-2.06-.94 2.06-2.06.94z\"/><path d=\"M17.41 7.96l-1.37-1.37c-.4-.4-.92-.59-1.43-.59-.52 0-1.04.2-1.43.59L10.3 9.45l-7.72 7.72c-.78.78-.78 2.05 0 2.83L4 21.41c.39.39.9.59 1.41.59.51 0 1.02-.2 1.41-.59l7.78-7.78 2.81-2.81c.8-.78.8-2.07 0-2.86zM5.41 20L4 18.59l7.72-7.72 1.47 1.35L5.41 20z\"/>\n",
              "  </svg>\n",
              "      </button>\n",
              "      \n",
              "  <style>\n",
              "    .colab-df-container {\n",
              "      display:flex;\n",
              "      flex-wrap:wrap;\n",
              "      gap: 12px;\n",
              "    }\n",
              "\n",
              "    .colab-df-convert {\n",
              "      background-color: #E8F0FE;\n",
              "      border: none;\n",
              "      border-radius: 50%;\n",
              "      cursor: pointer;\n",
              "      display: none;\n",
              "      fill: #1967D2;\n",
              "      height: 32px;\n",
              "      padding: 0 0 0 0;\n",
              "      width: 32px;\n",
              "    }\n",
              "\n",
              "    .colab-df-convert:hover {\n",
              "      background-color: #E2EBFA;\n",
              "      box-shadow: 0px 1px 2px rgba(60, 64, 67, 0.3), 0px 1px 3px 1px rgba(60, 64, 67, 0.15);\n",
              "      fill: #174EA6;\n",
              "    }\n",
              "\n",
              "    [theme=dark] .colab-df-convert {\n",
              "      background-color: #3B4455;\n",
              "      fill: #D2E3FC;\n",
              "    }\n",
              "\n",
              "    [theme=dark] .colab-df-convert:hover {\n",
              "      background-color: #434B5C;\n",
              "      box-shadow: 0px 1px 3px 1px rgba(0, 0, 0, 0.15);\n",
              "      filter: drop-shadow(0px 1px 2px rgba(0, 0, 0, 0.3));\n",
              "      fill: #FFFFFF;\n",
              "    }\n",
              "  </style>\n",
              "\n",
              "      <script>\n",
              "        const buttonEl =\n",
              "          document.querySelector('#df-59bbbdc4-10b5-48d7-99b1-02d8a3d09697 button.colab-df-convert');\n",
              "        buttonEl.style.display =\n",
              "          google.colab.kernel.accessAllowed ? 'block' : 'none';\n",
              "\n",
              "        async function convertToInteractive(key) {\n",
              "          const element = document.querySelector('#df-59bbbdc4-10b5-48d7-99b1-02d8a3d09697');\n",
              "          const dataTable =\n",
              "            await google.colab.kernel.invokeFunction('convertToInteractive',\n",
              "                                                     [key], {});\n",
              "          if (!dataTable) return;\n",
              "\n",
              "          const docLinkHtml = 'Like what you see? Visit the ' +\n",
              "            '<a target=\"_blank\" href=https://colab.research.google.com/notebooks/data_table.ipynb>data table notebook</a>'\n",
              "            + ' to learn more about interactive tables.';\n",
              "          element.innerHTML = '';\n",
              "          dataTable['output_type'] = 'display_data';\n",
              "          await google.colab.output.renderOutput(dataTable, element);\n",
              "          const docLink = document.createElement('div');\n",
              "          docLink.innerHTML = docLinkHtml;\n",
              "          element.appendChild(docLink);\n",
              "        }\n",
              "      </script>\n",
              "    </div>\n",
              "  </div>\n",
              "  "
            ]
          },
          "metadata": {},
          "execution_count": 80
        }
      ],
      "source": [
        "test.acorr_ljungbox(res_cm_1.resid)[0:10]\n",
        "###  pvalue статистики Льюнга-Бокса"
      ]
    },
    {
      "cell_type": "markdown",
      "metadata": {
        "id": "2C6MZfM4NURQ"
      },
      "source": [
        " Можно сделать вывод об отсутствии автокорреляции остатков модели GARCH.\n",
        " \n",
        "Общий вывод - модель ARIMA-GARCH может быть использована для моделирования рассматриваемого временного ряда."
      ]
    },
    {
      "cell_type": "markdown",
      "metadata": {
        "id": "I7BpDU0BNURQ"
      },
      "source": [
        "## 3.Нахождение рыночной β и тестирование гипотезы CAPM"
      ]
    },
    {
      "cell_type": "markdown",
      "metadata": {
        "collapsed": true,
        "id": "F_r2XBsGNURR"
      },
      "source": [
        "Классическая версия модели CAPM предполагает отсутсвие в регрессионной модели свободного члена или в инвестиционной терминологии $\\alpha$.  Это означает, что рассматриваемый актив не может систематически \"обыграть\" рынок. Таким образом, основной акцент делается на показателе рыночной $\\beta$."
      ]
    },
    {
      "cell_type": "markdown",
      "metadata": {
        "id": "Iy98jN7QNURR"
      },
      "source": [
        "$ER_i=R_f+\\beta_i(ER_m-R_f)$"
      ]
    },
    {
      "cell_type": "markdown",
      "metadata": {
        "id": "wJ21gAbKNURS"
      },
      "source": [
        "### Модель CAPM на основе индекса SP500 (дневные данные)"
      ]
    },
    {
      "cell_type": "code",
      "execution_count": null,
      "metadata": {
        "id": "NGuKO09MNURS"
      },
      "outputs": [],
      "source": [
        "sp=pd.read_csv('https://github.com/qununc/UFR/raw/main/no2_time_series/%5EGSPC.csv')\n",
        "# загрузка данных по динамике индекса SP500 "
      ]
    },
    {
      "cell_type": "code",
      "execution_count": null,
      "metadata": {
        "id": "ZQztJvf4NURT"
      },
      "outputs": [],
      "source": [
        "sp['Date']=pd.to_datetime(sp['Date'],format='%Y-%m-%d')\n",
        "###  преобразование поля в формат даты"
      ]
    },
    {
      "cell_type": "code",
      "execution_count": null,
      "metadata": {
        "id": "FXkPIKn4NURT"
      },
      "outputs": [],
      "source": [
        "sp['Log_ret_SP']=np.log(sp['Adj Close'])-np.log(sp['Adj Close'].shift(1))\n",
        "### расчет логарифмической доходности"
      ]
    },
    {
      "cell_type": "code",
      "execution_count": null,
      "metadata": {
        "id": "jYOYWrRDNURU"
      },
      "outputs": [],
      "source": [
        "sp.drop([0],axis=0,inplace=True)\n",
        "### удаление первого наблюдения со значением nan"
      ]
    },
    {
      "cell_type": "code",
      "execution_count": null,
      "metadata": {
        "id": "_j0prBonNURU"
      },
      "outputs": [],
      "source": [
        "port=sp[['Date','Log_ret_SP']].merge(msft[['Date','Log_ret_MSFT']],left_on=['Date'],right_on=['Date'])\n",
        "### объединение акций и индекса в один dataframe"
      ]
    },
    {
      "cell_type": "code",
      "execution_count": null,
      "metadata": {
        "id": "eGIxGaBtNURV"
      },
      "outputs": [],
      "source": [
        "port.columns=['Date','Log_ret_SP','Log_ret_MSFT']"
      ]
    },
    {
      "cell_type": "code",
      "execution_count": null,
      "metadata": {
        "colab": {
          "base_uri": "https://localhost:8080/",
          "height": 206
        },
        "id": "1DifFvrUNURV",
        "outputId": "78cac851-8b28-4d8e-df25-c1bece2f1b93"
      },
      "outputs": [
        {
          "output_type": "execute_result",
          "data": {
            "text/plain": [
              "           Date  Log_ret_SP  Log_ret_MSFT\n",
              "1253 2018-11-30    0.008138      0.006333\n",
              "1254 2018-12-03    0.010882      0.010763\n",
              "1255 2018-12-04   -0.032900     -0.032368\n",
              "1256 2018-12-06   -0.001523      0.006155\n",
              "1257 2018-12-07   -0.023596     -0.040845"
            ],
            "text/html": [
              "\n",
              "  <div id=\"df-de5d612b-2150-4961-bcb1-cd55ba9f2a8c\">\n",
              "    <div class=\"colab-df-container\">\n",
              "      <div>\n",
              "<style scoped>\n",
              "    .dataframe tbody tr th:only-of-type {\n",
              "        vertical-align: middle;\n",
              "    }\n",
              "\n",
              "    .dataframe tbody tr th {\n",
              "        vertical-align: top;\n",
              "    }\n",
              "\n",
              "    .dataframe thead th {\n",
              "        text-align: right;\n",
              "    }\n",
              "</style>\n",
              "<table border=\"1\" class=\"dataframe\">\n",
              "  <thead>\n",
              "    <tr style=\"text-align: right;\">\n",
              "      <th></th>\n",
              "      <th>Date</th>\n",
              "      <th>Log_ret_SP</th>\n",
              "      <th>Log_ret_MSFT</th>\n",
              "    </tr>\n",
              "  </thead>\n",
              "  <tbody>\n",
              "    <tr>\n",
              "      <th>1253</th>\n",
              "      <td>2018-11-30</td>\n",
              "      <td>0.008138</td>\n",
              "      <td>0.006333</td>\n",
              "    </tr>\n",
              "    <tr>\n",
              "      <th>1254</th>\n",
              "      <td>2018-12-03</td>\n",
              "      <td>0.010882</td>\n",
              "      <td>0.010763</td>\n",
              "    </tr>\n",
              "    <tr>\n",
              "      <th>1255</th>\n",
              "      <td>2018-12-04</td>\n",
              "      <td>-0.032900</td>\n",
              "      <td>-0.032368</td>\n",
              "    </tr>\n",
              "    <tr>\n",
              "      <th>1256</th>\n",
              "      <td>2018-12-06</td>\n",
              "      <td>-0.001523</td>\n",
              "      <td>0.006155</td>\n",
              "    </tr>\n",
              "    <tr>\n",
              "      <th>1257</th>\n",
              "      <td>2018-12-07</td>\n",
              "      <td>-0.023596</td>\n",
              "      <td>-0.040845</td>\n",
              "    </tr>\n",
              "  </tbody>\n",
              "</table>\n",
              "</div>\n",
              "      <button class=\"colab-df-convert\" onclick=\"convertToInteractive('df-de5d612b-2150-4961-bcb1-cd55ba9f2a8c')\"\n",
              "              title=\"Convert this dataframe to an interactive table.\"\n",
              "              style=\"display:none;\">\n",
              "        \n",
              "  <svg xmlns=\"http://www.w3.org/2000/svg\" height=\"24px\"viewBox=\"0 0 24 24\"\n",
              "       width=\"24px\">\n",
              "    <path d=\"M0 0h24v24H0V0z\" fill=\"none\"/>\n",
              "    <path d=\"M18.56 5.44l.94 2.06.94-2.06 2.06-.94-2.06-.94-.94-2.06-.94 2.06-2.06.94zm-11 1L8.5 8.5l.94-2.06 2.06-.94-2.06-.94L8.5 2.5l-.94 2.06-2.06.94zm10 10l.94 2.06.94-2.06 2.06-.94-2.06-.94-.94-2.06-.94 2.06-2.06.94z\"/><path d=\"M17.41 7.96l-1.37-1.37c-.4-.4-.92-.59-1.43-.59-.52 0-1.04.2-1.43.59L10.3 9.45l-7.72 7.72c-.78.78-.78 2.05 0 2.83L4 21.41c.39.39.9.59 1.41.59.51 0 1.02-.2 1.41-.59l7.78-7.78 2.81-2.81c.8-.78.8-2.07 0-2.86zM5.41 20L4 18.59l7.72-7.72 1.47 1.35L5.41 20z\"/>\n",
              "  </svg>\n",
              "      </button>\n",
              "      \n",
              "  <style>\n",
              "    .colab-df-container {\n",
              "      display:flex;\n",
              "      flex-wrap:wrap;\n",
              "      gap: 12px;\n",
              "    }\n",
              "\n",
              "    .colab-df-convert {\n",
              "      background-color: #E8F0FE;\n",
              "      border: none;\n",
              "      border-radius: 50%;\n",
              "      cursor: pointer;\n",
              "      display: none;\n",
              "      fill: #1967D2;\n",
              "      height: 32px;\n",
              "      padding: 0 0 0 0;\n",
              "      width: 32px;\n",
              "    }\n",
              "\n",
              "    .colab-df-convert:hover {\n",
              "      background-color: #E2EBFA;\n",
              "      box-shadow: 0px 1px 2px rgba(60, 64, 67, 0.3), 0px 1px 3px 1px rgba(60, 64, 67, 0.15);\n",
              "      fill: #174EA6;\n",
              "    }\n",
              "\n",
              "    [theme=dark] .colab-df-convert {\n",
              "      background-color: #3B4455;\n",
              "      fill: #D2E3FC;\n",
              "    }\n",
              "\n",
              "    [theme=dark] .colab-df-convert:hover {\n",
              "      background-color: #434B5C;\n",
              "      box-shadow: 0px 1px 3px 1px rgba(0, 0, 0, 0.15);\n",
              "      filter: drop-shadow(0px 1px 2px rgba(0, 0, 0, 0.3));\n",
              "      fill: #FFFFFF;\n",
              "    }\n",
              "  </style>\n",
              "\n",
              "      <script>\n",
              "        const buttonEl =\n",
              "          document.querySelector('#df-de5d612b-2150-4961-bcb1-cd55ba9f2a8c button.colab-df-convert');\n",
              "        buttonEl.style.display =\n",
              "          google.colab.kernel.accessAllowed ? 'block' : 'none';\n",
              "\n",
              "        async function convertToInteractive(key) {\n",
              "          const element = document.querySelector('#df-de5d612b-2150-4961-bcb1-cd55ba9f2a8c');\n",
              "          const dataTable =\n",
              "            await google.colab.kernel.invokeFunction('convertToInteractive',\n",
              "                                                     [key], {});\n",
              "          if (!dataTable) return;\n",
              "\n",
              "          const docLinkHtml = 'Like what you see? Visit the ' +\n",
              "            '<a target=\"_blank\" href=https://colab.research.google.com/notebooks/data_table.ipynb>data table notebook</a>'\n",
              "            + ' to learn more about interactive tables.';\n",
              "          element.innerHTML = '';\n",
              "          dataTable['output_type'] = 'display_data';\n",
              "          await google.colab.output.renderOutput(dataTable, element);\n",
              "          const docLink = document.createElement('div');\n",
              "          docLink.innerHTML = docLinkHtml;\n",
              "          element.appendChild(docLink);\n",
              "        }\n",
              "      </script>\n",
              "    </div>\n",
              "  </div>\n",
              "  "
            ]
          },
          "metadata": {},
          "execution_count": 88
        }
      ],
      "source": [
        "port.tail()"
      ]
    },
    {
      "cell_type": "code",
      "execution_count": null,
      "metadata": {
        "id": "OlOOUorbNURW"
      },
      "outputs": [],
      "source": [
        "results_3=smf.ols('Log_ret_MSFT ~ Log_ret_SP',data=port).fit()\n",
        "### простая линейная регрессия"
      ]
    },
    {
      "cell_type": "code",
      "execution_count": null,
      "metadata": {
        "colab": {
          "base_uri": "https://localhost:8080/"
        },
        "id": "-82mKSFhNURX",
        "outputId": "3b27a8a9-6d05-49bb-92ff-74b06eb34d01"
      },
      "outputs": [
        {
          "output_type": "stream",
          "name": "stdout",
          "text": [
            "                            OLS Regression Results                            \n",
            "==============================================================================\n",
            "Dep. Variable:           Log_ret_MSFT   R-squared:                       0.511\n",
            "Model:                            OLS   Adj. R-squared:                  0.511\n",
            "Method:                 Least Squares   F-statistic:                     1314.\n",
            "Date:                Sun, 19 Jun 2022   Prob (F-statistic):          1.61e-197\n",
            "Time:                        19:27:59   Log-Likelihood:                 4009.4\n",
            "No. Observations:                1258   AIC:                            -8015.\n",
            "Df Residuals:                    1256   BIC:                            -8004.\n",
            "Df Model:                           1                                         \n",
            "Covariance Type:            nonrobust                                         \n",
            "==============================================================================\n",
            "                 coef    std err          t      P>|t|      [0.025      0.975]\n",
            "------------------------------------------------------------------------------\n",
            "Intercept      0.0005      0.000      1.814      0.070   -4.16e-05       0.001\n",
            "Log_ret_SP     1.2575      0.035     36.251      0.000       1.189       1.326\n",
            "==============================================================================\n",
            "Omnibus:                      388.475   Durbin-Watson:                   2.077\n",
            "Prob(Omnibus):                  0.000   Jarque-Bera (JB):            15741.223\n",
            "Skew:                           0.696   Prob(JB):                         0.00\n",
            "Kurtosis:                      20.274   Cond. No.                         123.\n",
            "==============================================================================\n",
            "\n",
            "Notes:\n",
            "[1] Standard Errors assume that the covariance matrix of the errors is correctly specified.\n"
          ]
        }
      ],
      "source": [
        "print(results_3.summary())"
      ]
    },
    {
      "cell_type": "markdown",
      "metadata": {
        "id": "4N75-bxCNURX"
      },
      "source": [
        "Проверка выполнения условия гомоскедастичности с помощью критерия Бреуша-Пагана"
      ]
    },
    {
      "cell_type": "code",
      "execution_count": null,
      "metadata": {
        "colab": {
          "base_uri": "https://localhost:8080/"
        },
        "id": "TRiVa7NjNURY",
        "outputId": "c3db225e-65f9-4df7-fe81-63801ff31b0f"
      },
      "outputs": [
        {
          "output_type": "stream",
          "name": "stdout",
          "text": [
            "lm 0.0565,lm_pvalue 0.8121,fvalue 0.0564,f_pvalue 0.8123\n"
          ]
        }
      ],
      "source": [
        "lm,lm_value,fvalue,f_pvalue=diagnostic.het_breuschpagan(results_3.resid,results_3.model.exog)\n",
        "print('lm %.4f,lm_pvalue %.4f,fvalue %.4f,f_pvalue %.4f'%(lm,lm_value,fvalue,f_pvalue))"
      ]
    },
    {
      "cell_type": "markdown",
      "metadata": {
        "id": "eh1OrGTcNURY"
      },
      "source": [
        "С учетом значения p-value гипотеза об отсутствии гомоскедастичности принимается"
      ]
    },
    {
      "cell_type": "markdown",
      "metadata": {
        "id": "xIAWQfuuNURY"
      },
      "source": [
        "#### Проверка наличия структурных сдвигов"
      ]
    },
    {
      "cell_type": "markdown",
      "metadata": {
        "id": "NVCTaLBuNURZ"
      },
      "source": [
        "Структурный сдвиг означает, что процесс притерпевает определенные изменения, которые могут сильно сказаться на параметрах модели. В случае наличия структурного сдвга целесооборазно использовать не одну, а две модели - до сдвига и после. Проверка гипотезы об отсутствии структурных сдвигов осуществвляется с помощью ряда  критериев, самым популярным из которых в эконометрике остается тест Чоу. В statsmodels реализованы критерий кумулятивной суммы (CUSUM)  и критерий Хансена. "
      ]
    },
    {
      "cell_type": "code",
      "execution_count": null,
      "metadata": {
        "colab": {
          "base_uri": "https://localhost:8080/"
        },
        "id": "DIFOgJYFNURZ",
        "outputId": "f1aecfd8-e3f7-405f-f28f-17cb2c1f2be1"
      },
      "outputs": [
        {
          "output_type": "execute_result",
          "data": {
            "text/plain": [
              "(0.7417390915141887, 0.6410867229055668)"
            ]
          },
          "metadata": {},
          "execution_count": 97
        }
      ],
      "source": [
        "diagnostic.breaks_cusumolsresid(results_3.resid)[0:2]"
      ]
    },
    {
      "cell_type": "code",
      "execution_count": null,
      "metadata": {
        "colab": {
          "base_uri": "https://localhost:8080/"
        },
        "id": "5MHDkNB4NURa",
        "outputId": "cf31e8ac-ff50-425f-c9ed-0e1cb3e8f1d4"
      },
      "outputs": [
        {
          "output_type": "execute_result",
          "data": {
            "text/plain": [
              "(2.4095495981471986, array([( 2, 1.9 ), ( 6, 3.75), (15, 3.75), (19, 4.52)],\n",
              "       dtype=[('nobs', '<i8'), ('crit', '<f8')]))"
            ]
          },
          "metadata": {},
          "execution_count": 98
        }
      ],
      "source": [
        "diagnostic.breaks_hansen(results_3)[0:2]"
      ]
    },
    {
      "cell_type": "markdown",
      "metadata": {
        "id": "0uGTiAQlNURa"
      },
      "source": [
        "С учетом значения критериев и p-value гипотеза об отсутствии структурного сдвига принимается"
      ]
    },
    {
      "cell_type": "markdown",
      "metadata": {
        "id": "tpTFUXLWNURb"
      },
      "source": [
        "**Общие выводы:**\n",
        "1. Уравнение значимо, что подтверждается t и F критериями.\n",
        "2. Показатель $\\beta$ = 1.26, это говорит о том, что акции Microsoft растут (и, соответственно, падают) сильнее рынка акций, включающего все отрасли.\n",
        "3. Показатель $\\alpha$ статистчически незначимо отличается от 0, что согласуется с моделью CAPM"
      ]
    },
    {
      "cell_type": "markdown",
      "metadata": {
        "id": "i5EQor9SNURb"
      },
      "source": [
        "### Модель CAPM на основе индекса NASDAQ (дневные данные)"
      ]
    },
    {
      "cell_type": "code",
      "execution_count": null,
      "metadata": {
        "id": "5L3IvZgdNURb"
      },
      "outputs": [],
      "source": [
        "nasdaq = pd.read_csv('https://github.com/qununc/UFR/raw/main/no2_time_series/%5EIXIC.csv')"
      ]
    },
    {
      "cell_type": "code",
      "execution_count": null,
      "metadata": {
        "id": "LcsJTHTiNURc"
      },
      "outputs": [],
      "source": [
        "nasdaq['Date']=pd.to_datetime(nasdaq['Date'],format='%Y-%m-%d')\n",
        "###  преобразование поля в формат даты"
      ]
    },
    {
      "cell_type": "code",
      "execution_count": null,
      "metadata": {
        "id": "i1RnebjWNURc"
      },
      "outputs": [],
      "source": [
        "nasdaq['Log_ret_Nasdaq']=np.log(nasdaq['Adj Close'])-np.log(nasdaq['Adj Close'].shift(1))"
      ]
    },
    {
      "cell_type": "code",
      "execution_count": null,
      "metadata": {
        "id": "iZQ9euwxNURc"
      },
      "outputs": [],
      "source": [
        "nasdaq.drop([0],axis=0,inplace=True)"
      ]
    },
    {
      "cell_type": "code",
      "execution_count": null,
      "metadata": {
        "colab": {
          "base_uri": "https://localhost:8080/",
          "height": 206
        },
        "id": "QW2RSNubNURd",
        "outputId": "c0c4bbf4-e8ae-4e3a-a4da-5fd9994a506f"
      },
      "outputs": [
        {
          "output_type": "execute_result",
          "data": {
            "text/plain": [
              "        Date         Open         High          Low        Close    Adj Close  \\\n",
              "1 2013-12-12  4004.750000  4013.540039  3993.570068  3998.399902  3998.399902   \n",
              "2 2013-12-13  4015.530029  4017.449951  3992.290039  4000.979980  4000.979980   \n",
              "3 2013-12-16  4019.370117  4043.000000  4019.139893  4029.520020  4029.520020   \n",
              "4 2013-12-17  4028.879883  4034.689941  4011.580078  4023.679932  4023.679932   \n",
              "5 2013-12-18  4024.669922  4070.379883  3979.590088  4070.060059  4070.060059   \n",
              "\n",
              "       Volume  Log_ret_Nasdaq  \n",
              "1  1893270000       -0.001352  \n",
              "2  1615340000        0.000645  \n",
              "3  1943830000        0.007108  \n",
              "4  1861130000       -0.001450  \n",
              "5  2178330000        0.011461  "
            ],
            "text/html": [
              "\n",
              "  <div id=\"df-755c5de8-2c96-4fae-bb92-4859a29d7e61\">\n",
              "    <div class=\"colab-df-container\">\n",
              "      <div>\n",
              "<style scoped>\n",
              "    .dataframe tbody tr th:only-of-type {\n",
              "        vertical-align: middle;\n",
              "    }\n",
              "\n",
              "    .dataframe tbody tr th {\n",
              "        vertical-align: top;\n",
              "    }\n",
              "\n",
              "    .dataframe thead th {\n",
              "        text-align: right;\n",
              "    }\n",
              "</style>\n",
              "<table border=\"1\" class=\"dataframe\">\n",
              "  <thead>\n",
              "    <tr style=\"text-align: right;\">\n",
              "      <th></th>\n",
              "      <th>Date</th>\n",
              "      <th>Open</th>\n",
              "      <th>High</th>\n",
              "      <th>Low</th>\n",
              "      <th>Close</th>\n",
              "      <th>Adj Close</th>\n",
              "      <th>Volume</th>\n",
              "      <th>Log_ret_Nasdaq</th>\n",
              "    </tr>\n",
              "  </thead>\n",
              "  <tbody>\n",
              "    <tr>\n",
              "      <th>1</th>\n",
              "      <td>2013-12-12</td>\n",
              "      <td>4004.750000</td>\n",
              "      <td>4013.540039</td>\n",
              "      <td>3993.570068</td>\n",
              "      <td>3998.399902</td>\n",
              "      <td>3998.399902</td>\n",
              "      <td>1893270000</td>\n",
              "      <td>-0.001352</td>\n",
              "    </tr>\n",
              "    <tr>\n",
              "      <th>2</th>\n",
              "      <td>2013-12-13</td>\n",
              "      <td>4015.530029</td>\n",
              "      <td>4017.449951</td>\n",
              "      <td>3992.290039</td>\n",
              "      <td>4000.979980</td>\n",
              "      <td>4000.979980</td>\n",
              "      <td>1615340000</td>\n",
              "      <td>0.000645</td>\n",
              "    </tr>\n",
              "    <tr>\n",
              "      <th>3</th>\n",
              "      <td>2013-12-16</td>\n",
              "      <td>4019.370117</td>\n",
              "      <td>4043.000000</td>\n",
              "      <td>4019.139893</td>\n",
              "      <td>4029.520020</td>\n",
              "      <td>4029.520020</td>\n",
              "      <td>1943830000</td>\n",
              "      <td>0.007108</td>\n",
              "    </tr>\n",
              "    <tr>\n",
              "      <th>4</th>\n",
              "      <td>2013-12-17</td>\n",
              "      <td>4028.879883</td>\n",
              "      <td>4034.689941</td>\n",
              "      <td>4011.580078</td>\n",
              "      <td>4023.679932</td>\n",
              "      <td>4023.679932</td>\n",
              "      <td>1861130000</td>\n",
              "      <td>-0.001450</td>\n",
              "    </tr>\n",
              "    <tr>\n",
              "      <th>5</th>\n",
              "      <td>2013-12-18</td>\n",
              "      <td>4024.669922</td>\n",
              "      <td>4070.379883</td>\n",
              "      <td>3979.590088</td>\n",
              "      <td>4070.060059</td>\n",
              "      <td>4070.060059</td>\n",
              "      <td>2178330000</td>\n",
              "      <td>0.011461</td>\n",
              "    </tr>\n",
              "  </tbody>\n",
              "</table>\n",
              "</div>\n",
              "      <button class=\"colab-df-convert\" onclick=\"convertToInteractive('df-755c5de8-2c96-4fae-bb92-4859a29d7e61')\"\n",
              "              title=\"Convert this dataframe to an interactive table.\"\n",
              "              style=\"display:none;\">\n",
              "        \n",
              "  <svg xmlns=\"http://www.w3.org/2000/svg\" height=\"24px\"viewBox=\"0 0 24 24\"\n",
              "       width=\"24px\">\n",
              "    <path d=\"M0 0h24v24H0V0z\" fill=\"none\"/>\n",
              "    <path d=\"M18.56 5.44l.94 2.06.94-2.06 2.06-.94-2.06-.94-.94-2.06-.94 2.06-2.06.94zm-11 1L8.5 8.5l.94-2.06 2.06-.94-2.06-.94L8.5 2.5l-.94 2.06-2.06.94zm10 10l.94 2.06.94-2.06 2.06-.94-2.06-.94-.94-2.06-.94 2.06-2.06.94z\"/><path d=\"M17.41 7.96l-1.37-1.37c-.4-.4-.92-.59-1.43-.59-.52 0-1.04.2-1.43.59L10.3 9.45l-7.72 7.72c-.78.78-.78 2.05 0 2.83L4 21.41c.39.39.9.59 1.41.59.51 0 1.02-.2 1.41-.59l7.78-7.78 2.81-2.81c.8-.78.8-2.07 0-2.86zM5.41 20L4 18.59l7.72-7.72 1.47 1.35L5.41 20z\"/>\n",
              "  </svg>\n",
              "      </button>\n",
              "      \n",
              "  <style>\n",
              "    .colab-df-container {\n",
              "      display:flex;\n",
              "      flex-wrap:wrap;\n",
              "      gap: 12px;\n",
              "    }\n",
              "\n",
              "    .colab-df-convert {\n",
              "      background-color: #E8F0FE;\n",
              "      border: none;\n",
              "      border-radius: 50%;\n",
              "      cursor: pointer;\n",
              "      display: none;\n",
              "      fill: #1967D2;\n",
              "      height: 32px;\n",
              "      padding: 0 0 0 0;\n",
              "      width: 32px;\n",
              "    }\n",
              "\n",
              "    .colab-df-convert:hover {\n",
              "      background-color: #E2EBFA;\n",
              "      box-shadow: 0px 1px 2px rgba(60, 64, 67, 0.3), 0px 1px 3px 1px rgba(60, 64, 67, 0.15);\n",
              "      fill: #174EA6;\n",
              "    }\n",
              "\n",
              "    [theme=dark] .colab-df-convert {\n",
              "      background-color: #3B4455;\n",
              "      fill: #D2E3FC;\n",
              "    }\n",
              "\n",
              "    [theme=dark] .colab-df-convert:hover {\n",
              "      background-color: #434B5C;\n",
              "      box-shadow: 0px 1px 3px 1px rgba(0, 0, 0, 0.15);\n",
              "      filter: drop-shadow(0px 1px 2px rgba(0, 0, 0, 0.3));\n",
              "      fill: #FFFFFF;\n",
              "    }\n",
              "  </style>\n",
              "\n",
              "      <script>\n",
              "        const buttonEl =\n",
              "          document.querySelector('#df-755c5de8-2c96-4fae-bb92-4859a29d7e61 button.colab-df-convert');\n",
              "        buttonEl.style.display =\n",
              "          google.colab.kernel.accessAllowed ? 'block' : 'none';\n",
              "\n",
              "        async function convertToInteractive(key) {\n",
              "          const element = document.querySelector('#df-755c5de8-2c96-4fae-bb92-4859a29d7e61');\n",
              "          const dataTable =\n",
              "            await google.colab.kernel.invokeFunction('convertToInteractive',\n",
              "                                                     [key], {});\n",
              "          if (!dataTable) return;\n",
              "\n",
              "          const docLinkHtml = 'Like what you see? Visit the ' +\n",
              "            '<a target=\"_blank\" href=https://colab.research.google.com/notebooks/data_table.ipynb>data table notebook</a>'\n",
              "            + ' to learn more about interactive tables.';\n",
              "          element.innerHTML = '';\n",
              "          dataTable['output_type'] = 'display_data';\n",
              "          await google.colab.output.renderOutput(dataTable, element);\n",
              "          const docLink = document.createElement('div');\n",
              "          docLink.innerHTML = docLinkHtml;\n",
              "          element.appendChild(docLink);\n",
              "        }\n",
              "      </script>\n",
              "    </div>\n",
              "  </div>\n",
              "  "
            ]
          },
          "metadata": {},
          "execution_count": 105
        }
      ],
      "source": [
        "nasdaq.head()"
      ]
    },
    {
      "cell_type": "code",
      "execution_count": null,
      "metadata": {
        "id": "V1xaPYMINURe"
      },
      "outputs": [],
      "source": [
        "port=port.merge(nasdaq[['Date','Log_ret_Nasdaq']],left_on=['Date'],right_on=['Date'])"
      ]
    },
    {
      "cell_type": "code",
      "execution_count": null,
      "metadata": {
        "colab": {
          "base_uri": "https://localhost:8080/",
          "height": 206
        },
        "id": "0m0So2VtNURf",
        "outputId": "2be79756-e93d-4f62-8a51-f8c79960954a"
      },
      "outputs": [
        {
          "output_type": "execute_result",
          "data": {
            "text/plain": [
              "        Date  Log_ret_SP  Log_ret_MSFT  Log_ret_Nasdaq\n",
              "0 2013-12-12   -0.003778     -0.010424       -0.001352\n",
              "1 2013-12-13   -0.000101     -0.014342        0.000645\n",
              "2 2013-12-16    0.006300      0.005437        0.007108\n",
              "3 2013-12-17   -0.003106     -0.010081       -0.001450\n",
              "4 2013-12-18    0.016511      0.001642        0.011461"
            ],
            "text/html": [
              "\n",
              "  <div id=\"df-ff25b7e1-b1cf-41da-a93d-43d5943454c7\">\n",
              "    <div class=\"colab-df-container\">\n",
              "      <div>\n",
              "<style scoped>\n",
              "    .dataframe tbody tr th:only-of-type {\n",
              "        vertical-align: middle;\n",
              "    }\n",
              "\n",
              "    .dataframe tbody tr th {\n",
              "        vertical-align: top;\n",
              "    }\n",
              "\n",
              "    .dataframe thead th {\n",
              "        text-align: right;\n",
              "    }\n",
              "</style>\n",
              "<table border=\"1\" class=\"dataframe\">\n",
              "  <thead>\n",
              "    <tr style=\"text-align: right;\">\n",
              "      <th></th>\n",
              "      <th>Date</th>\n",
              "      <th>Log_ret_SP</th>\n",
              "      <th>Log_ret_MSFT</th>\n",
              "      <th>Log_ret_Nasdaq</th>\n",
              "    </tr>\n",
              "  </thead>\n",
              "  <tbody>\n",
              "    <tr>\n",
              "      <th>0</th>\n",
              "      <td>2013-12-12</td>\n",
              "      <td>-0.003778</td>\n",
              "      <td>-0.010424</td>\n",
              "      <td>-0.001352</td>\n",
              "    </tr>\n",
              "    <tr>\n",
              "      <th>1</th>\n",
              "      <td>2013-12-13</td>\n",
              "      <td>-0.000101</td>\n",
              "      <td>-0.014342</td>\n",
              "      <td>0.000645</td>\n",
              "    </tr>\n",
              "    <tr>\n",
              "      <th>2</th>\n",
              "      <td>2013-12-16</td>\n",
              "      <td>0.006300</td>\n",
              "      <td>0.005437</td>\n",
              "      <td>0.007108</td>\n",
              "    </tr>\n",
              "    <tr>\n",
              "      <th>3</th>\n",
              "      <td>2013-12-17</td>\n",
              "      <td>-0.003106</td>\n",
              "      <td>-0.010081</td>\n",
              "      <td>-0.001450</td>\n",
              "    </tr>\n",
              "    <tr>\n",
              "      <th>4</th>\n",
              "      <td>2013-12-18</td>\n",
              "      <td>0.016511</td>\n",
              "      <td>0.001642</td>\n",
              "      <td>0.011461</td>\n",
              "    </tr>\n",
              "  </tbody>\n",
              "</table>\n",
              "</div>\n",
              "      <button class=\"colab-df-convert\" onclick=\"convertToInteractive('df-ff25b7e1-b1cf-41da-a93d-43d5943454c7')\"\n",
              "              title=\"Convert this dataframe to an interactive table.\"\n",
              "              style=\"display:none;\">\n",
              "        \n",
              "  <svg xmlns=\"http://www.w3.org/2000/svg\" height=\"24px\"viewBox=\"0 0 24 24\"\n",
              "       width=\"24px\">\n",
              "    <path d=\"M0 0h24v24H0V0z\" fill=\"none\"/>\n",
              "    <path d=\"M18.56 5.44l.94 2.06.94-2.06 2.06-.94-2.06-.94-.94-2.06-.94 2.06-2.06.94zm-11 1L8.5 8.5l.94-2.06 2.06-.94-2.06-.94L8.5 2.5l-.94 2.06-2.06.94zm10 10l.94 2.06.94-2.06 2.06-.94-2.06-.94-.94-2.06-.94 2.06-2.06.94z\"/><path d=\"M17.41 7.96l-1.37-1.37c-.4-.4-.92-.59-1.43-.59-.52 0-1.04.2-1.43.59L10.3 9.45l-7.72 7.72c-.78.78-.78 2.05 0 2.83L4 21.41c.39.39.9.59 1.41.59.51 0 1.02-.2 1.41-.59l7.78-7.78 2.81-2.81c.8-.78.8-2.07 0-2.86zM5.41 20L4 18.59l7.72-7.72 1.47 1.35L5.41 20z\"/>\n",
              "  </svg>\n",
              "      </button>\n",
              "      \n",
              "  <style>\n",
              "    .colab-df-container {\n",
              "      display:flex;\n",
              "      flex-wrap:wrap;\n",
              "      gap: 12px;\n",
              "    }\n",
              "\n",
              "    .colab-df-convert {\n",
              "      background-color: #E8F0FE;\n",
              "      border: none;\n",
              "      border-radius: 50%;\n",
              "      cursor: pointer;\n",
              "      display: none;\n",
              "      fill: #1967D2;\n",
              "      height: 32px;\n",
              "      padding: 0 0 0 0;\n",
              "      width: 32px;\n",
              "    }\n",
              "\n",
              "    .colab-df-convert:hover {\n",
              "      background-color: #E2EBFA;\n",
              "      box-shadow: 0px 1px 2px rgba(60, 64, 67, 0.3), 0px 1px 3px 1px rgba(60, 64, 67, 0.15);\n",
              "      fill: #174EA6;\n",
              "    }\n",
              "\n",
              "    [theme=dark] .colab-df-convert {\n",
              "      background-color: #3B4455;\n",
              "      fill: #D2E3FC;\n",
              "    }\n",
              "\n",
              "    [theme=dark] .colab-df-convert:hover {\n",
              "      background-color: #434B5C;\n",
              "      box-shadow: 0px 1px 3px 1px rgba(0, 0, 0, 0.15);\n",
              "      filter: drop-shadow(0px 1px 2px rgba(0, 0, 0, 0.3));\n",
              "      fill: #FFFFFF;\n",
              "    }\n",
              "  </style>\n",
              "\n",
              "      <script>\n",
              "        const buttonEl =\n",
              "          document.querySelector('#df-ff25b7e1-b1cf-41da-a93d-43d5943454c7 button.colab-df-convert');\n",
              "        buttonEl.style.display =\n",
              "          google.colab.kernel.accessAllowed ? 'block' : 'none';\n",
              "\n",
              "        async function convertToInteractive(key) {\n",
              "          const element = document.querySelector('#df-ff25b7e1-b1cf-41da-a93d-43d5943454c7');\n",
              "          const dataTable =\n",
              "            await google.colab.kernel.invokeFunction('convertToInteractive',\n",
              "                                                     [key], {});\n",
              "          if (!dataTable) return;\n",
              "\n",
              "          const docLinkHtml = 'Like what you see? Visit the ' +\n",
              "            '<a target=\"_blank\" href=https://colab.research.google.com/notebooks/data_table.ipynb>data table notebook</a>'\n",
              "            + ' to learn more about interactive tables.';\n",
              "          element.innerHTML = '';\n",
              "          dataTable['output_type'] = 'display_data';\n",
              "          await google.colab.output.renderOutput(dataTable, element);\n",
              "          const docLink = document.createElement('div');\n",
              "          docLink.innerHTML = docLinkHtml;\n",
              "          element.appendChild(docLink);\n",
              "        }\n",
              "      </script>\n",
              "    </div>\n",
              "  </div>\n",
              "  "
            ]
          },
          "metadata": {},
          "execution_count": 117
        }
      ],
      "source": [
        "port.head()"
      ]
    },
    {
      "cell_type": "code",
      "execution_count": null,
      "metadata": {
        "id": "9Kc2xhZgNURf"
      },
      "outputs": [],
      "source": [
        "results_4=smf.ols('Log_ret_MSFT ~ Log_ret_Nasdaq',data=port).fit()\n",
        "### простая линейная регрессия"
      ]
    },
    {
      "cell_type": "code",
      "execution_count": null,
      "metadata": {
        "colab": {
          "base_uri": "https://localhost:8080/"
        },
        "id": "MrKv1pBLNURg",
        "outputId": "180d8fa8-f690-461c-b726-9b9171455834"
      },
      "outputs": [
        {
          "output_type": "stream",
          "name": "stdout",
          "text": [
            "                            OLS Regression Results                            \n",
            "==============================================================================\n",
            "Dep. Variable:           Log_ret_MSFT   R-squared:                       0.567\n",
            "Model:                            OLS   Adj. R-squared:                  0.567\n",
            "Method:                 Least Squares   F-statistic:                     1643.\n",
            "Date:                Sun, 19 Jun 2022   Prob (F-statistic):          2.87e-230\n",
            "Time:                        19:34:11   Log-Likelihood:                 4079.3\n",
            "No. Observations:                1256   AIC:                            -8155.\n",
            "Df Residuals:                    1254   BIC:                            -8144.\n",
            "Df Model:                           1                                         \n",
            "Covariance Type:            nonrobust                                         \n",
            "==================================================================================\n",
            "                     coef    std err          t      P>|t|      [0.025      0.975]\n",
            "----------------------------------------------------------------------------------\n",
            "Intercept          0.0004      0.000      1.605      0.109   -9.49e-05       0.001\n",
            "Log_ret_Nasdaq     1.0996      0.027     40.535      0.000       1.046       1.153\n",
            "==============================================================================\n",
            "Omnibus:                      379.813   Durbin-Watson:                   2.027\n",
            "Prob(Omnibus):                  0.000   Jarque-Bera (JB):            12965.708\n",
            "Skew:                           0.719   Prob(JB):                         0.00\n",
            "Kurtosis:                      18.674   Cond. No.                         102.\n",
            "==============================================================================\n",
            "\n",
            "Notes:\n",
            "[1] Standard Errors assume that the covariance matrix of the errors is correctly specified.\n"
          ]
        }
      ],
      "source": [
        "print(results_4.summary())"
      ]
    },
    {
      "cell_type": "markdown",
      "metadata": {
        "id": "jnxEpdzyNURg"
      },
      "source": [
        "**Общие выводы:**\n",
        "1. Уравнение значимо, что подтверждается t и F критериями.\n",
        "2. Показатель $\\beta$ = 1.10, это говорит о том, что акции Microsoft растут (и, соответственно, падают) быстрее рынка технологических акций. \n",
        "3. Показатель $\\alpha$ статистчически незначимо отличается от 0, что согласуется с моделью CAPM"
      ]
    },
    {
      "cell_type": "markdown",
      "metadata": {
        "id": "7owicuwANURg"
      },
      "source": [
        "### Модель CAPM на основе индекса SP500 (месячные данные)"
      ]
    },
    {
      "cell_type": "code",
      "execution_count": null,
      "metadata": {
        "id": "q-EFf3VqNURh"
      },
      "outputs": [],
      "source": [
        "port['Year']=port['Date'].dt.year"
      ]
    },
    {
      "cell_type": "code",
      "execution_count": null,
      "metadata": {
        "id": "q82T8uLSNURh"
      },
      "outputs": [],
      "source": [
        "port['Month']=port['Date'].dt.month"
      ]
    },
    {
      "cell_type": "markdown",
      "metadata": {
        "id": "s_GUKE4PNURh"
      },
      "source": [
        "Для преобразования дневных доходностей в месячные доходности воспользуемся удобным свойством логарифма и просуммируем дневные доходности по каждому месяцу"
      ]
    },
    {
      "cell_type": "code",
      "execution_count": null,
      "metadata": {
        "id": "iVUVEfuTNURi"
      },
      "outputs": [],
      "source": [
        "port_monthly=port.groupby(['Year','Month'])[['Log_ret_SP','Log_ret_MSFT','Log_ret_Nasdaq']].sum()\n",
        "### преобразование дневных доходностей в месячные доходности"
      ]
    },
    {
      "cell_type": "code",
      "execution_count": null,
      "metadata": {
        "colab": {
          "base_uri": "https://localhost:8080/",
          "height": 237
        },
        "id": "xEs4-iQWNURi",
        "outputId": "0a1375db-524d-403c-b7e0-0b1087316f31"
      },
      "outputs": [
        {
          "output_type": "execute_result",
          "data": {
            "text/plain": [
              "            Log_ret_SP  Log_ret_MSFT  Log_ret_Nasdaq\n",
              "Year Month                                          \n",
              "2013 12       0.036439     -0.005332        0.042249\n",
              "2014 1       -0.036231      0.011429       -0.017562\n",
              "     2        0.042213      0.019815        0.048569\n",
              "     3        0.006908      0.067617       -0.025658\n",
              "     4        0.006182     -0.014498       -0.020312"
            ],
            "text/html": [
              "\n",
              "  <div id=\"df-06dc32d0-b957-496a-9d48-acd45fcf3bba\">\n",
              "    <div class=\"colab-df-container\">\n",
              "      <div>\n",
              "<style scoped>\n",
              "    .dataframe tbody tr th:only-of-type {\n",
              "        vertical-align: middle;\n",
              "    }\n",
              "\n",
              "    .dataframe tbody tr th {\n",
              "        vertical-align: top;\n",
              "    }\n",
              "\n",
              "    .dataframe thead th {\n",
              "        text-align: right;\n",
              "    }\n",
              "</style>\n",
              "<table border=\"1\" class=\"dataframe\">\n",
              "  <thead>\n",
              "    <tr style=\"text-align: right;\">\n",
              "      <th></th>\n",
              "      <th></th>\n",
              "      <th>Log_ret_SP</th>\n",
              "      <th>Log_ret_MSFT</th>\n",
              "      <th>Log_ret_Nasdaq</th>\n",
              "    </tr>\n",
              "    <tr>\n",
              "      <th>Year</th>\n",
              "      <th>Month</th>\n",
              "      <th></th>\n",
              "      <th></th>\n",
              "      <th></th>\n",
              "    </tr>\n",
              "  </thead>\n",
              "  <tbody>\n",
              "    <tr>\n",
              "      <th>2013</th>\n",
              "      <th>12</th>\n",
              "      <td>0.036439</td>\n",
              "      <td>-0.005332</td>\n",
              "      <td>0.042249</td>\n",
              "    </tr>\n",
              "    <tr>\n",
              "      <th rowspan=\"4\" valign=\"top\">2014</th>\n",
              "      <th>1</th>\n",
              "      <td>-0.036231</td>\n",
              "      <td>0.011429</td>\n",
              "      <td>-0.017562</td>\n",
              "    </tr>\n",
              "    <tr>\n",
              "      <th>2</th>\n",
              "      <td>0.042213</td>\n",
              "      <td>0.019815</td>\n",
              "      <td>0.048569</td>\n",
              "    </tr>\n",
              "    <tr>\n",
              "      <th>3</th>\n",
              "      <td>0.006908</td>\n",
              "      <td>0.067617</td>\n",
              "      <td>-0.025658</td>\n",
              "    </tr>\n",
              "    <tr>\n",
              "      <th>4</th>\n",
              "      <td>0.006182</td>\n",
              "      <td>-0.014498</td>\n",
              "      <td>-0.020312</td>\n",
              "    </tr>\n",
              "  </tbody>\n",
              "</table>\n",
              "</div>\n",
              "      <button class=\"colab-df-convert\" onclick=\"convertToInteractive('df-06dc32d0-b957-496a-9d48-acd45fcf3bba')\"\n",
              "              title=\"Convert this dataframe to an interactive table.\"\n",
              "              style=\"display:none;\">\n",
              "        \n",
              "  <svg xmlns=\"http://www.w3.org/2000/svg\" height=\"24px\"viewBox=\"0 0 24 24\"\n",
              "       width=\"24px\">\n",
              "    <path d=\"M0 0h24v24H0V0z\" fill=\"none\"/>\n",
              "    <path d=\"M18.56 5.44l.94 2.06.94-2.06 2.06-.94-2.06-.94-.94-2.06-.94 2.06-2.06.94zm-11 1L8.5 8.5l.94-2.06 2.06-.94-2.06-.94L8.5 2.5l-.94 2.06-2.06.94zm10 10l.94 2.06.94-2.06 2.06-.94-2.06-.94-.94-2.06-.94 2.06-2.06.94z\"/><path d=\"M17.41 7.96l-1.37-1.37c-.4-.4-.92-.59-1.43-.59-.52 0-1.04.2-1.43.59L10.3 9.45l-7.72 7.72c-.78.78-.78 2.05 0 2.83L4 21.41c.39.39.9.59 1.41.59.51 0 1.02-.2 1.41-.59l7.78-7.78 2.81-2.81c.8-.78.8-2.07 0-2.86zM5.41 20L4 18.59l7.72-7.72 1.47 1.35L5.41 20z\"/>\n",
              "  </svg>\n",
              "      </button>\n",
              "      \n",
              "  <style>\n",
              "    .colab-df-container {\n",
              "      display:flex;\n",
              "      flex-wrap:wrap;\n",
              "      gap: 12px;\n",
              "    }\n",
              "\n",
              "    .colab-df-convert {\n",
              "      background-color: #E8F0FE;\n",
              "      border: none;\n",
              "      border-radius: 50%;\n",
              "      cursor: pointer;\n",
              "      display: none;\n",
              "      fill: #1967D2;\n",
              "      height: 32px;\n",
              "      padding: 0 0 0 0;\n",
              "      width: 32px;\n",
              "    }\n",
              "\n",
              "    .colab-df-convert:hover {\n",
              "      background-color: #E2EBFA;\n",
              "      box-shadow: 0px 1px 2px rgba(60, 64, 67, 0.3), 0px 1px 3px 1px rgba(60, 64, 67, 0.15);\n",
              "      fill: #174EA6;\n",
              "    }\n",
              "\n",
              "    [theme=dark] .colab-df-convert {\n",
              "      background-color: #3B4455;\n",
              "      fill: #D2E3FC;\n",
              "    }\n",
              "\n",
              "    [theme=dark] .colab-df-convert:hover {\n",
              "      background-color: #434B5C;\n",
              "      box-shadow: 0px 1px 3px 1px rgba(0, 0, 0, 0.15);\n",
              "      filter: drop-shadow(0px 1px 2px rgba(0, 0, 0, 0.3));\n",
              "      fill: #FFFFFF;\n",
              "    }\n",
              "  </style>\n",
              "\n",
              "      <script>\n",
              "        const buttonEl =\n",
              "          document.querySelector('#df-06dc32d0-b957-496a-9d48-acd45fcf3bba button.colab-df-convert');\n",
              "        buttonEl.style.display =\n",
              "          google.colab.kernel.accessAllowed ? 'block' : 'none';\n",
              "\n",
              "        async function convertToInteractive(key) {\n",
              "          const element = document.querySelector('#df-06dc32d0-b957-496a-9d48-acd45fcf3bba');\n",
              "          const dataTable =\n",
              "            await google.colab.kernel.invokeFunction('convertToInteractive',\n",
              "                                                     [key], {});\n",
              "          if (!dataTable) return;\n",
              "\n",
              "          const docLinkHtml = 'Like what you see? Visit the ' +\n",
              "            '<a target=\"_blank\" href=https://colab.research.google.com/notebooks/data_table.ipynb>data table notebook</a>'\n",
              "            + ' to learn more about interactive tables.';\n",
              "          element.innerHTML = '';\n",
              "          dataTable['output_type'] = 'display_data';\n",
              "          await google.colab.output.renderOutput(dataTable, element);\n",
              "          const docLink = document.createElement('div');\n",
              "          docLink.innerHTML = docLinkHtml;\n",
              "          element.appendChild(docLink);\n",
              "        }\n",
              "      </script>\n",
              "    </div>\n",
              "  </div>\n",
              "  "
            ]
          },
          "metadata": {},
          "execution_count": 123
        }
      ],
      "source": [
        "port_monthly.head()"
      ]
    },
    {
      "cell_type": "code",
      "execution_count": null,
      "metadata": {
        "colab": {
          "base_uri": "https://localhost:8080/"
        },
        "id": "y44a2LQENURi",
        "outputId": "e03bb0cc-2630-4d5f-edb8-a99969634371"
      },
      "outputs": [
        {
          "output_type": "execute_result",
          "data": {
            "text/plain": [
              "0.011428544757738605"
            ]
          },
          "metadata": {},
          "execution_count": 124
        }
      ],
      "source": [
        "np.log(float(msft[msft.Date=='2014-01-31']['Adj Close'])/float(msft[msft.Date=='2013-12-31']['Adj Close']))\n",
        "### проверка формулы получения месячной доходности"
      ]
    },
    {
      "cell_type": "code",
      "execution_count": null,
      "metadata": {
        "id": "una5YgoWNURj"
      },
      "outputs": [],
      "source": [
        "results_5=smf.ols('Log_ret_MSFT ~ Log_ret_SP',data=port_monthly).fit()\n",
        "### простая линейная регрессия"
      ]
    },
    {
      "cell_type": "code",
      "execution_count": null,
      "metadata": {
        "colab": {
          "base_uri": "https://localhost:8080/"
        },
        "id": "Ie5EYCB2NURj",
        "outputId": "6ed54904-b80f-413d-9928-63897b35fe0c"
      },
      "outputs": [
        {
          "output_type": "stream",
          "name": "stdout",
          "text": [
            "                            OLS Regression Results                            \n",
            "==============================================================================\n",
            "Dep. Variable:           Log_ret_MSFT   R-squared:                       0.395\n",
            "Model:                            OLS   Adj. R-squared:                  0.384\n",
            "Method:                 Least Squares   F-statistic:                     38.48\n",
            "Date:                Sun, 19 Jun 2022   Prob (F-statistic):           5.94e-08\n",
            "Time:                        19:35:44   Log-Likelihood:                 103.46\n",
            "No. Observations:                  61   AIC:                            -202.9\n",
            "Df Residuals:                      59   BIC:                            -198.7\n",
            "Df Model:                           1                                         \n",
            "Covariance Type:            nonrobust                                         \n",
            "==============================================================================\n",
            "                 coef    std err          t      P>|t|      [0.025      0.975]\n",
            "------------------------------------------------------------------------------\n",
            "Intercept      0.0109      0.006      1.850      0.069      -0.001       0.023\n",
            "Log_ret_SP     1.2245      0.197      6.203      0.000       0.829       1.620\n",
            "==============================================================================\n",
            "Omnibus:                        6.085   Durbin-Watson:                   2.570\n",
            "Prob(Omnibus):                  0.048   Jarque-Bera (JB):                9.257\n",
            "Skew:                           0.118   Prob(JB):                      0.00977\n",
            "Kurtosis:                       4.894   Cond. No.                         34.2\n",
            "==============================================================================\n",
            "\n",
            "Notes:\n",
            "[1] Standard Errors assume that the covariance matrix of the errors is correctly specified.\n"
          ]
        }
      ],
      "source": [
        "print(results_5.summary())"
      ]
    },
    {
      "cell_type": "markdown",
      "metadata": {
        "id": "mDf81o5yNURj"
      },
      "source": [
        "Выводы аналогичны предыдущим моделям"
      ]
    },
    {
      "cell_type": "markdown",
      "source": [
        "# Домашнее задание"
      ],
      "metadata": {
        "id": "9pECca8mh4JG"
      }
    },
    {
      "cell_type": "markdown",
      "metadata": {
        "collapsed": true,
        "id": "t5wNtsKNNURk"
      },
      "source": [
        "1. Выбрать актив и загрузить из внешних источников исторические котировки(например, Yahoo finance)\n",
        "2. Провести предварительный анализ временного ряда , проверить гипотезу стационарности\n",
        "3. Построить модель ARIMA-GARCH и сделать краткие выводы\n",
        "4. Построить модель CAPM по рыночным данным, получить $\\beta$, оценить значимость $\\alpha$, сравнить полученный показатель $\\beta$ с данными из общедоступных источников информации (например, Yahoo, Reuters)"
      ]
    },
    {
      "cell_type": "markdown",
      "metadata": {
        "id": "M5IibI5wiA7-"
      },
      "source": [
        "## 2.Исследование временного ряда"
      ]
    },
    {
      "cell_type": "markdown",
      "metadata": {
        "id": "2jsw-pAkiA8A"
      },
      "source": [
        "Для моделирования временного ряда используется подход Бокса-Дженкенса, состоящий из следующих основных этапов:\n",
        "1. Проверка стационарности ряда временного ряда\n",
        "2. Приведение временного ряда к стационарному виду  (взятие первых и т.д. разностей)\n",
        "3. Построение модели ARIMA\n",
        "4. Проверка остатков модели ARIMA на отсутствие автокорреляции\n",
        "5. Проверка отсутствия автокорреляции в отношении квадратов остатков модели ARIMA\n",
        "6. Построение модели GARCH"
      ]
    },
    {
      "cell_type": "code",
      "source": [
        "import datetime\n",
        "import yfinance as yf"
      ],
      "metadata": {
        "id": "peXmGsnBdfNK"
      },
      "execution_count": 8,
      "outputs": []
    },
    {
      "cell_type": "code",
      "source": [
        "# Input Start and End Date\n",
        "start = datetime.datetime(2013,12,1)\n",
        "end = datetime.datetime(2018,12,1)\n",
        "stock_final = yf.download(['AMD'],start=start, end=end, progress=False, show_errors=False).loc[:, ['Adj Close', 'Volume']]\n",
        "\n",
        "stock_result = stock_final.drop(['Volume'], axis=1).reset_index()\n",
        "stock_result['Date'] = pd.to_datetime(stock_result['Date'], infer_datetime_format=True)\n",
        "amd = stock_result.drop_duplicates(ignore_index=True)\n"
      ],
      "metadata": {
        "id": "x-A8OPDYcymD"
      },
      "execution_count": 9,
      "outputs": []
    },
    {
      "cell_type": "code",
      "source": [
        "amd.head()"
      ],
      "metadata": {
        "id": "fnWeiK2-jlR0",
        "outputId": "a90b0c59-4fb5-49ec-f947-3a873b14501e",
        "colab": {
          "base_uri": "https://localhost:8080/",
          "height": 206
        }
      },
      "execution_count": 10,
      "outputs": [
        {
          "output_type": "execute_result",
          "data": {
            "text/plain": [
              "        Date  Adj Close\n",
              "0 2013-12-02       3.66\n",
              "1 2013-12-03       3.62\n",
              "2 2013-12-04       3.57\n",
              "3 2013-12-05       3.64\n",
              "4 2013-12-06       3.66"
            ],
            "text/html": [
              "\n",
              "  <div id=\"df-80f893a3-154f-4e21-bb3a-2d1940ec53da\">\n",
              "    <div class=\"colab-df-container\">\n",
              "      <div>\n",
              "<style scoped>\n",
              "    .dataframe tbody tr th:only-of-type {\n",
              "        vertical-align: middle;\n",
              "    }\n",
              "\n",
              "    .dataframe tbody tr th {\n",
              "        vertical-align: top;\n",
              "    }\n",
              "\n",
              "    .dataframe thead th {\n",
              "        text-align: right;\n",
              "    }\n",
              "</style>\n",
              "<table border=\"1\" class=\"dataframe\">\n",
              "  <thead>\n",
              "    <tr style=\"text-align: right;\">\n",
              "      <th></th>\n",
              "      <th>Date</th>\n",
              "      <th>Adj Close</th>\n",
              "    </tr>\n",
              "  </thead>\n",
              "  <tbody>\n",
              "    <tr>\n",
              "      <th>0</th>\n",
              "      <td>2013-12-02</td>\n",
              "      <td>3.66</td>\n",
              "    </tr>\n",
              "    <tr>\n",
              "      <th>1</th>\n",
              "      <td>2013-12-03</td>\n",
              "      <td>3.62</td>\n",
              "    </tr>\n",
              "    <tr>\n",
              "      <th>2</th>\n",
              "      <td>2013-12-04</td>\n",
              "      <td>3.57</td>\n",
              "    </tr>\n",
              "    <tr>\n",
              "      <th>3</th>\n",
              "      <td>2013-12-05</td>\n",
              "      <td>3.64</td>\n",
              "    </tr>\n",
              "    <tr>\n",
              "      <th>4</th>\n",
              "      <td>2013-12-06</td>\n",
              "      <td>3.66</td>\n",
              "    </tr>\n",
              "  </tbody>\n",
              "</table>\n",
              "</div>\n",
              "      <button class=\"colab-df-convert\" onclick=\"convertToInteractive('df-80f893a3-154f-4e21-bb3a-2d1940ec53da')\"\n",
              "              title=\"Convert this dataframe to an interactive table.\"\n",
              "              style=\"display:none;\">\n",
              "        \n",
              "  <svg xmlns=\"http://www.w3.org/2000/svg\" height=\"24px\"viewBox=\"0 0 24 24\"\n",
              "       width=\"24px\">\n",
              "    <path d=\"M0 0h24v24H0V0z\" fill=\"none\"/>\n",
              "    <path d=\"M18.56 5.44l.94 2.06.94-2.06 2.06-.94-2.06-.94-.94-2.06-.94 2.06-2.06.94zm-11 1L8.5 8.5l.94-2.06 2.06-.94-2.06-.94L8.5 2.5l-.94 2.06-2.06.94zm10 10l.94 2.06.94-2.06 2.06-.94-2.06-.94-.94-2.06-.94 2.06-2.06.94z\"/><path d=\"M17.41 7.96l-1.37-1.37c-.4-.4-.92-.59-1.43-.59-.52 0-1.04.2-1.43.59L10.3 9.45l-7.72 7.72c-.78.78-.78 2.05 0 2.83L4 21.41c.39.39.9.59 1.41.59.51 0 1.02-.2 1.41-.59l7.78-7.78 2.81-2.81c.8-.78.8-2.07 0-2.86zM5.41 20L4 18.59l7.72-7.72 1.47 1.35L5.41 20z\"/>\n",
              "  </svg>\n",
              "      </button>\n",
              "      \n",
              "  <style>\n",
              "    .colab-df-container {\n",
              "      display:flex;\n",
              "      flex-wrap:wrap;\n",
              "      gap: 12px;\n",
              "    }\n",
              "\n",
              "    .colab-df-convert {\n",
              "      background-color: #E8F0FE;\n",
              "      border: none;\n",
              "      border-radius: 50%;\n",
              "      cursor: pointer;\n",
              "      display: none;\n",
              "      fill: #1967D2;\n",
              "      height: 32px;\n",
              "      padding: 0 0 0 0;\n",
              "      width: 32px;\n",
              "    }\n",
              "\n",
              "    .colab-df-convert:hover {\n",
              "      background-color: #E2EBFA;\n",
              "      box-shadow: 0px 1px 2px rgba(60, 64, 67, 0.3), 0px 1px 3px 1px rgba(60, 64, 67, 0.15);\n",
              "      fill: #174EA6;\n",
              "    }\n",
              "\n",
              "    [theme=dark] .colab-df-convert {\n",
              "      background-color: #3B4455;\n",
              "      fill: #D2E3FC;\n",
              "    }\n",
              "\n",
              "    [theme=dark] .colab-df-convert:hover {\n",
              "      background-color: #434B5C;\n",
              "      box-shadow: 0px 1px 3px 1px rgba(0, 0, 0, 0.15);\n",
              "      filter: drop-shadow(0px 1px 2px rgba(0, 0, 0, 0.3));\n",
              "      fill: #FFFFFF;\n",
              "    }\n",
              "  </style>\n",
              "\n",
              "      <script>\n",
              "        const buttonEl =\n",
              "          document.querySelector('#df-80f893a3-154f-4e21-bb3a-2d1940ec53da button.colab-df-convert');\n",
              "        buttonEl.style.display =\n",
              "          google.colab.kernel.accessAllowed ? 'block' : 'none';\n",
              "\n",
              "        async function convertToInteractive(key) {\n",
              "          const element = document.querySelector('#df-80f893a3-154f-4e21-bb3a-2d1940ec53da');\n",
              "          const dataTable =\n",
              "            await google.colab.kernel.invokeFunction('convertToInteractive',\n",
              "                                                     [key], {});\n",
              "          if (!dataTable) return;\n",
              "\n",
              "          const docLinkHtml = 'Like what you see? Visit the ' +\n",
              "            '<a target=\"_blank\" href=https://colab.research.google.com/notebooks/data_table.ipynb>data table notebook</a>'\n",
              "            + ' to learn more about interactive tables.';\n",
              "          element.innerHTML = '';\n",
              "          dataTable['output_type'] = 'display_data';\n",
              "          await google.colab.output.renderOutput(dataTable, element);\n",
              "          const docLink = document.createElement('div');\n",
              "          docLink.innerHTML = docLinkHtml;\n",
              "          element.appendChild(docLink);\n",
              "        }\n",
              "      </script>\n",
              "    </div>\n",
              "  </div>\n",
              "  "
            ]
          },
          "metadata": {},
          "execution_count": 10
        }
      ]
    },
    {
      "cell_type": "code",
      "execution_count": 11,
      "metadata": {
        "colab": {
          "base_uri": "https://localhost:8080/"
        },
        "outputId": "037b3ae6-de61-490a-d288-0adb65639b2f",
        "id": "yc3VCKcuiA8C"
      },
      "outputs": [
        {
          "output_type": "execute_result",
          "data": {
            "text/plain": [
              "Date         datetime64[ns]\n",
              "Adj Close           float64\n",
              "dtype: object"
            ]
          },
          "metadata": {},
          "execution_count": 11
        }
      ],
      "source": [
        "amd.dtypes"
      ]
    },
    {
      "cell_type": "markdown",
      "metadata": {
        "id": "jvfK8sgiiA8D"
      },
      "source": [
        "Переход от цен к логарифмическим доходностям"
      ]
    },
    {
      "cell_type": "markdown",
      "metadata": {
        "collapsed": true,
        "id": "4UW5nf8ciA8E"
      },
      "source": [
        "$ln(\\frac{p_{i+1}}{p_{i}})=ln(p_{i+1})-ln(p_i)$ "
      ]
    },
    {
      "cell_type": "code",
      "execution_count": 12,
      "metadata": {
        "id": "-Kcp_Lj5iA8E"
      },
      "outputs": [],
      "source": [
        "amd['Log_ret_AMD']=np.log(amd['Adj Close'])-np.log(amd['Adj Close'].shift(1))\n",
        "# расчет логарифмической доходности"
      ]
    },
    {
      "cell_type": "code",
      "execution_count": 13,
      "metadata": {
        "colab": {
          "base_uri": "https://localhost:8080/",
          "height": 206
        },
        "outputId": "82210b1d-4b82-47ed-ac7e-e2dc26ec1ade",
        "id": "8aPds_IriA8F"
      },
      "outputs": [
        {
          "output_type": "execute_result",
          "data": {
            "text/plain": [
              "        Date  Adj Close  Log_ret_AMD\n",
              "0 2013-12-02       3.66          NaN\n",
              "1 2013-12-03       3.62    -0.010989\n",
              "2 2013-12-04       3.57    -0.013908\n",
              "3 2013-12-05       3.64     0.019418\n",
              "4 2013-12-06       3.66     0.005479"
            ],
            "text/html": [
              "\n",
              "  <div id=\"df-d10f5bcb-4666-45f0-afbc-28ff701bf30e\">\n",
              "    <div class=\"colab-df-container\">\n",
              "      <div>\n",
              "<style scoped>\n",
              "    .dataframe tbody tr th:only-of-type {\n",
              "        vertical-align: middle;\n",
              "    }\n",
              "\n",
              "    .dataframe tbody tr th {\n",
              "        vertical-align: top;\n",
              "    }\n",
              "\n",
              "    .dataframe thead th {\n",
              "        text-align: right;\n",
              "    }\n",
              "</style>\n",
              "<table border=\"1\" class=\"dataframe\">\n",
              "  <thead>\n",
              "    <tr style=\"text-align: right;\">\n",
              "      <th></th>\n",
              "      <th>Date</th>\n",
              "      <th>Adj Close</th>\n",
              "      <th>Log_ret_AMD</th>\n",
              "    </tr>\n",
              "  </thead>\n",
              "  <tbody>\n",
              "    <tr>\n",
              "      <th>0</th>\n",
              "      <td>2013-12-02</td>\n",
              "      <td>3.66</td>\n",
              "      <td>NaN</td>\n",
              "    </tr>\n",
              "    <tr>\n",
              "      <th>1</th>\n",
              "      <td>2013-12-03</td>\n",
              "      <td>3.62</td>\n",
              "      <td>-0.010989</td>\n",
              "    </tr>\n",
              "    <tr>\n",
              "      <th>2</th>\n",
              "      <td>2013-12-04</td>\n",
              "      <td>3.57</td>\n",
              "      <td>-0.013908</td>\n",
              "    </tr>\n",
              "    <tr>\n",
              "      <th>3</th>\n",
              "      <td>2013-12-05</td>\n",
              "      <td>3.64</td>\n",
              "      <td>0.019418</td>\n",
              "    </tr>\n",
              "    <tr>\n",
              "      <th>4</th>\n",
              "      <td>2013-12-06</td>\n",
              "      <td>3.66</td>\n",
              "      <td>0.005479</td>\n",
              "    </tr>\n",
              "  </tbody>\n",
              "</table>\n",
              "</div>\n",
              "      <button class=\"colab-df-convert\" onclick=\"convertToInteractive('df-d10f5bcb-4666-45f0-afbc-28ff701bf30e')\"\n",
              "              title=\"Convert this dataframe to an interactive table.\"\n",
              "              style=\"display:none;\">\n",
              "        \n",
              "  <svg xmlns=\"http://www.w3.org/2000/svg\" height=\"24px\"viewBox=\"0 0 24 24\"\n",
              "       width=\"24px\">\n",
              "    <path d=\"M0 0h24v24H0V0z\" fill=\"none\"/>\n",
              "    <path d=\"M18.56 5.44l.94 2.06.94-2.06 2.06-.94-2.06-.94-.94-2.06-.94 2.06-2.06.94zm-11 1L8.5 8.5l.94-2.06 2.06-.94-2.06-.94L8.5 2.5l-.94 2.06-2.06.94zm10 10l.94 2.06.94-2.06 2.06-.94-2.06-.94-.94-2.06-.94 2.06-2.06.94z\"/><path d=\"M17.41 7.96l-1.37-1.37c-.4-.4-.92-.59-1.43-.59-.52 0-1.04.2-1.43.59L10.3 9.45l-7.72 7.72c-.78.78-.78 2.05 0 2.83L4 21.41c.39.39.9.59 1.41.59.51 0 1.02-.2 1.41-.59l7.78-7.78 2.81-2.81c.8-.78.8-2.07 0-2.86zM5.41 20L4 18.59l7.72-7.72 1.47 1.35L5.41 20z\"/>\n",
              "  </svg>\n",
              "      </button>\n",
              "      \n",
              "  <style>\n",
              "    .colab-df-container {\n",
              "      display:flex;\n",
              "      flex-wrap:wrap;\n",
              "      gap: 12px;\n",
              "    }\n",
              "\n",
              "    .colab-df-convert {\n",
              "      background-color: #E8F0FE;\n",
              "      border: none;\n",
              "      border-radius: 50%;\n",
              "      cursor: pointer;\n",
              "      display: none;\n",
              "      fill: #1967D2;\n",
              "      height: 32px;\n",
              "      padding: 0 0 0 0;\n",
              "      width: 32px;\n",
              "    }\n",
              "\n",
              "    .colab-df-convert:hover {\n",
              "      background-color: #E2EBFA;\n",
              "      box-shadow: 0px 1px 2px rgba(60, 64, 67, 0.3), 0px 1px 3px 1px rgba(60, 64, 67, 0.15);\n",
              "      fill: #174EA6;\n",
              "    }\n",
              "\n",
              "    [theme=dark] .colab-df-convert {\n",
              "      background-color: #3B4455;\n",
              "      fill: #D2E3FC;\n",
              "    }\n",
              "\n",
              "    [theme=dark] .colab-df-convert:hover {\n",
              "      background-color: #434B5C;\n",
              "      box-shadow: 0px 1px 3px 1px rgba(0, 0, 0, 0.15);\n",
              "      filter: drop-shadow(0px 1px 2px rgba(0, 0, 0, 0.3));\n",
              "      fill: #FFFFFF;\n",
              "    }\n",
              "  </style>\n",
              "\n",
              "      <script>\n",
              "        const buttonEl =\n",
              "          document.querySelector('#df-d10f5bcb-4666-45f0-afbc-28ff701bf30e button.colab-df-convert');\n",
              "        buttonEl.style.display =\n",
              "          google.colab.kernel.accessAllowed ? 'block' : 'none';\n",
              "\n",
              "        async function convertToInteractive(key) {\n",
              "          const element = document.querySelector('#df-d10f5bcb-4666-45f0-afbc-28ff701bf30e');\n",
              "          const dataTable =\n",
              "            await google.colab.kernel.invokeFunction('convertToInteractive',\n",
              "                                                     [key], {});\n",
              "          if (!dataTable) return;\n",
              "\n",
              "          const docLinkHtml = 'Like what you see? Visit the ' +\n",
              "            '<a target=\"_blank\" href=https://colab.research.google.com/notebooks/data_table.ipynb>data table notebook</a>'\n",
              "            + ' to learn more about interactive tables.';\n",
              "          element.innerHTML = '';\n",
              "          dataTable['output_type'] = 'display_data';\n",
              "          await google.colab.output.renderOutput(dataTable, element);\n",
              "          const docLink = document.createElement('div');\n",
              "          docLink.innerHTML = docLinkHtml;\n",
              "          element.appendChild(docLink);\n",
              "        }\n",
              "      </script>\n",
              "    </div>\n",
              "  </div>\n",
              "  "
            ]
          },
          "metadata": {},
          "execution_count": 13
        }
      ],
      "source": [
        "amd.head()"
      ]
    },
    {
      "cell_type": "code",
      "execution_count": 14,
      "metadata": {
        "id": "xri1gxbwiA8G"
      },
      "outputs": [],
      "source": [
        "amd.drop([0],axis=0,inplace=True)\n",
        "# удаление первого наблюдения nan"
      ]
    },
    {
      "cell_type": "code",
      "execution_count": 15,
      "metadata": {
        "colab": {
          "base_uri": "https://localhost:8080/"
        },
        "outputId": "74861fa4-022c-4566-de72-159e898b6714",
        "id": "d3S0YqS7iA8G"
      },
      "outputs": [
        {
          "output_type": "execute_result",
          "data": {
            "text/plain": [
              "count    1259.000000\n",
              "mean        0.001399\n",
              "std         0.037776\n",
              "min        -0.277456\n",
              "25%        -0.016138\n",
              "50%         0.000494\n",
              "75%         0.018288\n",
              "max         0.420617\n",
              "Name: Log_ret_AMD, dtype: float64"
            ]
          },
          "metadata": {},
          "execution_count": 15
        }
      ],
      "source": [
        "amd['Log_ret_AMD'].describe()\n",
        "#основные характеристики динамического ряда логарифмической доходности"
      ]
    },
    {
      "cell_type": "code",
      "execution_count": 16,
      "metadata": {
        "colab": {
          "base_uri": "https://localhost:8080/"
        },
        "outputId": "71ea307b-6c61-4132-c9c7-991fafcb8915",
        "id": "9iLRp31HiA8H"
      },
      "outputs": [
        {
          "output_type": "execute_result",
          "data": {
            "text/plain": [
              "0.001425874976622092"
            ]
          },
          "metadata": {},
          "execution_count": 16
        }
      ],
      "source": [
        "np.var(amd['Log_ret_AMD'])\n",
        "# дисперсия ряда                                                             "
      ]
    },
    {
      "cell_type": "code",
      "execution_count": 17,
      "metadata": {
        "colab": {
          "base_uri": "https://localhost:8080/",
          "height": 1000
        },
        "outputId": "b7ea3a63-59ab-4312-fc46-618a662efde6",
        "id": "uYdeb5tkiA8H"
      },
      "outputs": [
        {
          "output_type": "display_data",
          "data": {
            "text/plain": [
              "<Figure size 576x432 with 1 Axes>"
            ],
            "image/png": "[encoded data removed]"
          },
          "metadata": {}
        },
        {
          "output_type": "display_data",
          "data": {
            "text/plain": [
              "<Figure size 576x432 with 1 Axes>"
            ],
            "image/png": "[encoded data removed]"
          },
          "metadata": {}
        },
        {
          "output_type": "display_data",
          "data": {
            "text/plain": [
              "<Figure size 576x432 with 1 Axes>"
            ],
            "image/png": "[encoded data removed]"
          },
          "metadata": {}
        },
        {
          "output_type": "display_data",
          "data": {
            "text/plain": [
              "<Figure size 720x432 with 0 Axes>"
            ]
          },
          "metadata": {}
        }
      ],
      "source": [
        "plt.figure(figsize=(8,6))\n",
        "plt.plot(amd['Date'],amd['Adj Close'])\n",
        "plt.title(u'Динамика цен акций Advanced Micro Devices, Inc.')\n",
        "\n",
        "plt.figure(figsize=(8,6))\n",
        "plt.plot(amd['Date'],np.log(amd['Adj Close']))\n",
        "plt.title(u'Динамика логарифмов цен акций Advanced Micro Devices, Inc.')\n",
        "\n",
        "plt.figure(figsize=(8,6))\n",
        "plt.plot(amd['Date'],amd['Log_ret_AMD'])\n",
        "plt.title(u'Динамика доходности акций Advanced Micro Devices, Inc.')\n",
        "plt.show()\n",
        "plt.gcf().clear()"
      ]
    },
    {
      "cell_type": "markdown",
      "metadata": {
        "collapsed": true,
        "id": "Rv3UWBZmiA8J"
      },
      "source": [
        "### 1. Проверка временного ряда на стационарность ($\\alpha=0.05$)"
      ]
    },
    {
      "cell_type": "markdown",
      "metadata": {
        "id": "asJ7OZbGiA8J"
      },
      "source": [
        " Модель авторегрессии - скользящего среднего корректно применять только к стационарным временным рядам. Стандартным критерием, используемым для проверки временного ряда на стационарность, явяляется критерий  Дикей-Фуллера (ADF - augmented Dickey-Fuller). В основе критерия лежит проверка значимости коэффициентов авторегрессии. Для данного критерия существуют специальные таблицы."
      ]
    },
    {
      "cell_type": "markdown",
      "metadata": {
        "id": "1Dtc7vh7iA8K"
      },
      "source": [
        "Проведем исследование стационарности для логарифмов цен и логарифмической доходности. Нулевая гипотеза состоит в том, что  процесс носит нестационарный характер. Говоря математическим языком - корни характеристического уравнения авторегрессионной модели лежат вунтри единичного круга. "
      ]
    },
    {
      "cell_type": "code",
      "execution_count": 18,
      "metadata": {
        "colab": {
          "base_uri": "https://localhost:8080/"
        },
        "outputId": "d825aae9-a16e-4dda-b44e-773377441159",
        "id": "9rMl_N3giA8K"
      },
      "outputs": [
        {
          "output_type": "execute_result",
          "data": {
            "text/plain": [
              "(-0.26351542768294256,\n",
              " 0.9305150460722125,\n",
              " 2,\n",
              " 1256,\n",
              " {'1%': -3.4355671297788666,\n",
              "  '10%': -2.5679966213893057,\n",
              "  '5%': -2.8638438984080117},\n",
              " -4625.993544138789)"
            ]
          },
          "metadata": {},
          "execution_count": 18
        }
      ],
      "source": [
        "tsa.stattools.adfuller(np.log(amd['Adj Close']),maxlag=10)\n",
        "### логарифмы цен"
      ]
    },
    {
      "cell_type": "code",
      "execution_count": 19,
      "metadata": {
        "colab": {
          "base_uri": "https://localhost:8080/"
        },
        "outputId": "ee70427d-7c9e-419d-df12-ffcada2654eb",
        "id": "Ing5yTvliA8L"
      },
      "outputs": [
        {
          "output_type": "execute_result",
          "data": {
            "text/plain": [
              "(-23.349492188738736,\n",
              " 0.0,\n",
              " 1,\n",
              " 1257,\n",
              " {'1%': -3.4355629707955395,\n",
              "  '10%': -2.567995644141416,\n",
              "  '5%': -2.863842063387667},\n",
              " -4627.921991783481)"
            ]
          },
          "metadata": {},
          "execution_count": 19
        }
      ],
      "source": [
        "tsa.stattools.adfuller(amd['Log_ret_AMD'],maxlag=10)\n",
        "### логарифмическая доходность"
      ]
    },
    {
      "cell_type": "markdown",
      "metadata": {
        "collapsed": true,
        "id": "HZnOUgi1iA8L"
      },
      "source": [
        "В приведенных результатах работы теста важными являются первые два элемента: само значение критерия и p-value. В случае логарифмов цен гипотеза об отсутствии стационарности принимается. В случае логарифмической доходности - гипотеза отвергается. Это означает, что для построения модели авторгерссии - скользящего среднего необходимо взять первые разности логарифмов цен (что и есть логарифмическая доходность)."
      ]
    },
    {
      "cell_type": "markdown",
      "metadata": {
        "id": "W3e9BClgiA8M"
      },
      "source": [
        "### Определение порядков авторегресии и скользящего среднего"
      ]
    },
    {
      "cell_type": "markdown",
      "metadata": {
        "id": "M4-tgj_IiA8M"
      },
      "source": [
        "Порядок процесса можно предварительно определить с помощью графиков авткорреляции и частной автокорреляция. Для этого построим указанные графики для стационарного процесса логарифмической доходности."
      ]
    },
    {
      "cell_type": "markdown",
      "metadata": {
        "collapsed": true,
        "id": "1K9G0uYkiA8N"
      },
      "source": [
        "1. Значимые коэффициенты автокорреляции определяют порядок скользящего среднего\n",
        "2. Значимые коэффициенты частной автокорреляции определяют порядок авторегрессии"
      ]
    },
    {
      "cell_type": "code",
      "execution_count": 20,
      "metadata": {
        "colab": {
          "base_uri": "https://localhost:8080/",
          "height": 397
        },
        "outputId": "c70806bc-7161-4509-ac8e-6c844da943ca",
        "id": "xmhYZjKyiA8N"
      },
      "outputs": [
        {
          "output_type": "display_data",
          "data": {
            "text/plain": [
              "<Figure size 720x432 with 1 Axes>"
            ],
            "image/png": "[encoded data removed]"
          },
          "metadata": {}
        }
      ],
      "source": [
        "fig=tsaplots.plot_acf(amd['Log_ret_AMD'],lags=20)"
      ]
    },
    {
      "cell_type": "code",
      "execution_count": 21,
      "metadata": {
        "colab": {
          "base_uri": "https://localhost:8080/",
          "height": 397
        },
        "outputId": "fda64d63-8500-4b38-806d-26d05a2a4908",
        "id": "ISRpoOgAiA8O"
      },
      "outputs": [
        {
          "output_type": "display_data",
          "data": {
            "text/plain": [
              "<Figure size 720x432 with 1 Axes>"
            ],
            "image/png": "[encoded data removed]"
          },
          "metadata": {}
        }
      ],
      "source": [
        "fig=tsaplots.plot_pacf(amd['Log_ret_AMD'],lags=20)"
      ]
    },
    {
      "cell_type": "markdown",
      "metadata": {
        "collapsed": true,
        "id": "ERn9TcT9iA8O"
      },
      "source": [
        "### 2. Построение модели ARIMA "
      ]
    },
    {
      "cell_type": "markdown",
      "metadata": {
        "collapsed": true,
        "id": "zKH8MMDXiA8P"
      },
      "source": [
        " В рассматриваемом случае нет возможности однозначно идентифицировать порядок модели только исходя из графиков. Реализуем простой цикл перебора параметров AR и MA."
      ]
    },
    {
      "cell_type": "code",
      "execution_count": 22,
      "metadata": {
        "id": "2X7WEt_eiA8P"
      },
      "outputs": [],
      "source": [
        "d=1 # порядок интеграции, берем первые разности\n",
        "l=list()"
      ]
    },
    {
      "cell_type": "markdown",
      "metadata": {
        "id": "9-k8oryyiA8Q"
      },
      "source": [
        "Т.к. алгоритм расчета параметров модели может выдавать ошибку в случае несходимости, применем специальную конструкцию try - except, позволяющую обрабатывать исключения."
      ]
    },
    {
      "cell_type": "code",
      "execution_count": 23,
      "metadata": {
        "colab": {
          "base_uri": "https://localhost:8080/"
        },
        "outputId": "ac41c736-fe42-43f6-d03f-75c063a3ff70",
        "id": "tCoJfcUCiA8Q"
      },
      "outputs": [
        {
          "output_type": "stream",
          "name": "stdout",
          "text": [
            "ARIMA(0,1,0)\n",
            "ARIMA(0,1,1)\n",
            "ARIMA(0,1,2)\n",
            "ARIMA(0,1,3)\n",
            "ARIMA(1,1,0)\n",
            "ARIMA(1,1,1)\n",
            "ARIMA(1,1,2)\n",
            "ARIMA(1,1,3)\n",
            "ARIMA(2,1,0)\n",
            "ARIMA(2,1,1)\n",
            "ARIMA(2,1,2)\n",
            "ARIMA(2,1,3)\n",
            "ARIMA(3,1,0)\n",
            "ARIMA(3,1,1)\n",
            "ARIMA(3,1,2)\n",
            "ARIMA(3,1,3)\n"
          ]
        }
      ],
      "source": [
        "import statsmodels.api as sm\n",
        "\n",
        "for i in range(0,4):\n",
        "    for j in range(0,4):\n",
        "        flag=True\n",
        "        print('ARIMA({},{},{})'.format(i,d,j))\n",
        "        try:\n",
        "            model=sm.tsa.ARIMA(np.log(amd['Adj Close']),order=(i,d,j))\n",
        "            res=model.fit()\n",
        "        except:\n",
        "            flag=False                                                       \n",
        "            pass\n",
        "        if (flag):\n",
        "            l.append((i,j,res.bic))"
      ]
    },
    {
      "cell_type": "code",
      "execution_count": 24,
      "metadata": {
        "colab": {
          "base_uri": "https://localhost:8080/"
        },
        "outputId": "9535c6b8-1d46-400b-ce46-a916968c180b",
        "id": "C3snM4hEiA8R"
      },
      "outputs": [
        {
          "output_type": "execute_result",
          "data": {
            "text/plain": [
              "[(0, 0, -4663.8086481108685),\n",
              " (0, 1, -4656.678738948603),\n",
              " (0, 2, -4656.385333704082),\n",
              " (0, 3, -4650.199765742721),\n",
              " (1, 0, -4656.689726430582),\n",
              " (1, 1, -4654.667889952944),\n",
              " (1, 2, -4650.854039814815),\n",
              " (1, 3, -4643.074272077037),\n",
              " (2, 0, -4656.441617784172),\n",
              " (2, 1, -4651.265123948143),\n",
              " (2, 2, -4644.009866745084),\n",
              " (2, 3, -4637.245774903002),\n",
              " (3, 0, -4650.834900454041),\n",
              " (3, 1, -4643.697593583236),\n",
              " (3, 2, -4637.145072272275),\n",
              " (3, 3, -4631.937982192887)]"
            ]
          },
          "metadata": {},
          "execution_count": 24
        }
      ],
      "source": [
        "l # первое число - порядок AR, второе число - порядок MA, третье число - BIC"
      ]
    },
    {
      "cell_type": "markdown",
      "metadata": {
        "id": "DMZuqyxpiA8R"
      },
      "source": [
        " Для целей задания ограничимся самой простой моделью порядка (1,1,1), т.е. моделью авторегрессии первого порядка и скользящего среднего первого порядка, построенную по первым разностям."
      ]
    },
    {
      "cell_type": "markdown",
      "metadata": {
        "id": "MxGrQv3eiA8S"
      },
      "source": [
        "$\\Delta y_t=\\phi_0+\\phi_1\\Delta y_{t-1}+\\varepsilon_t-\\theta_1\\varepsilon_{t-1}$"
      ]
    },
    {
      "cell_type": "code",
      "execution_count": 25,
      "metadata": {
        "id": "3Li_7KUxiA8S"
      },
      "outputs": [],
      "source": [
        "model_1=sm.tsa.ARIMA(np.log(amd['Adj Close']),order=(1,1,1))"
      ]
    },
    {
      "cell_type": "code",
      "execution_count": 26,
      "metadata": {
        "id": "JlVqPMfciA8T"
      },
      "outputs": [],
      "source": [
        "results_1=model_1.fit()"
      ]
    },
    {
      "cell_type": "code",
      "execution_count": 27,
      "metadata": {
        "colab": {
          "base_uri": "https://localhost:8080/"
        },
        "outputId": "28150b3d-397b-481f-b464-c5bf6498a339",
        "id": "SXIqLLKSiA8T"
      },
      "outputs": [
        {
          "output_type": "stream",
          "name": "stdout",
          "text": [
            "                               SARIMAX Results                                \n",
            "==============================================================================\n",
            "Dep. Variable:              Adj Close   No. Observations:                 1259\n",
            "Model:                 ARIMA(1, 1, 1)   Log Likelihood                2338.040\n",
            "Date:                Sat, 25 Jun 2022   AIC                          -4670.080\n",
            "Time:                        15:11:26   BIC                          -4654.668\n",
            "Sample:                             0   HQIC                         -4664.288\n",
            "                               - 1259                                         \n",
            "Covariance Type:                  opg                                         \n",
            "==============================================================================\n",
            "                 coef    std err          z      P>|z|      [0.025      0.975]\n",
            "------------------------------------------------------------------------------\n",
            "ar.L1         -0.8702      0.118     -7.392      0.000      -1.101      -0.639\n",
            "ma.L1          0.8388      0.127      6.580      0.000       0.589       1.089\n",
            "sigma2         0.0014   2.02e-05     70.431      0.000       0.001       0.001\n",
            "===================================================================================\n",
            "Ljung-Box (L1) (Q):                   1.21   Jarque-Bera (JB):             13356.80\n",
            "Prob(Q):                              0.27   Prob(JB):                         0.00\n",
            "Heteroskedasticity (H):               1.64   Skew:                             0.69\n",
            "Prob(H) (two-sided):                  0.00   Kurtosis:                        18.90\n",
            "===================================================================================\n",
            "\n",
            "Warnings:\n",
            "[1] Covariance matrix calculated using the outer product of gradients (complex-step).\n"
          ]
        }
      ],
      "source": [
        "print(results_1.summary())"
      ]
    },
    {
      "cell_type": "markdown",
      "metadata": {
        "collapsed": true,
        "id": "XQtq0CV8iA8U"
      },
      "source": [
        "Остатки модели ARIMA должны быть процессом \"белого шума\" (отсутствует автокорреляция)"
      ]
    },
    {
      "cell_type": "markdown",
      "metadata": {
        "id": "z8JVsCcAiA8U"
      },
      "source": [
        "Для проверки гипотезы, связанной с присутствием в остатках автокорреляции будем использовать тест Льюнга-Бокса. Данный тест  основан на  коэффициентах автокорреляции, рассчитываемых для разного количества лагов (смещений). Таким образом данный тест позволяет идентифицировать автокорреляцию остатков более высоких порядков."
      ]
    },
    {
      "cell_type": "code",
      "execution_count": 28,
      "metadata": {
        "colab": {
          "base_uri": "https://localhost:8080/",
          "height": 363
        },
        "outputId": "f6c5663e-3257-44a1-b3d9-41d3a57f90ad",
        "id": "5lGHtXa8iA8V"
      },
      "outputs": [
        {
          "output_type": "execute_result",
          "data": {
            "text/plain": [
              "     lb_stat  lb_pvalue\n",
              "1   0.135330   0.712968\n",
              "2   1.215234   0.544647\n",
              "3   1.230656   0.745661\n",
              "4   1.486550   0.829021\n",
              "5   1.647080   0.895498\n",
              "6   2.062985   0.913816\n",
              "7   2.136251   0.951916\n",
              "8   2.297270   0.970515\n",
              "9   2.673891   0.975836\n",
              "10  3.106807   0.978798"
            ],
            "text/html": [
              "\n",
              "  <div id=\"df-7c42a5a4-b8be-4520-b6c5-fcc47d7695f2\">\n",
              "    <div class=\"colab-df-container\">\n",
              "      <div>\n",
              "<style scoped>\n",
              "    .dataframe tbody tr th:only-of-type {\n",
              "        vertical-align: middle;\n",
              "    }\n",
              "\n",
              "    .dataframe tbody tr th {\n",
              "        vertical-align: top;\n",
              "    }\n",
              "\n",
              "    .dataframe thead th {\n",
              "        text-align: right;\n",
              "    }\n",
              "</style>\n",
              "<table border=\"1\" class=\"dataframe\">\n",
              "  <thead>\n",
              "    <tr style=\"text-align: right;\">\n",
              "      <th></th>\n",
              "      <th>lb_stat</th>\n",
              "      <th>lb_pvalue</th>\n",
              "    </tr>\n",
              "  </thead>\n",
              "  <tbody>\n",
              "    <tr>\n",
              "      <th>1</th>\n",
              "      <td>0.135330</td>\n",
              "      <td>0.712968</td>\n",
              "    </tr>\n",
              "    <tr>\n",
              "      <th>2</th>\n",
              "      <td>1.215234</td>\n",
              "      <td>0.544647</td>\n",
              "    </tr>\n",
              "    <tr>\n",
              "      <th>3</th>\n",
              "      <td>1.230656</td>\n",
              "      <td>0.745661</td>\n",
              "    </tr>\n",
              "    <tr>\n",
              "      <th>4</th>\n",
              "      <td>1.486550</td>\n",
              "      <td>0.829021</td>\n",
              "    </tr>\n",
              "    <tr>\n",
              "      <th>5</th>\n",
              "      <td>1.647080</td>\n",
              "      <td>0.895498</td>\n",
              "    </tr>\n",
              "    <tr>\n",
              "      <th>6</th>\n",
              "      <td>2.062985</td>\n",
              "      <td>0.913816</td>\n",
              "    </tr>\n",
              "    <tr>\n",
              "      <th>7</th>\n",
              "      <td>2.136251</td>\n",
              "      <td>0.951916</td>\n",
              "    </tr>\n",
              "    <tr>\n",
              "      <th>8</th>\n",
              "      <td>2.297270</td>\n",
              "      <td>0.970515</td>\n",
              "    </tr>\n",
              "    <tr>\n",
              "      <th>9</th>\n",
              "      <td>2.673891</td>\n",
              "      <td>0.975836</td>\n",
              "    </tr>\n",
              "    <tr>\n",
              "      <th>10</th>\n",
              "      <td>3.106807</td>\n",
              "      <td>0.978798</td>\n",
              "    </tr>\n",
              "  </tbody>\n",
              "</table>\n",
              "</div>\n",
              "      <button class=\"colab-df-convert\" onclick=\"convertToInteractive('df-7c42a5a4-b8be-4520-b6c5-fcc47d7695f2')\"\n",
              "              title=\"Convert this dataframe to an interactive table.\"\n",
              "              style=\"display:none;\">\n",
              "        \n",
              "  <svg xmlns=\"http://www.w3.org/2000/svg\" height=\"24px\"viewBox=\"0 0 24 24\"\n",
              "       width=\"24px\">\n",
              "    <path d=\"M0 0h24v24H0V0z\" fill=\"none\"/>\n",
              "    <path d=\"M18.56 5.44l.94 2.06.94-2.06 2.06-.94-2.06-.94-.94-2.06-.94 2.06-2.06.94zm-11 1L8.5 8.5l.94-2.06 2.06-.94-2.06-.94L8.5 2.5l-.94 2.06-2.06.94zm10 10l.94 2.06.94-2.06 2.06-.94-2.06-.94-.94-2.06-.94 2.06-2.06.94z\"/><path d=\"M17.41 7.96l-1.37-1.37c-.4-.4-.92-.59-1.43-.59-.52 0-1.04.2-1.43.59L10.3 9.45l-7.72 7.72c-.78.78-.78 2.05 0 2.83L4 21.41c.39.39.9.59 1.41.59.51 0 1.02-.2 1.41-.59l7.78-7.78 2.81-2.81c.8-.78.8-2.07 0-2.86zM5.41 20L4 18.59l7.72-7.72 1.47 1.35L5.41 20z\"/>\n",
              "  </svg>\n",
              "      </button>\n",
              "      \n",
              "  <style>\n",
              "    .colab-df-container {\n",
              "      display:flex;\n",
              "      flex-wrap:wrap;\n",
              "      gap: 12px;\n",
              "    }\n",
              "\n",
              "    .colab-df-convert {\n",
              "      background-color: #E8F0FE;\n",
              "      border: none;\n",
              "      border-radius: 50%;\n",
              "      cursor: pointer;\n",
              "      display: none;\n",
              "      fill: #1967D2;\n",
              "      height: 32px;\n",
              "      padding: 0 0 0 0;\n",
              "      width: 32px;\n",
              "    }\n",
              "\n",
              "    .colab-df-convert:hover {\n",
              "      background-color: #E2EBFA;\n",
              "      box-shadow: 0px 1px 2px rgba(60, 64, 67, 0.3), 0px 1px 3px 1px rgba(60, 64, 67, 0.15);\n",
              "      fill: #174EA6;\n",
              "    }\n",
              "\n",
              "    [theme=dark] .colab-df-convert {\n",
              "      background-color: #3B4455;\n",
              "      fill: #D2E3FC;\n",
              "    }\n",
              "\n",
              "    [theme=dark] .colab-df-convert:hover {\n",
              "      background-color: #434B5C;\n",
              "      box-shadow: 0px 1px 3px 1px rgba(0, 0, 0, 0.15);\n",
              "      filter: drop-shadow(0px 1px 2px rgba(0, 0, 0, 0.3));\n",
              "      fill: #FFFFFF;\n",
              "    }\n",
              "  </style>\n",
              "\n",
              "      <script>\n",
              "        const buttonEl =\n",
              "          document.querySelector('#df-7c42a5a4-b8be-4520-b6c5-fcc47d7695f2 button.colab-df-convert');\n",
              "        buttonEl.style.display =\n",
              "          google.colab.kernel.accessAllowed ? 'block' : 'none';\n",
              "\n",
              "        async function convertToInteractive(key) {\n",
              "          const element = document.querySelector('#df-7c42a5a4-b8be-4520-b6c5-fcc47d7695f2');\n",
              "          const dataTable =\n",
              "            await google.colab.kernel.invokeFunction('convertToInteractive',\n",
              "                                                     [key], {});\n",
              "          if (!dataTable) return;\n",
              "\n",
              "          const docLinkHtml = 'Like what you see? Visit the ' +\n",
              "            '<a target=\"_blank\" href=https://colab.research.google.com/notebooks/data_table.ipynb>data table notebook</a>'\n",
              "            + ' to learn more about interactive tables.';\n",
              "          element.innerHTML = '';\n",
              "          dataTable['output_type'] = 'display_data';\n",
              "          await google.colab.output.renderOutput(dataTable, element);\n",
              "          const docLink = document.createElement('div');\n",
              "          docLink.innerHTML = docLinkHtml;\n",
              "          element.appendChild(docLink);\n",
              "        }\n",
              "      </script>\n",
              "    </div>\n",
              "  </div>\n",
              "  "
            ]
          },
          "metadata": {},
          "execution_count": 28
        }
      ],
      "source": [
        "test.acorr_ljungbox(results_1.resid)\n",
        "### значение статистики и pvalue Льюнга-Бокса"
      ]
    },
    {
      "cell_type": "markdown",
      "metadata": {
        "collapsed": true,
        "id": "y2Ipf1kSiA8W"
      },
      "source": [
        "Общий вывод: Модель ARIMA (1,1,1), в целом, адекватно описывает исследуемый процесс. Коэффиценты AR  и MA меньше 1. Это говорит о том, что процесс имеет характер  \"возврата к средней\" (mean reversion). В частности, на основе данного процесса можно строить \"статистические\" арбитражные стратегии торговли. В противном случае речь идет о взрывной динамике, и процессом сложно управлять."
      ]
    },
    {
      "cell_type": "markdown",
      "metadata": {
        "collapsed": true,
        "id": "zkAzA1VaiA8W"
      },
      "source": [
        "###  3. Построение модели GARCH"
      ]
    },
    {
      "cell_type": "markdown",
      "metadata": {
        "id": "94UCmnYkiA8X"
      },
      "source": [
        "Процесс GARCH строится на основе остатков модели ARIMA, т.е. отфильтрованных данных. Для идентификации кластеров волатильности используются графики квадрата остатков и ACF для квадрата остатков."
      ]
    },
    {
      "cell_type": "code",
      "execution_count": 29,
      "metadata": {
        "colab": {
          "base_uri": "https://localhost:8080/",
          "height": 378
        },
        "outputId": "a3118974-6709-4fc2-801f-b4bb3a77ddb7",
        "id": "EHYK8PeJiA8Y"
      },
      "outputs": [
        {
          "output_type": "display_data",
          "data": {
            "text/plain": [
              "<Figure size 720x432 with 1 Axes>"
            ],
            "image/png": "[encoded data removed]"
          },
          "metadata": {}
        }
      ],
      "source": [
        "fig=(results_1.resid**2).plot()"
      ]
    },
    {
      "cell_type": "code",
      "execution_count": 30,
      "metadata": {
        "outputId": "2390bb88-5d4b-4ea9-cbd2-9ab9b1dda3df",
        "id": "PM51yB4diA8Z",
        "colab": {
          "base_uri": "https://localhost:8080/",
          "height": 397
        }
      },
      "outputs": [
        {
          "output_type": "display_data",
          "data": {
            "text/plain": [
              "<Figure size 720x432 with 1 Axes>"
            ],
            "image/png": "[encoded data removed]"
          },
          "metadata": {}
        }
      ],
      "source": [
        "fig=tsaplots.plot_acf(results_1.resid**2,lags=10)"
      ]
    },
    {
      "cell_type": "markdown",
      "metadata": {
        "id": "C6GCzgWiiA8a"
      },
      "source": [
        "С помощью  теста Льюнга-Бокса проверим ряд квадратов остатков на наличие автокорреляции."
      ]
    },
    {
      "cell_type": "code",
      "execution_count": 31,
      "metadata": {
        "colab": {
          "base_uri": "https://localhost:8080/"
        },
        "outputId": "c45186b5-1b6e-4843-8648-31c7ae481254",
        "id": "u6sMK9NAiA8a"
      },
      "outputs": [
        {
          "output_type": "execute_result",
          "data": {
            "text/plain": [
              "1     0.979215\n",
              "2     0.999427\n",
              "3     0.999986\n",
              "4     1.000000\n",
              "5     1.000000\n",
              "6     1.000000\n",
              "7     1.000000\n",
              "8     1.000000\n",
              "9     1.000000\n",
              "10    1.000000\n",
              "Name: lb_pvalue, dtype: float64"
            ]
          },
          "metadata": {},
          "execution_count": 31
        }
      ],
      "source": [
        "test.acorr_ljungbox(results_1.resid**2).iloc[0:10, 1]\n",
        "###  pvalue статистики Льюнга-Бокса"
      ]
    },
    {
      "cell_type": "markdown",
      "metadata": {
        "id": "HFdBHacIiA8b"
      },
      "source": [
        "Значение теста показывает, что в ряде квадрата остатков присутствует автокорреляция, следовательно в исследовани необходимо использовать модель GARCH."
      ]
    },
    {
      "cell_type": "markdown",
      "metadata": {
        "id": "QNLJuHMZiA8b"
      },
      "source": [
        "Для построения модели воспользуемся библиотекой ARCH. Построим модель GARCH по двум наборам данных - по исходным данным и по остаткам модели ARIMA. Если в качестве объекта исследования рассматриваются исходные данные, необходимо первоначально построить модель доходности."
      ]
    },
    {
      "cell_type": "markdown",
      "metadata": {
        "id": "HdggBwcJiA8c"
      },
      "source": [
        "Ограничимся простой моделью GARCH(1,1), имеющий следующий вид:"
      ]
    },
    {
      "cell_type": "markdown",
      "metadata": {
        "id": "J0m1qxs_iA8c"
      },
      "source": [
        "$\\varepsilon_t=\\sigma_t\\epsilon_t$\n",
        "${\\sigma^2}_t=\\omega+\\alpha_1{\\varepsilon^2}_{t-1}+\\beta_1{\\sigma^2}_{t-1}$"
      ]
    },
    {
      "cell_type": "markdown",
      "metadata": {
        "id": "yPQqTmoKiA8c"
      },
      "source": [
        "#### 3.1. Модель по исходным данным"
      ]
    },
    {
      "cell_type": "markdown",
      "metadata": {
        "collapsed": true,
        "id": "Psy-m3mriA8d"
      },
      "source": [
        "Моделирование доходности - Zero Mean"
      ]
    },
    {
      "cell_type": "code",
      "execution_count": 32,
      "metadata": {
        "id": "u8t1q5Q_iA8d"
      },
      "outputs": [],
      "source": [
        "zm=ZeroMean(amd['Log_ret_AMD'])"
      ]
    },
    {
      "cell_type": "code",
      "execution_count": 33,
      "metadata": {
        "colab": {
          "base_uri": "https://localhost:8080/",
          "height": 316
        },
        "outputId": "72476860-0bdc-44ba-9cf4-bd097d62cba8",
        "id": "hQu2NcUUiA8e"
      },
      "outputs": [
        {
          "output_type": "execute_result",
          "data": {
            "text/plain": [
              "<class 'statsmodels.iolib.summary.Summary'>\n",
              "\"\"\"\n",
              "                 Zero Mean - Constant Variance Model Results                  \n",
              "==============================================================================\n",
              "Dep. Variable:            Log_ret_AMD   R-squared:                       0.000\n",
              "Mean Model:                 Zero Mean   Adj. R-squared:                  0.001\n",
              "Vol Model:          Constant Variance   Log-Likelihood:                2337.79\n",
              "Distribution:                  Normal   AIC:                          -4673.57\n",
              "Method:            Maximum Likelihood   BIC:                          -4668.44\n",
              "                                        No. Observations:                 1259\n",
              "Date:                Sat, Jun 25 2022   Df Residuals:                     1259\n",
              "Time:                        15:11:28   Df Model:                            0\n",
              "                              Volatility Model                              \n",
              "============================================================================\n",
              "                 coef    std err          t      P>|t|      95.0% Conf. Int.\n",
              "----------------------------------------------------------------------------\n",
              "sigma2     1.4278e-03  1.723e-04      8.285  1.186e-16 [1.090e-03,1.766e-03]\n",
              "============================================================================\n",
              "\n",
              "Covariance estimator: White's Heteroskedasticity Consistent Estimator\n",
              "\"\"\""
            ],
            "text/html": [
              "<table class=\"simpletable\">\n",
              "<caption>Zero Mean - Constant Variance Model Results</caption>\n",
              "<tr>\n",
              "  <th>Dep. Variable:</th>     <td>Log_ret_AMD</td>    <th>  R-squared:         </th>  <td>   0.000</td> \n",
              "</tr>\n",
              "<tr>\n",
              "  <th>Mean Model:</th>         <td>Zero Mean</td>     <th>  Adj. R-squared:    </th>  <td>   0.001</td> \n",
              "</tr>\n",
              "<tr>\n",
              "  <th>Vol Model:</th>      <td>Constant Variance</td> <th>  Log-Likelihood:    </th> <td>   2337.79</td>\n",
              "</tr>\n",
              "<tr>\n",
              "  <th>Distribution:</th>        <td>Normal</td>       <th>  AIC:               </th> <td>  -4673.57</td>\n",
              "</tr>\n",
              "<tr>\n",
              "  <th>Method:</th>        <td>Maximum Likelihood</td> <th>  BIC:               </th> <td>  -4668.44</td>\n",
              "</tr>\n",
              "<tr>\n",
              "  <th></th>                        <td></td>          <th>  No. Observations:  </th>    <td>1259</td>   \n",
              "</tr>\n",
              "<tr>\n",
              "  <th>Date:</th>           <td>Sat, Jun 25 2022</td>  <th>  Df Residuals:      </th>    <td>1259</td>   \n",
              "</tr>\n",
              "<tr>\n",
              "  <th>Time:</th>               <td>15:11:28</td>      <th>  Df Model:          </th>      <td>0</td>    \n",
              "</tr>\n",
              "</table>\n",
              "<table class=\"simpletable\">\n",
              "<caption>Volatility Model</caption>\n",
              "<tr>\n",
              "     <td></td>       <th>coef</th>     <th>std err</th>      <th>t</th>       <th>P>|t|</th>     <th>95.0% Conf. Int.</th>   \n",
              "</tr>\n",
              "<tr>\n",
              "  <th>sigma2</th> <td>1.4278e-03</td> <td>1.723e-04</td> <td>    8.285</td> <td>1.186e-16</td> <td>[1.090e-03,1.766e-03]</td>\n",
              "</tr>\n",
              "</table><br/><br/>Covariance estimator: White's Heteroskedasticity Consistent Estimator"
            ]
          },
          "metadata": {},
          "execution_count": 33
        }
      ],
      "source": [
        "zm.fit().summary()"
      ]
    },
    {
      "cell_type": "code",
      "execution_count": 34,
      "metadata": {
        "id": "EQiu-FudiA8e"
      },
      "outputs": [],
      "source": [
        "zm.volatility=GARCH(p=1,q=1)"
      ]
    },
    {
      "cell_type": "code",
      "execution_count": 35,
      "metadata": {
        "id": "krqX-5EfiA8f"
      },
      "outputs": [],
      "source": [
        "res_zm = zm.fit(update_freq=0, disp='off')"
      ]
    },
    {
      "cell_type": "code",
      "execution_count": 36,
      "metadata": {
        "colab": {
          "base_uri": "https://localhost:8080/",
          "height": 358
        },
        "outputId": "62b9ca13-f99a-4116-be75-347a9d8e89bf",
        "id": "Z2aKU6mAiA8f"
      },
      "outputs": [
        {
          "output_type": "execute_result",
          "data": {
            "text/plain": [
              "<class 'statsmodels.iolib.summary.Summary'>\n",
              "\"\"\"\n",
              "                       Zero Mean - GARCH Model Results                        \n",
              "==============================================================================\n",
              "Dep. Variable:            Log_ret_AMD   R-squared:                       0.000\n",
              "Mean Model:                 Zero Mean   Adj. R-squared:                  0.001\n",
              "Vol Model:                      GARCH   Log-Likelihood:                2381.78\n",
              "Distribution:                  Normal   AIC:                          -4757.56\n",
              "Method:            Maximum Likelihood   BIC:                          -4742.14\n",
              "                                        No. Observations:                 1259\n",
              "Date:                Sat, Jun 25 2022   Df Residuals:                     1259\n",
              "Time:                        15:11:28   Df Model:                            0\n",
              "                              Volatility Model                              \n",
              "============================================================================\n",
              "                 coef    std err          t      P>|t|      95.0% Conf. Int.\n",
              "----------------------------------------------------------------------------\n",
              "omega      3.7780e-04  1.422e-04      2.656  7.901e-03 [9.904e-05,6.566e-04]\n",
              "alpha[1]       0.3252      0.174      1.870  6.146e-02  [-1.561e-02,  0.666]\n",
              "beta[1]        0.4932  7.897e-02      6.245  4.251e-10     [  0.338,  0.648]\n",
              "============================================================================\n",
              "\n",
              "Covariance estimator: robust\n",
              "\"\"\""
            ],
            "text/html": [
              "<table class=\"simpletable\">\n",
              "<caption>Zero Mean - GARCH Model Results</caption>\n",
              "<tr>\n",
              "  <th>Dep. Variable:</th>     <td>Log_ret_AMD</td>    <th>  R-squared:         </th>  <td>   0.000</td> \n",
              "</tr>\n",
              "<tr>\n",
              "  <th>Mean Model:</th>         <td>Zero Mean</td>     <th>  Adj. R-squared:    </th>  <td>   0.001</td> \n",
              "</tr>\n",
              "<tr>\n",
              "  <th>Vol Model:</th>            <td>GARCH</td>       <th>  Log-Likelihood:    </th> <td>   2381.78</td>\n",
              "</tr>\n",
              "<tr>\n",
              "  <th>Distribution:</th>        <td>Normal</td>       <th>  AIC:               </th> <td>  -4757.56</td>\n",
              "</tr>\n",
              "<tr>\n",
              "  <th>Method:</th>        <td>Maximum Likelihood</td> <th>  BIC:               </th> <td>  -4742.14</td>\n",
              "</tr>\n",
              "<tr>\n",
              "  <th></th>                        <td></td>          <th>  No. Observations:  </th>    <td>1259</td>   \n",
              "</tr>\n",
              "<tr>\n",
              "  <th>Date:</th>           <td>Sat, Jun 25 2022</td>  <th>  Df Residuals:      </th>    <td>1259</td>   \n",
              "</tr>\n",
              "<tr>\n",
              "  <th>Time:</th>               <td>15:11:28</td>      <th>  Df Model:          </th>      <td>0</td>    \n",
              "</tr>\n",
              "</table>\n",
              "<table class=\"simpletable\">\n",
              "<caption>Volatility Model</caption>\n",
              "<tr>\n",
              "      <td></td>        <th>coef</th>     <th>std err</th>      <th>t</th>       <th>P>|t|</th>     <th>95.0% Conf. Int.</th>   \n",
              "</tr>\n",
              "<tr>\n",
              "  <th>omega</th>    <td>3.7780e-04</td> <td>1.422e-04</td> <td>    2.656</td> <td>7.901e-03</td> <td>[9.904e-05,6.566e-04]</td>\n",
              "</tr>\n",
              "<tr>\n",
              "  <th>alpha[1]</th> <td>    0.3252</td> <td>    0.174</td> <td>    1.870</td> <td>6.146e-02</td> <td>[-1.561e-02,  0.666]</td> \n",
              "</tr>\n",
              "<tr>\n",
              "  <th>beta[1]</th>  <td>    0.4932</td> <td>7.897e-02</td> <td>    6.245</td> <td>4.251e-10</td>   <td>[  0.338,  0.648]</td>  \n",
              "</tr>\n",
              "</table><br/><br/>Covariance estimator: robust"
            ]
          },
          "metadata": {},
          "execution_count": 36
        }
      ],
      "source": [
        "res_zm.summary()"
      ]
    },
    {
      "cell_type": "markdown",
      "metadata": {
        "id": "Q3-EJClYiA8g"
      },
      "source": [
        "Модель не дает в полной мере адекватного результата, т.к. отсутсвует сходимость алгоритма."
      ]
    },
    {
      "cell_type": "markdown",
      "metadata": {
        "collapsed": true,
        "id": "g12ISB5XiA8h"
      },
      "source": [
        "##### Моделирование доходности - Constant Mean"
      ]
    },
    {
      "cell_type": "markdown",
      "metadata": {
        "id": "8fCfHfZjiA8h"
      },
      "source": [
        "$r_t=\\mu+\\varepsilon_t$"
      ]
    },
    {
      "cell_type": "code",
      "execution_count": 37,
      "metadata": {
        "id": "z2T_OQi-iA8h"
      },
      "outputs": [],
      "source": [
        "cm=ConstantMean(amd['Log_ret_AMD'])"
      ]
    },
    {
      "cell_type": "code",
      "execution_count": 38,
      "metadata": {
        "colab": {
          "base_uri": "https://localhost:8080/",
          "height": 377
        },
        "outputId": "c1032367-45c0-4578-c70e-907d154e8c0d",
        "id": "N_d42fvpiA8i"
      },
      "outputs": [
        {
          "output_type": "execute_result",
          "data": {
            "text/plain": [
              "<class 'statsmodels.iolib.summary.Summary'>\n",
              "\"\"\"\n",
              "               Constant Mean - Constant Variance Model Results                \n",
              "==============================================================================\n",
              "Dep. Variable:            Log_ret_AMD   R-squared:                       0.000\n",
              "Mean Model:             Constant Mean   Adj. R-squared:                  0.000\n",
              "Vol Model:          Constant Variance   Log-Likelihood:                2338.65\n",
              "Distribution:                  Normal   AIC:                          -4673.30\n",
              "Method:            Maximum Likelihood   BIC:                          -4663.03\n",
              "                                        No. Observations:                 1259\n",
              "Date:                Sat, Jun 25 2022   Df Residuals:                     1258\n",
              "Time:                        15:11:28   Df Model:                            1\n",
              "                                  Mean Model                                 \n",
              "=============================================================================\n",
              "                 coef    std err          t      P>|t|       95.0% Conf. Int.\n",
              "-----------------------------------------------------------------------------\n",
              "mu         1.3989e-03  1.064e-03      1.315      0.189 [-6.869e-04,3.485e-03]\n",
              "                              Volatility Model                              \n",
              "============================================================================\n",
              "                 coef    std err          t      P>|t|      95.0% Conf. Int.\n",
              "----------------------------------------------------------------------------\n",
              "sigma2     1.4259e-03  1.718e-04      8.298  1.060e-16 [1.089e-03,1.763e-03]\n",
              "============================================================================\n",
              "\n",
              "Covariance estimator: White's Heteroskedasticity Consistent Estimator\n",
              "\"\"\""
            ],
            "text/html": [
              "<table class=\"simpletable\">\n",
              "<caption>Constant Mean - Constant Variance Model Results</caption>\n",
              "<tr>\n",
              "  <th>Dep. Variable:</th>     <td>Log_ret_AMD</td>    <th>  R-squared:         </th>  <td>   0.000</td> \n",
              "</tr>\n",
              "<tr>\n",
              "  <th>Mean Model:</th>       <td>Constant Mean</td>   <th>  Adj. R-squared:    </th>  <td>   0.000</td> \n",
              "</tr>\n",
              "<tr>\n",
              "  <th>Vol Model:</th>      <td>Constant Variance</td> <th>  Log-Likelihood:    </th> <td>   2338.65</td>\n",
              "</tr>\n",
              "<tr>\n",
              "  <th>Distribution:</th>        <td>Normal</td>       <th>  AIC:               </th> <td>  -4673.30</td>\n",
              "</tr>\n",
              "<tr>\n",
              "  <th>Method:</th>        <td>Maximum Likelihood</td> <th>  BIC:               </th> <td>  -4663.03</td>\n",
              "</tr>\n",
              "<tr>\n",
              "  <th></th>                        <td></td>          <th>  No. Observations:  </th>    <td>1259</td>   \n",
              "</tr>\n",
              "<tr>\n",
              "  <th>Date:</th>           <td>Sat, Jun 25 2022</td>  <th>  Df Residuals:      </th>    <td>1258</td>   \n",
              "</tr>\n",
              "<tr>\n",
              "  <th>Time:</th>               <td>15:11:28</td>      <th>  Df Model:          </th>      <td>1</td>    \n",
              "</tr>\n",
              "</table>\n",
              "<table class=\"simpletable\">\n",
              "<caption>Mean Model</caption>\n",
              "<tr>\n",
              "   <td></td>     <th>coef</th>     <th>std err</th>      <th>t</th>       <th>P>|t|</th>      <th>95.0% Conf. Int.</th>   \n",
              "</tr>\n",
              "<tr>\n",
              "  <th>mu</th> <td>1.3989e-03</td> <td>1.064e-03</td> <td>    1.315</td> <td>    0.189</td> <td>[-6.869e-04,3.485e-03]</td>\n",
              "</tr>\n",
              "</table>\n",
              "<table class=\"simpletable\">\n",
              "<caption>Volatility Model</caption>\n",
              "<tr>\n",
              "     <td></td>       <th>coef</th>     <th>std err</th>      <th>t</th>       <th>P>|t|</th>     <th>95.0% Conf. Int.</th>   \n",
              "</tr>\n",
              "<tr>\n",
              "  <th>sigma2</th> <td>1.4259e-03</td> <td>1.718e-04</td> <td>    8.298</td> <td>1.060e-16</td> <td>[1.089e-03,1.763e-03]</td>\n",
              "</tr>\n",
              "</table><br/><br/>Covariance estimator: White's Heteroskedasticity Consistent Estimator"
            ]
          },
          "metadata": {},
          "execution_count": 38
        }
      ],
      "source": [
        "cm.fit().summary()"
      ]
    },
    {
      "cell_type": "code",
      "execution_count": 39,
      "metadata": {
        "id": "7Z1JabhFiA8j"
      },
      "outputs": [],
      "source": [
        "cm.volatility=GARCH(p=1,q=1)"
      ]
    },
    {
      "cell_type": "code",
      "execution_count": 40,
      "metadata": {
        "id": "5dc-EJrciA8j"
      },
      "outputs": [],
      "source": [
        "res_cm = cm.fit(update_freq=0, disp='off')"
      ]
    },
    {
      "cell_type": "code",
      "execution_count": 41,
      "metadata": {
        "colab": {
          "base_uri": "https://localhost:8080/",
          "height": 419
        },
        "outputId": "9fb2aeec-15b5-4366-8837-38892bc43b1d",
        "id": "V2WRH0qIiA8j"
      },
      "outputs": [
        {
          "output_type": "execute_result",
          "data": {
            "text/plain": [
              "<class 'statsmodels.iolib.summary.Summary'>\n",
              "\"\"\"\n",
              "                     Constant Mean - GARCH Model Results                      \n",
              "==============================================================================\n",
              "Dep. Variable:            Log_ret_AMD   R-squared:                       0.000\n",
              "Mean Model:             Constant Mean   Adj. R-squared:                  0.000\n",
              "Vol Model:                      GARCH   Log-Likelihood:                2386.04\n",
              "Distribution:                  Normal   AIC:                          -4764.07\n",
              "Method:            Maximum Likelihood   BIC:                          -4743.52\n",
              "                                        No. Observations:                 1259\n",
              "Date:                Sat, Jun 25 2022   Df Residuals:                     1258\n",
              "Time:                        15:11:28   Df Model:                            1\n",
              "                                  Mean Model                                 \n",
              "=============================================================================\n",
              "                 coef    std err          t      P>|t|       95.0% Conf. Int.\n",
              "-----------------------------------------------------------------------------\n",
              "mu         2.7557e-03  1.636e-03      1.684  9.217e-02 [-4.515e-04,5.963e-03]\n",
              "                              Volatility Model                              \n",
              "============================================================================\n",
              "                 coef    std err          t      P>|t|      95.0% Conf. Int.\n",
              "----------------------------------------------------------------------------\n",
              "omega      3.7012e-04  1.454e-04      2.546  1.091e-02 [8.516e-05,6.551e-04]\n",
              "alpha[1]       0.3631      0.215      1.690  9.094e-02  [-5.788e-02,  0.784]\n",
              "beta[1]        0.4760  8.102e-02      5.875  4.234e-09     [  0.317,  0.635]\n",
              "============================================================================\n",
              "\n",
              "Covariance estimator: robust\n",
              "\"\"\""
            ],
            "text/html": [
              "<table class=\"simpletable\">\n",
              "<caption>Constant Mean - GARCH Model Results</caption>\n",
              "<tr>\n",
              "  <th>Dep. Variable:</th>     <td>Log_ret_AMD</td>    <th>  R-squared:         </th>  <td>   0.000</td> \n",
              "</tr>\n",
              "<tr>\n",
              "  <th>Mean Model:</th>       <td>Constant Mean</td>   <th>  Adj. R-squared:    </th>  <td>   0.000</td> \n",
              "</tr>\n",
              "<tr>\n",
              "  <th>Vol Model:</th>            <td>GARCH</td>       <th>  Log-Likelihood:    </th> <td>   2386.04</td>\n",
              "</tr>\n",
              "<tr>\n",
              "  <th>Distribution:</th>        <td>Normal</td>       <th>  AIC:               </th> <td>  -4764.07</td>\n",
              "</tr>\n",
              "<tr>\n",
              "  <th>Method:</th>        <td>Maximum Likelihood</td> <th>  BIC:               </th> <td>  -4743.52</td>\n",
              "</tr>\n",
              "<tr>\n",
              "  <th></th>                        <td></td>          <th>  No. Observations:  </th>    <td>1259</td>   \n",
              "</tr>\n",
              "<tr>\n",
              "  <th>Date:</th>           <td>Sat, Jun 25 2022</td>  <th>  Df Residuals:      </th>    <td>1258</td>   \n",
              "</tr>\n",
              "<tr>\n",
              "  <th>Time:</th>               <td>15:11:28</td>      <th>  Df Model:          </th>      <td>1</td>    \n",
              "</tr>\n",
              "</table>\n",
              "<table class=\"simpletable\">\n",
              "<caption>Mean Model</caption>\n",
              "<tr>\n",
              "   <td></td>     <th>coef</th>     <th>std err</th>      <th>t</th>       <th>P>|t|</th>      <th>95.0% Conf. Int.</th>   \n",
              "</tr>\n",
              "<tr>\n",
              "  <th>mu</th> <td>2.7557e-03</td> <td>1.636e-03</td> <td>    1.684</td> <td>9.217e-02</td> <td>[-4.515e-04,5.963e-03]</td>\n",
              "</tr>\n",
              "</table>\n",
              "<table class=\"simpletable\">\n",
              "<caption>Volatility Model</caption>\n",
              "<tr>\n",
              "      <td></td>        <th>coef</th>     <th>std err</th>      <th>t</th>       <th>P>|t|</th>     <th>95.0% Conf. Int.</th>   \n",
              "</tr>\n",
              "<tr>\n",
              "  <th>omega</th>    <td>3.7012e-04</td> <td>1.454e-04</td> <td>    2.546</td> <td>1.091e-02</td> <td>[8.516e-05,6.551e-04]</td>\n",
              "</tr>\n",
              "<tr>\n",
              "  <th>alpha[1]</th> <td>    0.3631</td> <td>    0.215</td> <td>    1.690</td> <td>9.094e-02</td> <td>[-5.788e-02,  0.784]</td> \n",
              "</tr>\n",
              "<tr>\n",
              "  <th>beta[1]</th>  <td>    0.4760</td> <td>8.102e-02</td> <td>    5.875</td> <td>4.234e-09</td>   <td>[  0.317,  0.635]</td>  \n",
              "</tr>\n",
              "</table><br/><br/>Covariance estimator: robust"
            ]
          },
          "metadata": {},
          "execution_count": 41
        }
      ],
      "source": [
        "res_cm.summary()"
      ]
    },
    {
      "cell_type": "markdown",
      "metadata": {
        "id": "Kxu0ICHiiA8k"
      },
      "source": [
        " Проверим остатки модели на наличие автокорреляции"
      ]
    },
    {
      "cell_type": "code",
      "execution_count": 42,
      "metadata": {
        "colab": {
          "base_uri": "https://localhost:8080/",
          "height": 363
        },
        "outputId": "17aa4a70-48fe-4081-ca8d-dc69d34f2626",
        "id": "ZwTWtu_OiA8k"
      },
      "outputs": [
        {
          "output_type": "execute_result",
          "data": {
            "text/plain": [
              "      lb_stat  lb_pvalue\n",
              "1    0.033174   0.855474\n",
              "2    6.679491   0.035446\n",
              "3    8.382166   0.038740\n",
              "4    8.401862   0.077918\n",
              "5   12.536524   0.028132\n",
              "6   12.625353   0.049387\n",
              "7   12.626417   0.081751\n",
              "8   12.703566   0.122464\n",
              "9   13.332132   0.148144\n",
              "10  14.752106   0.141364"
            ],
            "text/html": [
              "\n",
              "  <div id=\"df-02fee956-af44-4737-9c75-b6f3ac33a9c9\">\n",
              "    <div class=\"colab-df-container\">\n",
              "      <div>\n",
              "<style scoped>\n",
              "    .dataframe tbody tr th:only-of-type {\n",
              "        vertical-align: middle;\n",
              "    }\n",
              "\n",
              "    .dataframe tbody tr th {\n",
              "        vertical-align: top;\n",
              "    }\n",
              "\n",
              "    .dataframe thead th {\n",
              "        text-align: right;\n",
              "    }\n",
              "</style>\n",
              "<table border=\"1\" class=\"dataframe\">\n",
              "  <thead>\n",
              "    <tr style=\"text-align: right;\">\n",
              "      <th></th>\n",
              "      <th>lb_stat</th>\n",
              "      <th>lb_pvalue</th>\n",
              "    </tr>\n",
              "  </thead>\n",
              "  <tbody>\n",
              "    <tr>\n",
              "      <th>1</th>\n",
              "      <td>0.033174</td>\n",
              "      <td>0.855474</td>\n",
              "    </tr>\n",
              "    <tr>\n",
              "      <th>2</th>\n",
              "      <td>6.679491</td>\n",
              "      <td>0.035446</td>\n",
              "    </tr>\n",
              "    <tr>\n",
              "      <th>3</th>\n",
              "      <td>8.382166</td>\n",
              "      <td>0.038740</td>\n",
              "    </tr>\n",
              "    <tr>\n",
              "      <th>4</th>\n",
              "      <td>8.401862</td>\n",
              "      <td>0.077918</td>\n",
              "    </tr>\n",
              "    <tr>\n",
              "      <th>5</th>\n",
              "      <td>12.536524</td>\n",
              "      <td>0.028132</td>\n",
              "    </tr>\n",
              "    <tr>\n",
              "      <th>6</th>\n",
              "      <td>12.625353</td>\n",
              "      <td>0.049387</td>\n",
              "    </tr>\n",
              "    <tr>\n",
              "      <th>7</th>\n",
              "      <td>12.626417</td>\n",
              "      <td>0.081751</td>\n",
              "    </tr>\n",
              "    <tr>\n",
              "      <th>8</th>\n",
              "      <td>12.703566</td>\n",
              "      <td>0.122464</td>\n",
              "    </tr>\n",
              "    <tr>\n",
              "      <th>9</th>\n",
              "      <td>13.332132</td>\n",
              "      <td>0.148144</td>\n",
              "    </tr>\n",
              "    <tr>\n",
              "      <th>10</th>\n",
              "      <td>14.752106</td>\n",
              "      <td>0.141364</td>\n",
              "    </tr>\n",
              "  </tbody>\n",
              "</table>\n",
              "</div>\n",
              "      <button class=\"colab-df-convert\" onclick=\"convertToInteractive('df-02fee956-af44-4737-9c75-b6f3ac33a9c9')\"\n",
              "              title=\"Convert this dataframe to an interactive table.\"\n",
              "              style=\"display:none;\">\n",
              "        \n",
              "  <svg xmlns=\"http://www.w3.org/2000/svg\" height=\"24px\"viewBox=\"0 0 24 24\"\n",
              "       width=\"24px\">\n",
              "    <path d=\"M0 0h24v24H0V0z\" fill=\"none\"/>\n",
              "    <path d=\"M18.56 5.44l.94 2.06.94-2.06 2.06-.94-2.06-.94-.94-2.06-.94 2.06-2.06.94zm-11 1L8.5 8.5l.94-2.06 2.06-.94-2.06-.94L8.5 2.5l-.94 2.06-2.06.94zm10 10l.94 2.06.94-2.06 2.06-.94-2.06-.94-.94-2.06-.94 2.06-2.06.94z\"/><path d=\"M17.41 7.96l-1.37-1.37c-.4-.4-.92-.59-1.43-.59-.52 0-1.04.2-1.43.59L10.3 9.45l-7.72 7.72c-.78.78-.78 2.05 0 2.83L4 21.41c.39.39.9.59 1.41.59.51 0 1.02-.2 1.41-.59l7.78-7.78 2.81-2.81c.8-.78.8-2.07 0-2.86zM5.41 20L4 18.59l7.72-7.72 1.47 1.35L5.41 20z\"/>\n",
              "  </svg>\n",
              "      </button>\n",
              "      \n",
              "  <style>\n",
              "    .colab-df-container {\n",
              "      display:flex;\n",
              "      flex-wrap:wrap;\n",
              "      gap: 12px;\n",
              "    }\n",
              "\n",
              "    .colab-df-convert {\n",
              "      background-color: #E8F0FE;\n",
              "      border: none;\n",
              "      border-radius: 50%;\n",
              "      cursor: pointer;\n",
              "      display: none;\n",
              "      fill: #1967D2;\n",
              "      height: 32px;\n",
              "      padding: 0 0 0 0;\n",
              "      width: 32px;\n",
              "    }\n",
              "\n",
              "    .colab-df-convert:hover {\n",
              "      background-color: #E2EBFA;\n",
              "      box-shadow: 0px 1px 2px rgba(60, 64, 67, 0.3), 0px 1px 3px 1px rgba(60, 64, 67, 0.15);\n",
              "      fill: #174EA6;\n",
              "    }\n",
              "\n",
              "    [theme=dark] .colab-df-convert {\n",
              "      background-color: #3B4455;\n",
              "      fill: #D2E3FC;\n",
              "    }\n",
              "\n",
              "    [theme=dark] .colab-df-convert:hover {\n",
              "      background-color: #434B5C;\n",
              "      box-shadow: 0px 1px 3px 1px rgba(0, 0, 0, 0.15);\n",
              "      filter: drop-shadow(0px 1px 2px rgba(0, 0, 0, 0.3));\n",
              "      fill: #FFFFFF;\n",
              "    }\n",
              "  </style>\n",
              "\n",
              "      <script>\n",
              "        const buttonEl =\n",
              "          document.querySelector('#df-02fee956-af44-4737-9c75-b6f3ac33a9c9 button.colab-df-convert');\n",
              "        buttonEl.style.display =\n",
              "          google.colab.kernel.accessAllowed ? 'block' : 'none';\n",
              "\n",
              "        async function convertToInteractive(key) {\n",
              "          const element = document.querySelector('#df-02fee956-af44-4737-9c75-b6f3ac33a9c9');\n",
              "          const dataTable =\n",
              "            await google.colab.kernel.invokeFunction('convertToInteractive',\n",
              "                                                     [key], {});\n",
              "          if (!dataTable) return;\n",
              "\n",
              "          const docLinkHtml = 'Like what you see? Visit the ' +\n",
              "            '<a target=\"_blank\" href=https://colab.research.google.com/notebooks/data_table.ipynb>data table notebook</a>'\n",
              "            + ' to learn more about interactive tables.';\n",
              "          element.innerHTML = '';\n",
              "          dataTable['output_type'] = 'display_data';\n",
              "          await google.colab.output.renderOutput(dataTable, element);\n",
              "          const docLink = document.createElement('div');\n",
              "          docLink.innerHTML = docLinkHtml;\n",
              "          element.appendChild(docLink);\n",
              "        }\n",
              "      </script>\n",
              "    </div>\n",
              "  </div>\n",
              "  "
            ]
          },
          "metadata": {},
          "execution_count": 42
        }
      ],
      "source": [
        "test.acorr_ljungbox(res_cm.resid)[0:10]\n",
        "### значение и pvalue статистики Льюнга-Бокса"
      ]
    },
    {
      "cell_type": "code",
      "execution_count": 43,
      "metadata": {
        "colab": {
          "base_uri": "https://localhost:8080/",
          "height": 397
        },
        "outputId": "5cadfeb7-d1a9-43bf-c939-342086942d63",
        "id": "XX1L3Qo5iA8l"
      },
      "outputs": [
        {
          "output_type": "display_data",
          "data": {
            "text/plain": [
              "<Figure size 720x432 with 2 Axes>"
            ],
            "image/png": "[encoded data removed]"
          },
          "metadata": {}
        }
      ],
      "source": [
        "fig=res_cm.plot()"
      ]
    },
    {
      "cell_type": "markdown",
      "metadata": {
        "id": "fZ_keNeqiA8m"
      },
      "source": [
        "Можно  отметить наличие внутренней зависимости. По этой причине однозначного вывода об адекватности модели сделать нельзя."
      ]
    },
    {
      "cell_type": "markdown",
      "metadata": {
        "collapsed": true,
        "id": "bKJvXIjtiA8m"
      },
      "source": [
        "##### Моделирование доходности - AR"
      ]
    },
    {
      "cell_type": "code",
      "execution_count": 44,
      "metadata": {
        "id": "8KumxodDiA8n"
      },
      "outputs": [],
      "source": [
        "ar=ARX(amd['Log_ret_AMD'],lags=[1]) # моделирование доходности с помощью процесса AR(1)"
      ]
    },
    {
      "cell_type": "code",
      "execution_count": 45,
      "metadata": {
        "colab": {
          "base_uri": "https://localhost:8080/",
          "height": 398
        },
        "outputId": "6ffa670e-3968-42b9-c339-40bf4de92c59",
        "id": "c1F89wp6iA8n"
      },
      "outputs": [
        {
          "output_type": "execute_result",
          "data": {
            "text/plain": [
              "<class 'statsmodels.iolib.summary.Summary'>\n",
              "\"\"\"\n",
              "                     AR - Constant Variance Model Results                     \n",
              "==============================================================================\n",
              "Dep. Variable:            Log_ret_AMD   R-squared:                       0.000\n",
              "Mean Model:                        AR   Adj. R-squared:                 -0.001\n",
              "Vol Model:          Constant Variance   Log-Likelihood:                2336.36\n",
              "Distribution:                  Normal   AIC:                          -4666.73\n",
              "Method:            Maximum Likelihood   BIC:                          -4651.32\n",
              "                                        No. Observations:                 1258\n",
              "Date:                Sat, Jun 25 2022   Df Residuals:                     1256\n",
              "Time:                        15:11:30   Df Model:                            2\n",
              "                                    Mean Model                                   \n",
              "=================================================================================\n",
              "                     coef    std err          t      P>|t|       95.0% Conf. Int.\n",
              "---------------------------------------------------------------------------------\n",
              "Const          1.4160e-03  1.066e-03      1.329      0.184 [-6.724e-04,3.504e-03]\n",
              "Log_...AMD[1] -5.1273e-03  4.811e-02     -0.107      0.915 [-9.941e-02,8.916e-02]\n",
              "                              Volatility Model                              \n",
              "============================================================================\n",
              "                 coef    std err          t      P>|t|      95.0% Conf. Int.\n",
              "----------------------------------------------------------------------------\n",
              "sigma2     1.4268e-03  1.718e-04      8.303  1.014e-16 [1.090e-03,1.764e-03]\n",
              "============================================================================\n",
              "\n",
              "Covariance estimator: White's Heteroskedasticity Consistent Estimator\n",
              "\"\"\""
            ],
            "text/html": [
              "<table class=\"simpletable\">\n",
              "<caption>AR - Constant Variance Model Results</caption>\n",
              "<tr>\n",
              "  <th>Dep. Variable:</th>     <td>Log_ret_AMD</td>    <th>  R-squared:         </th>  <td>   0.000</td> \n",
              "</tr>\n",
              "<tr>\n",
              "  <th>Mean Model:</th>            <td>AR</td>         <th>  Adj. R-squared:    </th>  <td>  -0.001</td> \n",
              "</tr>\n",
              "<tr>\n",
              "  <th>Vol Model:</th>      <td>Constant Variance</td> <th>  Log-Likelihood:    </th> <td>   2336.36</td>\n",
              "</tr>\n",
              "<tr>\n",
              "  <th>Distribution:</th>        <td>Normal</td>       <th>  AIC:               </th> <td>  -4666.73</td>\n",
              "</tr>\n",
              "<tr>\n",
              "  <th>Method:</th>        <td>Maximum Likelihood</td> <th>  BIC:               </th> <td>  -4651.32</td>\n",
              "</tr>\n",
              "<tr>\n",
              "  <th></th>                        <td></td>          <th>  No. Observations:  </th>    <td>1258</td>   \n",
              "</tr>\n",
              "<tr>\n",
              "  <th>Date:</th>           <td>Sat, Jun 25 2022</td>  <th>  Df Residuals:      </th>    <td>1256</td>   \n",
              "</tr>\n",
              "<tr>\n",
              "  <th>Time:</th>               <td>15:11:30</td>      <th>  Df Model:          </th>      <td>2</td>    \n",
              "</tr>\n",
              "</table>\n",
              "<table class=\"simpletable\">\n",
              "<caption>Mean Model</caption>\n",
              "<tr>\n",
              "        <td></td>           <th>coef</th>      <th>std err</th>      <th>t</th>       <th>P>|t|</th>      <th>95.0% Conf. Int.</th>   \n",
              "</tr>\n",
              "<tr>\n",
              "  <th>Const</th>         <td>1.4160e-03</td>  <td>1.066e-03</td> <td>    1.329</td> <td>    0.184</td> <td>[-6.724e-04,3.504e-03]</td>\n",
              "</tr>\n",
              "<tr>\n",
              "  <th>Log_...AMD[1]</th> <td>-5.1273e-03</td> <td>4.811e-02</td> <td>   -0.107</td> <td>    0.915</td> <td>[-9.941e-02,8.916e-02]</td>\n",
              "</tr>\n",
              "</table>\n",
              "<table class=\"simpletable\">\n",
              "<caption>Volatility Model</caption>\n",
              "<tr>\n",
              "     <td></td>       <th>coef</th>     <th>std err</th>      <th>t</th>       <th>P>|t|</th>     <th>95.0% Conf. Int.</th>   \n",
              "</tr>\n",
              "<tr>\n",
              "  <th>sigma2</th> <td>1.4268e-03</td> <td>1.718e-04</td> <td>    8.303</td> <td>1.014e-16</td> <td>[1.090e-03,1.764e-03]</td>\n",
              "</tr>\n",
              "</table><br/><br/>Covariance estimator: White's Heteroskedasticity Consistent Estimator"
            ]
          },
          "metadata": {},
          "execution_count": 45
        }
      ],
      "source": [
        "ar.fit().summary()"
      ]
    },
    {
      "cell_type": "code",
      "execution_count": 46,
      "metadata": {
        "id": "DaxgDcH4iA8o"
      },
      "outputs": [],
      "source": [
        "ar.volatility=GARCH(p=1,q=1)"
      ]
    },
    {
      "cell_type": "code",
      "execution_count": 47,
      "metadata": {
        "id": "pTATT-mhiA8o"
      },
      "outputs": [],
      "source": [
        "res_ar = ar.fit(update_freq=0, disp='off')"
      ]
    },
    {
      "cell_type": "code",
      "execution_count": 48,
      "metadata": {
        "colab": {
          "base_uri": "https://localhost:8080/",
          "height": 440
        },
        "outputId": "19933d33-b427-477c-9ca4-9d5b9bd75b6f",
        "id": "2sNj6ykfiA8p"
      },
      "outputs": [
        {
          "output_type": "execute_result",
          "data": {
            "text/plain": [
              "<class 'statsmodels.iolib.summary.Summary'>\n",
              "\"\"\"\n",
              "                           AR - GARCH Model Results                           \n",
              "==============================================================================\n",
              "Dep. Variable:            Log_ret_AMD   R-squared:                      -0.015\n",
              "Mean Model:                        AR   Adj. R-squared:                 -0.016\n",
              "Vol Model:                      GARCH   Log-Likelihood:                2388.18\n",
              "Distribution:                  Normal   AIC:                          -4766.37\n",
              "Method:            Maximum Likelihood   BIC:                          -4740.68\n",
              "                                        No. Observations:                 1258\n",
              "Date:                Sat, Jun 25 2022   Df Residuals:                     1256\n",
              "Time:                        15:11:30   Df Model:                            2\n",
              "                                   Mean Model                                   \n",
              "================================================================================\n",
              "                    coef    std err          t      P>|t|       95.0% Conf. Int.\n",
              "--------------------------------------------------------------------------------\n",
              "Const         2.5398e-03  1.329e-03      1.912  5.592e-02 [-6.421e-05,5.144e-03]\n",
              "Log_...AMD[1]     0.1135  8.876e-02      1.278      0.201   [-6.050e-02,  0.287]\n",
              "                              Volatility Model                              \n",
              "============================================================================\n",
              "                 coef    std err          t      P>|t|      95.0% Conf. Int.\n",
              "----------------------------------------------------------------------------\n",
              "omega      3.4474e-04  1.315e-04      2.622  8.741e-03 [8.704e-05,6.024e-04]\n",
              "alpha[1]       0.4148      0.259      1.603      0.109  [-9.222e-02,  0.922]\n",
              "beta[1]        0.4646  8.140e-02      5.708  1.143e-08     [  0.305,  0.624]\n",
              "============================================================================\n",
              "\n",
              "Covariance estimator: robust\n",
              "\"\"\""
            ],
            "text/html": [
              "<table class=\"simpletable\">\n",
              "<caption>AR - GARCH Model Results</caption>\n",
              "<tr>\n",
              "  <th>Dep. Variable:</th>     <td>Log_ret_AMD</td>    <th>  R-squared:         </th>  <td>  -0.015</td> \n",
              "</tr>\n",
              "<tr>\n",
              "  <th>Mean Model:</th>            <td>AR</td>         <th>  Adj. R-squared:    </th>  <td>  -0.016</td> \n",
              "</tr>\n",
              "<tr>\n",
              "  <th>Vol Model:</th>            <td>GARCH</td>       <th>  Log-Likelihood:    </th> <td>   2388.18</td>\n",
              "</tr>\n",
              "<tr>\n",
              "  <th>Distribution:</th>        <td>Normal</td>       <th>  AIC:               </th> <td>  -4766.37</td>\n",
              "</tr>\n",
              "<tr>\n",
              "  <th>Method:</th>        <td>Maximum Likelihood</td> <th>  BIC:               </th> <td>  -4740.68</td>\n",
              "</tr>\n",
              "<tr>\n",
              "  <th></th>                        <td></td>          <th>  No. Observations:  </th>    <td>1258</td>   \n",
              "</tr>\n",
              "<tr>\n",
              "  <th>Date:</th>           <td>Sat, Jun 25 2022</td>  <th>  Df Residuals:      </th>    <td>1256</td>   \n",
              "</tr>\n",
              "<tr>\n",
              "  <th>Time:</th>               <td>15:11:30</td>      <th>  Df Model:          </th>      <td>2</td>    \n",
              "</tr>\n",
              "</table>\n",
              "<table class=\"simpletable\">\n",
              "<caption>Mean Model</caption>\n",
              "<tr>\n",
              "        <td></td>           <th>coef</th>     <th>std err</th>      <th>t</th>       <th>P>|t|</th>      <th>95.0% Conf. Int.</th>   \n",
              "</tr>\n",
              "<tr>\n",
              "  <th>Const</th>         <td>2.5398e-03</td> <td>1.329e-03</td> <td>    1.912</td> <td>5.592e-02</td> <td>[-6.421e-05,5.144e-03]</td>\n",
              "</tr>\n",
              "<tr>\n",
              "  <th>Log_...AMD[1]</th> <td>    0.1135</td> <td>8.876e-02</td> <td>    1.278</td> <td>    0.201</td>  <td>[-6.050e-02,  0.287]</td> \n",
              "</tr>\n",
              "</table>\n",
              "<table class=\"simpletable\">\n",
              "<caption>Volatility Model</caption>\n",
              "<tr>\n",
              "      <td></td>        <th>coef</th>     <th>std err</th>      <th>t</th>       <th>P>|t|</th>     <th>95.0% Conf. Int.</th>   \n",
              "</tr>\n",
              "<tr>\n",
              "  <th>omega</th>    <td>3.4474e-04</td> <td>1.315e-04</td> <td>    2.622</td> <td>8.741e-03</td> <td>[8.704e-05,6.024e-04]</td>\n",
              "</tr>\n",
              "<tr>\n",
              "  <th>alpha[1]</th> <td>    0.4148</td> <td>    0.259</td> <td>    1.603</td> <td>    0.109</td> <td>[-9.222e-02,  0.922]</td> \n",
              "</tr>\n",
              "<tr>\n",
              "  <th>beta[1]</th>  <td>    0.4646</td> <td>8.140e-02</td> <td>    5.708</td> <td>1.143e-08</td>   <td>[  0.305,  0.624]</td>  \n",
              "</tr>\n",
              "</table><br/><br/>Covariance estimator: robust"
            ]
          },
          "metadata": {},
          "execution_count": 48
        }
      ],
      "source": [
        "res_ar.summary()"
      ]
    },
    {
      "cell_type": "markdown",
      "metadata": {
        "id": "0mMI0vU7iA8p"
      },
      "source": [
        "#####  Проверим остатки модели на наличие автокорреляции"
      ]
    },
    {
      "cell_type": "code",
      "execution_count": 49,
      "metadata": {
        "colab": {
          "base_uri": "https://localhost:8080/",
          "height": 363
        },
        "outputId": "a4e8cc66-bbbb-4f01-c02f-745cd2924f2e",
        "id": "VkAI1GyZiA8q"
      },
      "outputs": [
        {
          "output_type": "execute_result",
          "data": {
            "text/plain": [
              "      lb_stat  lb_pvalue\n",
              "1   19.777513   0.000009\n",
              "2   27.314317   0.000001\n",
              "3   29.896054   0.000001\n",
              "4   30.156554   0.000005\n",
              "5   34.186359   0.000002\n",
              "6   34.191341   0.000006\n",
              "7   34.192428   0.000016\n",
              "8   34.226885   0.000037\n",
              "9   35.036074   0.000059\n",
              "10  36.695334   0.000064"
            ],
            "text/html": [
              "\n",
              "  <div id=\"df-4b5e3a49-f950-4f1c-ac35-f74104ee5f75\">\n",
              "    <div class=\"colab-df-container\">\n",
              "      <div>\n",
              "<style scoped>\n",
              "    .dataframe tbody tr th:only-of-type {\n",
              "        vertical-align: middle;\n",
              "    }\n",
              "\n",
              "    .dataframe tbody tr th {\n",
              "        vertical-align: top;\n",
              "    }\n",
              "\n",
              "    .dataframe thead th {\n",
              "        text-align: right;\n",
              "    }\n",
              "</style>\n",
              "<table border=\"1\" class=\"dataframe\">\n",
              "  <thead>\n",
              "    <tr style=\"text-align: right;\">\n",
              "      <th></th>\n",
              "      <th>lb_stat</th>\n",
              "      <th>lb_pvalue</th>\n",
              "    </tr>\n",
              "  </thead>\n",
              "  <tbody>\n",
              "    <tr>\n",
              "      <th>1</th>\n",
              "      <td>19.777513</td>\n",
              "      <td>0.000009</td>\n",
              "    </tr>\n",
              "    <tr>\n",
              "      <th>2</th>\n",
              "      <td>27.314317</td>\n",
              "      <td>0.000001</td>\n",
              "    </tr>\n",
              "    <tr>\n",
              "      <th>3</th>\n",
              "      <td>29.896054</td>\n",
              "      <td>0.000001</td>\n",
              "    </tr>\n",
              "    <tr>\n",
              "      <th>4</th>\n",
              "      <td>30.156554</td>\n",
              "      <td>0.000005</td>\n",
              "    </tr>\n",
              "    <tr>\n",
              "      <th>5</th>\n",
              "      <td>34.186359</td>\n",
              "      <td>0.000002</td>\n",
              "    </tr>\n",
              "    <tr>\n",
              "      <th>6</th>\n",
              "      <td>34.191341</td>\n",
              "      <td>0.000006</td>\n",
              "    </tr>\n",
              "    <tr>\n",
              "      <th>7</th>\n",
              "      <td>34.192428</td>\n",
              "      <td>0.000016</td>\n",
              "    </tr>\n",
              "    <tr>\n",
              "      <th>8</th>\n",
              "      <td>34.226885</td>\n",
              "      <td>0.000037</td>\n",
              "    </tr>\n",
              "    <tr>\n",
              "      <th>9</th>\n",
              "      <td>35.036074</td>\n",
              "      <td>0.000059</td>\n",
              "    </tr>\n",
              "    <tr>\n",
              "      <th>10</th>\n",
              "      <td>36.695334</td>\n",
              "      <td>0.000064</td>\n",
              "    </tr>\n",
              "  </tbody>\n",
              "</table>\n",
              "</div>\n",
              "      <button class=\"colab-df-convert\" onclick=\"convertToInteractive('df-4b5e3a49-f950-4f1c-ac35-f74104ee5f75')\"\n",
              "              title=\"Convert this dataframe to an interactive table.\"\n",
              "              style=\"display:none;\">\n",
              "        \n",
              "  <svg xmlns=\"http://www.w3.org/2000/svg\" height=\"24px\"viewBox=\"0 0 24 24\"\n",
              "       width=\"24px\">\n",
              "    <path d=\"M0 0h24v24H0V0z\" fill=\"none\"/>\n",
              "    <path d=\"M18.56 5.44l.94 2.06.94-2.06 2.06-.94-2.06-.94-.94-2.06-.94 2.06-2.06.94zm-11 1L8.5 8.5l.94-2.06 2.06-.94-2.06-.94L8.5 2.5l-.94 2.06-2.06.94zm10 10l.94 2.06.94-2.06 2.06-.94-2.06-.94-.94-2.06-.94 2.06-2.06.94z\"/><path d=\"M17.41 7.96l-1.37-1.37c-.4-.4-.92-.59-1.43-.59-.52 0-1.04.2-1.43.59L10.3 9.45l-7.72 7.72c-.78.78-.78 2.05 0 2.83L4 21.41c.39.39.9.59 1.41.59.51 0 1.02-.2 1.41-.59l7.78-7.78 2.81-2.81c.8-.78.8-2.07 0-2.86zM5.41 20L4 18.59l7.72-7.72 1.47 1.35L5.41 20z\"/>\n",
              "  </svg>\n",
              "      </button>\n",
              "      \n",
              "  <style>\n",
              "    .colab-df-container {\n",
              "      display:flex;\n",
              "      flex-wrap:wrap;\n",
              "      gap: 12px;\n",
              "    }\n",
              "\n",
              "    .colab-df-convert {\n",
              "      background-color: #E8F0FE;\n",
              "      border: none;\n",
              "      border-radius: 50%;\n",
              "      cursor: pointer;\n",
              "      display: none;\n",
              "      fill: #1967D2;\n",
              "      height: 32px;\n",
              "      padding: 0 0 0 0;\n",
              "      width: 32px;\n",
              "    }\n",
              "\n",
              "    .colab-df-convert:hover {\n",
              "      background-color: #E2EBFA;\n",
              "      box-shadow: 0px 1px 2px rgba(60, 64, 67, 0.3), 0px 1px 3px 1px rgba(60, 64, 67, 0.15);\n",
              "      fill: #174EA6;\n",
              "    }\n",
              "\n",
              "    [theme=dark] .colab-df-convert {\n",
              "      background-color: #3B4455;\n",
              "      fill: #D2E3FC;\n",
              "    }\n",
              "\n",
              "    [theme=dark] .colab-df-convert:hover {\n",
              "      background-color: #434B5C;\n",
              "      box-shadow: 0px 1px 3px 1px rgba(0, 0, 0, 0.15);\n",
              "      filter: drop-shadow(0px 1px 2px rgba(0, 0, 0, 0.3));\n",
              "      fill: #FFFFFF;\n",
              "    }\n",
              "  </style>\n",
              "\n",
              "      <script>\n",
              "        const buttonEl =\n",
              "          document.querySelector('#df-4b5e3a49-f950-4f1c-ac35-f74104ee5f75 button.colab-df-convert');\n",
              "        buttonEl.style.display =\n",
              "          google.colab.kernel.accessAllowed ? 'block' : 'none';\n",
              "\n",
              "        async function convertToInteractive(key) {\n",
              "          const element = document.querySelector('#df-4b5e3a49-f950-4f1c-ac35-f74104ee5f75');\n",
              "          const dataTable =\n",
              "            await google.colab.kernel.invokeFunction('convertToInteractive',\n",
              "                                                     [key], {});\n",
              "          if (!dataTable) return;\n",
              "\n",
              "          const docLinkHtml = 'Like what you see? Visit the ' +\n",
              "            '<a target=\"_blank\" href=https://colab.research.google.com/notebooks/data_table.ipynb>data table notebook</a>'\n",
              "            + ' to learn more about interactive tables.';\n",
              "          element.innerHTML = '';\n",
              "          dataTable['output_type'] = 'display_data';\n",
              "          await google.colab.output.renderOutput(dataTable, element);\n",
              "          const docLink = document.createElement('div');\n",
              "          docLink.innerHTML = docLinkHtml;\n",
              "          element.appendChild(docLink);\n",
              "        }\n",
              "      </script>\n",
              "    </div>\n",
              "  </div>\n",
              "  "
            ]
          },
          "metadata": {},
          "execution_count": 49
        }
      ],
      "source": [
        "test.acorr_ljungbox(res_ar.resid.dropna())[0:10]\n",
        "###  pvalue статистики Льюнга-Бокса"
      ]
    },
    {
      "cell_type": "markdown",
      "metadata": {
        "id": "WoOoxnkxiA8q"
      },
      "source": [
        "Можно  отметить наличие внутренней зависимости. По этой причине однозначного вывода об адекватности модели сделать нельзя."
      ]
    },
    {
      "cell_type": "markdown",
      "metadata": {
        "id": "o0HeTD8TiA8r"
      },
      "source": [
        "##### Расчет безусловной волатильности и устойчивости (persistence) возмущения"
      ]
    },
    {
      "cell_type": "code",
      "execution_count": 50,
      "metadata": {
        "colab": {
          "base_uri": "https://localhost:8080/"
        },
        "outputId": "0a4fd5d3-a791-450f-e892-66a274b12639",
        "id": "fS5uFfLqiA8r"
      },
      "outputs": [
        {
          "output_type": "execute_result",
          "data": {
            "text/plain": [
              "mu          0.002756\n",
              "omega       0.000370\n",
              "alpha[1]    0.363094\n",
              "beta[1]     0.475985\n",
              "Name: params, dtype: float64"
            ]
          },
          "metadata": {},
          "execution_count": 50
        }
      ],
      "source": [
        "res_cm.params"
      ]
    },
    {
      "cell_type": "code",
      "execution_count": 51,
      "metadata": {
        "colab": {
          "base_uri": "https://localhost:8080/"
        },
        "outputId": "2f5cb66d-06e7-41da-eb29-2e9226ff6e3e",
        "id": "NekwzUauiA8s"
      },
      "outputs": [
        {
          "output_type": "execute_result",
          "data": {
            "text/plain": [
              "0.0023000105108733244"
            ]
          },
          "metadata": {},
          "execution_count": 51
        }
      ],
      "source": [
        "res_cm.params[1]/(1-res_cm.params[2]-res_cm.params[3]) "
      ]
    },
    {
      "cell_type": "code",
      "execution_count": 52,
      "metadata": {
        "colab": {
          "base_uri": "https://localhost:8080/"
        },
        "outputId": "473890a8-0c36-4393-d3be-297ec58e2bc5",
        "id": "bNDrzym7iA8t"
      },
      "outputs": [
        {
          "output_type": "execute_result",
          "data": {
            "text/plain": [
              "0.8390788087135852"
            ]
          },
          "metadata": {},
          "execution_count": 52
        }
      ],
      "source": [
        "res_cm.params[2]+res_cm.params[3]"
      ]
    },
    {
      "cell_type": "markdown",
      "metadata": {
        "collapsed": true,
        "id": "lZWLW6omiA8u"
      },
      "source": [
        "#### 3.2. Модель по остаткам ARIMA "
      ]
    },
    {
      "cell_type": "code",
      "execution_count": 53,
      "metadata": {
        "id": "gpt_syHtiA8u"
      },
      "outputs": [],
      "source": [
        "cm_1=ConstantMean(results_1.resid) # модель постоянной средней"
      ]
    },
    {
      "cell_type": "code",
      "execution_count": 54,
      "metadata": {
        "colab": {
          "base_uri": "https://localhost:8080/",
          "height": 377
        },
        "outputId": "4a836264-082b-45d7-fdff-b57cadd57e15",
        "id": "-hAgOHH4iA8v"
      },
      "outputs": [
        {
          "output_type": "execute_result",
          "data": {
            "text/plain": [
              "<class 'statsmodels.iolib.summary.Summary'>\n",
              "\"\"\"\n",
              "               Constant Mean - Constant Variance Model Results                \n",
              "==============================================================================\n",
              "Dep. Variable:                   None   R-squared:                       0.000\n",
              "Mean Model:             Constant Mean   Adj. R-squared:                  0.000\n",
              "Vol Model:          Constant Variance   Log-Likelihood:                1929.68\n",
              "Distribution:                  Normal   AIC:                          -3855.36\n",
              "Method:            Maximum Likelihood   BIC:                          -3845.08\n",
              "                                        No. Observations:                 1259\n",
              "Date:                Sat, Jun 25 2022   Df Residuals:                     1258\n",
              "Time:                        15:11:31   Df Model:                            1\n",
              "                                  Mean Model                                 \n",
              "=============================================================================\n",
              "                 coef    std err          t      P>|t|       95.0% Conf. Int.\n",
              "-----------------------------------------------------------------------------\n",
              "mu         2.4540e-03  1.473e-03      1.666  9.565e-02 [-4.324e-04,5.340e-03]\n",
              "                              Volatility Model                              \n",
              "============================================================================\n",
              "                 coef    std err          t      P>|t|      95.0% Conf. Int.\n",
              "----------------------------------------------------------------------------\n",
              "sigma2     2.7304e-03  1.319e-03      2.070  3.841e-02 [1.457e-04,5.315e-03]\n",
              "============================================================================\n",
              "\n",
              "Covariance estimator: White's Heteroskedasticity Consistent Estimator\n",
              "\"\"\""
            ],
            "text/html": [
              "<table class=\"simpletable\">\n",
              "<caption>Constant Mean - Constant Variance Model Results</caption>\n",
              "<tr>\n",
              "  <th>Dep. Variable:</th>        <td>None</td>        <th>  R-squared:         </th>  <td>   0.000</td> \n",
              "</tr>\n",
              "<tr>\n",
              "  <th>Mean Model:</th>       <td>Constant Mean</td>   <th>  Adj. R-squared:    </th>  <td>   0.000</td> \n",
              "</tr>\n",
              "<tr>\n",
              "  <th>Vol Model:</th>      <td>Constant Variance</td> <th>  Log-Likelihood:    </th> <td>   1929.68</td>\n",
              "</tr>\n",
              "<tr>\n",
              "  <th>Distribution:</th>        <td>Normal</td>       <th>  AIC:               </th> <td>  -3855.36</td>\n",
              "</tr>\n",
              "<tr>\n",
              "  <th>Method:</th>        <td>Maximum Likelihood</td> <th>  BIC:               </th> <td>  -3845.08</td>\n",
              "</tr>\n",
              "<tr>\n",
              "  <th></th>                        <td></td>          <th>  No. Observations:  </th>    <td>1259</td>   \n",
              "</tr>\n",
              "<tr>\n",
              "  <th>Date:</th>           <td>Sat, Jun 25 2022</td>  <th>  Df Residuals:      </th>    <td>1258</td>   \n",
              "</tr>\n",
              "<tr>\n",
              "  <th>Time:</th>               <td>15:11:31</td>      <th>  Df Model:          </th>      <td>1</td>    \n",
              "</tr>\n",
              "</table>\n",
              "<table class=\"simpletable\">\n",
              "<caption>Mean Model</caption>\n",
              "<tr>\n",
              "   <td></td>     <th>coef</th>     <th>std err</th>      <th>t</th>       <th>P>|t|</th>      <th>95.0% Conf. Int.</th>   \n",
              "</tr>\n",
              "<tr>\n",
              "  <th>mu</th> <td>2.4540e-03</td> <td>1.473e-03</td> <td>    1.666</td> <td>9.565e-02</td> <td>[-4.324e-04,5.340e-03]</td>\n",
              "</tr>\n",
              "</table>\n",
              "<table class=\"simpletable\">\n",
              "<caption>Volatility Model</caption>\n",
              "<tr>\n",
              "     <td></td>       <th>coef</th>     <th>std err</th>      <th>t</th>       <th>P>|t|</th>     <th>95.0% Conf. Int.</th>   \n",
              "</tr>\n",
              "<tr>\n",
              "  <th>sigma2</th> <td>2.7304e-03</td> <td>1.319e-03</td> <td>    2.070</td> <td>3.841e-02</td> <td>[1.457e-04,5.315e-03]</td>\n",
              "</tr>\n",
              "</table><br/><br/>Covariance estimator: White's Heteroskedasticity Consistent Estimator"
            ]
          },
          "metadata": {},
          "execution_count": 54
        }
      ],
      "source": [
        "cm_1.fit().summary()"
      ]
    },
    {
      "cell_type": "code",
      "execution_count": 55,
      "metadata": {
        "id": "T1nK4zO8iA8v"
      },
      "outputs": [],
      "source": [
        "cm_1.volatility=GARCH(p=1,q=1)"
      ]
    },
    {
      "cell_type": "code",
      "execution_count": 56,
      "metadata": {
        "id": "LISjAIPEiA8w"
      },
      "outputs": [],
      "source": [
        "res_cm_1 = cm_1.fit(update_freq=0, disp='off')"
      ]
    },
    {
      "cell_type": "code",
      "execution_count": 57,
      "metadata": {
        "colab": {
          "base_uri": "https://localhost:8080/",
          "height": 419
        },
        "outputId": "081ccee7-4532-44c1-ffed-5e3789591cfc",
        "id": "lnTzEawciA8w"
      },
      "outputs": [
        {
          "output_type": "execute_result",
          "data": {
            "text/plain": [
              "<class 'statsmodels.iolib.summary.Summary'>\n",
              "\"\"\"\n",
              "                     Constant Mean - GARCH Model Results                      \n",
              "==============================================================================\n",
              "Dep. Variable:                   None   R-squared:                       0.000\n",
              "Mean Model:             Constant Mean   Adj. R-squared:                  0.000\n",
              "Vol Model:                      GARCH   Log-Likelihood:                2326.68\n",
              "Distribution:                  Normal   AIC:                          -4645.35\n",
              "Method:            Maximum Likelihood   BIC:                          -4624.80\n",
              "                                        No. Observations:                 1259\n",
              "Date:                Sat, Jun 25 2022   Df Residuals:                     1258\n",
              "Time:                        15:11:31   Df Model:                            1\n",
              "                                 Mean Model                                 \n",
              "============================================================================\n",
              "                 coef    std err          t      P>|t|      95.0% Conf. Int.\n",
              "----------------------------------------------------------------------------\n",
              "mu         2.2486e-03  1.054e-03      2.133  3.294e-02 [1.822e-04,4.315e-03]\n",
              "                              Volatility Model                              \n",
              "============================================================================\n",
              "                 coef    std err          t      P>|t|      95.0% Conf. Int.\n",
              "----------------------------------------------------------------------------\n",
              "omega      2.7304e-04  1.145e-04      2.385  1.706e-02 [4.870e-05,4.974e-04]\n",
              "alpha[1]       0.2000      0.221      0.906      0.365     [ -0.233,  0.633]\n",
              "beta[1]        0.7000      0.121      5.798  6.725e-09     [  0.463,  0.937]\n",
              "============================================================================\n",
              "\n",
              "Covariance estimator: robust\n",
              "\"\"\""
            ],
            "text/html": [
              "<table class=\"simpletable\">\n",
              "<caption>Constant Mean - GARCH Model Results</caption>\n",
              "<tr>\n",
              "  <th>Dep. Variable:</th>        <td>None</td>        <th>  R-squared:         </th>  <td>   0.000</td> \n",
              "</tr>\n",
              "<tr>\n",
              "  <th>Mean Model:</th>       <td>Constant Mean</td>   <th>  Adj. R-squared:    </th>  <td>   0.000</td> \n",
              "</tr>\n",
              "<tr>\n",
              "  <th>Vol Model:</th>            <td>GARCH</td>       <th>  Log-Likelihood:    </th> <td>   2326.68</td>\n",
              "</tr>\n",
              "<tr>\n",
              "  <th>Distribution:</th>        <td>Normal</td>       <th>  AIC:               </th> <td>  -4645.35</td>\n",
              "</tr>\n",
              "<tr>\n",
              "  <th>Method:</th>        <td>Maximum Likelihood</td> <th>  BIC:               </th> <td>  -4624.80</td>\n",
              "</tr>\n",
              "<tr>\n",
              "  <th></th>                        <td></td>          <th>  No. Observations:  </th>    <td>1259</td>   \n",
              "</tr>\n",
              "<tr>\n",
              "  <th>Date:</th>           <td>Sat, Jun 25 2022</td>  <th>  Df Residuals:      </th>    <td>1258</td>   \n",
              "</tr>\n",
              "<tr>\n",
              "  <th>Time:</th>               <td>15:11:31</td>      <th>  Df Model:          </th>      <td>1</td>    \n",
              "</tr>\n",
              "</table>\n",
              "<table class=\"simpletable\">\n",
              "<caption>Mean Model</caption>\n",
              "<tr>\n",
              "   <td></td>     <th>coef</th>     <th>std err</th>      <th>t</th>       <th>P>|t|</th>     <th>95.0% Conf. Int.</th>   \n",
              "</tr>\n",
              "<tr>\n",
              "  <th>mu</th> <td>2.2486e-03</td> <td>1.054e-03</td> <td>    2.133</td> <td>3.294e-02</td> <td>[1.822e-04,4.315e-03]</td>\n",
              "</tr>\n",
              "</table>\n",
              "<table class=\"simpletable\">\n",
              "<caption>Volatility Model</caption>\n",
              "<tr>\n",
              "      <td></td>        <th>coef</th>     <th>std err</th>      <th>t</th>       <th>P>|t|</th>     <th>95.0% Conf. Int.</th>   \n",
              "</tr>\n",
              "<tr>\n",
              "  <th>omega</th>    <td>2.7304e-04</td> <td>1.145e-04</td> <td>    2.385</td> <td>1.706e-02</td> <td>[4.870e-05,4.974e-04]</td>\n",
              "</tr>\n",
              "<tr>\n",
              "  <th>alpha[1]</th> <td>    0.2000</td> <td>    0.221</td> <td>    0.906</td> <td>    0.365</td>   <td>[ -0.233,  0.633]</td>  \n",
              "</tr>\n",
              "<tr>\n",
              "  <th>beta[1]</th>  <td>    0.7000</td> <td>    0.121</td> <td>    5.798</td> <td>6.725e-09</td>   <td>[  0.463,  0.937]</td>  \n",
              "</tr>\n",
              "</table><br/><br/>Covariance estimator: robust"
            ]
          },
          "metadata": {},
          "execution_count": 57
        }
      ],
      "source": [
        "res_cm_1.summary()"
      ]
    },
    {
      "cell_type": "code",
      "execution_count": 58,
      "metadata": {
        "colab": {
          "base_uri": "https://localhost:8080/",
          "height": 363
        },
        "outputId": "5f43cba5-93ce-48f1-851a-e407f0f9daa6",
        "id": "2WLb__CciA8x"
      },
      "outputs": [
        {
          "output_type": "execute_result",
          "data": {
            "text/plain": [
              "     lb_stat  lb_pvalue\n",
              "1   0.135330   0.712968\n",
              "2   1.215234   0.544647\n",
              "3   1.230656   0.745661\n",
              "4   1.486550   0.829021\n",
              "5   1.647080   0.895498\n",
              "6   2.062985   0.913816\n",
              "7   2.136251   0.951916\n",
              "8   2.297270   0.970515\n",
              "9   2.673891   0.975836\n",
              "10  3.106807   0.978798"
            ],
            "text/html": [
              "\n",
              "  <div id=\"df-38c4b990-d7a5-4c72-a386-1bbe70dedd4d\">\n",
              "    <div class=\"colab-df-container\">\n",
              "      <div>\n",
              "<style scoped>\n",
              "    .dataframe tbody tr th:only-of-type {\n",
              "        vertical-align: middle;\n",
              "    }\n",
              "\n",
              "    .dataframe tbody tr th {\n",
              "        vertical-align: top;\n",
              "    }\n",
              "\n",
              "    .dataframe thead th {\n",
              "        text-align: right;\n",
              "    }\n",
              "</style>\n",
              "<table border=\"1\" class=\"dataframe\">\n",
              "  <thead>\n",
              "    <tr style=\"text-align: right;\">\n",
              "      <th></th>\n",
              "      <th>lb_stat</th>\n",
              "      <th>lb_pvalue</th>\n",
              "    </tr>\n",
              "  </thead>\n",
              "  <tbody>\n",
              "    <tr>\n",
              "      <th>1</th>\n",
              "      <td>0.135330</td>\n",
              "      <td>0.712968</td>\n",
              "    </tr>\n",
              "    <tr>\n",
              "      <th>2</th>\n",
              "      <td>1.215234</td>\n",
              "      <td>0.544647</td>\n",
              "    </tr>\n",
              "    <tr>\n",
              "      <th>3</th>\n",
              "      <td>1.230656</td>\n",
              "      <td>0.745661</td>\n",
              "    </tr>\n",
              "    <tr>\n",
              "      <th>4</th>\n",
              "      <td>1.486550</td>\n",
              "      <td>0.829021</td>\n",
              "    </tr>\n",
              "    <tr>\n",
              "      <th>5</th>\n",
              "      <td>1.647080</td>\n",
              "      <td>0.895498</td>\n",
              "    </tr>\n",
              "    <tr>\n",
              "      <th>6</th>\n",
              "      <td>2.062985</td>\n",
              "      <td>0.913816</td>\n",
              "    </tr>\n",
              "    <tr>\n",
              "      <th>7</th>\n",
              "      <td>2.136251</td>\n",
              "      <td>0.951916</td>\n",
              "    </tr>\n",
              "    <tr>\n",
              "      <th>8</th>\n",
              "      <td>2.297270</td>\n",
              "      <td>0.970515</td>\n",
              "    </tr>\n",
              "    <tr>\n",
              "      <th>9</th>\n",
              "      <td>2.673891</td>\n",
              "      <td>0.975836</td>\n",
              "    </tr>\n",
              "    <tr>\n",
              "      <th>10</th>\n",
              "      <td>3.106807</td>\n",
              "      <td>0.978798</td>\n",
              "    </tr>\n",
              "  </tbody>\n",
              "</table>\n",
              "</div>\n",
              "      <button class=\"colab-df-convert\" onclick=\"convertToInteractive('df-38c4b990-d7a5-4c72-a386-1bbe70dedd4d')\"\n",
              "              title=\"Convert this dataframe to an interactive table.\"\n",
              "              style=\"display:none;\">\n",
              "        \n",
              "  <svg xmlns=\"http://www.w3.org/2000/svg\" height=\"24px\"viewBox=\"0 0 24 24\"\n",
              "       width=\"24px\">\n",
              "    <path d=\"M0 0h24v24H0V0z\" fill=\"none\"/>\n",
              "    <path d=\"M18.56 5.44l.94 2.06.94-2.06 2.06-.94-2.06-.94-.94-2.06-.94 2.06-2.06.94zm-11 1L8.5 8.5l.94-2.06 2.06-.94-2.06-.94L8.5 2.5l-.94 2.06-2.06.94zm10 10l.94 2.06.94-2.06 2.06-.94-2.06-.94-.94-2.06-.94 2.06-2.06.94z\"/><path d=\"M17.41 7.96l-1.37-1.37c-.4-.4-.92-.59-1.43-.59-.52 0-1.04.2-1.43.59L10.3 9.45l-7.72 7.72c-.78.78-.78 2.05 0 2.83L4 21.41c.39.39.9.59 1.41.59.51 0 1.02-.2 1.41-.59l7.78-7.78 2.81-2.81c.8-.78.8-2.07 0-2.86zM5.41 20L4 18.59l7.72-7.72 1.47 1.35L5.41 20z\"/>\n",
              "  </svg>\n",
              "      </button>\n",
              "      \n",
              "  <style>\n",
              "    .colab-df-container {\n",
              "      display:flex;\n",
              "      flex-wrap:wrap;\n",
              "      gap: 12px;\n",
              "    }\n",
              "\n",
              "    .colab-df-convert {\n",
              "      background-color: #E8F0FE;\n",
              "      border: none;\n",
              "      border-radius: 50%;\n",
              "      cursor: pointer;\n",
              "      display: none;\n",
              "      fill: #1967D2;\n",
              "      height: 32px;\n",
              "      padding: 0 0 0 0;\n",
              "      width: 32px;\n",
              "    }\n",
              "\n",
              "    .colab-df-convert:hover {\n",
              "      background-color: #E2EBFA;\n",
              "      box-shadow: 0px 1px 2px rgba(60, 64, 67, 0.3), 0px 1px 3px 1px rgba(60, 64, 67, 0.15);\n",
              "      fill: #174EA6;\n",
              "    }\n",
              "\n",
              "    [theme=dark] .colab-df-convert {\n",
              "      background-color: #3B4455;\n",
              "      fill: #D2E3FC;\n",
              "    }\n",
              "\n",
              "    [theme=dark] .colab-df-convert:hover {\n",
              "      background-color: #434B5C;\n",
              "      box-shadow: 0px 1px 3px 1px rgba(0, 0, 0, 0.15);\n",
              "      filter: drop-shadow(0px 1px 2px rgba(0, 0, 0, 0.3));\n",
              "      fill: #FFFFFF;\n",
              "    }\n",
              "  </style>\n",
              "\n",
              "      <script>\n",
              "        const buttonEl =\n",
              "          document.querySelector('#df-38c4b990-d7a5-4c72-a386-1bbe70dedd4d button.colab-df-convert');\n",
              "        buttonEl.style.display =\n",
              "          google.colab.kernel.accessAllowed ? 'block' : 'none';\n",
              "\n",
              "        async function convertToInteractive(key) {\n",
              "          const element = document.querySelector('#df-38c4b990-d7a5-4c72-a386-1bbe70dedd4d');\n",
              "          const dataTable =\n",
              "            await google.colab.kernel.invokeFunction('convertToInteractive',\n",
              "                                                     [key], {});\n",
              "          if (!dataTable) return;\n",
              "\n",
              "          const docLinkHtml = 'Like what you see? Visit the ' +\n",
              "            '<a target=\"_blank\" href=https://colab.research.google.com/notebooks/data_table.ipynb>data table notebook</a>'\n",
              "            + ' to learn more about interactive tables.';\n",
              "          element.innerHTML = '';\n",
              "          dataTable['output_type'] = 'display_data';\n",
              "          await google.colab.output.renderOutput(dataTable, element);\n",
              "          const docLink = document.createElement('div');\n",
              "          docLink.innerHTML = docLinkHtml;\n",
              "          element.appendChild(docLink);\n",
              "        }\n",
              "      </script>\n",
              "    </div>\n",
              "  </div>\n",
              "  "
            ]
          },
          "metadata": {},
          "execution_count": 58
        }
      ],
      "source": [
        "test.acorr_ljungbox(res_cm_1.resid)[0:10]\n",
        "###  pvalue статистики Льюнга-Бокса"
      ]
    },
    {
      "cell_type": "markdown",
      "metadata": {
        "id": "LyEKwIKDiA8y"
      },
      "source": [
        " Можно сделать вывод об отсутствии автокорреляции остатков модели GARCH.\n",
        " \n",
        "Общий вывод - модель ARIMA-GARCH может быть использована для моделирования рассматриваемого временного ряда."
      ]
    },
    {
      "cell_type": "markdown",
      "metadata": {
        "id": "70ie4tiKiA8y"
      },
      "source": [
        "## 3.Нахождение рыночной β и тестирование гипотезы CAPM"
      ]
    },
    {
      "cell_type": "markdown",
      "metadata": {
        "collapsed": true,
        "id": "gruOunhqiA8z"
      },
      "source": [
        "Классическая версия модели CAPM предполагает отсутсвие в регрессионной модели свободного члена или в инвестиционной терминологии $\\alpha$.  Это означает, что рассматриваемый актив не может систематически \"обыграть\" рынок. Таким образом, основной акцент делается на показателе рыночной $\\beta$."
      ]
    },
    {
      "cell_type": "markdown",
      "metadata": {
        "id": "_6BR4GxKiA8z"
      },
      "source": [
        "$ER_i=R_f+\\beta_i(ER_m-R_f)$"
      ]
    },
    {
      "cell_type": "markdown",
      "metadata": {
        "id": "YH6FvjM7iA80"
      },
      "source": [
        "### Модель CAPM на основе индекса SP500 (дневные данные)"
      ]
    },
    {
      "cell_type": "code",
      "execution_count": 59,
      "metadata": {
        "id": "cPU_JQ3jiA80"
      },
      "outputs": [],
      "source": [
        "sp=pd.read_csv('https://github.com/qununc/UFR/raw/main/no2_time_series/%5EGSPC.csv')\n",
        "# загрузка данных по динамике индекса SP500 "
      ]
    },
    {
      "cell_type": "code",
      "execution_count": 60,
      "metadata": {
        "id": "E6E6w_3giA81"
      },
      "outputs": [],
      "source": [
        "sp['Date']=pd.to_datetime(sp['Date'],format='%Y-%m-%d')\n",
        "###  преобразование поля в формат даты"
      ]
    },
    {
      "cell_type": "code",
      "execution_count": 61,
      "metadata": {
        "id": "xjpPnE91iA81"
      },
      "outputs": [],
      "source": [
        "sp['Log_ret_SP']=np.log(sp['Adj Close'])-np.log(sp['Adj Close'].shift(1))\n",
        "### расчет логарифмической доходности"
      ]
    },
    {
      "cell_type": "code",
      "execution_count": 62,
      "metadata": {
        "id": "dNoWIJ5iiA82"
      },
      "outputs": [],
      "source": [
        "sp.drop([0],axis=0,inplace=True)\n",
        "### удаление первого наблюдения со значением nan"
      ]
    },
    {
      "cell_type": "code",
      "execution_count": 63,
      "metadata": {
        "id": "vPXYgPhFiA82"
      },
      "outputs": [],
      "source": [
        "port=sp[['Date','Log_ret_SP']].merge(amd[['Date','Log_ret_AMD']],left_on=['Date'],right_on=['Date'])\n",
        "### объединение акций и индекса в один dataframe"
      ]
    },
    {
      "cell_type": "code",
      "execution_count": 64,
      "metadata": {
        "id": "pFfMIRRJiA83"
      },
      "outputs": [],
      "source": [
        "port.columns=['Date','Log_ret_SP','Log_ret_AMD']"
      ]
    },
    {
      "cell_type": "code",
      "execution_count": 65,
      "metadata": {
        "colab": {
          "base_uri": "https://localhost:8080/",
          "height": 206
        },
        "outputId": "f7dcdb6f-6f79-4056-951d-e11d57d5e7e8",
        "id": "V2E8DAhxiA83"
      },
      "outputs": [
        {
          "output_type": "execute_result",
          "data": {
            "text/plain": [
              "           Date  Log_ret_SP  Log_ret_AMD\n",
              "1249 2018-11-26    0.015413     0.035483\n",
              "1250 2018-11-27    0.003256     0.047176\n",
              "1251 2018-11-28    0.022714     0.013683\n",
              "1252 2018-11-29   -0.002185     0.004209\n",
              "1253 2018-11-30    0.008138    -0.006085"
            ],
            "text/html": [
              "\n",
              "  <div id=\"df-91b9fe94-89f7-492b-b501-d98e5f540f6e\">\n",
              "    <div class=\"colab-df-container\">\n",
              "      <div>\n",
              "<style scoped>\n",
              "    .dataframe tbody tr th:only-of-type {\n",
              "        vertical-align: middle;\n",
              "    }\n",
              "\n",
              "    .dataframe tbody tr th {\n",
              "        vertical-align: top;\n",
              "    }\n",
              "\n",
              "    .dataframe thead th {\n",
              "        text-align: right;\n",
              "    }\n",
              "</style>\n",
              "<table border=\"1\" class=\"dataframe\">\n",
              "  <thead>\n",
              "    <tr style=\"text-align: right;\">\n",
              "      <th></th>\n",
              "      <th>Date</th>\n",
              "      <th>Log_ret_SP</th>\n",
              "      <th>Log_ret_AMD</th>\n",
              "    </tr>\n",
              "  </thead>\n",
              "  <tbody>\n",
              "    <tr>\n",
              "      <th>1249</th>\n",
              "      <td>2018-11-26</td>\n",
              "      <td>0.015413</td>\n",
              "      <td>0.035483</td>\n",
              "    </tr>\n",
              "    <tr>\n",
              "      <th>1250</th>\n",
              "      <td>2018-11-27</td>\n",
              "      <td>0.003256</td>\n",
              "      <td>0.047176</td>\n",
              "    </tr>\n",
              "    <tr>\n",
              "      <th>1251</th>\n",
              "      <td>2018-11-28</td>\n",
              "      <td>0.022714</td>\n",
              "      <td>0.013683</td>\n",
              "    </tr>\n",
              "    <tr>\n",
              "      <th>1252</th>\n",
              "      <td>2018-11-29</td>\n",
              "      <td>-0.002185</td>\n",
              "      <td>0.004209</td>\n",
              "    </tr>\n",
              "    <tr>\n",
              "      <th>1253</th>\n",
              "      <td>2018-11-30</td>\n",
              "      <td>0.008138</td>\n",
              "      <td>-0.006085</td>\n",
              "    </tr>\n",
              "  </tbody>\n",
              "</table>\n",
              "</div>\n",
              "      <button class=\"colab-df-convert\" onclick=\"convertToInteractive('df-91b9fe94-89f7-492b-b501-d98e5f540f6e')\"\n",
              "              title=\"Convert this dataframe to an interactive table.\"\n",
              "              style=\"display:none;\">\n",
              "        \n",
              "  <svg xmlns=\"http://www.w3.org/2000/svg\" height=\"24px\"viewBox=\"0 0 24 24\"\n",
              "       width=\"24px\">\n",
              "    <path d=\"M0 0h24v24H0V0z\" fill=\"none\"/>\n",
              "    <path d=\"M18.56 5.44l.94 2.06.94-2.06 2.06-.94-2.06-.94-.94-2.06-.94 2.06-2.06.94zm-11 1L8.5 8.5l.94-2.06 2.06-.94-2.06-.94L8.5 2.5l-.94 2.06-2.06.94zm10 10l.94 2.06.94-2.06 2.06-.94-2.06-.94-.94-2.06-.94 2.06-2.06.94z\"/><path d=\"M17.41 7.96l-1.37-1.37c-.4-.4-.92-.59-1.43-.59-.52 0-1.04.2-1.43.59L10.3 9.45l-7.72 7.72c-.78.78-.78 2.05 0 2.83L4 21.41c.39.39.9.59 1.41.59.51 0 1.02-.2 1.41-.59l7.78-7.78 2.81-2.81c.8-.78.8-2.07 0-2.86zM5.41 20L4 18.59l7.72-7.72 1.47 1.35L5.41 20z\"/>\n",
              "  </svg>\n",
              "      </button>\n",
              "      \n",
              "  <style>\n",
              "    .colab-df-container {\n",
              "      display:flex;\n",
              "      flex-wrap:wrap;\n",
              "      gap: 12px;\n",
              "    }\n",
              "\n",
              "    .colab-df-convert {\n",
              "      background-color: #E8F0FE;\n",
              "      border: none;\n",
              "      border-radius: 50%;\n",
              "      cursor: pointer;\n",
              "      display: none;\n",
              "      fill: #1967D2;\n",
              "      height: 32px;\n",
              "      padding: 0 0 0 0;\n",
              "      width: 32px;\n",
              "    }\n",
              "\n",
              "    .colab-df-convert:hover {\n",
              "      background-color: #E2EBFA;\n",
              "      box-shadow: 0px 1px 2px rgba(60, 64, 67, 0.3), 0px 1px 3px 1px rgba(60, 64, 67, 0.15);\n",
              "      fill: #174EA6;\n",
              "    }\n",
              "\n",
              "    [theme=dark] .colab-df-convert {\n",
              "      background-color: #3B4455;\n",
              "      fill: #D2E3FC;\n",
              "    }\n",
              "\n",
              "    [theme=dark] .colab-df-convert:hover {\n",
              "      background-color: #434B5C;\n",
              "      box-shadow: 0px 1px 3px 1px rgba(0, 0, 0, 0.15);\n",
              "      filter: drop-shadow(0px 1px 2px rgba(0, 0, 0, 0.3));\n",
              "      fill: #FFFFFF;\n",
              "    }\n",
              "  </style>\n",
              "\n",
              "      <script>\n",
              "        const buttonEl =\n",
              "          document.querySelector('#df-91b9fe94-89f7-492b-b501-d98e5f540f6e button.colab-df-convert');\n",
              "        buttonEl.style.display =\n",
              "          google.colab.kernel.accessAllowed ? 'block' : 'none';\n",
              "\n",
              "        async function convertToInteractive(key) {\n",
              "          const element = document.querySelector('#df-91b9fe94-89f7-492b-b501-d98e5f540f6e');\n",
              "          const dataTable =\n",
              "            await google.colab.kernel.invokeFunction('convertToInteractive',\n",
              "                                                     [key], {});\n",
              "          if (!dataTable) return;\n",
              "\n",
              "          const docLinkHtml = 'Like what you see? Visit the ' +\n",
              "            '<a target=\"_blank\" href=https://colab.research.google.com/notebooks/data_table.ipynb>data table notebook</a>'\n",
              "            + ' to learn more about interactive tables.';\n",
              "          element.innerHTML = '';\n",
              "          dataTable['output_type'] = 'display_data';\n",
              "          await google.colab.output.renderOutput(dataTable, element);\n",
              "          const docLink = document.createElement('div');\n",
              "          docLink.innerHTML = docLinkHtml;\n",
              "          element.appendChild(docLink);\n",
              "        }\n",
              "      </script>\n",
              "    </div>\n",
              "  </div>\n",
              "  "
            ]
          },
          "metadata": {},
          "execution_count": 65
        }
      ],
      "source": [
        "port.tail()"
      ]
    },
    {
      "cell_type": "code",
      "execution_count": 66,
      "metadata": {
        "id": "2TLOrCaziA84"
      },
      "outputs": [],
      "source": [
        "results_3=smf.ols('Log_ret_AMD ~ Log_ret_SP',data=port).fit()\n",
        "### простая линейная регрессия"
      ]
    },
    {
      "cell_type": "code",
      "execution_count": 67,
      "metadata": {
        "colab": {
          "base_uri": "https://localhost:8080/"
        },
        "outputId": "daee65d8-2455-425c-ada4-a6517092145a",
        "id": "dxTGzzj7iA84"
      },
      "outputs": [
        {
          "output_type": "stream",
          "name": "stdout",
          "text": [
            "                            OLS Regression Results                            \n",
            "==============================================================================\n",
            "Dep. Variable:            Log_ret_AMD   R-squared:                       0.110\n",
            "Model:                            OLS   Adj. R-squared:                  0.109\n",
            "Method:                 Least Squares   F-statistic:                     154.2\n",
            "Date:                Sat, 25 Jun 2022   Prob (F-statistic):           1.77e-33\n",
            "Time:                        15:11:32   Log-Likelihood:                 2400.0\n",
            "No. Observations:                1254   AIC:                            -4796.\n",
            "Df Residuals:                    1252   BIC:                            -4786.\n",
            "Df Model:                           1                                         \n",
            "Covariance Type:            nonrobust                                         \n",
            "==============================================================================\n",
            "                 coef    std err          t      P>|t|      [0.025      0.975]\n",
            "------------------------------------------------------------------------------\n",
            "Intercept      0.0009      0.001      0.878      0.380      -0.001       0.003\n",
            "Log_ret_SP     1.5558      0.125     12.419      0.000       1.310       1.802\n",
            "==============================================================================\n",
            "Omnibus:                      448.623   Durbin-Watson:                   2.088\n",
            "Prob(Omnibus):                  0.000   Jarque-Bera (JB):            23290.610\n",
            "Skew:                           0.860   Prob(JB):                         0.00\n",
            "Kurtosis:                      24.043   Cond. No.                         124.\n",
            "==============================================================================\n",
            "\n",
            "Notes:\n",
            "[1] Standard Errors assume that the covariance matrix of the errors is correctly specified.\n"
          ]
        }
      ],
      "source": [
        "print(results_3.summary())"
      ]
    },
    {
      "cell_type": "markdown",
      "metadata": {
        "id": "KKTDHHPHiA85"
      },
      "source": [
        "Проверка выполнения условия гомоскедастичности с помощью критерия Бреуша-Пагана"
      ]
    },
    {
      "cell_type": "code",
      "execution_count": 68,
      "metadata": {
        "colab": {
          "base_uri": "https://localhost:8080/"
        },
        "outputId": "428ef7ea-ac2d-4c16-c21b-db192079a126",
        "id": "uhEvWwakiA85"
      },
      "outputs": [
        {
          "output_type": "stream",
          "name": "stdout",
          "text": [
            "lm 0.1227,lm_pvalue 0.7261,fvalue 0.1225,f_pvalue 0.7264\n"
          ]
        }
      ],
      "source": [
        "lm,lm_value,fvalue,f_pvalue=diagnostic.het_breuschpagan(results_3.resid,results_3.model.exog)\n",
        "print('lm %.4f,lm_pvalue %.4f,fvalue %.4f,f_pvalue %.4f'%(lm,lm_value,fvalue,f_pvalue))"
      ]
    },
    {
      "cell_type": "markdown",
      "metadata": {
        "id": "Te8oHyOLiA86"
      },
      "source": [
        "С учетом значения p-value гипотеза об отсутствии гомоскедастичности принимается"
      ]
    },
    {
      "cell_type": "markdown",
      "metadata": {
        "id": "UuaCwdkqiA86"
      },
      "source": [
        "#### Проверка наличия структурных сдвигов"
      ]
    },
    {
      "cell_type": "markdown",
      "metadata": {
        "id": "GKo-z_kqiA87"
      },
      "source": [
        "Структурный сдвиг означает, что процесс притерпевает определенные изменения, которые могут сильно сказаться на параметрах модели. В случае наличия структурного сдвга целесооборазно использовать не одну, а две модели - до сдвига и после. Проверка гипотезы об отсутствии структурных сдвигов осуществвляется с помощью ряда  критериев, самым популярным из которых в эконометрике остается тест Чоу. В statsmodels реализованы критерий кумулятивной суммы (CUSUM)  и критерий Хансена. "
      ]
    },
    {
      "cell_type": "code",
      "execution_count": 69,
      "metadata": {
        "colab": {
          "base_uri": "https://localhost:8080/"
        },
        "outputId": "1ab90541-0f2d-456a-b958-aaa01069ed93",
        "id": "eClAJHO1iA87"
      },
      "outputs": [
        {
          "output_type": "execute_result",
          "data": {
            "text/plain": [
              "(1.090080052256537, 0.1855922571347565)"
            ]
          },
          "metadata": {},
          "execution_count": 69
        }
      ],
      "source": [
        "diagnostic.breaks_cusumolsresid(results_3.resid)[0:2]"
      ]
    },
    {
      "cell_type": "code",
      "execution_count": 70,
      "metadata": {
        "colab": {
          "base_uri": "https://localhost:8080/"
        },
        "outputId": "981a95b9-aba2-480a-bd4e-249993f6fbe1",
        "id": "cFJ56m1piA88"
      },
      "outputs": [
        {
          "output_type": "execute_result",
          "data": {
            "text/plain": [
              "(0.9404890216960894, array([( 2, 1.9 ), ( 6, 3.75), (15, 3.75), (19, 4.52)],\n",
              "       dtype=[('nobs', '<i8'), ('crit', '<f8')]))"
            ]
          },
          "metadata": {},
          "execution_count": 70
        }
      ],
      "source": [
        "diagnostic.breaks_hansen(results_3)[0:2]"
      ]
    },
    {
      "cell_type": "markdown",
      "metadata": {
        "id": "LbEgMT5KiA88"
      },
      "source": [
        "С учетом значения критериев и p-value гипотеза об отсутствии структурного сдвига принимается"
      ]
    },
    {
      "cell_type": "markdown",
      "metadata": {
        "id": "5f18Q_ONiA88"
      },
      "source": [
        "**Общие выводы:**\n",
        "1. Уравнение значимо, что подтверждается t и F критериями.\n",
        "2. Показатель $\\beta$ = 1.56, это говорит о том, что акции Advanced Micro Devices, Inc. растут (и, соответственно, падают) сильнее рынка акций, включающего все отрасли.\n",
        "3. Показатель $\\alpha$ статистчически незначимо отличается от 0, что согласуется с моделью CAPM"
      ]
    },
    {
      "cell_type": "markdown",
      "metadata": {
        "id": "pgXxJyAjiA89"
      },
      "source": [
        "### Модель CAPM на основе индекса NASDAQ (дневные данные)"
      ]
    },
    {
      "cell_type": "code",
      "execution_count": 71,
      "metadata": {
        "id": "m1toXn9tiA89"
      },
      "outputs": [],
      "source": [
        "nasdaq = pd.read_csv('https://github.com/qununc/UFR/raw/main/no2_time_series/%5EIXIC.csv')"
      ]
    },
    {
      "cell_type": "code",
      "execution_count": 72,
      "metadata": {
        "id": "TLcNG5FKiA8-"
      },
      "outputs": [],
      "source": [
        "nasdaq['Date']=pd.to_datetime(nasdaq['Date'],format='%Y-%m-%d')\n",
        "###  преобразование поля в формат даты"
      ]
    },
    {
      "cell_type": "code",
      "execution_count": 73,
      "metadata": {
        "id": "Kuy8E1LziA8-"
      },
      "outputs": [],
      "source": [
        "nasdaq['Log_ret_Nasdaq']=np.log(nasdaq['Adj Close'])-np.log(nasdaq['Adj Close'].shift(1))"
      ]
    },
    {
      "cell_type": "code",
      "execution_count": 74,
      "metadata": {
        "id": "1yqspUYTiA8-"
      },
      "outputs": [],
      "source": [
        "nasdaq.drop([0],axis=0,inplace=True)"
      ]
    },
    {
      "cell_type": "code",
      "execution_count": 75,
      "metadata": {
        "colab": {
          "base_uri": "https://localhost:8080/",
          "height": 206
        },
        "outputId": "c238829d-01b8-4d4e-8ee5-4220370ef4d7",
        "id": "nzGy5ZeJiA8_"
      },
      "outputs": [
        {
          "output_type": "execute_result",
          "data": {
            "text/plain": [
              "        Date         Open         High          Low        Close    Adj Close  \\\n",
              "1 2013-12-12  4004.750000  4013.540039  3993.570068  3998.399902  3998.399902   \n",
              "2 2013-12-13  4015.530029  4017.449951  3992.290039  4000.979980  4000.979980   \n",
              "3 2013-12-16  4019.370117  4043.000000  4019.139893  4029.520020  4029.520020   \n",
              "4 2013-12-17  4028.879883  4034.689941  4011.580078  4023.679932  4023.679932   \n",
              "5 2013-12-18  4024.669922  4070.379883  3979.590088  4070.060059  4070.060059   \n",
              "\n",
              "       Volume  Log_ret_Nasdaq  \n",
              "1  1893270000       -0.001352  \n",
              "2  1615340000        0.000645  \n",
              "3  1943830000        0.007108  \n",
              "4  1861130000       -0.001450  \n",
              "5  2178330000        0.011461  "
            ],
            "text/html": [
              "\n",
              "  <div id=\"df-ddc9f36b-9cdc-4554-b7d6-d27bf722ed42\">\n",
              "    <div class=\"colab-df-container\">\n",
              "      <div>\n",
              "<style scoped>\n",
              "    .dataframe tbody tr th:only-of-type {\n",
              "        vertical-align: middle;\n",
              "    }\n",
              "\n",
              "    .dataframe tbody tr th {\n",
              "        vertical-align: top;\n",
              "    }\n",
              "\n",
              "    .dataframe thead th {\n",
              "        text-align: right;\n",
              "    }\n",
              "</style>\n",
              "<table border=\"1\" class=\"dataframe\">\n",
              "  <thead>\n",
              "    <tr style=\"text-align: right;\">\n",
              "      <th></th>\n",
              "      <th>Date</th>\n",
              "      <th>Open</th>\n",
              "      <th>High</th>\n",
              "      <th>Low</th>\n",
              "      <th>Close</th>\n",
              "      <th>Adj Close</th>\n",
              "      <th>Volume</th>\n",
              "      <th>Log_ret_Nasdaq</th>\n",
              "    </tr>\n",
              "  </thead>\n",
              "  <tbody>\n",
              "    <tr>\n",
              "      <th>1</th>\n",
              "      <td>2013-12-12</td>\n",
              "      <td>4004.750000</td>\n",
              "      <td>4013.540039</td>\n",
              "      <td>3993.570068</td>\n",
              "      <td>3998.399902</td>\n",
              "      <td>3998.399902</td>\n",
              "      <td>1893270000</td>\n",
              "      <td>-0.001352</td>\n",
              "    </tr>\n",
              "    <tr>\n",
              "      <th>2</th>\n",
              "      <td>2013-12-13</td>\n",
              "      <td>4015.530029</td>\n",
              "      <td>4017.449951</td>\n",
              "      <td>3992.290039</td>\n",
              "      <td>4000.979980</td>\n",
              "      <td>4000.979980</td>\n",
              "      <td>1615340000</td>\n",
              "      <td>0.000645</td>\n",
              "    </tr>\n",
              "    <tr>\n",
              "      <th>3</th>\n",
              "      <td>2013-12-16</td>\n",
              "      <td>4019.370117</td>\n",
              "      <td>4043.000000</td>\n",
              "      <td>4019.139893</td>\n",
              "      <td>4029.520020</td>\n",
              "      <td>4029.520020</td>\n",
              "      <td>1943830000</td>\n",
              "      <td>0.007108</td>\n",
              "    </tr>\n",
              "    <tr>\n",
              "      <th>4</th>\n",
              "      <td>2013-12-17</td>\n",
              "      <td>4028.879883</td>\n",
              "      <td>4034.689941</td>\n",
              "      <td>4011.580078</td>\n",
              "      <td>4023.679932</td>\n",
              "      <td>4023.679932</td>\n",
              "      <td>1861130000</td>\n",
              "      <td>-0.001450</td>\n",
              "    </tr>\n",
              "    <tr>\n",
              "      <th>5</th>\n",
              "      <td>2013-12-18</td>\n",
              "      <td>4024.669922</td>\n",
              "      <td>4070.379883</td>\n",
              "      <td>3979.590088</td>\n",
              "      <td>4070.060059</td>\n",
              "      <td>4070.060059</td>\n",
              "      <td>2178330000</td>\n",
              "      <td>0.011461</td>\n",
              "    </tr>\n",
              "  </tbody>\n",
              "</table>\n",
              "</div>\n",
              "      <button class=\"colab-df-convert\" onclick=\"convertToInteractive('df-ddc9f36b-9cdc-4554-b7d6-d27bf722ed42')\"\n",
              "              title=\"Convert this dataframe to an interactive table.\"\n",
              "              style=\"display:none;\">\n",
              "        \n",
              "  <svg xmlns=\"http://www.w3.org/2000/svg\" height=\"24px\"viewBox=\"0 0 24 24\"\n",
              "       width=\"24px\">\n",
              "    <path d=\"M0 0h24v24H0V0z\" fill=\"none\"/>\n",
              "    <path d=\"M18.56 5.44l.94 2.06.94-2.06 2.06-.94-2.06-.94-.94-2.06-.94 2.06-2.06.94zm-11 1L8.5 8.5l.94-2.06 2.06-.94-2.06-.94L8.5 2.5l-.94 2.06-2.06.94zm10 10l.94 2.06.94-2.06 2.06-.94-2.06-.94-.94-2.06-.94 2.06-2.06.94z\"/><path d=\"M17.41 7.96l-1.37-1.37c-.4-.4-.92-.59-1.43-.59-.52 0-1.04.2-1.43.59L10.3 9.45l-7.72 7.72c-.78.78-.78 2.05 0 2.83L4 21.41c.39.39.9.59 1.41.59.51 0 1.02-.2 1.41-.59l7.78-7.78 2.81-2.81c.8-.78.8-2.07 0-2.86zM5.41 20L4 18.59l7.72-7.72 1.47 1.35L5.41 20z\"/>\n",
              "  </svg>\n",
              "      </button>\n",
              "      \n",
              "  <style>\n",
              "    .colab-df-container {\n",
              "      display:flex;\n",
              "      flex-wrap:wrap;\n",
              "      gap: 12px;\n",
              "    }\n",
              "\n",
              "    .colab-df-convert {\n",
              "      background-color: #E8F0FE;\n",
              "      border: none;\n",
              "      border-radius: 50%;\n",
              "      cursor: pointer;\n",
              "      display: none;\n",
              "      fill: #1967D2;\n",
              "      height: 32px;\n",
              "      padding: 0 0 0 0;\n",
              "      width: 32px;\n",
              "    }\n",
              "\n",
              "    .colab-df-convert:hover {\n",
              "      background-color: #E2EBFA;\n",
              "      box-shadow: 0px 1px 2px rgba(60, 64, 67, 0.3), 0px 1px 3px 1px rgba(60, 64, 67, 0.15);\n",
              "      fill: #174EA6;\n",
              "    }\n",
              "\n",
              "    [theme=dark] .colab-df-convert {\n",
              "      background-color: #3B4455;\n",
              "      fill: #D2E3FC;\n",
              "    }\n",
              "\n",
              "    [theme=dark] .colab-df-convert:hover {\n",
              "      background-color: #434B5C;\n",
              "      box-shadow: 0px 1px 3px 1px rgba(0, 0, 0, 0.15);\n",
              "      filter: drop-shadow(0px 1px 2px rgba(0, 0, 0, 0.3));\n",
              "      fill: #FFFFFF;\n",
              "    }\n",
              "  </style>\n",
              "\n",
              "      <script>\n",
              "        const buttonEl =\n",
              "          document.querySelector('#df-ddc9f36b-9cdc-4554-b7d6-d27bf722ed42 button.colab-df-convert');\n",
              "        buttonEl.style.display =\n",
              "          google.colab.kernel.accessAllowed ? 'block' : 'none';\n",
              "\n",
              "        async function convertToInteractive(key) {\n",
              "          const element = document.querySelector('#df-ddc9f36b-9cdc-4554-b7d6-d27bf722ed42');\n",
              "          const dataTable =\n",
              "            await google.colab.kernel.invokeFunction('convertToInteractive',\n",
              "                                                     [key], {});\n",
              "          if (!dataTable) return;\n",
              "\n",
              "          const docLinkHtml = 'Like what you see? Visit the ' +\n",
              "            '<a target=\"_blank\" href=https://colab.research.google.com/notebooks/data_table.ipynb>data table notebook</a>'\n",
              "            + ' to learn more about interactive tables.';\n",
              "          element.innerHTML = '';\n",
              "          dataTable['output_type'] = 'display_data';\n",
              "          await google.colab.output.renderOutput(dataTable, element);\n",
              "          const docLink = document.createElement('div');\n",
              "          docLink.innerHTML = docLinkHtml;\n",
              "          element.appendChild(docLink);\n",
              "        }\n",
              "      </script>\n",
              "    </div>\n",
              "  </div>\n",
              "  "
            ]
          },
          "metadata": {},
          "execution_count": 75
        }
      ],
      "source": [
        "nasdaq.head()"
      ]
    },
    {
      "cell_type": "code",
      "execution_count": 76,
      "metadata": {
        "id": "9wx1VWsUiA8_"
      },
      "outputs": [],
      "source": [
        "port=port.merge(nasdaq[['Date','Log_ret_Nasdaq']],left_on=['Date'],right_on=['Date'])"
      ]
    },
    {
      "cell_type": "code",
      "execution_count": 77,
      "metadata": {
        "colab": {
          "base_uri": "https://localhost:8080/",
          "height": 206
        },
        "outputId": "fe1889ea-90c1-4a91-9202-9d4cb2795e2f",
        "id": "hGzJ4q_BiA9A"
      },
      "outputs": [
        {
          "output_type": "execute_result",
          "data": {
            "text/plain": [
              "        Date  Log_ret_SP  Log_ret_AMD  Log_ret_Nasdaq\n",
              "0 2013-12-12   -0.003778     0.002714       -0.001352\n",
              "1 2013-12-13   -0.000101     0.000000        0.000645\n",
              "2 2013-12-16    0.006300    -0.027474        0.007108\n",
              "3 2013-12-17   -0.003106     0.016575       -0.001450\n",
              "4 2013-12-18    0.016511     0.000000        0.011461"
            ],
            "text/html": [
              "\n",
              "  <div id=\"df-5f916c01-2cc2-4f78-a8a3-bdf2a4bb15ce\">\n",
              "    <div class=\"colab-df-container\">\n",
              "      <div>\n",
              "<style scoped>\n",
              "    .dataframe tbody tr th:only-of-type {\n",
              "        vertical-align: middle;\n",
              "    }\n",
              "\n",
              "    .dataframe tbody tr th {\n",
              "        vertical-align: top;\n",
              "    }\n",
              "\n",
              "    .dataframe thead th {\n",
              "        text-align: right;\n",
              "    }\n",
              "</style>\n",
              "<table border=\"1\" class=\"dataframe\">\n",
              "  <thead>\n",
              "    <tr style=\"text-align: right;\">\n",
              "      <th></th>\n",
              "      <th>Date</th>\n",
              "      <th>Log_ret_SP</th>\n",
              "      <th>Log_ret_AMD</th>\n",
              "      <th>Log_ret_Nasdaq</th>\n",
              "    </tr>\n",
              "  </thead>\n",
              "  <tbody>\n",
              "    <tr>\n",
              "      <th>0</th>\n",
              "      <td>2013-12-12</td>\n",
              "      <td>-0.003778</td>\n",
              "      <td>0.002714</td>\n",
              "      <td>-0.001352</td>\n",
              "    </tr>\n",
              "    <tr>\n",
              "      <th>1</th>\n",
              "      <td>2013-12-13</td>\n",
              "      <td>-0.000101</td>\n",
              "      <td>0.000000</td>\n",
              "      <td>0.000645</td>\n",
              "    </tr>\n",
              "    <tr>\n",
              "      <th>2</th>\n",
              "      <td>2013-12-16</td>\n",
              "      <td>0.006300</td>\n",
              "      <td>-0.027474</td>\n",
              "      <td>0.007108</td>\n",
              "    </tr>\n",
              "    <tr>\n",
              "      <th>3</th>\n",
              "      <td>2013-12-17</td>\n",
              "      <td>-0.003106</td>\n",
              "      <td>0.016575</td>\n",
              "      <td>-0.001450</td>\n",
              "    </tr>\n",
              "    <tr>\n",
              "      <th>4</th>\n",
              "      <td>2013-12-18</td>\n",
              "      <td>0.016511</td>\n",
              "      <td>0.000000</td>\n",
              "      <td>0.011461</td>\n",
              "    </tr>\n",
              "  </tbody>\n",
              "</table>\n",
              "</div>\n",
              "      <button class=\"colab-df-convert\" onclick=\"convertToInteractive('df-5f916c01-2cc2-4f78-a8a3-bdf2a4bb15ce')\"\n",
              "              title=\"Convert this dataframe to an interactive table.\"\n",
              "              style=\"display:none;\">\n",
              "        \n",
              "  <svg xmlns=\"http://www.w3.org/2000/svg\" height=\"24px\"viewBox=\"0 0 24 24\"\n",
              "       width=\"24px\">\n",
              "    <path d=\"M0 0h24v24H0V0z\" fill=\"none\"/>\n",
              "    <path d=\"M18.56 5.44l.94 2.06.94-2.06 2.06-.94-2.06-.94-.94-2.06-.94 2.06-2.06.94zm-11 1L8.5 8.5l.94-2.06 2.06-.94-2.06-.94L8.5 2.5l-.94 2.06-2.06.94zm10 10l.94 2.06.94-2.06 2.06-.94-2.06-.94-.94-2.06-.94 2.06-2.06.94z\"/><path d=\"M17.41 7.96l-1.37-1.37c-.4-.4-.92-.59-1.43-.59-.52 0-1.04.2-1.43.59L10.3 9.45l-7.72 7.72c-.78.78-.78 2.05 0 2.83L4 21.41c.39.39.9.59 1.41.59.51 0 1.02-.2 1.41-.59l7.78-7.78 2.81-2.81c.8-.78.8-2.07 0-2.86zM5.41 20L4 18.59l7.72-7.72 1.47 1.35L5.41 20z\"/>\n",
              "  </svg>\n",
              "      </button>\n",
              "      \n",
              "  <style>\n",
              "    .colab-df-container {\n",
              "      display:flex;\n",
              "      flex-wrap:wrap;\n",
              "      gap: 12px;\n",
              "    }\n",
              "\n",
              "    .colab-df-convert {\n",
              "      background-color: #E8F0FE;\n",
              "      border: none;\n",
              "      border-radius: 50%;\n",
              "      cursor: pointer;\n",
              "      display: none;\n",
              "      fill: #1967D2;\n",
              "      height: 32px;\n",
              "      padding: 0 0 0 0;\n",
              "      width: 32px;\n",
              "    }\n",
              "\n",
              "    .colab-df-convert:hover {\n",
              "      background-color: #E2EBFA;\n",
              "      box-shadow: 0px 1px 2px rgba(60, 64, 67, 0.3), 0px 1px 3px 1px rgba(60, 64, 67, 0.15);\n",
              "      fill: #174EA6;\n",
              "    }\n",
              "\n",
              "    [theme=dark] .colab-df-convert {\n",
              "      background-color: #3B4455;\n",
              "      fill: #D2E3FC;\n",
              "    }\n",
              "\n",
              "    [theme=dark] .colab-df-convert:hover {\n",
              "      background-color: #434B5C;\n",
              "      box-shadow: 0px 1px 3px 1px rgba(0, 0, 0, 0.15);\n",
              "      filter: drop-shadow(0px 1px 2px rgba(0, 0, 0, 0.3));\n",
              "      fill: #FFFFFF;\n",
              "    }\n",
              "  </style>\n",
              "\n",
              "      <script>\n",
              "        const buttonEl =\n",
              "          document.querySelector('#df-5f916c01-2cc2-4f78-a8a3-bdf2a4bb15ce button.colab-df-convert');\n",
              "        buttonEl.style.display =\n",
              "          google.colab.kernel.accessAllowed ? 'block' : 'none';\n",
              "\n",
              "        async function convertToInteractive(key) {\n",
              "          const element = document.querySelector('#df-5f916c01-2cc2-4f78-a8a3-bdf2a4bb15ce');\n",
              "          const dataTable =\n",
              "            await google.colab.kernel.invokeFunction('convertToInteractive',\n",
              "                                                     [key], {});\n",
              "          if (!dataTable) return;\n",
              "\n",
              "          const docLinkHtml = 'Like what you see? Visit the ' +\n",
              "            '<a target=\"_blank\" href=https://colab.research.google.com/notebooks/data_table.ipynb>data table notebook</a>'\n",
              "            + ' to learn more about interactive tables.';\n",
              "          element.innerHTML = '';\n",
              "          dataTable['output_type'] = 'display_data';\n",
              "          await google.colab.output.renderOutput(dataTable, element);\n",
              "          const docLink = document.createElement('div');\n",
              "          docLink.innerHTML = docLinkHtml;\n",
              "          element.appendChild(docLink);\n",
              "        }\n",
              "      </script>\n",
              "    </div>\n",
              "  </div>\n",
              "  "
            ]
          },
          "metadata": {},
          "execution_count": 77
        }
      ],
      "source": [
        "port.head()"
      ]
    },
    {
      "cell_type": "code",
      "execution_count": 78,
      "metadata": {
        "id": "YLboRYjziA9B"
      },
      "outputs": [],
      "source": [
        "results_4=smf.ols('Log_ret_AMD ~ Log_ret_Nasdaq',data=port).fit()\n",
        "### простая линейная регрессия"
      ]
    },
    {
      "cell_type": "code",
      "execution_count": 79,
      "metadata": {
        "colab": {
          "base_uri": "https://localhost:8080/"
        },
        "outputId": "21e8dfbf-159c-44d5-9695-08146ca50854",
        "id": "rcc0ITAEiA9B"
      },
      "outputs": [
        {
          "output_type": "stream",
          "name": "stdout",
          "text": [
            "                            OLS Regression Results                            \n",
            "==============================================================================\n",
            "Dep. Variable:            Log_ret_AMD   R-squared:                       0.127\n",
            "Model:                            OLS   Adj. R-squared:                  0.126\n",
            "Method:                 Least Squares   F-statistic:                     181.2\n",
            "Date:                Sat, 25 Jun 2022   Prob (F-statistic):           1.11e-38\n",
            "Time:                        15:11:32   Log-Likelihood:                 2407.4\n",
            "No. Observations:                1252   AIC:                            -4811.\n",
            "Df Residuals:                    1250   BIC:                            -4801.\n",
            "Df Model:                           1                                         \n",
            "Covariance Type:            nonrobust                                         \n",
            "==================================================================================\n",
            "                     coef    std err          t      P>|t|      [0.025      0.975]\n",
            "----------------------------------------------------------------------------------\n",
            "Intercept          0.0007      0.001      0.730      0.466      -0.001       0.003\n",
            "Log_ret_Nasdaq     1.3900      0.103     13.463      0.000       1.187       1.593\n",
            "==============================================================================\n",
            "Omnibus:                      495.213   Durbin-Watson:                   2.099\n",
            "Prob(Omnibus):                  0.000   Jarque-Bera (JB):            29799.316\n",
            "Skew:                           0.999   Prob(JB):                         0.00\n",
            "Kurtosis:                      26.817   Cond. No.                         103.\n",
            "==============================================================================\n",
            "\n",
            "Notes:\n",
            "[1] Standard Errors assume that the covariance matrix of the errors is correctly specified.\n"
          ]
        }
      ],
      "source": [
        "print(results_4.summary())"
      ]
    },
    {
      "cell_type": "markdown",
      "metadata": {
        "id": "9TRf6F2uiA9B"
      },
      "source": [
        "**Общие выводы:**\n",
        "1. Уравнение значимо, что подтверждается t и F критериями.\n",
        "2. Показатель $\\beta$ = 1.39, это говорит о том, что акции Advanced Micro Devices, Inc. растут (и, соответственно, падают) быстрее рынка технологических акций. \n",
        "3. Показатель $\\alpha$ статистчически незначимо отличается от 0, что согласуется с моделью CAPM"
      ]
    },
    {
      "cell_type": "markdown",
      "metadata": {
        "id": "q3JDAIg6iA9C"
      },
      "source": [
        "### Модель CAPM на основе индекса SP500 (месячные данные)"
      ]
    },
    {
      "cell_type": "code",
      "execution_count": 80,
      "metadata": {
        "id": "YQR34o7TiA9C"
      },
      "outputs": [],
      "source": [
        "port['Year']=port['Date'].dt.year"
      ]
    },
    {
      "cell_type": "code",
      "execution_count": 81,
      "metadata": {
        "id": "CysJy4R8iA9C"
      },
      "outputs": [],
      "source": [
        "port['Month']=port['Date'].dt.month"
      ]
    },
    {
      "cell_type": "markdown",
      "metadata": {
        "id": "UkzORZuNiA9D"
      },
      "source": [
        "Для преобразования дневных доходностей в месячные доходности воспользуемся удобным свойством логарифма и просуммируем дневные доходности по каждому месяцу"
      ]
    },
    {
      "cell_type": "code",
      "execution_count": 82,
      "metadata": {
        "id": "Mj1KywQ-iA9D"
      },
      "outputs": [],
      "source": [
        "port_monthly=port.groupby(['Year','Month'])[['Log_ret_SP','Log_ret_AMD','Log_ret_Nasdaq']].sum()\n",
        "### преобразование дневных доходностей в месячные доходности"
      ]
    },
    {
      "cell_type": "code",
      "execution_count": 83,
      "metadata": {
        "colab": {
          "base_uri": "https://localhost:8080/",
          "height": 237
        },
        "outputId": "f68942ec-6289-4458-8cad-67e6a397132f",
        "id": "paFbIZoLiA9E"
      },
      "outputs": [
        {
          "output_type": "execute_result",
          "data": {
            "text/plain": [
              "            Log_ret_SP  Log_ret_AMD  Log_ret_Nasdaq\n",
              "Year Month                                         \n",
              "2013 12       0.036439     0.050342        0.042249\n",
              "2014 1       -0.036231    -0.120694       -0.017562\n",
              "     2        0.042213     0.078472        0.048569\n",
              "     3        0.006908     0.077759       -0.025658\n",
              "     4        0.006182     0.019754       -0.020312"
            ],
            "text/html": [
              "\n",
              "  <div id=\"df-b9c9525d-7a06-4680-9f3b-b9accef1d509\">\n",
              "    <div class=\"colab-df-container\">\n",
              "      <div>\n",
              "<style scoped>\n",
              "    .dataframe tbody tr th:only-of-type {\n",
              "        vertical-align: middle;\n",
              "    }\n",
              "\n",
              "    .dataframe tbody tr th {\n",
              "        vertical-align: top;\n",
              "    }\n",
              "\n",
              "    .dataframe thead th {\n",
              "        text-align: right;\n",
              "    }\n",
              "</style>\n",
              "<table border=\"1\" class=\"dataframe\">\n",
              "  <thead>\n",
              "    <tr style=\"text-align: right;\">\n",
              "      <th></th>\n",
              "      <th></th>\n",
              "      <th>Log_ret_SP</th>\n",
              "      <th>Log_ret_AMD</th>\n",
              "      <th>Log_ret_Nasdaq</th>\n",
              "    </tr>\n",
              "    <tr>\n",
              "      <th>Year</th>\n",
              "      <th>Month</th>\n",
              "      <th></th>\n",
              "      <th></th>\n",
              "      <th></th>\n",
              "    </tr>\n",
              "  </thead>\n",
              "  <tbody>\n",
              "    <tr>\n",
              "      <th>2013</th>\n",
              "      <th>12</th>\n",
              "      <td>0.036439</td>\n",
              "      <td>0.050342</td>\n",
              "      <td>0.042249</td>\n",
              "    </tr>\n",
              "    <tr>\n",
              "      <th rowspan=\"4\" valign=\"top\">2014</th>\n",
              "      <th>1</th>\n",
              "      <td>-0.036231</td>\n",
              "      <td>-0.120694</td>\n",
              "      <td>-0.017562</td>\n",
              "    </tr>\n",
              "    <tr>\n",
              "      <th>2</th>\n",
              "      <td>0.042213</td>\n",
              "      <td>0.078472</td>\n",
              "      <td>0.048569</td>\n",
              "    </tr>\n",
              "    <tr>\n",
              "      <th>3</th>\n",
              "      <td>0.006908</td>\n",
              "      <td>0.077759</td>\n",
              "      <td>-0.025658</td>\n",
              "    </tr>\n",
              "    <tr>\n",
              "      <th>4</th>\n",
              "      <td>0.006182</td>\n",
              "      <td>0.019754</td>\n",
              "      <td>-0.020312</td>\n",
              "    </tr>\n",
              "  </tbody>\n",
              "</table>\n",
              "</div>\n",
              "      <button class=\"colab-df-convert\" onclick=\"convertToInteractive('df-b9c9525d-7a06-4680-9f3b-b9accef1d509')\"\n",
              "              title=\"Convert this dataframe to an interactive table.\"\n",
              "              style=\"display:none;\">\n",
              "        \n",
              "  <svg xmlns=\"http://www.w3.org/2000/svg\" height=\"24px\"viewBox=\"0 0 24 24\"\n",
              "       width=\"24px\">\n",
              "    <path d=\"M0 0h24v24H0V0z\" fill=\"none\"/>\n",
              "    <path d=\"M18.56 5.44l.94 2.06.94-2.06 2.06-.94-2.06-.94-.94-2.06-.94 2.06-2.06.94zm-11 1L8.5 8.5l.94-2.06 2.06-.94-2.06-.94L8.5 2.5l-.94 2.06-2.06.94zm10 10l.94 2.06.94-2.06 2.06-.94-2.06-.94-.94-2.06-.94 2.06-2.06.94z\"/><path d=\"M17.41 7.96l-1.37-1.37c-.4-.4-.92-.59-1.43-.59-.52 0-1.04.2-1.43.59L10.3 9.45l-7.72 7.72c-.78.78-.78 2.05 0 2.83L4 21.41c.39.39.9.59 1.41.59.51 0 1.02-.2 1.41-.59l7.78-7.78 2.81-2.81c.8-.78.8-2.07 0-2.86zM5.41 20L4 18.59l7.72-7.72 1.47 1.35L5.41 20z\"/>\n",
              "  </svg>\n",
              "      </button>\n",
              "      \n",
              "  <style>\n",
              "    .colab-df-container {\n",
              "      display:flex;\n",
              "      flex-wrap:wrap;\n",
              "      gap: 12px;\n",
              "    }\n",
              "\n",
              "    .colab-df-convert {\n",
              "      background-color: #E8F0FE;\n",
              "      border: none;\n",
              "      border-radius: 50%;\n",
              "      cursor: pointer;\n",
              "      display: none;\n",
              "      fill: #1967D2;\n",
              "      height: 32px;\n",
              "      padding: 0 0 0 0;\n",
              "      width: 32px;\n",
              "    }\n",
              "\n",
              "    .colab-df-convert:hover {\n",
              "      background-color: #E2EBFA;\n",
              "      box-shadow: 0px 1px 2px rgba(60, 64, 67, 0.3), 0px 1px 3px 1px rgba(60, 64, 67, 0.15);\n",
              "      fill: #174EA6;\n",
              "    }\n",
              "\n",
              "    [theme=dark] .colab-df-convert {\n",
              "      background-color: #3B4455;\n",
              "      fill: #D2E3FC;\n",
              "    }\n",
              "\n",
              "    [theme=dark] .colab-df-convert:hover {\n",
              "      background-color: #434B5C;\n",
              "      box-shadow: 0px 1px 3px 1px rgba(0, 0, 0, 0.15);\n",
              "      filter: drop-shadow(0px 1px 2px rgba(0, 0, 0, 0.3));\n",
              "      fill: #FFFFFF;\n",
              "    }\n",
              "  </style>\n",
              "\n",
              "      <script>\n",
              "        const buttonEl =\n",
              "          document.querySelector('#df-b9c9525d-7a06-4680-9f3b-b9accef1d509 button.colab-df-convert');\n",
              "        buttonEl.style.display =\n",
              "          google.colab.kernel.accessAllowed ? 'block' : 'none';\n",
              "\n",
              "        async function convertToInteractive(key) {\n",
              "          const element = document.querySelector('#df-b9c9525d-7a06-4680-9f3b-b9accef1d509');\n",
              "          const dataTable =\n",
              "            await google.colab.kernel.invokeFunction('convertToInteractive',\n",
              "                                                     [key], {});\n",
              "          if (!dataTable) return;\n",
              "\n",
              "          const docLinkHtml = 'Like what you see? Visit the ' +\n",
              "            '<a target=\"_blank\" href=https://colab.research.google.com/notebooks/data_table.ipynb>data table notebook</a>'\n",
              "            + ' to learn more about interactive tables.';\n",
              "          element.innerHTML = '';\n",
              "          dataTable['output_type'] = 'display_data';\n",
              "          await google.colab.output.renderOutput(dataTable, element);\n",
              "          const docLink = document.createElement('div');\n",
              "          docLink.innerHTML = docLinkHtml;\n",
              "          element.appendChild(docLink);\n",
              "        }\n",
              "      </script>\n",
              "    </div>\n",
              "  </div>\n",
              "  "
            ]
          },
          "metadata": {},
          "execution_count": 83
        }
      ],
      "source": [
        "port_monthly.head()"
      ]
    },
    {
      "cell_type": "code",
      "execution_count": 84,
      "metadata": {
        "colab": {
          "base_uri": "https://localhost:8080/"
        },
        "outputId": "441b9ec5-dcf6-4628-bad8-309469811811",
        "id": "PVQOBc40iA9E"
      },
      "outputs": [
        {
          "output_type": "execute_result",
          "data": {
            "text/plain": [
              "-0.12069419682980383"
            ]
          },
          "metadata": {},
          "execution_count": 84
        }
      ],
      "source": [
        "np.log(float(amd[amd.Date=='2014-01-31']['Adj Close'])/float(amd[amd.Date=='2013-12-31']['Adj Close']))\n",
        "### проверка формулы получения месячной доходности"
      ]
    },
    {
      "cell_type": "code",
      "execution_count": 85,
      "metadata": {
        "id": "uSezRr6JiA9F"
      },
      "outputs": [],
      "source": [
        "results_5=smf.ols('Log_ret_AMD ~ Log_ret_SP',data=port_monthly).fit()\n",
        "### простая линейная регрессия"
      ]
    },
    {
      "cell_type": "code",
      "execution_count": 86,
      "metadata": {
        "colab": {
          "base_uri": "https://localhost:8080/"
        },
        "outputId": "d3e8cfb9-4b4b-49e4-ef5e-d624a22b9531",
        "id": "D1BEZ8WLiA9F"
      },
      "outputs": [
        {
          "output_type": "stream",
          "name": "stdout",
          "text": [
            "                            OLS Regression Results                            \n",
            "==============================================================================\n",
            "Dep. Variable:            Log_ret_AMD   R-squared:                       0.385\n",
            "Model:                            OLS   Adj. R-squared:                  0.374\n",
            "Method:                 Least Squares   F-statistic:                     36.29\n",
            "Date:                Sat, 25 Jun 2022   Prob (F-statistic):           1.24e-07\n",
            "Time:                        15:11:33   Log-Likelihood:                 36.684\n",
            "No. Observations:                  60   AIC:                            -69.37\n",
            "Df Residuals:                      58   BIC:                            -65.18\n",
            "Df Model:                           1                                         \n",
            "Covariance Type:            nonrobust                                         \n",
            "==============================================================================\n",
            "                 coef    std err          t      P>|t|      [0.025      0.975]\n",
            "------------------------------------------------------------------------------\n",
            "Intercept      0.0029      0.018      0.161      0.873      -0.033       0.038\n",
            "Log_ret_SP     3.6213      0.601      6.024      0.000       2.418       4.825\n",
            "==============================================================================\n",
            "Omnibus:                        1.299   Durbin-Watson:                   1.730\n",
            "Prob(Omnibus):                  0.522   Jarque-Bera (JB):                1.268\n",
            "Skew:                          -0.239   Prob(JB):                        0.531\n",
            "Kurtosis:                       2.473   Cond. No.                         34.9\n",
            "==============================================================================\n",
            "\n",
            "Notes:\n",
            "[1] Standard Errors assume that the covariance matrix of the errors is correctly specified.\n"
          ]
        }
      ],
      "source": [
        "print(results_5.summary())"
      ]
    },
    {
      "cell_type": "markdown",
      "metadata": {
        "id": "AiZlnUysiA9G"
      },
      "source": [
        "Выводы аналогичны предыдущим моделям"
      ]
    }
  ],
  "metadata": {
    "kernelspec": {
      "display_name": "Python 3",
      "language": "python",
      "name": "python3"
    },
    "language_info": {
      "codemirror_mode": {
        "name": "ipython",
        "version": 3
      },
      "file_extension": ".py",
      "mimetype": "text/x-python",
      "name": "python",
      "nbconvert_exporter": "python",
      "pygments_lexer": "ipython3",
      "version": "3.8.3"
    },
    "colab": {
      "name": "Ex_frm_1.ipynb",
      "provenance": [],
      "toc_visible": true,
      "include_colab_link": true
    }
  },
  "nbformat": 4,
  "nbformat_minor": 0
}