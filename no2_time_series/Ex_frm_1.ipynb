{
 "cells": [
  {
   "cell_type": "markdown",
   "metadata": {
    "collapsed": true
   },
   "source": [
    "## Задание 1. Введение в анализ временных рядов"
   ]
  },
  {
   "cell_type": "markdown",
   "metadata": {
    "collapsed": true
   },
   "source": [
    "## Цель задания:\n",
    "### 1. Получить  навыки работы с финансовыми временными рядами\n",
    "### 2. Провести проверку временного ряда на стационарность \n",
    "### 3. Построить модель ARIMA-GARCH\n",
    "### 4. Исследовать модель CAPM"
   ]
  },
  {
   "cell_type": "markdown",
   "metadata": {
    "collapsed": true
   },
   "source": [
    "## 1.Загрузка библиотек"
   ]
  },
  {
   "cell_type": "code",
   "execution_count": 1,
   "metadata": {},
   "outputs": [],
   "source": [
    "import pandas as pd\n",
    "import numpy as np\n",
    "import statsmodels.tsa as tsa # анализ временных рядов\n",
    "import statsmodels.graphics.tsaplots as tsaplots # визуализация параметров временных рядов\n",
    "import statsmodels.formula.api as smf # регрессионная модель\n",
    "import statsmodels.stats.outliers_influence  # регрессионные тесты\n",
    "import statsmodels.stats.api as test # регрессионные тесты\n",
    "import statsmodels.stats.diagnostic as diagnostic # регрессионные тесты\n",
    "import warnings # управлением выводом предупреждений "
   ]
  },
  {
   "cell_type": "code",
   "execution_count": 2,
   "metadata": {},
   "outputs": [],
   "source": [
    "from arch import arch_model\n",
    "from arch.univariate import ConstantMean,ZeroMean,ARX,GARCH,Normal"
   ]
  },
  {
   "cell_type": "code",
   "execution_count": 3,
   "metadata": {},
   "outputs": [],
   "source": [
    "warnings.filterwarnings('ignore') "
   ]
  },
  {
   "cell_type": "code",
   "execution_count": 4,
   "metadata": {},
   "outputs": [],
   "source": [
    "import matplotlib.pyplot as plt # графическая библиотека matplotlib\n",
    "%matplotlib inline\n",
    "import seaborn # графическая библиотека seaborn\n",
    "seaborn.set_style('darkgrid')"
   ]
  },
  {
   "cell_type": "code",
   "execution_count": 5,
   "metadata": {},
   "outputs": [],
   "source": [
    "seaborn.mpl.rcParams['figure.figsize'] = (10.0, 6.0) # параметры графиков\n",
    "seaborn.mpl.rcParams['savefig.dpi'] = 90\n",
    "seaborn.mpl.rcParams['font.family'] = 'serif'\n",
    "seaborn.mpl.rcParams['font.size'] = 14"
   ]
  },
  {
   "cell_type": "markdown",
   "metadata": {},
   "source": [
    "## 2.Исследование временного ряда"
   ]
  },
  {
   "cell_type": "markdown",
   "metadata": {},
   "source": [
    "### Для моделирования временного ряда используется подход Бокса-Дженкенса, состоящий из следующих основных этапов:\n",
    "### 1. Проверка стационарности ряда временного ряда\n",
    "### 2. Приведение временного ряда к стационарному виду  (взятие первых и т.д. разностей)\n",
    "### 3. Построение модели ARIMA\n",
    "### 4. Проверка остатков модели ARIMA на отсутствие автокорреляции\n",
    "### 5. Проверка отсутствия автокорреляции в отношении квадратов остатков модели ARIMA\n",
    "### 6. Построение модели GARCH"
   ]
  },
  {
   "cell_type": "code",
   "execution_count": 6,
   "metadata": {},
   "outputs": [],
   "source": [
    "msft=pd.read_csv('/home/maxime/Documentos/Econometrics/MSFT.csv')\n",
    "### загрузка данных динамики акций Microsoft"
   ]
  },
  {
   "cell_type": "code",
   "execution_count": 7,
   "metadata": {},
   "outputs": [
    {
     "data": {
      "text/html": [
       "<div>\n",
       "<style scoped>\n",
       "    .dataframe tbody tr th:only-of-type {\n",
       "        vertical-align: middle;\n",
       "    }\n",
       "\n",
       "    .dataframe tbody tr th {\n",
       "        vertical-align: top;\n",
       "    }\n",
       "\n",
       "    .dataframe thead th {\n",
       "        text-align: right;\n",
       "    }\n",
       "</style>\n",
       "<table border=\"1\" class=\"dataframe\">\n",
       "  <thead>\n",
       "    <tr style=\"text-align: right;\">\n",
       "      <th></th>\n",
       "      <th>Date</th>\n",
       "      <th>Open</th>\n",
       "      <th>High</th>\n",
       "      <th>Low</th>\n",
       "      <th>Close</th>\n",
       "      <th>Adj Close</th>\n",
       "      <th>Volume</th>\n",
       "    </tr>\n",
       "  </thead>\n",
       "  <tbody>\n",
       "    <tr>\n",
       "      <th>0</th>\n",
       "      <td>2013-12-09</td>\n",
       "      <td>38.560001</td>\n",
       "      <td>38.869999</td>\n",
       "      <td>38.369999</td>\n",
       "      <td>38.709999</td>\n",
       "      <td>34.326134</td>\n",
       "      <td>30286000</td>\n",
       "    </tr>\n",
       "    <tr>\n",
       "      <th>1</th>\n",
       "      <td>2013-12-10</td>\n",
       "      <td>38.610001</td>\n",
       "      <td>38.900002</td>\n",
       "      <td>38.020000</td>\n",
       "      <td>38.110001</td>\n",
       "      <td>33.794098</td>\n",
       "      <td>37828600</td>\n",
       "    </tr>\n",
       "    <tr>\n",
       "      <th>2</th>\n",
       "      <td>2013-12-11</td>\n",
       "      <td>38.060001</td>\n",
       "      <td>38.299999</td>\n",
       "      <td>37.389999</td>\n",
       "      <td>37.610001</td>\n",
       "      <td>33.350716</td>\n",
       "      <td>39853400</td>\n",
       "    </tr>\n",
       "    <tr>\n",
       "      <th>3</th>\n",
       "      <td>2013-12-12</td>\n",
       "      <td>37.639999</td>\n",
       "      <td>37.639999</td>\n",
       "      <td>37.180000</td>\n",
       "      <td>37.220001</td>\n",
       "      <td>33.004879</td>\n",
       "      <td>36012800</td>\n",
       "    </tr>\n",
       "    <tr>\n",
       "      <th>4</th>\n",
       "      <td>2013-12-13</td>\n",
       "      <td>37.419998</td>\n",
       "      <td>37.450001</td>\n",
       "      <td>36.619999</td>\n",
       "      <td>36.689999</td>\n",
       "      <td>32.534901</td>\n",
       "      <td>40066100</td>\n",
       "    </tr>\n",
       "  </tbody>\n",
       "</table>\n",
       "</div>"
      ],
      "text/plain": [
       "         Date       Open       High        Low      Close  Adj Close    Volume\n",
       "0  2013-12-09  38.560001  38.869999  38.369999  38.709999  34.326134  30286000\n",
       "1  2013-12-10  38.610001  38.900002  38.020000  38.110001  33.794098  37828600\n",
       "2  2013-12-11  38.060001  38.299999  37.389999  37.610001  33.350716  39853400\n",
       "3  2013-12-12  37.639999  37.639999  37.180000  37.220001  33.004879  36012800\n",
       "4  2013-12-13  37.419998  37.450001  36.619999  36.689999  32.534901  40066100"
      ]
     },
     "execution_count": 7,
     "metadata": {},
     "output_type": "execute_result"
    }
   ],
   "source": [
    "msft.head()"
   ]
  },
  {
   "cell_type": "code",
   "execution_count": 8,
   "metadata": {},
   "outputs": [
    {
     "data": {
      "text/plain": [
       "Date          object\n",
       "Open         float64\n",
       "High         float64\n",
       "Low          float64\n",
       "Close        float64\n",
       "Adj Close    float64\n",
       "Volume         int64\n",
       "dtype: object"
      ]
     },
     "execution_count": 8,
     "metadata": {},
     "output_type": "execute_result"
    }
   ],
   "source": [
    "msft.dtypes"
   ]
  },
  {
   "cell_type": "code",
   "execution_count": 9,
   "metadata": {},
   "outputs": [],
   "source": [
    "msft['Date']=pd.to_datetime(msft['Date'],format='%Y-%m-%d')\n",
    "# преобразование поля в формат даты"
   ]
  },
  {
   "cell_type": "code",
   "execution_count": 10,
   "metadata": {},
   "outputs": [
    {
     "data": {
      "text/plain": [
       "Date         datetime64[ns]\n",
       "Open                float64\n",
       "High                float64\n",
       "Low                 float64\n",
       "Close               float64\n",
       "Adj Close           float64\n",
       "Volume                int64\n",
       "dtype: object"
      ]
     },
     "execution_count": 10,
     "metadata": {},
     "output_type": "execute_result"
    }
   ],
   "source": [
    "msft.dtypes"
   ]
  },
  {
   "cell_type": "markdown",
   "metadata": {},
   "source": [
    "### Переход от цен к логарифмическим доходностям"
   ]
  },
  {
   "cell_type": "markdown",
   "metadata": {
    "collapsed": true
   },
   "source": [
    "### $ln(\\frac{p_{i+1}}{p_{i}})=ln(p_{i+1})-ln(p_i)$ "
   ]
  },
  {
   "cell_type": "code",
   "execution_count": 11,
   "metadata": {},
   "outputs": [],
   "source": [
    "msft['Log_ret_MSFT']=np.log(msft['Adj Close'])-np.log(msft['Adj Close'].shift(1))\n",
    "# расчет логарифмической доходности"
   ]
  },
  {
   "cell_type": "code",
   "execution_count": 12,
   "metadata": {},
   "outputs": [
    {
     "data": {
      "text/html": [
       "<div>\n",
       "<style scoped>\n",
       "    .dataframe tbody tr th:only-of-type {\n",
       "        vertical-align: middle;\n",
       "    }\n",
       "\n",
       "    .dataframe tbody tr th {\n",
       "        vertical-align: top;\n",
       "    }\n",
       "\n",
       "    .dataframe thead th {\n",
       "        text-align: right;\n",
       "    }\n",
       "</style>\n",
       "<table border=\"1\" class=\"dataframe\">\n",
       "  <thead>\n",
       "    <tr style=\"text-align: right;\">\n",
       "      <th></th>\n",
       "      <th>Date</th>\n",
       "      <th>Open</th>\n",
       "      <th>High</th>\n",
       "      <th>Low</th>\n",
       "      <th>Close</th>\n",
       "      <th>Adj Close</th>\n",
       "      <th>Volume</th>\n",
       "      <th>Log_ret_MSFT</th>\n",
       "    </tr>\n",
       "  </thead>\n",
       "  <tbody>\n",
       "    <tr>\n",
       "      <th>0</th>\n",
       "      <td>2013-12-09</td>\n",
       "      <td>38.560001</td>\n",
       "      <td>38.869999</td>\n",
       "      <td>38.369999</td>\n",
       "      <td>38.709999</td>\n",
       "      <td>34.326134</td>\n",
       "      <td>30286000</td>\n",
       "      <td>NaN</td>\n",
       "    </tr>\n",
       "    <tr>\n",
       "      <th>1</th>\n",
       "      <td>2013-12-10</td>\n",
       "      <td>38.610001</td>\n",
       "      <td>38.900002</td>\n",
       "      <td>38.020000</td>\n",
       "      <td>38.110001</td>\n",
       "      <td>33.794098</td>\n",
       "      <td>37828600</td>\n",
       "      <td>-0.015621</td>\n",
       "    </tr>\n",
       "    <tr>\n",
       "      <th>2</th>\n",
       "      <td>2013-12-11</td>\n",
       "      <td>38.060001</td>\n",
       "      <td>38.299999</td>\n",
       "      <td>37.389999</td>\n",
       "      <td>37.610001</td>\n",
       "      <td>33.350716</td>\n",
       "      <td>39853400</td>\n",
       "      <td>-0.013207</td>\n",
       "    </tr>\n",
       "    <tr>\n",
       "      <th>3</th>\n",
       "      <td>2013-12-12</td>\n",
       "      <td>37.639999</td>\n",
       "      <td>37.639999</td>\n",
       "      <td>37.180000</td>\n",
       "      <td>37.220001</td>\n",
       "      <td>33.004879</td>\n",
       "      <td>36012800</td>\n",
       "      <td>-0.010424</td>\n",
       "    </tr>\n",
       "    <tr>\n",
       "      <th>4</th>\n",
       "      <td>2013-12-13</td>\n",
       "      <td>37.419998</td>\n",
       "      <td>37.450001</td>\n",
       "      <td>36.619999</td>\n",
       "      <td>36.689999</td>\n",
       "      <td>32.534901</td>\n",
       "      <td>40066100</td>\n",
       "      <td>-0.014342</td>\n",
       "    </tr>\n",
       "  </tbody>\n",
       "</table>\n",
       "</div>"
      ],
      "text/plain": [
       "        Date       Open       High        Low      Close  Adj Close    Volume  \\\n",
       "0 2013-12-09  38.560001  38.869999  38.369999  38.709999  34.326134  30286000   \n",
       "1 2013-12-10  38.610001  38.900002  38.020000  38.110001  33.794098  37828600   \n",
       "2 2013-12-11  38.060001  38.299999  37.389999  37.610001  33.350716  39853400   \n",
       "3 2013-12-12  37.639999  37.639999  37.180000  37.220001  33.004879  36012800   \n",
       "4 2013-12-13  37.419998  37.450001  36.619999  36.689999  32.534901  40066100   \n",
       "\n",
       "   Log_ret_MSFT  \n",
       "0           NaN  \n",
       "1     -0.015621  \n",
       "2     -0.013207  \n",
       "3     -0.010424  \n",
       "4     -0.014342  "
      ]
     },
     "execution_count": 12,
     "metadata": {},
     "output_type": "execute_result"
    }
   ],
   "source": [
    "msft.head()"
   ]
  },
  {
   "cell_type": "code",
   "execution_count": 13,
   "metadata": {},
   "outputs": [],
   "source": [
    "msft.drop([0],axis=0,inplace=True)\n",
    "# удаление первого наблюдения nan"
   ]
  },
  {
   "cell_type": "code",
   "execution_count": 14,
   "metadata": {},
   "outputs": [
    {
     "data": {
      "text/plain": [
       "count    1258.000000\n",
       "mean        0.000887\n",
       "std         0.014298\n",
       "min        -0.097099\n",
       "25%        -0.005974\n",
       "50%         0.000610\n",
       "75%         0.007774\n",
       "max         0.099413\n",
       "Name: Log_ret_MSFT, dtype: float64"
      ]
     },
     "execution_count": 14,
     "metadata": {},
     "output_type": "execute_result"
    }
   ],
   "source": [
    "msft['Log_ret_MSFT'].describe()\n",
    "#основные характеристики динамического ряда логарифмической доходности"
   ]
  },
  {
   "cell_type": "code",
   "execution_count": 15,
   "metadata": {},
   "outputs": [
    {
     "data": {
      "text/plain": [
       "0.00020427664483260382"
      ]
     },
     "execution_count": 15,
     "metadata": {},
     "output_type": "execute_result"
    }
   ],
   "source": [
    "np.var(msft['Log_ret_MSFT'])\n",
    "# дисперсия ряда                                                             "
   ]
  },
  {
   "cell_type": "code",
   "execution_count": 16,
   "metadata": {},
   "outputs": [
    {
     "data": {
      "image/png": "[encoded data removed]",
      "text/plain": [
       "<Figure size 576x432 with 1 Axes>"
      ]
     },
     "metadata": {},
     "output_type": "display_data"
    },
    {
     "data": {
      "image/png": "[encoded data removed]",
      "text/plain": [
       "<Figure size 576x432 with 1 Axes>"
      ]
     },
     "metadata": {},
     "output_type": "display_data"
    },
    {
     "data": {
      "image/png": "[encoded data removed]",
      "text/plain": [
       "<Figure size 576x432 with 1 Axes>"
      ]
     },
     "metadata": {},
     "output_type": "display_data"
    },
    {
     "data": {
      "text/plain": [
       "<Figure size 720x432 with 0 Axes>"
      ]
     },
     "metadata": {},
     "output_type": "display_data"
    }
   ],
   "source": [
    "plt.figure(figsize=(8,6))\n",
    "plt.plot(msft['Date'],msft['Adj Close'])\n",
    "plt.title(u'Динамика цен акций Microsoft')\n",
    "\n",
    "plt.figure(figsize=(8,6))\n",
    "plt.plot(msft['Date'],np.log(msft['Adj Close']))\n",
    "plt.title(u'Динамика логарифмов цен акций Microsoft')\n",
    "\n",
    "plt.figure(figsize=(8,6))\n",
    "plt.plot(msft['Date'],msft['Log_ret_MSFT'])\n",
    "plt.title(u'Динамика доходности акций Microsoft')\n",
    "plt.show()\n",
    "plt.gcf().clear()"
   ]
  },
  {
   "cell_type": "markdown",
   "metadata": {
    "collapsed": true
   },
   "source": [
    "### 1. Проверка временного ряда на стационарность ($\\alpha=0.05$)"
   ]
  },
  {
   "cell_type": "markdown",
   "metadata": {},
   "source": [
    "###  Модель авторегрессии - скользящего среднего корректно применять только к стационарным временным рядам. Стандартным критерием, используемым для проверки временного ряда на стационарность, явяляется критерий  Дикей-Фуллера (ADF - augmented Dickey-Fuller). В основе критерия лежит проверка значимости коэффициентов авторегрессии. Для данного критерия существуют специальные таблицы."
   ]
  },
  {
   "cell_type": "markdown",
   "metadata": {},
   "source": [
    "### Проведем исследование стационарности для логарифмов цен и логарифмической доходности. Нулевая гипотеза состоит в том, что  процесс носит нестационарный характер. Говоря математическим языком - корни характеристического уравнения авторегрессионной модели лежат вунтри единичного круга. "
   ]
  },
  {
   "cell_type": "code",
   "execution_count": 17,
   "metadata": {},
   "outputs": [
    {
     "data": {
      "text/plain": [
       "(-0.10399823306438985,\n",
       " 0.9490388349652014,\n",
       " 8,\n",
       " 1249,\n",
       " {'1%': -3.4355964295197743,\n",
       "  '5%': -2.863856825923603,\n",
       "  '10%': -2.5680035060041626},\n",
       " -7059.134393996628)"
      ]
     },
     "execution_count": 17,
     "metadata": {},
     "output_type": "execute_result"
    }
   ],
   "source": [
    "tsa.stattools.adfuller(np.log(msft['Adj Close']),maxlag=10)\n",
    "### логарифмы цен"
   ]
  },
  {
   "cell_type": "code",
   "execution_count": 18,
   "metadata": {},
   "outputs": [
    {
     "data": {
      "text/plain": [
       "(-15.043751660747319,\n",
       " 9.51017028441337e-28,\n",
       " 7,\n",
       " 1250,\n",
       " {'1%': -3.435592223709696, '5%': -2.8638549702604803, '10%': -2.56800251776},\n",
       " -7061.125098359102)"
      ]
     },
     "execution_count": 18,
     "metadata": {},
     "output_type": "execute_result"
    }
   ],
   "source": [
    "tsa.stattools.adfuller(msft['Log_ret_MSFT'],maxlag=10)\n",
    "### логарифмическая доходность"
   ]
  },
  {
   "cell_type": "markdown",
   "metadata": {
    "collapsed": true
   },
   "source": [
    "### В приведенных результатах работы теста важными являются первые два элемента: само значение критерия и p-value. В случае логарифмов цен гипотеза об отсутствии стационарности принимается. В случае логарифмической доходности - гипотеза отвергается. Это означает, что для построения модели авторгерссии - скользящего среднего необходимо взять первые разности логарифмов цен (что и есть логарифмическая доходность)."
   ]
  },
  {
   "cell_type": "markdown",
   "metadata": {},
   "source": [
    "### Определение порядков авторегресии и скользящего среднего"
   ]
  },
  {
   "cell_type": "markdown",
   "metadata": {},
   "source": [
    "### Порядок процесса можно предварительно определить с помощью графиков авткорреляции и частной автокорреляция. Для этого построим указанные графики для стационарного процесса логарифмической доходности."
   ]
  },
  {
   "cell_type": "markdown",
   "metadata": {
    "collapsed": true
   },
   "source": [
    "### 1. Значимые коэффициенты автокорреляции определяют порядок скользящего среднего\n",
    "### 2. Значимые коэффициенты частной автокорреляции определяют порядок авторегрессии"
   ]
  },
  {
   "cell_type": "code",
   "execution_count": 19,
   "metadata": {},
   "outputs": [
    {
     "data": {
      "image/png": "[encoded data removed]",
      "text/plain": [
       "<Figure size 720x432 with 1 Axes>"
      ]
     },
     "metadata": {},
     "output_type": "display_data"
    }
   ],
   "source": [
    "fig=tsaplots.plot_acf(msft['Log_ret_MSFT'],lags=20)"
   ]
  },
  {
   "cell_type": "code",
   "execution_count": 20,
   "metadata": {},
   "outputs": [
    {
     "data": {
      "image/png": "[encoded data removed]",
      "text/plain": [
       "<Figure size 720x432 with 1 Axes>"
      ]
     },
     "metadata": {},
     "output_type": "display_data"
    }
   ],
   "source": [
    "fig=tsaplots.plot_pacf(msft['Log_ret_MSFT'],lags=20)"
   ]
  },
  {
   "cell_type": "markdown",
   "metadata": {
    "collapsed": true
   },
   "source": [
    "### 2. Построение модели ARIMA "
   ]
  },
  {
   "cell_type": "markdown",
   "metadata": {
    "collapsed": true
   },
   "source": [
    "###  В рассматриваемом случае нет возможности однозначно идентифицировать порядок модели только исходя из графиков. Обращает на себя внимание значимость коэффициентов для лаг 8. Реализуем простой цикл перебора параметров AR и MA."
   ]
  },
  {
   "cell_type": "code",
   "execution_count": 21,
   "metadata": {},
   "outputs": [],
   "source": [
    "d=1 # порядок интеграции, берем первые разности\n",
    "l=list()"
   ]
  },
  {
   "cell_type": "markdown",
   "metadata": {},
   "source": [
    "### Т.к. алгоритм расчета параметров модели может выдавать ошибку в случае несходимости, применем специальную конструкцию try - except, позволяющую обрабатывать исключения."
   ]
  },
  {
   "cell_type": "code",
   "execution_count": 22,
   "metadata": {},
   "outputs": [
    {
     "name": "stdout",
     "output_type": "stream",
     "text": [
      "ARIMA(0,1,0)\n",
      "ARIMA(0,1,1)\n",
      "ARIMA(0,1,2)\n",
      "ARIMA(0,1,3)\n",
      "ARIMA(1,1,0)\n",
      "ARIMA(1,1,1)\n",
      "ARIMA(1,1,2)\n",
      "ARIMA(1,1,3)\n",
      "ARIMA(2,1,0)\n",
      "ARIMA(2,1,1)\n",
      "ARIMA(2,1,2)\n",
      "ARIMA(2,1,3)\n",
      "ARIMA(3,1,0)\n",
      "ARIMA(3,1,1)\n",
      "ARIMA(3,1,2)\n",
      "ARIMA(3,1,3)\n"
     ]
    }
   ],
   "source": [
    "for i in range(0,4):\n",
    "    for j in range(0,4):\n",
    "        flag=True\n",
    "        print('ARIMA({},{},{})'.format(i,d,j))\n",
    "        try:\n",
    "            model=tsa.arima_model.ARIMA(np.log(msft['Adj Close']),order=(i,d,j))\n",
    "            res=model.fit()\n",
    "        except:\n",
    "            flag=False                                                       \n",
    "            pass\n",
    "        if (flag):\n",
    "            l.append((i,j,res.bic))"
   ]
  },
  {
   "cell_type": "code",
   "execution_count": 23,
   "metadata": {},
   "outputs": [
    {
     "data": {
      "text/plain": [
       "[(0, 0, -7098.367218259176),\n",
       " (0, 1, -7094.979022210623),\n",
       " (0, 2, -7089.771258842741),\n",
       " (0, 3, -7082.775318828408),\n",
       " (1, 0, -7094.681191395785),\n",
       " (1, 1, -7096.496863485919),\n",
       " (1, 2, -7090.441107335922),\n",
       " (1, 3, -7083.796424620207),\n",
       " (2, 0, -7089.758081606257),\n",
       " (2, 1, -7090.389045864502),\n",
       " (2, 2, -7082.827844645201),\n",
       " (2, 3, -7077.655332823646),\n",
       " (3, 0, -7082.942938713351),\n",
       " (3, 1, -7076.006480395658),\n",
       " (3, 2, -7076.795973642895),\n",
       " (3, 3, -7072.920298688946)]"
      ]
     },
     "execution_count": 23,
     "metadata": {},
     "output_type": "execute_result"
    }
   ],
   "source": [
    "l # первое число - порядок AR, второе число - порядок MA, третье число - BIC"
   ]
  },
  {
   "cell_type": "markdown",
   "metadata": {},
   "source": [
    "###  Для целей задания ограничимся самой простой моделью порядка (1,1,1), т.е. моделью авторегрессии первого порядка и скользящего среднего первого порядка, построенную по первым разностям."
   ]
  },
  {
   "cell_type": "markdown",
   "metadata": {},
   "source": [
    "### $\\Delta y_t=\\phi_0+\\phi_1\\Delta y_{t-1}+\\varepsilon_t-\\theta_1\\varepsilon_{t-1}$"
   ]
  },
  {
   "cell_type": "code",
   "execution_count": 24,
   "metadata": {},
   "outputs": [],
   "source": [
    "model_1=tsa.arima_model.ARIMA(np.log(msft['Adj Close']),order=(1,1,1))"
   ]
  },
  {
   "cell_type": "code",
   "execution_count": 25,
   "metadata": {},
   "outputs": [],
   "source": [
    "results_1=model_1.fit()"
   ]
  },
  {
   "cell_type": "code",
   "execution_count": 26,
   "metadata": {},
   "outputs": [
    {
     "name": "stdout",
     "output_type": "stream",
     "text": [
      "                             ARIMA Model Results                              \n",
      "==============================================================================\n",
      "Dep. Variable:            D.Adj Close   No. Observations:                 1257\n",
      "Model:                 ARIMA(1, 1, 1)   Log Likelihood                3562.521\n",
      "Method:                       css-mle   S.D. of innovations              0.014\n",
      "Date:                Thu, 07 May 2020   AIC                          -7117.043\n",
      "Time:                        12:26:07   BIC                          -7096.497\n",
      "Sample:                             1   HQIC                         -7109.321\n",
      "                                                                              \n",
      "=====================================================================================\n",
      "                        coef    std err          z      P>|z|      [0.025      0.975]\n",
      "-------------------------------------------------------------------------------------\n",
      "const                 0.0009      0.000      3.723      0.000       0.000       0.001\n",
      "ar.L1.D.Adj Close     0.8727      0.137      6.391      0.000       0.605       1.140\n",
      "ma.L1.D.Adj Close    -0.9217      0.112     -8.245      0.000      -1.141      -0.703\n",
      "                                    Roots                                    \n",
      "=============================================================================\n",
      "                  Real          Imaginary           Modulus         Frequency\n",
      "-----------------------------------------------------------------------------\n",
      "AR.1            1.1459           +0.0000j            1.1459            0.0000\n",
      "MA.1            1.0850           +0.0000j            1.0850            0.0000\n",
      "-----------------------------------------------------------------------------\n"
     ]
    }
   ],
   "source": [
    "print(results_1.summary())"
   ]
  },
  {
   "cell_type": "markdown",
   "metadata": {
    "collapsed": true
   },
   "source": [
    "### Остатки модели ARIMA должны быть процессом \"белого шума\" (отсутствует автокорреляция)"
   ]
  },
  {
   "cell_type": "markdown",
   "metadata": {},
   "source": [
    "### Для проверки гипотезы, связанной с присутствием в остатках автокорреляции будем использовать тест Льюнга-Бокса. Данный тест  основан на  коэффициентах автокорреляции, рассчитываемых для разного количества лагов (смещений). Таким образом данный тест позволяет идентифицировать автокорреляцию остатков более высоких порядков."
   ]
  },
  {
   "cell_type": "code",
   "execution_count": 27,
   "metadata": {},
   "outputs": [
    {
     "data": {
      "text/plain": [
       "array([ 0.18376968,  0.20441908,  3.17818108,  3.21539134,  5.7483381 ,\n",
       "        5.82026216,  6.881825  , 13.67727569, 13.74339688, 17.69843984])"
      ]
     },
     "execution_count": 27,
     "metadata": {},
     "output_type": "execute_result"
    }
   ],
   "source": [
    "test.acorr_ljungbox(results_1.resid)[0][0:10]\n",
    "### значение статистики Льюнга-Бокса"
   ]
  },
  {
   "cell_type": "code",
   "execution_count": 28,
   "metadata": {},
   "outputs": [
    {
     "data": {
      "text/plain": [
       "array([0.66815345, 0.90284035, 0.36496058, 0.52244857, 0.33148193,\n",
       "       0.44362283, 0.44128717, 0.09057469, 0.13175035, 0.06026864])"
      ]
     },
     "execution_count": 28,
     "metadata": {},
     "output_type": "execute_result"
    }
   ],
   "source": [
    "test.acorr_ljungbox(results_1.resid)[1][0:10]\n",
    "#  pvalue статистики Льюнга-Бокса"
   ]
  },
  {
   "cell_type": "markdown",
   "metadata": {
    "collapsed": true
   },
   "source": [
    "### Общий вывод: Модель ARIMA (1,1,1), в целом, адекватно описывает исследуемый процесс. Коэффиценты AR  и MA меньше 1. Это говорит о том, что процесс имеет характер  \"возврата к средней\" (mean reversion). В частности, на основе данного процесса можно строить \"статистические\" арбитражные стратегии торговли. В противном случае речь идет о взрывной динамике, и процессом сложно управлять."
   ]
  },
  {
   "cell_type": "markdown",
   "metadata": {
    "collapsed": true
   },
   "source": [
    "###  3. Построение модели GARCH"
   ]
  },
  {
   "cell_type": "markdown",
   "metadata": {},
   "source": [
    "### Процесс GARCH строится на основе остатков модели ARIMA, т.е. отфильтрованных данных. Для идентификации кластеров волатильности используются графики квадрата остатков и ACF для квадрата остатков."
   ]
  },
  {
   "cell_type": "code",
   "execution_count": 29,
   "metadata": {},
   "outputs": [
    {
     "data": {
      "image/png": "[encoded data removed]",
      "text/plain": [
       "<Figure size 720x432 with 1 Axes>"
      ]
     },
     "metadata": {},
     "output_type": "display_data"
    }
   ],
   "source": [
    "fig=(results_1.resid**2).plot()"
   ]
  },
  {
   "cell_type": "code",
   "execution_count": 30,
   "metadata": {},
   "outputs": [
    {
     "data": {
      "image/png": "[encoded data removed]",
      "text/plain": [
       "<Figure size 720x432 with 1 Axes>"
      ]
     },
     "metadata": {},
     "output_type": "display_data"
    }
   ],
   "source": [
    "fig=tsaplots.plot_acf(results_1.resid**2,lags=10)"
   ]
  },
  {
   "cell_type": "markdown",
   "metadata": {},
   "source": [
    "### С помощью  теста Льюнга-Бокса проверим ряд квадратов остатков на наличие автокорреляции."
   ]
  },
  {
   "cell_type": "code",
   "execution_count": 31,
   "metadata": {},
   "outputs": [
    {
     "data": {
      "text/plain": [
       "array([2.43653185e-05, 6.30693361e-06, 8.93151653e-07, 6.60311827e-07,\n",
       "       1.97250849e-06, 4.96828446e-06, 1.15012639e-05, 2.63180902e-05,\n",
       "       5.66088869e-05, 6.28304613e-05])"
      ]
     },
     "execution_count": 31,
     "metadata": {},
     "output_type": "execute_result"
    }
   ],
   "source": [
    "test.acorr_ljungbox(results_1.resid**2)[1][0:10]\n",
    "###  pvalue статистики Льюнга-Бокса"
   ]
  },
  {
   "cell_type": "markdown",
   "metadata": {},
   "source": [
    "### Значение теста показывает, что в ряде квадрата остатков присутствует автокорреляция, следовательно в исследовани необходимо использовать модель GARCH."
   ]
  },
  {
   "cell_type": "markdown",
   "metadata": {},
   "source": [
    "### Для построения модели воспользуемся библиотекой ARCH. Построим модель GARCH по двум наборам данных - по исходным данным и по остаткам модели ARIMA. Если в качестве объекта исследования рассматриваются исходные данные, необходимо первоначально построить модель доходности."
   ]
  },
  {
   "cell_type": "markdown",
   "metadata": {},
   "source": [
    "### Ограничимся простой моделью GARCH(1,1), имеющий следующий вид:"
   ]
  },
  {
   "cell_type": "markdown",
   "metadata": {},
   "source": [
    "### $\\varepsilon_t=\\sigma_t\\epsilon_t$\n",
    "### ${\\sigma^2}_t=\\omega+\\alpha_1{\\varepsilon^2}_{t-1}+\\beta_1{\\sigma^2}_{t-1}$"
   ]
  },
  {
   "cell_type": "markdown",
   "metadata": {},
   "source": [
    "### 3.1. Модель по исходным данным"
   ]
  },
  {
   "cell_type": "markdown",
   "metadata": {
    "collapsed": true
   },
   "source": [
    "### Моделирование доходности - Zero Mean"
   ]
  },
  {
   "cell_type": "code",
   "execution_count": 32,
   "metadata": {},
   "outputs": [],
   "source": [
    "zm=ZeroMean(msft['Log_ret_MSFT'])"
   ]
  },
  {
   "cell_type": "code",
   "execution_count": 33,
   "metadata": {},
   "outputs": [
    {
     "data": {
      "text/html": [
       "<table class=\"simpletable\">\n",
       "<caption>Zero Mean - Constant Variance Model Results</caption>\n",
       "<tr>\n",
       "  <th>Dep. Variable:</th>    <td>Log_ret_MSFT</td>    <th>  R-squared:         </th>  <td>   0.000</td> \n",
       "</tr>\n",
       "<tr>\n",
       "  <th>Mean Model:</th>         <td>Zero Mean</td>     <th>  Adj. R-squared:    </th>  <td>   0.001</td> \n",
       "</tr>\n",
       "<tr>\n",
       "  <th>Vol Model:</th>      <td>Constant Variance</td> <th>  Log-Likelihood:    </th> <td>   3556.56</td>\n",
       "</tr>\n",
       "<tr>\n",
       "  <th>Distribution:</th>        <td>Normal</td>       <th>  AIC:               </th> <td>  -7111.12</td>\n",
       "</tr>\n",
       "<tr>\n",
       "  <th>Method:</th>        <td>Maximum Likelihood</td> <th>  BIC:               </th> <td>  -7105.99</td>\n",
       "</tr>\n",
       "<tr>\n",
       "  <th></th>                        <td></td>          <th>  No. Observations:  </th>    <td>1258</td>   \n",
       "</tr>\n",
       "<tr>\n",
       "  <th>Date:</th>           <td>Thu, May 07 2020</td>  <th>  Df Residuals:      </th>    <td>1257</td>   \n",
       "</tr>\n",
       "<tr>\n",
       "  <th>Time:</th>               <td>12:26:09</td>      <th>  Df Model:          </th>      <td>1</td>    \n",
       "</tr>\n",
       "</table>\n",
       "<table class=\"simpletable\">\n",
       "<caption>Volatility Model</caption>\n",
       "<tr>\n",
       "     <td></td>       <th>coef</th>     <th>std err</th>      <th>t</th>       <th>P>|t|</th>     <th>95.0% Conf. Int.</th>   \n",
       "</tr>\n",
       "<tr>\n",
       "  <th>sigma2</th> <td>2.0506e-04</td> <td>1.758e-05</td> <td>   11.666</td> <td>1.908e-31</td> <td>[1.706e-04,2.395e-04]</td>\n",
       "</tr>\n",
       "</table><br/><br/>Covariance estimator: White's Heteroskedasticity Consistent Estimator"
      ],
      "text/plain": [
       "<class 'statsmodels.iolib.summary.Summary'>\n",
       "\"\"\"\n",
       "                 Zero Mean - Constant Variance Model Results                  \n",
       "==============================================================================\n",
       "Dep. Variable:           Log_ret_MSFT   R-squared:                       0.000\n",
       "Mean Model:                 Zero Mean   Adj. R-squared:                  0.001\n",
       "Vol Model:          Constant Variance   Log-Likelihood:                3556.56\n",
       "Distribution:                  Normal   AIC:                          -7111.12\n",
       "Method:            Maximum Likelihood   BIC:                          -7105.99\n",
       "                                        No. Observations:                 1258\n",
       "Date:                Thu, May 07 2020   Df Residuals:                     1257\n",
       "Time:                        12:26:09   Df Model:                            1\n",
       "                              Volatility Model                              \n",
       "============================================================================\n",
       "                 coef    std err          t      P>|t|      95.0% Conf. Int.\n",
       "----------------------------------------------------------------------------\n",
       "sigma2     2.0506e-04  1.758e-05     11.666  1.908e-31 [1.706e-04,2.395e-04]\n",
       "============================================================================\n",
       "\n",
       "Covariance estimator: White's Heteroskedasticity Consistent Estimator\n",
       "\"\"\""
      ]
     },
     "execution_count": 33,
     "metadata": {},
     "output_type": "execute_result"
    }
   ],
   "source": [
    "zm.fit().summary()"
   ]
  },
  {
   "cell_type": "code",
   "execution_count": 34,
   "metadata": {},
   "outputs": [],
   "source": [
    "zm.volatility=GARCH(p=1,q=1)"
   ]
  },
  {
   "cell_type": "code",
   "execution_count": 35,
   "metadata": {},
   "outputs": [],
   "source": [
    "res_zm = zm.fit(update_freq=0, disp='off')"
   ]
  },
  {
   "cell_type": "code",
   "execution_count": 36,
   "metadata": {},
   "outputs": [
    {
     "data": {
      "text/html": [
       "<table class=\"simpletable\">\n",
       "<caption>Zero Mean - GARCH Model Results</caption>\n",
       "<tr>\n",
       "  <th>Dep. Variable:</th>    <td>Log_ret_MSFT</td>    <th>  R-squared:         </th>  <td>   0.000</td> \n",
       "</tr>\n",
       "<tr>\n",
       "  <th>Mean Model:</th>         <td>Zero Mean</td>     <th>  Adj. R-squared:    </th>  <td>   0.001</td> \n",
       "</tr>\n",
       "<tr>\n",
       "  <th>Vol Model:</th>            <td>GARCH</td>       <th>  Log-Likelihood:    </th> <td>   3608.28</td>\n",
       "</tr>\n",
       "<tr>\n",
       "  <th>Distribution:</th>        <td>Normal</td>       <th>  AIC:               </th> <td>  -7210.56</td>\n",
       "</tr>\n",
       "<tr>\n",
       "  <th>Method:</th>        <td>Maximum Likelihood</td> <th>  BIC:               </th> <td>  -7195.15</td>\n",
       "</tr>\n",
       "<tr>\n",
       "  <th></th>                        <td></td>          <th>  No. Observations:  </th>    <td>1258</td>   \n",
       "</tr>\n",
       "<tr>\n",
       "  <th>Date:</th>           <td>Thu, May 07 2020</td>  <th>  Df Residuals:      </th>    <td>1255</td>   \n",
       "</tr>\n",
       "<tr>\n",
       "  <th>Time:</th>               <td>12:26:09</td>      <th>  Df Model:          </th>      <td>3</td>    \n",
       "</tr>\n",
       "</table>\n",
       "<table class=\"simpletable\">\n",
       "<caption>Volatility Model</caption>\n",
       "<tr>\n",
       "      <td></td>        <th>coef</th>     <th>std err</th>      <th>t</th>       <th>P>|t|</th>     <th>95.0% Conf. Int.</th>   \n",
       "</tr>\n",
       "<tr>\n",
       "  <th>omega</th>    <td>4.4848e-05</td> <td>4.182e-06</td> <td>   10.725</td> <td>7.810e-27</td> <td>[3.665e-05,5.304e-05]</td>\n",
       "</tr>\n",
       "<tr>\n",
       "  <th>alpha[1]</th> <td>    0.1458</td> <td>4.323e-02</td> <td>    3.373</td> <td>7.444e-04</td>  <td>[6.107e-02,  0.231]</td> \n",
       "</tr>\n",
       "<tr>\n",
       "  <th>beta[1]</th>  <td>    0.6355</td> <td>4.513e-02</td> <td>   14.081</td> <td>5.004e-45</td>   <td>[  0.547,  0.724]</td>  \n",
       "</tr>\n",
       "</table><br/><br/>Covariance estimator: robust"
      ],
      "text/plain": [
       "<class 'statsmodels.iolib.summary.Summary'>\n",
       "\"\"\"\n",
       "                       Zero Mean - GARCH Model Results                        \n",
       "==============================================================================\n",
       "Dep. Variable:           Log_ret_MSFT   R-squared:                       0.000\n",
       "Mean Model:                 Zero Mean   Adj. R-squared:                  0.001\n",
       "Vol Model:                      GARCH   Log-Likelihood:                3608.28\n",
       "Distribution:                  Normal   AIC:                          -7210.56\n",
       "Method:            Maximum Likelihood   BIC:                          -7195.15\n",
       "                                        No. Observations:                 1258\n",
       "Date:                Thu, May 07 2020   Df Residuals:                     1255\n",
       "Time:                        12:26:09   Df Model:                            3\n",
       "                              Volatility Model                              \n",
       "============================================================================\n",
       "                 coef    std err          t      P>|t|      95.0% Conf. Int.\n",
       "----------------------------------------------------------------------------\n",
       "omega      4.4848e-05  4.182e-06     10.725  7.810e-27 [3.665e-05,5.304e-05]\n",
       "alpha[1]       0.1458  4.323e-02      3.373  7.444e-04   [6.107e-02,  0.231]\n",
       "beta[1]        0.6355  4.513e-02     14.081  5.004e-45     [  0.547,  0.724]\n",
       "============================================================================\n",
       "\n",
       "Covariance estimator: robust\n",
       "\"\"\""
      ]
     },
     "execution_count": 36,
     "metadata": {},
     "output_type": "execute_result"
    }
   ],
   "source": [
    "res_zm.summary()"
   ]
  },
  {
   "cell_type": "markdown",
   "metadata": {},
   "source": [
    "### Модель не дает в полной мере адекватного результата, т.к. отсутсвует сходимость алгоритма."
   ]
  },
  {
   "cell_type": "markdown",
   "metadata": {
    "collapsed": true
   },
   "source": [
    "### Моделирование доходности - Constant Mean"
   ]
  },
  {
   "cell_type": "markdown",
   "metadata": {},
   "source": [
    "### $r_t=\\mu+\\varepsilon_t$"
   ]
  },
  {
   "cell_type": "code",
   "execution_count": 37,
   "metadata": {},
   "outputs": [],
   "source": [
    "cm=ConstantMean(msft['Log_ret_MSFT'])"
   ]
  },
  {
   "cell_type": "code",
   "execution_count": 38,
   "metadata": {},
   "outputs": [
    {
     "data": {
      "text/html": [
       "<table class=\"simpletable\">\n",
       "<caption>Constant Mean - Constant Variance Model Results</caption>\n",
       "<tr>\n",
       "  <th>Dep. Variable:</th>    <td>Log_ret_MSFT</td>    <th>  R-squared:         </th>  <td>   0.000</td> \n",
       "</tr>\n",
       "<tr>\n",
       "  <th>Mean Model:</th>       <td>Constant Mean</td>   <th>  Adj. R-squared:    </th>  <td>   0.000</td> \n",
       "</tr>\n",
       "<tr>\n",
       "  <th>Vol Model:</th>      <td>Constant Variance</td> <th>  Log-Likelihood:    </th> <td>   3558.98</td>\n",
       "</tr>\n",
       "<tr>\n",
       "  <th>Distribution:</th>        <td>Normal</td>       <th>  AIC:               </th> <td>  -7113.96</td>\n",
       "</tr>\n",
       "<tr>\n",
       "  <th>Method:</th>        <td>Maximum Likelihood</td> <th>  BIC:               </th> <td>  -7103.69</td>\n",
       "</tr>\n",
       "<tr>\n",
       "  <th></th>                        <td></td>          <th>  No. Observations:  </th>    <td>1258</td>   \n",
       "</tr>\n",
       "<tr>\n",
       "  <th>Date:</th>           <td>Thu, May 07 2020</td>  <th>  Df Residuals:      </th>    <td>1256</td>   \n",
       "</tr>\n",
       "<tr>\n",
       "  <th>Time:</th>               <td>12:26:09</td>      <th>  Df Model:          </th>      <td>2</td>    \n",
       "</tr>\n",
       "</table>\n",
       "<table class=\"simpletable\">\n",
       "<caption>Mean Model</caption>\n",
       "<tr>\n",
       "   <td></td>     <th>coef</th>     <th>std err</th>      <th>t</th>       <th>P>|t|</th>     <th>95.0% Conf. Int.</th>   \n",
       "</tr>\n",
       "<tr>\n",
       "  <th>mu</th> <td>8.8739e-04</td> <td>4.030e-04</td> <td>    2.202</td> <td>2.766e-02</td> <td>[9.759e-05,1.677e-03]</td>\n",
       "</tr>\n",
       "</table>\n",
       "<table class=\"simpletable\">\n",
       "<caption>Volatility Model</caption>\n",
       "<tr>\n",
       "     <td></td>       <th>coef</th>     <th>std err</th>      <th>t</th>       <th>P>|t|</th>     <th>95.0% Conf. Int.</th>   \n",
       "</tr>\n",
       "<tr>\n",
       "  <th>sigma2</th> <td>2.0428e-04</td> <td>1.754e-05</td> <td>   11.649</td> <td>2.318e-31</td> <td>[1.699e-04,2.386e-04]</td>\n",
       "</tr>\n",
       "</table><br/><br/>Covariance estimator: White's Heteroskedasticity Consistent Estimator"
      ],
      "text/plain": [
       "<class 'statsmodels.iolib.summary.Summary'>\n",
       "\"\"\"\n",
       "               Constant Mean - Constant Variance Model Results                \n",
       "==============================================================================\n",
       "Dep. Variable:           Log_ret_MSFT   R-squared:                       0.000\n",
       "Mean Model:             Constant Mean   Adj. R-squared:                  0.000\n",
       "Vol Model:          Constant Variance   Log-Likelihood:                3558.98\n",
       "Distribution:                  Normal   AIC:                          -7113.96\n",
       "Method:            Maximum Likelihood   BIC:                          -7103.69\n",
       "                                        No. Observations:                 1258\n",
       "Date:                Thu, May 07 2020   Df Residuals:                     1256\n",
       "Time:                        12:26:09   Df Model:                            2\n",
       "                                 Mean Model                                 \n",
       "============================================================================\n",
       "                 coef    std err          t      P>|t|      95.0% Conf. Int.\n",
       "----------------------------------------------------------------------------\n",
       "mu         8.8739e-04  4.030e-04      2.202  2.766e-02 [9.759e-05,1.677e-03]\n",
       "                              Volatility Model                              \n",
       "============================================================================\n",
       "                 coef    std err          t      P>|t|      95.0% Conf. Int.\n",
       "----------------------------------------------------------------------------\n",
       "sigma2     2.0428e-04  1.754e-05     11.649  2.318e-31 [1.699e-04,2.386e-04]\n",
       "============================================================================\n",
       "\n",
       "Covariance estimator: White's Heteroskedasticity Consistent Estimator\n",
       "\"\"\""
      ]
     },
     "execution_count": 38,
     "metadata": {},
     "output_type": "execute_result"
    }
   ],
   "source": [
    "cm.fit().summary()"
   ]
  },
  {
   "cell_type": "code",
   "execution_count": 39,
   "metadata": {},
   "outputs": [],
   "source": [
    "cm.volatility=GARCH(p=1,q=1)"
   ]
  },
  {
   "cell_type": "code",
   "execution_count": 40,
   "metadata": {},
   "outputs": [],
   "source": [
    "res_cm = cm.fit(update_freq=0, disp='off')"
   ]
  },
  {
   "cell_type": "code",
   "execution_count": 41,
   "metadata": {},
   "outputs": [
    {
     "data": {
      "text/html": [
       "<table class=\"simpletable\">\n",
       "<caption>Constant Mean - GARCH Model Results</caption>\n",
       "<tr>\n",
       "  <th>Dep. Variable:</th>    <td>Log_ret_MSFT</td>    <th>  R-squared:         </th>  <td>  -0.000</td> \n",
       "</tr>\n",
       "<tr>\n",
       "  <th>Mean Model:</th>       <td>Constant Mean</td>   <th>  Adj. R-squared:    </th>  <td>  -0.000</td> \n",
       "</tr>\n",
       "<tr>\n",
       "  <th>Vol Model:</th>            <td>GARCH</td>       <th>  Log-Likelihood:    </th> <td>   3611.09</td>\n",
       "</tr>\n",
       "<tr>\n",
       "  <th>Distribution:</th>        <td>Normal</td>       <th>  AIC:               </th> <td>  -7214.17</td>\n",
       "</tr>\n",
       "<tr>\n",
       "  <th>Method:</th>        <td>Maximum Likelihood</td> <th>  BIC:               </th> <td>  -7193.62</td>\n",
       "</tr>\n",
       "<tr>\n",
       "  <th></th>                        <td></td>          <th>  No. Observations:  </th>    <td>1258</td>   \n",
       "</tr>\n",
       "<tr>\n",
       "  <th>Date:</th>           <td>Thu, May 07 2020</td>  <th>  Df Residuals:      </th>    <td>1254</td>   \n",
       "</tr>\n",
       "<tr>\n",
       "  <th>Time:</th>               <td>12:26:09</td>      <th>  Df Model:          </th>      <td>4</td>    \n",
       "</tr>\n",
       "</table>\n",
       "<table class=\"simpletable\">\n",
       "<caption>Mean Model</caption>\n",
       "<tr>\n",
       "   <td></td>     <th>coef</th>     <th>std err</th>      <th>t</th>       <th>P>|t|</th>     <th>95.0% Conf. Int.</th>   \n",
       "</tr>\n",
       "<tr>\n",
       "  <th>mu</th> <td>1.0988e-03</td> <td>3.495e-04</td> <td>    3.144</td> <td>1.667e-03</td> <td>[4.138e-04,1.784e-03]</td>\n",
       "</tr>\n",
       "</table>\n",
       "<table class=\"simpletable\">\n",
       "<caption>Volatility Model</caption>\n",
       "<tr>\n",
       "      <td></td>        <th>coef</th>     <th>std err</th>      <th>t</th>       <th>P>|t|</th>     <th>95.0% Conf. Int.</th>   \n",
       "</tr>\n",
       "<tr>\n",
       "  <th>omega</th>    <td>6.1283e-05</td> <td>1.169e-05</td> <td>    5.242</td> <td>1.591e-07</td> <td>[3.837e-05,8.420e-05]</td>\n",
       "</tr>\n",
       "<tr>\n",
       "  <th>alpha[1]</th> <td>    0.2000</td> <td>5.587e-02</td> <td>    3.580</td> <td>3.438e-04</td>  <td>[9.050e-02,  0.310]</td> \n",
       "</tr>\n",
       "<tr>\n",
       "  <th>beta[1]</th>  <td>    0.5000</td> <td>9.040e-02</td> <td>    5.531</td> <td>3.187e-08</td>   <td>[  0.323,  0.677]</td>  \n",
       "</tr>\n",
       "</table><br/><br/>Covariance estimator: robust"
      ],
      "text/plain": [
       "<class 'statsmodels.iolib.summary.Summary'>\n",
       "\"\"\"\n",
       "                     Constant Mean - GARCH Model Results                      \n",
       "==============================================================================\n",
       "Dep. Variable:           Log_ret_MSFT   R-squared:                      -0.000\n",
       "Mean Model:             Constant Mean   Adj. R-squared:                 -0.000\n",
       "Vol Model:                      GARCH   Log-Likelihood:                3611.09\n",
       "Distribution:                  Normal   AIC:                          -7214.17\n",
       "Method:            Maximum Likelihood   BIC:                          -7193.62\n",
       "                                        No. Observations:                 1258\n",
       "Date:                Thu, May 07 2020   Df Residuals:                     1254\n",
       "Time:                        12:26:09   Df Model:                            4\n",
       "                                 Mean Model                                 \n",
       "============================================================================\n",
       "                 coef    std err          t      P>|t|      95.0% Conf. Int.\n",
       "----------------------------------------------------------------------------\n",
       "mu         1.0988e-03  3.495e-04      3.144  1.667e-03 [4.138e-04,1.784e-03]\n",
       "                              Volatility Model                              \n",
       "============================================================================\n",
       "                 coef    std err          t      P>|t|      95.0% Conf. Int.\n",
       "----------------------------------------------------------------------------\n",
       "omega      6.1283e-05  1.169e-05      5.242  1.591e-07 [3.837e-05,8.420e-05]\n",
       "alpha[1]       0.2000  5.587e-02      3.580  3.438e-04   [9.050e-02,  0.310]\n",
       "beta[1]        0.5000  9.040e-02      5.531  3.187e-08     [  0.323,  0.677]\n",
       "============================================================================\n",
       "\n",
       "Covariance estimator: robust\n",
       "\"\"\""
      ]
     },
     "execution_count": 41,
     "metadata": {},
     "output_type": "execute_result"
    }
   ],
   "source": [
    "res_cm.summary()"
   ]
  },
  {
   "cell_type": "markdown",
   "metadata": {},
   "source": [
    "###  Проверим остатки модели на наличие автокорреляции"
   ]
  },
  {
   "cell_type": "code",
   "execution_count": 42,
   "metadata": {},
   "outputs": [
    {
     "data": {
      "text/plain": [
       "array([ 3.30751421,  5.1478247 ,  5.72912256,  7.03154322, 12.98247316,\n",
       "       13.95491083, 14.16999922, 25.14715226, 25.20722743, 27.63260316])"
      ]
     },
     "execution_count": 42,
     "metadata": {},
     "output_type": "execute_result"
    }
   ],
   "source": [
    "test.acorr_ljungbox(res_cm.resid)[0][0:10]\n",
    "### значение статистики Льюнга-Бокса"
   ]
  },
  {
   "cell_type": "code",
   "execution_count": 43,
   "metadata": {},
   "outputs": [
    {
     "data": {
      "text/plain": [
       "array([0.06896374, 0.0762367 , 0.12555901, 0.13423067, 0.02354357,\n",
       "       0.03014391, 0.04823905, 0.00146775, 0.0027503 , 0.00206649])"
      ]
     },
     "execution_count": 43,
     "metadata": {},
     "output_type": "execute_result"
    }
   ],
   "source": [
    "test.acorr_ljungbox(res_cm.resid)[1][0:10]\n",
    "###  pvalue статистики Льюнга-Бокса"
   ]
  },
  {
   "cell_type": "code",
   "execution_count": 44,
   "metadata": {},
   "outputs": [
    {
     "data": {
      "image/png": "[encoded data removed]",
      "text/plain": [
       "<Figure size 720x432 with 2 Axes>"
      ]
     },
     "metadata": {},
     "output_type": "display_data"
    }
   ],
   "source": [
    "fig=res_cm.plot()"
   ]
  },
  {
   "cell_type": "markdown",
   "metadata": {},
   "source": [
    "###  В первых лагах автокорреляция отсутсвует, однако  для более отдаленных лагов можно  отметить наличие внутренней зависимости. По этой причине однозначного вывода об адекватности модели сделать нельзя."
   ]
  },
  {
   "cell_type": "markdown",
   "metadata": {
    "collapsed": true
   },
   "source": [
    "### Моделирование доходности - AR"
   ]
  },
  {
   "cell_type": "code",
   "execution_count": 45,
   "metadata": {},
   "outputs": [],
   "source": [
    "ar=ARX(msft['Log_ret_MSFT'],lags=[1]) # моделирование доходности с помощью процесса AR(1)"
   ]
  },
  {
   "cell_type": "code",
   "execution_count": 46,
   "metadata": {},
   "outputs": [
    {
     "data": {
      "text/html": [
       "<table class=\"simpletable\">\n",
       "<caption>AR - Constant Variance Model Results</caption>\n",
       "<tr>\n",
       "  <th>Dep. Variable:</th>    <td>Log_ret_MSFT</td>    <th>  R-squared:         </th>  <td>   0.003</td> \n",
       "</tr>\n",
       "<tr>\n",
       "  <th>Mean Model:</th>            <td>AR</td>         <th>  Adj. R-squared:    </th>  <td>   0.002</td> \n",
       "</tr>\n",
       "<tr>\n",
       "  <th>Vol Model:</th>      <td>Constant Variance</td> <th>  Log-Likelihood:    </th> <td>   3557.98</td>\n",
       "</tr>\n",
       "<tr>\n",
       "  <th>Distribution:</th>        <td>Normal</td>       <th>  AIC:               </th> <td>  -7109.97</td>\n",
       "</tr>\n",
       "<tr>\n",
       "  <th>Method:</th>        <td>Maximum Likelihood</td> <th>  BIC:               </th> <td>  -7094.56</td>\n",
       "</tr>\n",
       "<tr>\n",
       "  <th></th>                        <td></td>          <th>  No. Observations:  </th>    <td>1257</td>   \n",
       "</tr>\n",
       "<tr>\n",
       "  <th>Date:</th>           <td>Thu, May 07 2020</td>  <th>  Df Residuals:      </th>    <td>1254</td>   \n",
       "</tr>\n",
       "<tr>\n",
       "  <th>Time:</th>               <td>12:26:11</td>      <th>  Df Model:          </th>      <td>3</td>    \n",
       "</tr>\n",
       "</table>\n",
       "<table class=\"simpletable\">\n",
       "<caption>Mean Model</caption>\n",
       "<tr>\n",
       "        <td></td>           <th>coef</th>     <th>std err</th>      <th>t</th>       <th>P>|t|</th>     <th>95.0% Conf. Int.</th>   \n",
       "</tr>\n",
       "<tr>\n",
       "  <th>Const</th>         <td>9.4800e-04</td> <td>4.089e-04</td> <td>    2.318</td> <td>2.042e-02</td> <td>[1.466e-04,1.749e-03]</td>\n",
       "</tr>\n",
       "<tr>\n",
       "  <th>Log_...SFT[1]</th> <td>   -0.0516</td> <td>4.076e-02</td> <td>   -1.265</td> <td>    0.206</td>  <td>[ -0.131,2.832e-02]</td> \n",
       "</tr>\n",
       "</table>\n",
       "<table class=\"simpletable\">\n",
       "<caption>Volatility Model</caption>\n",
       "<tr>\n",
       "     <td></td>       <th>coef</th>     <th>std err</th>      <th>t</th>       <th>P>|t|</th>     <th>95.0% Conf. Int.</th>   \n",
       "</tr>\n",
       "<tr>\n",
       "  <th>sigma2</th> <td>2.0368e-04</td> <td>1.758e-05</td> <td>   11.584</td> <td>4.985e-31</td> <td>[1.692e-04,2.381e-04]</td>\n",
       "</tr>\n",
       "</table><br/><br/>Covariance estimator: White's Heteroskedasticity Consistent Estimator"
      ],
      "text/plain": [
       "<class 'statsmodels.iolib.summary.Summary'>\n",
       "\"\"\"\n",
       "                     AR - Constant Variance Model Results                     \n",
       "==============================================================================\n",
       "Dep. Variable:           Log_ret_MSFT   R-squared:                       0.003\n",
       "Mean Model:                        AR   Adj. R-squared:                  0.002\n",
       "Vol Model:          Constant Variance   Log-Likelihood:                3557.98\n",
       "Distribution:                  Normal   AIC:                          -7109.97\n",
       "Method:            Maximum Likelihood   BIC:                          -7094.56\n",
       "                                        No. Observations:                 1257\n",
       "Date:                Thu, May 07 2020   Df Residuals:                     1254\n",
       "Time:                        12:26:11   Df Model:                            3\n",
       "                                   Mean Model                                  \n",
       "===============================================================================\n",
       "                    coef    std err          t      P>|t|      95.0% Conf. Int.\n",
       "-------------------------------------------------------------------------------\n",
       "Const         9.4800e-04  4.089e-04      2.318  2.042e-02 [1.466e-04,1.749e-03]\n",
       "Log_...SFT[1]    -0.0516  4.076e-02     -1.265      0.206   [ -0.131,2.832e-02]\n",
       "                              Volatility Model                              \n",
       "============================================================================\n",
       "                 coef    std err          t      P>|t|      95.0% Conf. Int.\n",
       "----------------------------------------------------------------------------\n",
       "sigma2     2.0368e-04  1.758e-05     11.584  4.985e-31 [1.692e-04,2.381e-04]\n",
       "============================================================================\n",
       "\n",
       "Covariance estimator: White's Heteroskedasticity Consistent Estimator\n",
       "\"\"\""
      ]
     },
     "execution_count": 46,
     "metadata": {},
     "output_type": "execute_result"
    }
   ],
   "source": [
    "ar.fit().summary()"
   ]
  },
  {
   "cell_type": "code",
   "execution_count": 47,
   "metadata": {},
   "outputs": [],
   "source": [
    "ar.volatility=GARCH(p=1,q=1)"
   ]
  },
  {
   "cell_type": "code",
   "execution_count": 48,
   "metadata": {},
   "outputs": [],
   "source": [
    "res_ar = ar.fit(update_freq=0, disp='off')"
   ]
  },
  {
   "cell_type": "code",
   "execution_count": 49,
   "metadata": {},
   "outputs": [
    {
     "data": {
      "text/html": [
       "<table class=\"simpletable\">\n",
       "<caption>AR - GARCH Model Results</caption>\n",
       "<tr>\n",
       "  <th>Dep. Variable:</th>    <td>Log_ret_MSFT</td>    <th>  R-squared:         </th>  <td>   0.002</td> \n",
       "</tr>\n",
       "<tr>\n",
       "  <th>Mean Model:</th>            <td>AR</td>         <th>  Adj. R-squared:    </th>  <td>   0.001</td> \n",
       "</tr>\n",
       "<tr>\n",
       "  <th>Vol Model:</th>            <td>GARCH</td>       <th>  Log-Likelihood:    </th> <td>   3613.30</td>\n",
       "</tr>\n",
       "<tr>\n",
       "  <th>Distribution:</th>        <td>Normal</td>       <th>  AIC:               </th> <td>  -7216.60</td>\n",
       "</tr>\n",
       "<tr>\n",
       "  <th>Method:</th>        <td>Maximum Likelihood</td> <th>  BIC:               </th> <td>  -7190.91</td>\n",
       "</tr>\n",
       "<tr>\n",
       "  <th></th>                        <td></td>          <th>  No. Observations:  </th>    <td>1257</td>   \n",
       "</tr>\n",
       "<tr>\n",
       "  <th>Date:</th>           <td>Thu, May 07 2020</td>  <th>  Df Residuals:      </th>    <td>1252</td>   \n",
       "</tr>\n",
       "<tr>\n",
       "  <th>Time:</th>               <td>12:26:11</td>      <th>  Df Model:          </th>      <td>5</td>    \n",
       "</tr>\n",
       "</table>\n",
       "<table class=\"simpletable\">\n",
       "<caption>Mean Model</caption>\n",
       "<tr>\n",
       "        <td></td>           <th>coef</th>     <th>std err</th>      <th>t</th>       <th>P>|t|</th>     <th>95.0% Conf. Int.</th>   \n",
       "</tr>\n",
       "<tr>\n",
       "  <th>Const</th>         <td>1.1351e-03</td> <td>3.569e-04</td> <td>    3.180</td> <td>1.471e-03</td> <td>[4.356e-04,1.835e-03]</td>\n",
       "</tr>\n",
       "<tr>\n",
       "  <th>Log_...SFT[1]</th> <td>   -0.0225</td> <td>4.903e-02</td> <td>   -0.458</td> <td>    0.647</td>  <td>[ -0.119,7.362e-02]</td> \n",
       "</tr>\n",
       "</table>\n",
       "<table class=\"simpletable\">\n",
       "<caption>Volatility Model</caption>\n",
       "<tr>\n",
       "      <td></td>        <th>coef</th>     <th>std err</th>      <th>t</th>       <th>P>|t|</th>     <th>95.0% Conf. Int.</th>   \n",
       "</tr>\n",
       "<tr>\n",
       "  <th>omega</th>    <td>3.6373e-05</td> <td>3.215e-06</td> <td>   11.314</td> <td>1.120e-29</td> <td>[3.007e-05,4.267e-05]</td>\n",
       "</tr>\n",
       "<tr>\n",
       "  <th>alpha[1]</th> <td>    0.2103</td> <td>8.599e-02</td> <td>    2.446</td> <td>1.445e-02</td>  <td>[4.178e-02,  0.379]</td> \n",
       "</tr>\n",
       "<tr>\n",
       "  <th>beta[1]</th>  <td>    0.6405</td> <td>5.497e-02</td> <td>   11.652</td> <td>2.245e-31</td>   <td>[  0.533,  0.748]</td>  \n",
       "</tr>\n",
       "</table><br/><br/>Covariance estimator: robust"
      ],
      "text/plain": [
       "<class 'statsmodels.iolib.summary.Summary'>\n",
       "\"\"\"\n",
       "                           AR - GARCH Model Results                           \n",
       "==============================================================================\n",
       "Dep. Variable:           Log_ret_MSFT   R-squared:                       0.002\n",
       "Mean Model:                        AR   Adj. R-squared:                  0.001\n",
       "Vol Model:                      GARCH   Log-Likelihood:                3613.30\n",
       "Distribution:                  Normal   AIC:                          -7216.60\n",
       "Method:            Maximum Likelihood   BIC:                          -7190.91\n",
       "                                        No. Observations:                 1257\n",
       "Date:                Thu, May 07 2020   Df Residuals:                     1252\n",
       "Time:                        12:26:11   Df Model:                            5\n",
       "                                   Mean Model                                  \n",
       "===============================================================================\n",
       "                    coef    std err          t      P>|t|      95.0% Conf. Int.\n",
       "-------------------------------------------------------------------------------\n",
       "Const         1.1351e-03  3.569e-04      3.180  1.471e-03 [4.356e-04,1.835e-03]\n",
       "Log_...SFT[1]    -0.0225  4.903e-02     -0.458      0.647   [ -0.119,7.362e-02]\n",
       "                              Volatility Model                              \n",
       "============================================================================\n",
       "                 coef    std err          t      P>|t|      95.0% Conf. Int.\n",
       "----------------------------------------------------------------------------\n",
       "omega      3.6373e-05  3.215e-06     11.314  1.120e-29 [3.007e-05,4.267e-05]\n",
       "alpha[1]       0.2103  8.599e-02      2.446  1.445e-02   [4.178e-02,  0.379]\n",
       "beta[1]        0.6405  5.497e-02     11.652  2.245e-31     [  0.533,  0.748]\n",
       "============================================================================\n",
       "\n",
       "Covariance estimator: robust\n",
       "\"\"\""
      ]
     },
     "execution_count": 49,
     "metadata": {},
     "output_type": "execute_result"
    }
   ],
   "source": [
    "res_ar.summary()"
   ]
  },
  {
   "cell_type": "markdown",
   "metadata": {},
   "source": [
    "###  Проверим остатки модели на наличие автокорреляции"
   ]
  },
  {
   "cell_type": "code",
   "execution_count": 50,
   "metadata": {},
   "outputs": [
    {
     "data": {
      "text/plain": [
       "array([0.27422399, 0.20338605, 0.30402484, 0.28679045, 0.04485325,\n",
       "       0.05324046, 0.08408791, 0.00295812, 0.00531334, 0.00386913])"
      ]
     },
     "execution_count": 50,
     "metadata": {},
     "output_type": "execute_result"
    }
   ],
   "source": [
    "test.acorr_ljungbox(res_ar.resid.dropna())[1][0:10]\n",
    "###  pvalue статистики Льюнга-Бокса"
   ]
  },
  {
   "cell_type": "markdown",
   "metadata": {},
   "source": [
    "###  В первых лагах автокорреляция отсутсвует, однако  для более отдаленных лагов можно  отметить наличие внутренней зависимости. По этой причине однозначного вывода об адекватности модели сделать нельзя."
   ]
  },
  {
   "cell_type": "markdown",
   "metadata": {},
   "source": [
    "### Расчет безусловной волатильности и устойчивости (persistence) возмущения"
   ]
  },
  {
   "cell_type": "code",
   "execution_count": 51,
   "metadata": {},
   "outputs": [
    {
     "data": {
      "text/plain": [
       "mu          0.001099\n",
       "omega       0.000061\n",
       "alpha[1]    0.200000\n",
       "beta[1]     0.500000\n",
       "Name: params, dtype: float64"
      ]
     },
     "execution_count": 51,
     "metadata": {},
     "output_type": "execute_result"
    }
   ],
   "source": [
    "res_cm.params"
   ]
  },
  {
   "cell_type": "code",
   "execution_count": 52,
   "metadata": {},
   "outputs": [
    {
     "data": {
      "text/plain": [
       "0.00020427664477801392"
      ]
     },
     "execution_count": 52,
     "metadata": {},
     "output_type": "execute_result"
    }
   ],
   "source": [
    "res_cm.params[1]/(1-res_cm.params[2]-res_cm.params[3]) "
   ]
  },
  {
   "cell_type": "code",
   "execution_count": 53,
   "metadata": {},
   "outputs": [
    {
     "data": {
      "text/plain": [
       "0.7000000525647193"
      ]
     },
     "execution_count": 53,
     "metadata": {},
     "output_type": "execute_result"
    }
   ],
   "source": [
    "res_cm.params[2]+res_cm.params[3]"
   ]
  },
  {
   "cell_type": "markdown",
   "metadata": {
    "collapsed": true
   },
   "source": [
    "### 3.2. Модель по остаткам ARIMA "
   ]
  },
  {
   "cell_type": "code",
   "execution_count": 54,
   "metadata": {},
   "outputs": [],
   "source": [
    "cm_1=ConstantMean(results_1.resid) # модель постоянной средней"
   ]
  },
  {
   "cell_type": "code",
   "execution_count": 55,
   "metadata": {},
   "outputs": [
    {
     "data": {
      "text/html": [
       "<table class=\"simpletable\">\n",
       "<caption>Constant Mean - Constant Variance Model Results</caption>\n",
       "<tr>\n",
       "  <th>Dep. Variable:</th>        <td>None</td>        <th>  R-squared:         </th>  <td>  -0.000</td> \n",
       "</tr>\n",
       "<tr>\n",
       "  <th>Mean Model:</th>       <td>Constant Mean</td>   <th>  Adj. R-squared:    </th>  <td>  -0.000</td> \n",
       "</tr>\n",
       "<tr>\n",
       "  <th>Vol Model:</th>      <td>Constant Variance</td> <th>  Log-Likelihood:    </th> <td>   3562.53</td>\n",
       "</tr>\n",
       "<tr>\n",
       "  <th>Distribution:</th>        <td>Normal</td>       <th>  AIC:               </th> <td>  -7121.07</td>\n",
       "</tr>\n",
       "<tr>\n",
       "  <th>Method:</th>        <td>Maximum Likelihood</td> <th>  BIC:               </th> <td>  -7110.79</td>\n",
       "</tr>\n",
       "<tr>\n",
       "  <th></th>                        <td></td>          <th>  No. Observations:  </th>    <td>1257</td>   \n",
       "</tr>\n",
       "<tr>\n",
       "  <th>Date:</th>           <td>Thu, May 07 2020</td>  <th>  Df Residuals:      </th>    <td>1255</td>   \n",
       "</tr>\n",
       "<tr>\n",
       "  <th>Time:</th>               <td>12:26:11</td>      <th>  Df Model:          </th>      <td>2</td>    \n",
       "</tr>\n",
       "</table>\n",
       "<table class=\"simpletable\">\n",
       "<caption>Mean Model</caption>\n",
       "<tr>\n",
       "   <td></td>     <th>coef</th>      <th>std err</th>       <th>t</th>       <th>P>|t|</th>      <th>95.0% Conf. Int.</th>   \n",
       "</tr>\n",
       "<tr>\n",
       "  <th>mu</th> <td>-1.8960e-05</td> <td>4.011e-04</td> <td>-4.727e-02</td> <td>    0.962</td> <td>[-8.051e-04,7.672e-04]</td>\n",
       "</tr>\n",
       "</table>\n",
       "<table class=\"simpletable\">\n",
       "<caption>Volatility Model</caption>\n",
       "<tr>\n",
       "     <td></td>       <th>coef</th>     <th>std err</th>      <th>t</th>       <th>P>|t|</th>     <th>95.0% Conf. Int.</th>   \n",
       "</tr>\n",
       "<tr>\n",
       "  <th>sigma2</th> <td>2.0221e-04</td> <td>1.762e-05</td> <td>   11.475</td> <td>1.759e-30</td> <td>[1.677e-04,2.368e-04]</td>\n",
       "</tr>\n",
       "</table><br/><br/>Covariance estimator: White's Heteroskedasticity Consistent Estimator"
      ],
      "text/plain": [
       "<class 'statsmodels.iolib.summary.Summary'>\n",
       "\"\"\"\n",
       "               Constant Mean - Constant Variance Model Results                \n",
       "==============================================================================\n",
       "Dep. Variable:                   None   R-squared:                      -0.000\n",
       "Mean Model:             Constant Mean   Adj. R-squared:                 -0.000\n",
       "Vol Model:          Constant Variance   Log-Likelihood:                3562.53\n",
       "Distribution:                  Normal   AIC:                          -7121.07\n",
       "Method:            Maximum Likelihood   BIC:                          -7110.79\n",
       "                                        No. Observations:                 1257\n",
       "Date:                Thu, May 07 2020   Df Residuals:                     1255\n",
       "Time:                        12:26:11   Df Model:                            2\n",
       "                                  Mean Model                                  \n",
       "==============================================================================\n",
       "                  coef    std err          t      P>|t|       95.0% Conf. Int.\n",
       "------------------------------------------------------------------------------\n",
       "mu         -1.8960e-05  4.011e-04 -4.727e-02      0.962 [-8.051e-04,7.672e-04]\n",
       "                              Volatility Model                              \n",
       "============================================================================\n",
       "                 coef    std err          t      P>|t|      95.0% Conf. Int.\n",
       "----------------------------------------------------------------------------\n",
       "sigma2     2.0221e-04  1.762e-05     11.475  1.759e-30 [1.677e-04,2.368e-04]\n",
       "============================================================================\n",
       "\n",
       "Covariance estimator: White's Heteroskedasticity Consistent Estimator\n",
       "\"\"\""
      ]
     },
     "execution_count": 55,
     "metadata": {},
     "output_type": "execute_result"
    }
   ],
   "source": [
    "cm_1.fit().summary()"
   ]
  },
  {
   "cell_type": "code",
   "execution_count": 56,
   "metadata": {},
   "outputs": [],
   "source": [
    "cm_1.volatility=GARCH(p=1,q=1)"
   ]
  },
  {
   "cell_type": "code",
   "execution_count": 57,
   "metadata": {},
   "outputs": [],
   "source": [
    "res_cm_1 = cm_1.fit(update_freq=0, disp='off')"
   ]
  },
  {
   "cell_type": "code",
   "execution_count": 58,
   "metadata": {},
   "outputs": [
    {
     "data": {
      "text/html": [
       "<table class=\"simpletable\">\n",
       "<caption>Constant Mean - GARCH Model Results</caption>\n",
       "<tr>\n",
       "  <th>Dep. Variable:</th>        <td>None</td>        <th>  R-squared:         </th>  <td>  -0.001</td> \n",
       "</tr>\n",
       "<tr>\n",
       "  <th>Mean Model:</th>       <td>Constant Mean</td>   <th>  Adj. R-squared:    </th>  <td>  -0.001</td> \n",
       "</tr>\n",
       "<tr>\n",
       "  <th>Vol Model:</th>            <td>GARCH</td>       <th>  Log-Likelihood:    </th> <td>   3617.77</td>\n",
       "</tr>\n",
       "<tr>\n",
       "  <th>Distribution:</th>        <td>Normal</td>       <th>  AIC:               </th> <td>  -7227.53</td>\n",
       "</tr>\n",
       "<tr>\n",
       "  <th>Method:</th>        <td>Maximum Likelihood</td> <th>  BIC:               </th> <td>  -7206.99</td>\n",
       "</tr>\n",
       "<tr>\n",
       "  <th></th>                        <td></td>          <th>  No. Observations:  </th>    <td>1257</td>   \n",
       "</tr>\n",
       "<tr>\n",
       "  <th>Date:</th>           <td>Thu, May 07 2020</td>  <th>  Df Residuals:      </th>    <td>1253</td>   \n",
       "</tr>\n",
       "<tr>\n",
       "  <th>Time:</th>               <td>12:26:12</td>      <th>  Df Model:          </th>      <td>4</td>    \n",
       "</tr>\n",
       "</table>\n",
       "<table class=\"simpletable\">\n",
       "<caption>Mean Model</caption>\n",
       "<tr>\n",
       "   <td></td>     <th>coef</th>     <th>std err</th>      <th>t</th>       <th>P>|t|</th>      <th>95.0% Conf. Int.</th>   \n",
       "</tr>\n",
       "<tr>\n",
       "  <th>mu</th> <td>2.9955e-04</td> <td>3.495e-04</td> <td>    0.857</td> <td>    0.391</td> <td>[-3.855e-04,9.846e-04]</td>\n",
       "</tr>\n",
       "</table>\n",
       "<table class=\"simpletable\">\n",
       "<caption>Volatility Model</caption>\n",
       "<tr>\n",
       "      <td></td>        <th>coef</th>     <th>std err</th>      <th>t</th>       <th>P>|t|</th>     <th>95.0% Conf. Int.</th>   \n",
       "</tr>\n",
       "<tr>\n",
       "  <th>omega</th>    <td>3.7826e-05</td> <td>3.479e-06</td> <td>   10.873</td> <td>1.545e-27</td> <td>[3.101e-05,4.464e-05]</td>\n",
       "</tr>\n",
       "<tr>\n",
       "  <th>alpha[1]</th> <td>    0.2114</td> <td>8.413e-02</td> <td>    2.513</td> <td>1.197e-02</td>  <td>[4.652e-02,  0.376]</td> \n",
       "</tr>\n",
       "<tr>\n",
       "  <th>beta[1]</th>  <td>    0.6311</td> <td>5.635e-02</td> <td>   11.201</td> <td>4.022e-29</td>   <td>[  0.521,  0.742]</td>  \n",
       "</tr>\n",
       "</table><br/><br/>Covariance estimator: robust"
      ],
      "text/plain": [
       "<class 'statsmodels.iolib.summary.Summary'>\n",
       "\"\"\"\n",
       "                     Constant Mean - GARCH Model Results                      \n",
       "==============================================================================\n",
       "Dep. Variable:                   None   R-squared:                      -0.001\n",
       "Mean Model:             Constant Mean   Adj. R-squared:                 -0.001\n",
       "Vol Model:                      GARCH   Log-Likelihood:                3617.77\n",
       "Distribution:                  Normal   AIC:                          -7227.53\n",
       "Method:            Maximum Likelihood   BIC:                          -7206.99\n",
       "                                        No. Observations:                 1257\n",
       "Date:                Thu, May 07 2020   Df Residuals:                     1253\n",
       "Time:                        12:26:12   Df Model:                            4\n",
       "                                  Mean Model                                 \n",
       "=============================================================================\n",
       "                 coef    std err          t      P>|t|       95.0% Conf. Int.\n",
       "-----------------------------------------------------------------------------\n",
       "mu         2.9955e-04  3.495e-04      0.857      0.391 [-3.855e-04,9.846e-04]\n",
       "                              Volatility Model                              \n",
       "============================================================================\n",
       "                 coef    std err          t      P>|t|      95.0% Conf. Int.\n",
       "----------------------------------------------------------------------------\n",
       "omega      3.7826e-05  3.479e-06     10.873  1.545e-27 [3.101e-05,4.464e-05]\n",
       "alpha[1]       0.2114  8.413e-02      2.513  1.197e-02   [4.652e-02,  0.376]\n",
       "beta[1]        0.6311  5.635e-02     11.201  4.022e-29     [  0.521,  0.742]\n",
       "============================================================================\n",
       "\n",
       "Covariance estimator: robust\n",
       "\"\"\""
      ]
     },
     "execution_count": 58,
     "metadata": {},
     "output_type": "execute_result"
    }
   ],
   "source": [
    "res_cm_1.summary()"
   ]
  },
  {
   "cell_type": "code",
   "execution_count": 59,
   "metadata": {},
   "outputs": [
    {
     "data": {
      "text/plain": [
       "array([0.66815345, 0.90284035, 0.36496058, 0.52244857, 0.33148193,\n",
       "       0.44362283, 0.44128717, 0.09057469, 0.13175035, 0.06026864,\n",
       "       0.08823153, 0.12327809, 0.1487106 , 0.15420266, 0.17461728,\n",
       "       0.16318278, 0.17822653, 0.19913264, 0.22418479, 0.26792174])"
      ]
     },
     "execution_count": 59,
     "metadata": {},
     "output_type": "execute_result"
    }
   ],
   "source": [
    "test.acorr_ljungbox(res_cm_1.resid)[1][0:20]\n",
    "###  pvalue статистики Льюнга-Бокса"
   ]
  },
  {
   "cell_type": "markdown",
   "metadata": {},
   "source": [
    "###  Можно сделать вывод об отсутствии автокорреляции остатков модели GARCH."
   ]
  },
  {
   "cell_type": "markdown",
   "metadata": {},
   "source": [
    "### Общий вывод - модель ARIMA-GARCH может быть использована для моделирования рассматриваемого временного ряда."
   ]
  },
  {
   "cell_type": "markdown",
   "metadata": {},
   "source": [
    "## 3. Нахождение рыночной β и тестирование гипотезы CAPM"
   ]
  },
  {
   "cell_type": "markdown",
   "metadata": {
    "collapsed": true
   },
   "source": [
    "### Классическая версия модели CAPM предполагает отсутсвие в регрессионной модели свободного члена или в инвестиционной терминологии $\\alpha$.  Это означает, что рассматриваемый актив не может систематически \"обыграть\" рынок. Таким образом, основной акцент делается на показателе рыночной $\\beta$."
   ]
  },
  {
   "cell_type": "markdown",
   "metadata": {},
   "source": [
    "### $ER_i=R_f+\\beta_i(ER_m-R_f)$"
   ]
  },
  {
   "cell_type": "markdown",
   "metadata": {},
   "source": [
    "### Модель CAPM на основе индекса SP500 (дневные данные)"
   ]
  },
  {
   "cell_type": "code",
   "execution_count": 60,
   "metadata": {},
   "outputs": [],
   "source": [
    "sp=pd.read_csv('/home/maxime/Documentos/Econometrics/')\n",
    "# загрузка данных по динамике индекса SP500 "
   ]
  },
  {
   "cell_type": "code",
   "execution_count": 61,
   "metadata": {},
   "outputs": [],
   "source": [
    "sp['Date']=pd.to_datetime(sp['Date'],format='%Y-%m-%d')\n",
    "###  преобразование поля в формат даты"
   ]
  },
  {
   "cell_type": "code",
   "execution_count": 62,
   "metadata": {},
   "outputs": [],
   "source": [
    "sp['Log_ret_SP']=np.log(sp['Adj Close'])-np.log(sp['Adj Close'].shift(1))\n",
    "### расчет логарифмической доходности"
   ]
  },
  {
   "cell_type": "code",
   "execution_count": 63,
   "metadata": {},
   "outputs": [],
   "source": [
    "sp.drop([0],axis=0,inplace=True)\n",
    "### удаление первого наблюдения со значением nan"
   ]
  },
  {
   "cell_type": "code",
   "execution_count": 64,
   "metadata": {},
   "outputs": [],
   "source": [
    "port=sp[['Date','Log_ret_SP']].merge(msft[['Date','Log_ret_MSFT']],left_on=['Date'],right_on=['Date'])\n",
    "### объединение акций и индекса в один dataframe"
   ]
  },
  {
   "cell_type": "code",
   "execution_count": 65,
   "metadata": {},
   "outputs": [],
   "source": [
    "port.columns=['Date','Log_ret_SP','Log_ret_MSFT']"
   ]
  },
  {
   "cell_type": "code",
   "execution_count": 66,
   "metadata": {},
   "outputs": [
    {
     "data": {
      "text/html": [
       "<div>\n",
       "<style scoped>\n",
       "    .dataframe tbody tr th:only-of-type {\n",
       "        vertical-align: middle;\n",
       "    }\n",
       "\n",
       "    .dataframe tbody tr th {\n",
       "        vertical-align: top;\n",
       "    }\n",
       "\n",
       "    .dataframe thead th {\n",
       "        text-align: right;\n",
       "    }\n",
       "</style>\n",
       "<table border=\"1\" class=\"dataframe\">\n",
       "  <thead>\n",
       "    <tr style=\"text-align: right;\">\n",
       "      <th></th>\n",
       "      <th>Date</th>\n",
       "      <th>Log_ret_SP</th>\n",
       "      <th>Log_ret_MSFT</th>\n",
       "    </tr>\n",
       "  </thead>\n",
       "  <tbody>\n",
       "    <tr>\n",
       "      <th>1253</th>\n",
       "      <td>2018-11-30</td>\n",
       "      <td>0.008138</td>\n",
       "      <td>0.006333</td>\n",
       "    </tr>\n",
       "    <tr>\n",
       "      <th>1254</th>\n",
       "      <td>2018-12-03</td>\n",
       "      <td>0.010882</td>\n",
       "      <td>0.010763</td>\n",
       "    </tr>\n",
       "    <tr>\n",
       "      <th>1255</th>\n",
       "      <td>2018-12-04</td>\n",
       "      <td>-0.032900</td>\n",
       "      <td>-0.032368</td>\n",
       "    </tr>\n",
       "    <tr>\n",
       "      <th>1256</th>\n",
       "      <td>2018-12-06</td>\n",
       "      <td>-0.001523</td>\n",
       "      <td>0.006155</td>\n",
       "    </tr>\n",
       "    <tr>\n",
       "      <th>1257</th>\n",
       "      <td>2018-12-07</td>\n",
       "      <td>-0.023596</td>\n",
       "      <td>-0.040845</td>\n",
       "    </tr>\n",
       "  </tbody>\n",
       "</table>\n",
       "</div>"
      ],
      "text/plain": [
       "           Date  Log_ret_SP  Log_ret_MSFT\n",
       "1253 2018-11-30    0.008138      0.006333\n",
       "1254 2018-12-03    0.010882      0.010763\n",
       "1255 2018-12-04   -0.032900     -0.032368\n",
       "1256 2018-12-06   -0.001523      0.006155\n",
       "1257 2018-12-07   -0.023596     -0.040845"
      ]
     },
     "execution_count": 66,
     "metadata": {},
     "output_type": "execute_result"
    }
   ],
   "source": [
    "port.tail()"
   ]
  },
  {
   "cell_type": "code",
   "execution_count": 67,
   "metadata": {},
   "outputs": [],
   "source": [
    "results_3=smf.ols('Log_ret_MSFT ~ Log_ret_SP',data=port).fit()\n",
    "### простая линейная регрессия"
   ]
  },
  {
   "cell_type": "code",
   "execution_count": 68,
   "metadata": {},
   "outputs": [
    {
     "name": "stdout",
     "output_type": "stream",
     "text": [
      "                            OLS Regression Results                            \n",
      "==============================================================================\n",
      "Dep. Variable:           Log_ret_MSFT   R-squared:                       0.511\n",
      "Model:                            OLS   Adj. R-squared:                  0.511\n",
      "Method:                 Least Squares   F-statistic:                     1314.\n",
      "Date:                Thu, 07 May 2020   Prob (F-statistic):          1.61e-197\n",
      "Time:                        12:26:12   Log-Likelihood:                 4009.4\n",
      "No. Observations:                1258   AIC:                            -8015.\n",
      "Df Residuals:                    1256   BIC:                            -8004.\n",
      "Df Model:                           1                                         \n",
      "Covariance Type:            nonrobust                                         \n",
      "==============================================================================\n",
      "                 coef    std err          t      P>|t|      [0.025      0.975]\n",
      "------------------------------------------------------------------------------\n",
      "Intercept      0.0005      0.000      1.814      0.070   -4.16e-05       0.001\n",
      "Log_ret_SP     1.2575      0.035     36.251      0.000       1.189       1.326\n",
      "==============================================================================\n",
      "Omnibus:                      388.475   Durbin-Watson:                   2.077\n",
      "Prob(Omnibus):                  0.000   Jarque-Bera (JB):            15741.223\n",
      "Skew:                           0.696   Prob(JB):                         0.00\n",
      "Kurtosis:                      20.274   Cond. No.                         123.\n",
      "==============================================================================\n",
      "\n",
      "Warnings:\n",
      "[1] Standard Errors assume that the covariance matrix of the errors is correctly specified.\n"
     ]
    }
   ],
   "source": [
    "print(results_3.summary())"
   ]
  },
  {
   "cell_type": "markdown",
   "metadata": {},
   "source": [
    "### Проверка выполнения условия гомоскедастичности с помощью критерия Бреуша-Пагана"
   ]
  },
  {
   "cell_type": "code",
   "execution_count": 69,
   "metadata": {},
   "outputs": [],
   "source": [
    "lm,lm_value,fvalue,f_pvalue=diagnostic.het_breuschpagan(results_3.resid,results_3.model.exog)"
   ]
  },
  {
   "cell_type": "code",
   "execution_count": 70,
   "metadata": {},
   "outputs": [
    {
     "name": "stdout",
     "output_type": "stream",
     "text": [
      "lm 0.0565,lm_pvalue 0.8121,fvalue 0.0564,f_pvalue 0.8123\n"
     ]
    }
   ],
   "source": [
    "print('lm %.4f,lm_pvalue %.4f,fvalue %.4f,f_pvalue %.4f'%(lm,lm_value,fvalue,f_pvalue))"
   ]
  },
  {
   "cell_type": "markdown",
   "metadata": {},
   "source": [
    "### С учетом значения p-value гипотеза об отсутствии гомоскедастичности принимается"
   ]
  },
  {
   "cell_type": "markdown",
   "metadata": {},
   "source": [
    "### Проверка наличия структурных сдвигов"
   ]
  },
  {
   "cell_type": "markdown",
   "metadata": {},
   "source": [
    "### Структурный сдвиг означает, что процесс притерпевает определенные изменения, которые могут сильно сказаться на параметрах модели. В случае наличия структурного сдвга целесооборазно использовать не одну, а две модели - до сдвига и после. Проверка гипотезы об отсутствии структурных сдвигов осуществвляется с помощью ряда  критериев, самым популярным из которых в эконометрике остается тест Чоу. В statsmodels реализованы критерий кумулятивной суммы (CUSUM)  и критерий Хансена. "
   ]
  },
  {
   "cell_type": "code",
   "execution_count": 71,
   "metadata": {},
   "outputs": [
    {
     "data": {
      "text/plain": [
       "(0.7417390915141883, 0.6410867229055677)"
      ]
     },
     "execution_count": 71,
     "metadata": {},
     "output_type": "execute_result"
    }
   ],
   "source": [
    "diagnostic.breaks_cusumolsresid(results_3.resid)[0:2]"
   ]
  },
  {
   "cell_type": "code",
   "execution_count": 72,
   "metadata": {},
   "outputs": [
    {
     "data": {
      "text/plain": [
       "(2.409549598147163,\n",
       " array([( 2, 1.9 ), ( 6, 3.75), (15, 3.75), (19, 4.52)],\n",
       "       dtype=[('nobs', '<i8'), ('crit', '<f8')]))"
      ]
     },
     "execution_count": 72,
     "metadata": {},
     "output_type": "execute_result"
    }
   ],
   "source": [
    "diagnostic.breaks_hansen(results_3)[0:2]"
   ]
  },
  {
   "cell_type": "markdown",
   "metadata": {},
   "source": [
    "### С учетом значения критериев и p-value гипотеза об отсутствии структурного сдвига принимается"
   ]
  },
  {
   "cell_type": "markdown",
   "metadata": {},
   "source": [
    "### Общие выводы:\n",
    "### 1. Уравнение значимо, что подтверждается t и F критериями.\n",
    "### 2. Показатель $\\beta$ = 1.26, это говорит о том, что акции Microsoft растут (и, соответственно, падают) сильнее рынка акций, включающего все отрасли.\n",
    "### 3. Показатель $\\alpha$ статистчически незначимо отличается от 0, что согласуется с моделью CAPM"
   ]
  },
  {
   "cell_type": "markdown",
   "metadata": {},
   "source": [
    "### Модель CAPM на основе индекса NASDAQ (дневные данные)"
   ]
  },
  {
   "cell_type": "code",
   "execution_count": 73,
   "metadata": {},
   "outputs": [],
   "source": [
    "nasdaq=pd.read_csv('/home/maxime/Documentos/Econometrics/^IXIC.csv')"
   ]
  },
  {
   "cell_type": "code",
   "execution_count": 74,
   "metadata": {},
   "outputs": [],
   "source": [
    "nasdaq['Date']=pd.to_datetime(nasdaq['Date'],format='%Y-%m-%d')\n",
    "###  преобразование поля в формат даты"
   ]
  },
  {
   "cell_type": "code",
   "execution_count": 75,
   "metadata": {},
   "outputs": [],
   "source": [
    "nasdaq['Log_ret_Nasdaq']=np.log(nasdaq['Adj Close'])-np.log(nasdaq['Adj Close'].shift(1))"
   ]
  },
  {
   "cell_type": "code",
   "execution_count": 76,
   "metadata": {},
   "outputs": [],
   "source": [
    "nasdaq.drop([0],axis=0,inplace=True)"
   ]
  },
  {
   "cell_type": "code",
   "execution_count": 77,
   "metadata": {},
   "outputs": [
    {
     "data": {
      "text/html": [
       "<div>\n",
       "<style scoped>\n",
       "    .dataframe tbody tr th:only-of-type {\n",
       "        vertical-align: middle;\n",
       "    }\n",
       "\n",
       "    .dataframe tbody tr th {\n",
       "        vertical-align: top;\n",
       "    }\n",
       "\n",
       "    .dataframe thead th {\n",
       "        text-align: right;\n",
       "    }\n",
       "</style>\n",
       "<table border=\"1\" class=\"dataframe\">\n",
       "  <thead>\n",
       "    <tr style=\"text-align: right;\">\n",
       "      <th></th>\n",
       "      <th>Date</th>\n",
       "      <th>Open</th>\n",
       "      <th>High</th>\n",
       "      <th>Low</th>\n",
       "      <th>Close</th>\n",
       "      <th>Adj Close</th>\n",
       "      <th>Volume</th>\n",
       "      <th>Log_ret_Nasdaq</th>\n",
       "    </tr>\n",
       "  </thead>\n",
       "  <tbody>\n",
       "    <tr>\n",
       "      <th>1</th>\n",
       "      <td>2013-12-12</td>\n",
       "      <td>4004.750000</td>\n",
       "      <td>4013.540039</td>\n",
       "      <td>3993.570068</td>\n",
       "      <td>3998.399902</td>\n",
       "      <td>3998.399902</td>\n",
       "      <td>1893270000</td>\n",
       "      <td>-0.001352</td>\n",
       "    </tr>\n",
       "    <tr>\n",
       "      <th>2</th>\n",
       "      <td>2013-12-13</td>\n",
       "      <td>4015.530029</td>\n",
       "      <td>4017.449951</td>\n",
       "      <td>3992.290039</td>\n",
       "      <td>4000.979980</td>\n",
       "      <td>4000.979980</td>\n",
       "      <td>1615340000</td>\n",
       "      <td>0.000645</td>\n",
       "    </tr>\n",
       "    <tr>\n",
       "      <th>3</th>\n",
       "      <td>2013-12-16</td>\n",
       "      <td>4019.370117</td>\n",
       "      <td>4043.000000</td>\n",
       "      <td>4019.139893</td>\n",
       "      <td>4029.520020</td>\n",
       "      <td>4029.520020</td>\n",
       "      <td>1943830000</td>\n",
       "      <td>0.007108</td>\n",
       "    </tr>\n",
       "    <tr>\n",
       "      <th>4</th>\n",
       "      <td>2013-12-17</td>\n",
       "      <td>4028.879883</td>\n",
       "      <td>4034.689941</td>\n",
       "      <td>4011.580078</td>\n",
       "      <td>4023.679932</td>\n",
       "      <td>4023.679932</td>\n",
       "      <td>1861130000</td>\n",
       "      <td>-0.001450</td>\n",
       "    </tr>\n",
       "    <tr>\n",
       "      <th>5</th>\n",
       "      <td>2013-12-18</td>\n",
       "      <td>4024.669922</td>\n",
       "      <td>4070.379883</td>\n",
       "      <td>3979.590088</td>\n",
       "      <td>4070.060059</td>\n",
       "      <td>4070.060059</td>\n",
       "      <td>2178330000</td>\n",
       "      <td>0.011461</td>\n",
       "    </tr>\n",
       "  </tbody>\n",
       "</table>\n",
       "</div>"
      ],
      "text/plain": [
       "        Date         Open         High          Low        Close    Adj Close  \\\n",
       "1 2013-12-12  4004.750000  4013.540039  3993.570068  3998.399902  3998.399902   \n",
       "2 2013-12-13  4015.530029  4017.449951  3992.290039  4000.979980  4000.979980   \n",
       "3 2013-12-16  4019.370117  4043.000000  4019.139893  4029.520020  4029.520020   \n",
       "4 2013-12-17  4028.879883  4034.689941  4011.580078  4023.679932  4023.679932   \n",
       "5 2013-12-18  4024.669922  4070.379883  3979.590088  4070.060059  4070.060059   \n",
       "\n",
       "       Volume  Log_ret_Nasdaq  \n",
       "1  1893270000       -0.001352  \n",
       "2  1615340000        0.000645  \n",
       "3  1943830000        0.007108  \n",
       "4  1861130000       -0.001450  \n",
       "5  2178330000        0.011461  "
      ]
     },
     "execution_count": 77,
     "metadata": {},
     "output_type": "execute_result"
    }
   ],
   "source": [
    "nasdaq.head()"
   ]
  },
  {
   "cell_type": "code",
   "execution_count": 78,
   "metadata": {},
   "outputs": [],
   "source": [
    "port=port.merge(nasdaq[['Date','Log_ret_Nasdaq']],left_on=['Date'],right_on=['Date'])"
   ]
  },
  {
   "cell_type": "code",
   "execution_count": 79,
   "metadata": {},
   "outputs": [
    {
     "data": {
      "text/html": [
       "<div>\n",
       "<style scoped>\n",
       "    .dataframe tbody tr th:only-of-type {\n",
       "        vertical-align: middle;\n",
       "    }\n",
       "\n",
       "    .dataframe tbody tr th {\n",
       "        vertical-align: top;\n",
       "    }\n",
       "\n",
       "    .dataframe thead th {\n",
       "        text-align: right;\n",
       "    }\n",
       "</style>\n",
       "<table border=\"1\" class=\"dataframe\">\n",
       "  <thead>\n",
       "    <tr style=\"text-align: right;\">\n",
       "      <th></th>\n",
       "      <th>Date</th>\n",
       "      <th>Log_ret_SP</th>\n",
       "      <th>Log_ret_MSFT</th>\n",
       "      <th>Log_ret_Nasdaq</th>\n",
       "    </tr>\n",
       "  </thead>\n",
       "  <tbody>\n",
       "    <tr>\n",
       "      <th>0</th>\n",
       "      <td>2013-12-12</td>\n",
       "      <td>-0.003778</td>\n",
       "      <td>-0.010424</td>\n",
       "      <td>-0.001352</td>\n",
       "    </tr>\n",
       "    <tr>\n",
       "      <th>1</th>\n",
       "      <td>2013-12-13</td>\n",
       "      <td>-0.000101</td>\n",
       "      <td>-0.014342</td>\n",
       "      <td>0.000645</td>\n",
       "    </tr>\n",
       "    <tr>\n",
       "      <th>2</th>\n",
       "      <td>2013-12-16</td>\n",
       "      <td>0.006300</td>\n",
       "      <td>0.005437</td>\n",
       "      <td>0.007108</td>\n",
       "    </tr>\n",
       "    <tr>\n",
       "      <th>3</th>\n",
       "      <td>2013-12-17</td>\n",
       "      <td>-0.003106</td>\n",
       "      <td>-0.010081</td>\n",
       "      <td>-0.001450</td>\n",
       "    </tr>\n",
       "    <tr>\n",
       "      <th>4</th>\n",
       "      <td>2013-12-18</td>\n",
       "      <td>0.016511</td>\n",
       "      <td>0.001642</td>\n",
       "      <td>0.011461</td>\n",
       "    </tr>\n",
       "  </tbody>\n",
       "</table>\n",
       "</div>"
      ],
      "text/plain": [
       "        Date  Log_ret_SP  Log_ret_MSFT  Log_ret_Nasdaq\n",
       "0 2013-12-12   -0.003778     -0.010424       -0.001352\n",
       "1 2013-12-13   -0.000101     -0.014342        0.000645\n",
       "2 2013-12-16    0.006300      0.005437        0.007108\n",
       "3 2013-12-17   -0.003106     -0.010081       -0.001450\n",
       "4 2013-12-18    0.016511      0.001642        0.011461"
      ]
     },
     "execution_count": 79,
     "metadata": {},
     "output_type": "execute_result"
    }
   ],
   "source": [
    "port.head()"
   ]
  },
  {
   "cell_type": "code",
   "execution_count": 80,
   "metadata": {},
   "outputs": [],
   "source": [
    "results_4=smf.ols('Log_ret_MSFT ~ Log_ret_Nasdaq',data=port).fit()\n",
    "### простая линейная регрессия"
   ]
  },
  {
   "cell_type": "code",
   "execution_count": 81,
   "metadata": {},
   "outputs": [
    {
     "name": "stdout",
     "output_type": "stream",
     "text": [
      "                            OLS Regression Results                            \n",
      "==============================================================================\n",
      "Dep. Variable:           Log_ret_MSFT   R-squared:                       0.567\n",
      "Model:                            OLS   Adj. R-squared:                  0.567\n",
      "Method:                 Least Squares   F-statistic:                     1643.\n",
      "Date:                Thu, 07 May 2020   Prob (F-statistic):          2.87e-230\n",
      "Time:                        12:26:13   Log-Likelihood:                 4079.3\n",
      "No. Observations:                1256   AIC:                            -8155.\n",
      "Df Residuals:                    1254   BIC:                            -8144.\n",
      "Df Model:                           1                                         \n",
      "Covariance Type:            nonrobust                                         \n",
      "==================================================================================\n",
      "                     coef    std err          t      P>|t|      [0.025      0.975]\n",
      "----------------------------------------------------------------------------------\n",
      "Intercept          0.0004      0.000      1.605      0.109   -9.49e-05       0.001\n",
      "Log_ret_Nasdaq     1.0996      0.027     40.535      0.000       1.046       1.153\n",
      "==============================================================================\n",
      "Omnibus:                      379.813   Durbin-Watson:                   2.027\n",
      "Prob(Omnibus):                  0.000   Jarque-Bera (JB):            12965.708\n",
      "Skew:                           0.719   Prob(JB):                         0.00\n",
      "Kurtosis:                      18.674   Cond. No.                         102.\n",
      "==============================================================================\n",
      "\n",
      "Warnings:\n",
      "[1] Standard Errors assume that the covariance matrix of the errors is correctly specified.\n"
     ]
    }
   ],
   "source": [
    "print(results_4.summary())"
   ]
  },
  {
   "cell_type": "markdown",
   "metadata": {},
   "source": [
    "### Общие выводы:\n",
    "### 1. Уравнение значимо, что подтверждается t и F критериями.\n",
    "### 2. Показатель $\\beta$ = 1.10, это говорит о том, что акции Microsoft растут (и, соответственно, падают) быстрее рынка технологических акций. \n",
    "### 3. Показатель $\\alpha$ статистчически незначимо отличается от 0, что согласуется с моделью CAPM"
   ]
  },
  {
   "cell_type": "markdown",
   "metadata": {},
   "source": [
    "### Модель CAPM на основе индекса SP500 (месячные данные)"
   ]
  },
  {
   "cell_type": "code",
   "execution_count": 82,
   "metadata": {},
   "outputs": [],
   "source": [
    "port['Year']=port['Date'].dt.year"
   ]
  },
  {
   "cell_type": "code",
   "execution_count": 83,
   "metadata": {},
   "outputs": [],
   "source": [
    "port['Month']=port['Date'].dt.month"
   ]
  },
  {
   "cell_type": "markdown",
   "metadata": {},
   "source": [
    "### Для преобразования дневных доходностей в месячные доходности воспользуемся удобным свойством логарифма и просуммируем дневные доходности по каждому месяцу"
   ]
  },
  {
   "cell_type": "code",
   "execution_count": 84,
   "metadata": {},
   "outputs": [],
   "source": [
    "port_monthly=port.groupby(['Year','Month'])[['Log_ret_SP','Log_ret_MSFT','Log_ret_Nasdaq']].sum()\n",
    "### преобразование дневных доходностей в месячные доходности"
   ]
  },
  {
   "cell_type": "code",
   "execution_count": 85,
   "metadata": {},
   "outputs": [
    {
     "data": {
      "text/html": [
       "<div>\n",
       "<style scoped>\n",
       "    .dataframe tbody tr th:only-of-type {\n",
       "        vertical-align: middle;\n",
       "    }\n",
       "\n",
       "    .dataframe tbody tr th {\n",
       "        vertical-align: top;\n",
       "    }\n",
       "\n",
       "    .dataframe thead th {\n",
       "        text-align: right;\n",
       "    }\n",
       "</style>\n",
       "<table border=\"1\" class=\"dataframe\">\n",
       "  <thead>\n",
       "    <tr style=\"text-align: right;\">\n",
       "      <th></th>\n",
       "      <th></th>\n",
       "      <th>Log_ret_SP</th>\n",
       "      <th>Log_ret_MSFT</th>\n",
       "      <th>Log_ret_Nasdaq</th>\n",
       "    </tr>\n",
       "    <tr>\n",
       "      <th>Year</th>\n",
       "      <th>Month</th>\n",
       "      <th></th>\n",
       "      <th></th>\n",
       "      <th></th>\n",
       "    </tr>\n",
       "  </thead>\n",
       "  <tbody>\n",
       "    <tr>\n",
       "      <th>2013</th>\n",
       "      <th>12</th>\n",
       "      <td>0.036439</td>\n",
       "      <td>-0.005332</td>\n",
       "      <td>0.042249</td>\n",
       "    </tr>\n",
       "    <tr>\n",
       "      <th rowspan=\"4\" valign=\"top\">2014</th>\n",
       "      <th>1</th>\n",
       "      <td>-0.036231</td>\n",
       "      <td>0.011429</td>\n",
       "      <td>-0.017562</td>\n",
       "    </tr>\n",
       "    <tr>\n",
       "      <th>2</th>\n",
       "      <td>0.042213</td>\n",
       "      <td>0.019815</td>\n",
       "      <td>0.048569</td>\n",
       "    </tr>\n",
       "    <tr>\n",
       "      <th>3</th>\n",
       "      <td>0.006908</td>\n",
       "      <td>0.067617</td>\n",
       "      <td>-0.025658</td>\n",
       "    </tr>\n",
       "    <tr>\n",
       "      <th>4</th>\n",
       "      <td>0.006182</td>\n",
       "      <td>-0.014498</td>\n",
       "      <td>-0.020312</td>\n",
       "    </tr>\n",
       "  </tbody>\n",
       "</table>\n",
       "</div>"
      ],
      "text/plain": [
       "            Log_ret_SP  Log_ret_MSFT  Log_ret_Nasdaq\n",
       "Year Month                                          \n",
       "2013 12       0.036439     -0.005332        0.042249\n",
       "2014 1       -0.036231      0.011429       -0.017562\n",
       "     2        0.042213      0.019815        0.048569\n",
       "     3        0.006908      0.067617       -0.025658\n",
       "     4        0.006182     -0.014498       -0.020312"
      ]
     },
     "execution_count": 85,
     "metadata": {},
     "output_type": "execute_result"
    }
   ],
   "source": [
    "port_monthly.head()"
   ]
  },
  {
   "cell_type": "code",
   "execution_count": 86,
   "metadata": {},
   "outputs": [
    {
     "data": {
      "text/plain": [
       "0.011428544757738605"
      ]
     },
     "execution_count": 86,
     "metadata": {},
     "output_type": "execute_result"
    }
   ],
   "source": [
    "np.log(float(msft[msft.Date=='2014-01-31']['Adj Close'])/float(msft[msft.Date=='2013-12-31']['Adj Close']))\n",
    "### проверка формулы получения месячной доходности"
   ]
  },
  {
   "cell_type": "code",
   "execution_count": 87,
   "metadata": {},
   "outputs": [],
   "source": [
    "results_5=smf.ols('Log_ret_MSFT ~ Log_ret_SP',data=port_monthly).fit()\n",
    "### простая линейная регрессия"
   ]
  },
  {
   "cell_type": "code",
   "execution_count": 88,
   "metadata": {},
   "outputs": [
    {
     "name": "stdout",
     "output_type": "stream",
     "text": [
      "                            OLS Regression Results                            \n",
      "==============================================================================\n",
      "Dep. Variable:           Log_ret_MSFT   R-squared:                       0.395\n",
      "Model:                            OLS   Adj. R-squared:                  0.384\n",
      "Method:                 Least Squares   F-statistic:                     38.48\n",
      "Date:                Thu, 07 May 2020   Prob (F-statistic):           5.94e-08\n",
      "Time:                        12:26:13   Log-Likelihood:                 103.46\n",
      "No. Observations:                  61   AIC:                            -202.9\n",
      "Df Residuals:                      59   BIC:                            -198.7\n",
      "Df Model:                           1                                         \n",
      "Covariance Type:            nonrobust                                         \n",
      "==============================================================================\n",
      "                 coef    std err          t      P>|t|      [0.025      0.975]\n",
      "------------------------------------------------------------------------------\n",
      "Intercept      0.0109      0.006      1.850      0.069      -0.001       0.023\n",
      "Log_ret_SP     1.2245      0.197      6.203      0.000       0.829       1.620\n",
      "==============================================================================\n",
      "Omnibus:                        6.085   Durbin-Watson:                   2.570\n",
      "Prob(Omnibus):                  0.048   Jarque-Bera (JB):                9.257\n",
      "Skew:                           0.118   Prob(JB):                      0.00977\n",
      "Kurtosis:                       4.894   Cond. No.                         34.2\n",
      "==============================================================================\n",
      "\n",
      "Warnings:\n",
      "[1] Standard Errors assume that the covariance matrix of the errors is correctly specified.\n"
     ]
    }
   ],
   "source": [
    "print(results_5.summary())"
   ]
  },
  {
   "cell_type": "markdown",
   "metadata": {},
   "source": [
    "### Выводы аналогичны предыдущим моделям"
   ]
  },
  {
   "cell_type": "markdown",
   "metadata": {
    "collapsed": true
   },
   "source": [
    "### 1. Выбрать актив и загрузить из внешних источников исторические котировки(например, Yahoo finance)\n",
    "### 2. Провести предварительный анализ временного ряда , проверить гипотезу стационарности\n",
    "### 3. Построить модель ARIMA-GARCH и сделать краткие выводы\n",
    "### 4. Построить модель CAPM по рыночным данным, получить $\\beta$, оценить значимость $\\alpha$, сравнить полученный показатель $\\beta$ с данными из общедоступных источников информации (например, Yahoo, Reuters)"
   ]
  },
  {
   "cell_type": "code",
   "execution_count": null,
   "metadata": {},
   "outputs": [],
   "source": []
  }
 ],
 "metadata": {
  "kernelspec": {
   "display_name": "Python 3",
   "language": "python",
   "name": "python3"
  },
  "language_info": {
   "codemirror_mode": {
    "name": "ipython",
    "version": 3
   },
   "file_extension": ".py",
   "mimetype": "text/x-python",
   "name": "python",
   "nbconvert_exporter": "python",
   "pygments_lexer": "ipython3",
   "version": "3.8.3"
  }
 },
 "nbformat": 4,
 "nbformat_minor": 2
}
